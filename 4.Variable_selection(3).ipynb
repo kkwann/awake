{
 "cells": [
  {
   "cell_type": "code",
   "execution_count": 1,
   "metadata": {},
   "outputs": [],
   "source": [
    "import pymongo\n",
    "import pandas as pd\n",
    "import numpy as np\n",
    "import math\n",
    "from datetime import datetime\n",
    "\n",
    "import dask.dataframe as dd ## 대규모 데이터 처리\n",
    "\n",
    "# from sklearn.linear_model import LinearRegression ## likes, dislikes 대체\n",
    "from sklearn.preprocessing import StandardScaler\n",
    "from sklearn.ensemble import IsolationForest\n",
    "from sklearn.model_selection import train_test_split\n",
    "from imblearn.under_sampling import RandomUnderSampler\n",
    "from sklearn.ensemble import RandomForestClassifier\n",
    "from sklearn.metrics import accuracy_score, confusion_matrix, classification_report, roc_auc_score, roc_curve\n",
    "import matplotlib.pyplot as plt\n",
    "import seaborn as sns\n",
    "\n",
    "import os\n",
    "from dotenv import load_dotenv"
   ]
  },
  {
   "cell_type": "code",
   "execution_count": 2,
   "metadata": {},
   "outputs": [],
   "source": [
    "file_path = 'C:/py_src/awake/data/'"
   ]
  },
  {
   "cell_type": "code",
   "execution_count": 3,
   "metadata": {},
   "outputs": [],
   "source": [
    "# 계정 / 콘텐츠 분석 데이터셋 불러오기\n",
    "# merge_df_users_fin = pd.read_csv(file_path + 'merge_df_users_fin_eda.csv', low_memory=False)\n",
    "youtube_videos = pd.read_csv(file_path + 'youtube_videos_eda.csv')\n",
    "# youtube_videos = dd.read_csv(file_path + 'youtube_videos_eda.csv')"
   ]
  },
  {
   "cell_type": "markdown",
   "metadata": {},
   "source": [
    "## 계정 데이터 분석"
   ]
  },
  {
   "cell_type": "code",
   "execution_count": 4,
   "metadata": {},
   "outputs": [],
   "source": [
    "# 불필요정보 제거 - y값 제거(다른 모델)\n",
    "merge_df_users_fin = merge_df_users_fin.drop('y_label',axis=1)\n",
    "## y값 : merge_df_users_fin['subscribers_count']"
   ]
  },
  {
   "cell_type": "markdown",
   "metadata": {},
   "source": [
    "### 기간별 피처 생성"
   ]
  },
  {
   "cell_type": "code",
   "execution_count": 5,
   "metadata": {},
   "outputs": [],
   "source": [
    "# 주별, 월별, 분기별 변수 생성\n",
    "\n",
    "# 구독자 관련 변수\n",
    "merge_df_users_fin['weekly_subscribers_gained'] = merge_df_users_fin['subscribers_gained'].rolling(window=7).sum()\n",
    "merge_df_users_fin['monthly_subscribers_gained'] = merge_df_users_fin['subscribers_gained'].rolling(window=30).sum()\n",
    "merge_df_users_fin['quarterly_subscribers_gained'] = merge_df_users_fin['subscribers_gained'].rolling(window=90).sum()\n",
    "\n",
    "merge_df_users_fin['weekly_subscribers_lost'] = merge_df_users_fin['subscribers_lost'].rolling(window=7).sum()\n",
    "merge_df_users_fin['monthly_subscribers_lost'] = merge_df_users_fin['subscribers_lost'].rolling(window=30).sum()\n",
    "merge_df_users_fin['quarterly_subscribers_lost'] = merge_df_users_fin['subscribers_lost'].rolling(window=90).sum()\n",
    "\n",
    "merge_df_users_fin['weekly_net_subscribers_change'] = merge_df_users_fin['weekly_subscribers_gained'] - merge_df_users_fin['weekly_subscribers_lost']\n",
    "merge_df_users_fin['monthly_net_subscribers_change'] = merge_df_users_fin['monthly_subscribers_gained'] - merge_df_users_fin['monthly_subscribers_lost']\n",
    "merge_df_users_fin['quarterly_net_subscribers_change'] = merge_df_users_fin['quarterly_subscribers_gained'] - merge_df_users_fin['quarterly_subscribers_lost']\n",
    "\n",
    "# 수익 관련 변수\n",
    "merge_df_users_fin['weekly_estimated_revenue'] = merge_df_users_fin['estimated_revenue'].rolling(window=7).sum()\n",
    "merge_df_users_fin['monthly_estimated_revenue'] = merge_df_users_fin['estimated_revenue'].rolling(window=30).sum()\n",
    "merge_df_users_fin['quarterly_estimated_revenue'] = merge_df_users_fin['estimated_revenue'].rolling(window=90).sum()\n",
    "\n",
    "# merge_df_users_fin['weekly_estimated_ad_revenue'] = merge_df_users_fin['estimated_ad_revenue'].rolling(window=7).sum()\n",
    "# merge_df_users_fin['monthly_estimated_ad_revenue'] = merge_df_users_fin['estimated_ad_revenue'].rolling(window=30).sum()\n",
    "# merge_df_users_fin['quarterly_estimated_ad_revenue'] = merge_df_users_fin['estimated_ad_revenue'].rolling(window=90).sum()\n",
    "\n",
    "merge_df_users_fin['weekly_revenue_per_subscriber'] = merge_df_users_fin['weekly_estimated_revenue'] / (merge_df_users_fin['weekly_subscribers_gained'] + 1)\n",
    "merge_df_users_fin['monthly_revenue_per_subscriber'] = merge_df_users_fin['monthly_estimated_revenue'] / (merge_df_users_fin['monthly_subscribers_gained'] + 1)\n",
    "merge_df_users_fin['quarterly_revenue_per_subscriber'] = merge_df_users_fin['quarterly_estimated_revenue'] / (merge_df_users_fin['quarterly_subscribers_gained'] + 1)\n",
    "\n",
    "# 시청 시간 관련 변수\n",
    "merge_df_users_fin['weekly_avg_view_duration'] = merge_df_users_fin['averageViewDuration'].rolling(window=7).mean()\n",
    "merge_df_users_fin['monthly_avg_view_duration'] = merge_df_users_fin['averageViewDuration'].rolling(window=30).mean()\n",
    "merge_df_users_fin['quarterly_avg_view_duration'] = merge_df_users_fin['averageViewDuration'].rolling(window=90).mean()\n",
    "\n",
    "merge_df_users_fin['weekly_total_view_time'] = merge_df_users_fin['estimatedMinutesWatched'].rolling(window=7).sum()\n",
    "merge_df_users_fin['monthly_total_view_time'] = merge_df_users_fin['estimatedMinutesWatched'].rolling(window=30).sum()\n",
    "merge_df_users_fin['quarterly_total_view_time'] = merge_df_users_fin['estimatedMinutesWatched'].rolling(window=90).sum()\n",
    "\n",
    "merge_df_users_fin['weekly_view_time_per_user'] = merge_df_users_fin['weekly_total_view_time'] / (merge_df_users_fin['weekly_subscribers_gained'] + 1)\n",
    "merge_df_users_fin['monthly_view_time_per_user'] = merge_df_users_fin['monthly_total_view_time'] / (merge_df_users_fin['monthly_subscribers_gained'] + 1)\n",
    "merge_df_users_fin['quarterly_view_time_per_user'] = merge_df_users_fin['quarterly_total_view_time'] / (merge_df_users_fin['quarterly_subscribers_gained'] + 1)\n",
    "\n",
    "# 광고 관련 변수\n",
    "merge_df_users_fin['weekly_playback_rate'] = merge_df_users_fin['playback_based_cpm'].rolling(window=7).mean()\n",
    "merge_df_users_fin['monthly_playback_rate'] = merge_df_users_fin['playback_based_cpm'].rolling(window=30).mean()\n",
    "merge_df_users_fin['quarterly_playback_rate'] = merge_df_users_fin['playback_based_cpm'].rolling(window=90).mean()\n",
    "\n",
    "# merge_df_users_fin['weekly_ad_revenue_rate'] = merge_df_users_fin['estimated_ad_revenue'] / (merge_df_users_fin['weekly_total_view_time'] + 1)\n",
    "# merge_df_users_fin['monthly_ad_revenue_rate'] = merge_df_users_fin['estimated_ad_revenue'] / (merge_df_users_fin['monthly_total_view_time'] + 1)\n",
    "# merge_df_users_fin['quarterly_ad_revenue_rate'] = merge_df_users_fin['estimated_ad_revenue'] / (merge_df_users_fin['quarterly_total_view_time'] + 1)\n",
    "\n",
    "# merge_df_users_fin['weekly_revenue_per_ad_impression'] = merge_df_users_fin['weekly_estimated_ad_revenue'] / (merge_df_users_fin['ad_impressions'].rolling(window=7).sum() + 1)\n",
    "# merge_df_users_fin['monthly_revenue_per_ad_impression'] = merge_df_users_fin['monthly_estimated_ad_revenue'] / (merge_df_users_fin['ad_impressions'].rolling(window=30).sum() + 1)\n",
    "# merge_df_users_fin['quarterly_revenue_per_ad_impression'] = merge_df_users_fin['quarterly_estimated_ad_revenue'] / (merge_df_users_fin['ad_impressions'].rolling(window=90).sum() + 1)"
   ]
  },
  {
   "cell_type": "code",
   "execution_count": 6,
   "metadata": {},
   "outputs": [],
   "source": [
    "# null값 대체\n",
    "merge_df_users_fin = merge_df_users_fin.fillna(0) ## NaN\n",
    "merge_df_users_fin = merge_df_users_fin.replace([np.inf, -np.inf], 0) ## inf"
   ]
  },
  {
   "cell_type": "markdown",
   "metadata": {},
   "source": [
    "### 데이터 분할\n",
    "- 미래를 예측하기 위한 모델이므로 시간순으로 데이터 분할\n",
    "- 시작날짜 : 2023-03-26\n",
    "- 종료날짜 : 2024-05-06\n",
    "- 전체 기간의 80% 날짜 : 2024-02-11"
   ]
  },
  {
   "cell_type": "code",
   "execution_count": 7,
   "metadata": {},
   "outputs": [],
   "source": [
    "# 컬럼 정리\n",
    "unique_col = merge_df_users_fin.columns[:11]\n",
    "x_col = merge_df_users_fin.columns[11:].drop('estimated_ad_revenue') ## y값 제거"
   ]
  },
  {
   "cell_type": "code",
   "execution_count": 8,
   "metadata": {},
   "outputs": [],
   "source": [
    "# 데이터 분할\n",
    "train_data = merge_df_users_fin[merge_df_users_fin['date'] <= '2024-02-11']\n",
    "test_data = merge_df_users_fin[merge_df_users_fin['date'] > '2024-02-11']"
   ]
  },
  {
   "cell_type": "code",
   "execution_count": 9,
   "metadata": {},
   "outputs": [
    {
     "name": "stdout",
     "output_type": "stream",
     "text": [
      "(84473, 115)\n",
      "(21210, 115)\n"
     ]
    }
   ],
   "source": [
    "# 불균형 확인\n",
    "print(train_data.shape)\n",
    "print(test_data.shape)"
   ]
  },
  {
   "cell_type": "markdown",
   "metadata": {},
   "source": [
    "### 변수선택"
   ]
  },
  {
   "cell_type": "markdown",
   "metadata": {},
   "source": [
    "상관분석"
   ]
  },
  {
   "cell_type": "code",
   "execution_count": 10,
   "metadata": {},
   "outputs": [
    {
     "name": "stdout",
     "output_type": "stream",
     "text": [
      "['views', 'redViews', 'UNSUBSCRIBED', 'SUBSCRIBED', 'shares', 'dislikes', 'estimatedMinutesWatched', 'estimated_revenue', 'estimated_red_partner_revenue', 'gross_revenue', 'cpm', 'subscribers_count', 'subscribers_gained', 'subscribers_lost', 'monetized_playbacks', 'revenue_per_ad_impression', 'watched_time_rate', 'gross_revenue_per_ad_impression', 'playback_rate', 'unplayback_rate', 'weekly_subscribers_gained', 'monthly_subscribers_gained', 'quarterly_subscribers_gained', 'weekly_subscribers_lost', 'monthly_subscribers_lost', 'quarterly_subscribers_lost', 'weekly_net_subscribers_change', 'monthly_net_subscribers_change', 'quarterly_net_subscribers_change', 'weekly_estimated_revenue', 'monthly_estimated_revenue', 'quarterly_estimated_revenue', 'weekly_total_view_time', 'monthly_total_view_time', 'quarterly_total_view_time']\n",
      "35\n"
     ]
    }
   ],
   "source": [
    "# 상관계수 절대값이 0.3 이상\n",
    "corr_df = train_data[['estimated_ad_revenue'] + list(x_col)].corr()\n",
    "selected_features_by_corr = list(corr_df['estimated_ad_revenue'][abs(corr_df['estimated_ad_revenue']) >= 0.3].keys())\n",
    "selected_features_by_corr.remove('estimated_ad_revenue')\n",
    "print(selected_features_by_corr)\n",
    "print(len(selected_features_by_corr))"
   ]
  },
  {
   "cell_type": "markdown",
   "metadata": {},
   "source": [
    "RandomForest"
   ]
  },
  {
   "cell_type": "code",
   "execution_count": 11,
   "metadata": {},
   "outputs": [
    {
     "name": "stdout",
     "output_type": "stream",
     "text": [
      "랜덤 포레스트로 선정된 변수: \n",
      "['gross_revenue', 'cpm', 'gross_revenue_per_ad_impression', 'revenue_per_subscriber', 'estimated_revenue', 'revenue_per_ad_impression']\n"
     ]
    }
   ],
   "source": [
    "from sklearn.ensemble import RandomForestRegressor\n",
    "\n",
    "# 랜덤 포레스트 모델 학습\n",
    "rf_model = RandomForestRegressor(random_state=42)\n",
    "rf_model.fit(train_data[x_col], train_data['estimated_ad_revenue'])\n",
    "\n",
    "# 변수 중요도 추출\n",
    "importances = rf_model.feature_importances_\n",
    "feature_importance_rf = pd.Series(importances, index=x_col).sort_values(ascending=False)\n",
    "\n",
    "# 중요도 0.001 이상 변수 선정\n",
    "selected_features_by_rf = list(feature_importance_rf[feature_importance_rf >= 0.001].keys())\n",
    "\n",
    "# 중요한 변수 출력\n",
    "print(f\"랜덤 포레스트로 선정된 변수: \\n{selected_features_by_rf}\")"
   ]
  },
  {
   "cell_type": "markdown",
   "metadata": {},
   "source": [
    "Gradient Boosting"
   ]
  },
  {
   "cell_type": "code",
   "execution_count": 12,
   "metadata": {},
   "outputs": [
    {
     "name": "stdout",
     "output_type": "stream",
     "text": [
      "Gradient Boosting으로 선정된 변수: \n",
      "['gross_revenue', 'revenue_per_subscriber', 'estimated_revenue', 'red_revenue_rate', 'gross_revenue_per_ad_impression']\n"
     ]
    }
   ],
   "source": [
    "from sklearn.ensemble import GradientBoostingRegressor\n",
    "\n",
    "# Gradient Boosting 모델 학습\n",
    "gbm_model = GradientBoostingRegressor(random_state=42)\n",
    "gbm_model.fit(train_data[x_col], train_data['estimated_ad_revenue'])\n",
    "\n",
    "# 변수 중요도 추출\n",
    "importances = gbm_model.feature_importances_\n",
    "feature_importance_gbm = pd.Series(importances, index=x_col).sort_values(ascending=False)\n",
    "\n",
    "# 중요도 0.001 이상 변수 선정\n",
    "selected_features_by_gbm = list(feature_importance_gbm[feature_importance_gbm >= 0.001].keys())\n",
    "\n",
    "# 중요한 변수 출력\n",
    "print(f\"Gradient Boosting으로 선정된 변수: \\n{selected_features_by_gbm}\")"
   ]
  },
  {
   "cell_type": "markdown",
   "metadata": {},
   "source": [
    "LightGBM"
   ]
  },
  {
   "cell_type": "code",
   "execution_count": 13,
   "metadata": {},
   "outputs": [
    {
     "name": "stdout",
     "output_type": "stream",
     "text": [
      "[LightGBM] [Info] Auto-choosing col-wise multi-threading, the overhead of testing was 0.018842 seconds.\n",
      "You can set `force_col_wise=true` to remove the overhead.\n",
      "[LightGBM] [Info] Total Bins 26166\n",
      "[LightGBM] [Info] Number of data points in the train set: 84473, number of used features: 103\n",
      "[LightGBM] [Info] Start training from score 14667.681766\n",
      "LightGBM으로 선정된 변수: \n",
      "['gross_revenue', 'comments', 'estimated_revenue', 'ad_revenue_rate', 'revenue_per_subscriber', 'subscribers_lost', 'dislikes', 'estimatedMinutesWatched', 'cpm_to_revenue_ratio', 'SUBSCRIBED', 'revenue_per_minute_watched', 'revenue_per_subscribed_view', 'shares', 'subscribers_gained', 'monetized_playbacks', 'revenue_per_ad_impression', 'cpm', 'weekly_estimated_revenue', 'revenue_per_red_view', 'redViews', 'subscribers_count', 'age45-54.male', 'playback_rate', 'red_revenue_rate', 'subscribed_view_time_rate', 'estimated_red_partner_revenue', 'adult_viewer_rate', 'weekly_playback_rate', 'share_rate', 'like_to_dislike_ratio', 'subscriber_retention_rate', 'gross_revenue_per_ad_impression', 'age45-54.female', 'comment_rate', 'playback_based_cpm', 'comment_to_like_rate', 'subscribed_view_rate', 'views', 'likes', 'ad_impressions']\n"
     ]
    }
   ],
   "source": [
    "import lightgbm as lgb\n",
    "\n",
    "# LightGBM 모델 학습\n",
    "lgb_model = lgb.LGBMRegressor(random_state=42)\n",
    "lgb_model.fit(train_data[x_col], train_data['estimated_ad_revenue'])\n",
    "\n",
    "# 변수 중요도 추출\n",
    "importances = lgb_model.feature_importances_\n",
    "feature_importance_lgbm = pd.Series(importances, index=x_col).sort_values(ascending=False)\n",
    "\n",
    "# 중요도 0.001 이상 변수 선정\n",
    "feature_importance_lgbm = feature_importance_lgbm / feature_importance_lgbm.sum() ## 중요도 정규화\n",
    "selected_features_by_lgbm = list(feature_importance_lgbm[feature_importance_lgbm >= 0.007].keys())\n",
    "\n",
    "# 중요한 변수 출력\n",
    "print(f\"LightGBM으로 선정된 변수: \\n{selected_features_by_lgbm}\")\n"
   ]
  },
  {
   "cell_type": "markdown",
   "metadata": {},
   "source": [
    "XGBoost"
   ]
  },
  {
   "cell_type": "code",
   "execution_count": 14,
   "metadata": {},
   "outputs": [
    {
     "name": "stdout",
     "output_type": "stream",
     "text": [
      "XGBoost로 선정된 변수: \n",
      "['playback_based_cpm_rate', 'gross_revenue', 'estimated_revenue', 'comments', 'age18-24.male', 'red_revenue_rate', 'subscriber_view_time_rate', 'revenue_per_subscriber', 'weekly_playback_rate', 'revenue_per_ad_impression', 'redViews', 'revenue_per_view', 'adult_viewer_rate', 'monetized_playbacks', 'ad_revenue_rate', 'playback_based_cpm', 'estimatedMinutesWatched', 'cpm_to_revenue_ratio', 'monthly_subscribers_lost', 'revenue_per_red_view', 'averageViewPercentage', 'views', 'avg_view_duration_rate', 'watched_view_rate', 'subscribers_count', 'ad_impressions', 'likes']\n"
     ]
    }
   ],
   "source": [
    "import xgboost as xgb\n",
    "\n",
    "# XGBoost 모델 학습\n",
    "xgb_model = xgb.XGBRegressor(random_state=42)\n",
    "xgb_model.fit(train_data[x_col], train_data['estimated_ad_revenue'])\n",
    "\n",
    "# 변수 중요도 추출\n",
    "importances = xgb_model.feature_importances_\n",
    "feature_importance_xgb = pd.Series(importances, index=x_col).sort_values(ascending=False)\n",
    "\n",
    "# 중요도 0.001 이상 변수 선정\n",
    "selected_features_by_xgb = list(feature_importance_xgb[feature_importance_xgb >= 0.001].keys())\n",
    "\n",
    "# 중요한 변수 출력\n",
    "print(f\"XGBoost로 선정된 변수: \\n{selected_features_by_xgb}\")"
   ]
  },
  {
   "cell_type": "code",
   "execution_count": 15,
   "metadata": {},
   "outputs": [],
   "source": [
    "# 비선형모델 활용 변수 선정\n",
    "importances_df = pd.DataFrame({\n",
    "    'features': x_col,\n",
    "    'rf_importance': rf_model.feature_importances_,\n",
    "    'gbm_importance': gbm_model.feature_importances_,\n",
    "    'lgbm_importance': lgb_model.feature_importances_,\n",
    "    'xgb_importance': xgb_model.feature_importances_    \n",
    "})\n",
    "importances_df['lgbm_importance'] = importances_df['lgbm_importance'] / importances_df['lgbm_importance'].sum() ## 다른 모델과 중요도 단위 다르기 때문에 정규화\n",
    "importances_df['mean_importance'] = importances_df[['rf_importance', 'gbm_importance', 'lgbm_importance', 'xgb_importance']].mean(axis=1) ## 각 변수별 모델 중요도 평균"
   ]
  },
  {
   "cell_type": "code",
   "execution_count": 16,
   "metadata": {},
   "outputs": [],
   "source": [
    "# 최종 변수 선택\n",
    "final_selected_features = list(set(list(importances_df[importances_df['mean_importance'] >= 0.004]['features']) + selected_features_by_corr))"
   ]
  },
  {
   "cell_type": "code",
   "execution_count": 17,
   "metadata": {},
   "outputs": [],
   "source": [
    "# 최종 모델링 데이터셋\n",
    "merge_df_users_final = merge_df_users_fin[list(unique_col) + final_selected_features + ['estimated_ad_revenue']]"
   ]
  },
  {
   "cell_type": "code",
   "execution_count": 18,
   "metadata": {},
   "outputs": [],
   "source": [
    "# merge_df_users_final.to_csv('C:/py_src/awake/data/merge_df_users_final3.csv', encoding='utf-8-sig', index=False)"
   ]
  },
  {
   "cell_type": "markdown",
   "metadata": {},
   "source": [
    "## 콘텐츠 데이터 분석"
   ]
  },
  {
   "cell_type": "code",
   "execution_count": 4,
   "metadata": {},
   "outputs": [],
   "source": [
    "# 불필요정보 제거 - y값 제거(다른 모델)\n",
    "youtube_videos = youtube_videos.drop('y_label',axis=1)\n",
    "## y값 : youtube_videos['subscribers_count']"
   ]
  },
  {
   "cell_type": "markdown",
   "metadata": {},
   "source": [
    "### 기간별 피처 생성"
   ]
  },
  {
   "cell_type": "code",
   "execution_count": 5,
   "metadata": {},
   "outputs": [],
   "source": [
    "# 주별, 월별, 분기별 변수 생성\n",
    "\n",
    "# 조회수 및 시청 시간 관련\n",
    "youtube_videos['weekly_views'] = youtube_videos['views'].rolling(window=7).sum()\n",
    "youtube_videos['monthly_views'] = youtube_videos['views'].rolling(window=30).sum()\n",
    "youtube_videos['quarterly_views'] = youtube_videos['views'].rolling(window=90).sum()\n",
    "\n",
    "youtube_videos['weekly_watch_time'] = youtube_videos['estimatedMinutesWatched'].rolling(window=7).sum()\n",
    "youtube_videos['monthly_watch_time'] = youtube_videos['estimatedMinutesWatched'].rolling(window=30).sum()\n",
    "youtube_videos['quarterly_watch_time'] = youtube_videos['estimatedMinutesWatched'].rolling(window=90).sum()\n",
    "\n",
    "youtube_videos['weekly_avg_view_duration'] = youtube_videos['averageViewDuration'].rolling(window=7).mean()\n",
    "youtube_videos['monthly_avg_view_duration'] = youtube_videos['averageViewDuration'].rolling(window=30).mean()\n",
    "youtube_videos['quarterly_avg_view_duration'] = youtube_videos['averageViewDuration'].rolling(window=90).mean()\n",
    "\n",
    "youtube_videos['weekly_avg_view_percentage'] = youtube_videos['averageViewPercentage'].rolling(window=7).mean()\n",
    "youtube_videos['monthly_avg_view_percentage'] = youtube_videos['averageViewPercentage'].rolling(window=30).mean()\n",
    "youtube_videos['quarterly_avg_view_percentage'] = youtube_videos['averageViewPercentage'].rolling(window=90).mean()\n",
    "\n",
    "\n",
    "# 참여도 관련\n",
    "youtube_videos['weekly_videos_added'] = youtube_videos['videosAddedToPlaylists'].rolling(window=7).sum()\n",
    "youtube_videos['monthly_videos_added'] = youtube_videos['videosAddedToPlaylists'].rolling(window=30).sum()\n",
    "youtube_videos['quarterly_videos_added'] = youtube_videos['videosAddedToPlaylists'].rolling(window=90).sum()\n",
    "\n",
    "youtube_videos['weekly_videos_removed'] = youtube_videos['videosRemovedFromPlaylists'].rolling(window=7).sum()\n",
    "youtube_videos['monthly_videos_removed'] = youtube_videos['videosRemovedFromPlaylists'].rolling(window=30).sum()\n",
    "youtube_videos['quarterly_videos_removed'] = youtube_videos['videosRemovedFromPlaylists'].rolling(window=90).sum()\n",
    "\n",
    "# 수익 및 광고 관련\n",
    "youtube_videos['weekly_estimated_revenue'] = youtube_videos['estimatedRevenue'].rolling(window=7).sum()\n",
    "youtube_videos['monthly_estimated_revenue'] = youtube_videos['estimatedRevenue'].rolling(window=30).sum()\n",
    "youtube_videos['quarterly_estimated_revenue'] = youtube_videos['estimatedRevenue'].rolling(window=90).sum()\n",
    "\n",
    "# youtube_videos['weekly_estimated_ad_revenue'] = youtube_videos['estimatedAdRevenue'].rolling(window=7).sum()\n",
    "# youtube_videos['monthly_estimated_ad_revenue'] = youtube_videos['estimatedAdRevenue'].rolling(window=30).sum()\n",
    "# youtube_videos['quarterly_estimated_ad_revenue'] = youtube_videos['estimatedAdRevenue'].rolling(window=90).sum()\n",
    "\n",
    "# youtube_videos['weekly_revenue_per_ad_impression'] = youtube_videos['weekly_estimated_ad_revenue'] / (youtube_videos['adImpressions'].rolling(window=7).sum() + 1)\n",
    "# youtube_videos['monthly_revenue_per_ad_impression'] = youtube_videos['monthly_estimated_ad_revenue'] / (youtube_videos['adImpressions'].rolling(window=30).sum() + 1)\n",
    "# youtube_videos['quarterly_revenue_per_ad_impression'] = youtube_videos['quarterly_estimated_ad_revenue'] / (youtube_videos['adImpressions'].rolling(window=90).sum() + 1)\n",
    "\n",
    "youtube_videos['weekly_ad_impressions'] = youtube_videos['adImpressions'].rolling(window=7).sum()\n",
    "youtube_videos['monthly_ad_impressions'] = youtube_videos['adImpressions'].rolling(window=30).sum()\n",
    "youtube_videos['quarterly_ad_impressions'] = youtube_videos['adImpressions'].rolling(window=90).sum()\n",
    "\n",
    "# 카드 및 티저 관련\n",
    "youtube_videos['weekly_card_click_rate'] = youtube_videos['cardClickRate'].rolling(window=7).mean()\n",
    "youtube_videos['monthly_card_click_rate'] = youtube_videos['cardClickRate'].rolling(window=30).mean()\n",
    "youtube_videos['quarterly_card_click_rate'] = youtube_videos['cardClickRate'].rolling(window=90).mean()\n",
    "\n",
    "youtube_videos['weekly_card_teaser_click_rate'] = youtube_videos['cardTeaserClickRate'].rolling(window=7).mean()\n",
    "youtube_videos['monthly_card_teaser_click_rate'] = youtube_videos['cardTeaserClickRate'].rolling(window=30).mean()\n",
    "youtube_videos['quarterly_card_teaser_click_rate'] = youtube_videos['cardTeaserClickRate'].rolling(window=90).mean()\n",
    "\n",
    "youtube_videos['weekly_card_clicks'] = youtube_videos['cardClicks'].rolling(window=7).sum()\n",
    "youtube_videos['monthly_card_clicks'] = youtube_videos['cardClicks'].rolling(window=30).sum()\n",
    "youtube_videos['quarterly_card_clicks'] = youtube_videos['cardClicks'].rolling(window=90).sum()\n",
    "\n",
    "youtube_videos['weekly_card_teaser_clicks'] = youtube_videos['cardTeaserClicks'].rolling(window=7).sum()\n",
    "youtube_videos['monthly_card_teaser_clicks'] = youtube_videos['cardTeaserClicks'].rolling(window=30).sum()\n",
    "youtube_videos['quarterly_card_teaser_clicks'] = youtube_videos['cardTeaserClicks'].rolling(window=90).sum()\n",
    "\n",
    "# 참여도 관련\n",
    "youtube_videos['weekly_total_engagement'] = (youtube_videos['likes'].rolling(window=7).sum() +\n",
    "                                 youtube_videos['dislikes'].rolling(window=7).sum() +\n",
    "                                 youtube_videos['comments'].rolling(window=7).sum() +\n",
    "                                 youtube_videos['shares'].rolling(window=7).sum())\n",
    "\n",
    "youtube_videos['monthly_total_engagement'] = (youtube_videos['likes'].rolling(window=30).sum() +\n",
    "                                  youtube_videos['dislikes'].rolling(window=30).sum() +\n",
    "                                  youtube_videos['comments'].rolling(window=30).sum() +\n",
    "                                  youtube_videos['shares'].rolling(window=30).sum())\n",
    "\n",
    "youtube_videos['quarterly_total_engagement'] = (youtube_videos['likes'].rolling(window=90).sum() +\n",
    "                                    youtube_videos['dislikes'].rolling(window=90).sum() +\n",
    "                                    youtube_videos['comments'].rolling(window=90).sum() +\n",
    "                                    youtube_videos['shares'].rolling(window=90).sum())\n",
    "\n",
    "youtube_videos['weekly_engagement_rate'] = youtube_videos['weekly_total_engagement'] / (youtube_videos['weekly_views'] + 1)\n",
    "youtube_videos['monthly_engagement_rate'] = youtube_videos['monthly_total_engagement'] / (youtube_videos['monthly_views'] + 1)\n",
    "youtube_videos['quarterly_engagement_rate'] = youtube_videos['quarterly_total_engagement'] / (youtube_videos['quarterly_views'] + 1)\n",
    "\n",
    "youtube_videos['weekly_playlist_change_rate'] = (youtube_videos['weekly_videos_added'] - youtube_videos['weekly_videos_removed']) / (youtube_videos['weekly_videos_added'] + 1)\n",
    "youtube_videos['monthly_playlist_change_rate'] = (youtube_videos['monthly_videos_added'] - youtube_videos['monthly_videos_removed']) / (youtube_videos['monthly_videos_added'] + 1)\n",
    "youtube_videos['quarterly_playlist_change_rate'] = (youtube_videos['quarterly_videos_added'] - youtube_videos['quarterly_videos_removed']) / (youtube_videos['quarterly_videos_added'] + 1)"
   ]
  },
  {
   "cell_type": "code",
   "execution_count": 6,
   "metadata": {},
   "outputs": [],
   "source": [
    "# null값 대체\n",
    "youtube_videos = youtube_videos.fillna(0) ## NaN\n",
    "youtube_videos = youtube_videos.replace([np.inf, -np.inf], 0) ## inf"
   ]
  },
  {
   "cell_type": "markdown",
   "metadata": {},
   "source": [
    "### 데이터 분할\n",
    "- 미래를 예측하기 위한 모델이므로 시간순으로 데이터 분할\n",
    "- 시작날짜 : 2023-03-26\n",
    "- 종료날짜 : 2024-05-06\n",
    "- 전체 기간의 80% 날짜 : 2024-02-11"
   ]
  },
  {
   "cell_type": "code",
   "execution_count": 7,
   "metadata": {},
   "outputs": [],
   "source": [
    "# 컬럼 정리\n",
    "unique_col = youtube_videos.columns[:3]\n",
    "x_col = youtube_videos.columns[3:].drop('estimatedAdRevenue') ## y값 제거"
   ]
  },
  {
   "cell_type": "code",
   "execution_count": 8,
   "metadata": {},
   "outputs": [],
   "source": [
    "# 데이터 분할\n",
    "train_data = youtube_videos[youtube_videos['end_date'] <= '2024-02-11']\n",
    "test_data = youtube_videos[youtube_videos['end_date'] > '2024-02-11']"
   ]
  },
  {
   "cell_type": "code",
   "execution_count": 9,
   "metadata": {},
   "outputs": [
    {
     "name": "stdout",
     "output_type": "stream",
     "text": [
      "(6538190, 128)\n",
      "(2031321, 128)\n"
     ]
    }
   ],
   "source": [
    "# 불균형 확인\n",
    "print(train_data.shape)\n",
    "print(test_data.shape)"
   ]
  },
  {
   "cell_type": "markdown",
   "metadata": {},
   "source": [
    "### 변수선택"
   ]
  },
  {
   "cell_type": "markdown",
   "metadata": {},
   "source": [
    "상관분석"
   ]
  },
  {
   "cell_type": "code",
   "execution_count": 10,
   "metadata": {},
   "outputs": [
    {
     "name": "stdout",
     "output_type": "stream",
     "text": [
      "['estimatedMinutesWatched', 'estimatedRedMinutesWatched', 'videosAddedToPlaylists', 'videosRemovedFromPlaylists', 'estimatedRevenue', 'grossRevenue', 'estimatedRedPartnerRevenue', 'monetizedPlaybacks', 'adImpressions', 'watched_time_rate', 'weekly_watch_time', 'weekly_videos_removed', 'weekly_estimated_revenue', 'monthly_estimated_revenue', 'weekly_ad_impressions', 'monthly_ad_impressions']\n",
      "16\n"
     ]
    }
   ],
   "source": [
    "# 상관계수 절대값이 0.3 이상\n",
    "corr_df = train_data[['estimatedAdRevenue'] + list(x_col)].corr()\n",
    "# corr_df = corr_df.compute()\n",
    "selected_features_by_corr = list(corr_df['estimatedAdRevenue'][abs(corr_df['estimatedAdRevenue']) >= 0.3].keys())\n",
    "selected_features_by_corr.remove('estimatedAdRevenue')\n",
    "print(selected_features_by_corr)\n",
    "print(len(selected_features_by_corr))"
   ]
  },
  {
   "cell_type": "markdown",
   "metadata": {},
   "source": [
    "RandomForest"
   ]
  },
  {
   "cell_type": "code",
   "execution_count": 19,
   "metadata": {},
   "outputs": [],
   "source": [
    "from sklearn.ensemble import RandomForestRegressor\n",
    "\n",
    "# 랜덤 포레스트 모델 학습\n",
    "rf_model = RandomForestRegressor(random_state=42)\n",
    "rf_model.fit(train_data[x_col], train_data['estimatedAdRevenue'])\n",
    "\n",
    "# 변수 중요도 추출\n",
    "importances = rf_model.feature_importances_\n",
    "feature_importance_rf = pd.Series(importances, index=x_col).sort_values(ascending=False)\n",
    "\n",
    "# 중요도 0.001 이상 변수 선정\n",
    "selected_features_by_rf = list(feature_importance_rf[feature_importance_rf >= 0.001].keys())\n",
    "\n",
    "# 중요한 변수 출력\n",
    "print(f\"랜덤 포레스트로 선정된 변수: \\n{selected_features_by_rf}\")\n",
    "print(len(selected_features_by_rf))"
   ]
  },
  {
   "cell_type": "markdown",
   "metadata": {},
   "source": [
    "Gradient Boosting"
   ]
  },
  {
   "cell_type": "code",
   "execution_count": null,
   "metadata": {},
   "outputs": [],
   "source": [
    "from sklearn.ensemble import GradientBoostingRegressor\n",
    "\n",
    "# Gradient Boosting 모델 학습\n",
    "gbm_model = GradientBoostingRegressor(random_state=42)\n",
    "gbm_model.fit(train_data[x_col], train_data['estimatedAdRevenue'])\n",
    "\n",
    "# 변수 중요도 추출\n",
    "importances = gbm_model.feature_importances_\n",
    "feature_importance_gbm = pd.Series(importances, index=x_col).sort_values(ascending=False)\n",
    "\n",
    "# 중요도 0.001 이상 변수 선정\n",
    "selected_features_by_gbm = list(feature_importance_gbm[feature_importance_gbm >= 0.001].keys())\n",
    "\n",
    "# 중요한 변수 출력\n",
    "print(f\"Gradient Boosting으로 선정된 변수: \\n{selected_features_by_gbm}\")"
   ]
  },
  {
   "cell_type": "markdown",
   "metadata": {},
   "source": [
    "LightGBM"
   ]
  },
  {
   "cell_type": "code",
   "execution_count": null,
   "metadata": {},
   "outputs": [
    {
     "name": "stderr",
     "output_type": "stream",
     "text": [
      "c:\\Users\\kwan\\AppData\\Local\\anaconda3\\envs\\awake_venv\\lib\\site-packages\\dask\\dataframe\\__init__.py:42: FutureWarning: \n",
      "Dask dataframe query planning is disabled because dask-expr is not installed.\n",
      "\n",
      "You can install it with `pip install dask[dataframe]` or `conda install dask`.\n",
      "This will raise in a future version.\n",
      "\n",
      "  warnings.warn(msg, FutureWarning)\n"
     ]
    },
    {
     "name": "stdout",
     "output_type": "stream",
     "text": [
      "[LightGBM] [Info] Auto-choosing col-wise multi-threading, the overhead of testing was 0.081231 seconds.\n",
      "You can set `force_col_wise=true` to remove the overhead.\n",
      "[LightGBM] [Info] Total Bins 28461\n",
      "[LightGBM] [Info] Number of data points in the train set: 84473, number of used features: 112\n",
      "[LightGBM] [Info] Start training from score 65433.322872\n",
      "LightGBM으로 선정된 변수: \n",
      "['subscriber_decrease_rate', 'subscribers_lost', 'weekly_subscribers_lost', 'subscriber_increase_rate', 'subscriber_view_time_rate', 'quarterly_net_subscribers_change', 'weekly_net_subscribers_change', 'monthly_net_subscribers_change', 'quarterly_playback_rate', 'quarterly_avg_view_duration', 'monthly_subscribers_lost', 'quarterly_subscribers_lost', 'age18-24.female', 'SUBSCRIBED', 'quarterly_total_view_time', 'quarterly_estimated_revenue', 'quarterly_ad_revenue_rate', 'revenue_per_subscriber', 'quarterly_estimated_ad_revenue', 'avg_view_duration_rate', 'quarterly_revenue_per_ad_impression', 'quarterly_view_time_per_user', 'monthly_ad_revenue_rate', 'subscribers_gained', 'UNSUBSCRIBED', 'revenue_per_subscribed_view', 'comments', 'dislikes', 'subscriber_retention_rate', 'net_subscribers_change', 'monthly_playback_rate', 'quarterly_revenue_per_subscriber', 'quarterly_subscribers_gained', 'monthly_view_time_per_user', 'subscribed_view_time_rate', 'weekly_playback_rate', 'female_viewer_rate', 'age18-24.male', 'age25-34.female', 'weekly_estimated_ad_revenue']\n"
     ]
    }
   ],
   "source": [
    "import lightgbm as lgb\n",
    "from dask.distributed import Client\n",
    "\n",
    "# Dask 클라이언트 설정\n",
    "client = Client()\n",
    "\n",
    "# LightGBM 모델 학습\n",
    "lgb_model = lgb.LGBMRegressor(random_state=42)\n",
    "lgb_model.fit(train_data[x_col], train_data['estimatedAdRevenue'])\n",
    "\n",
    "# 변수 중요도 추출\n",
    "importances = lgb_model.feature_importances_\n",
    "feature_importance_lgbm = pd.Series(importances, index=x_col).sort_values(ascending=False)\n",
    "\n",
    "# 중요도 0.001 이상 변수 선정\n",
    "feature_importance_lgbm = feature_importance_lgbm / feature_importance_lgbm.sum() ## 중요도 정규화\n",
    "selected_features_by_lgbm = list(feature_importance_lgbm[feature_importance_lgbm >= 0.005].keys())\n",
    "\n",
    "# 중요한 변수 출력\n",
    "print(f\"LightGBM으로 선정된 변수: \\n{selected_features_by_lgbm}\")\n",
    "print(len(selected_features_by_lgbm))"
   ]
  },
  {
   "cell_type": "markdown",
   "metadata": {},
   "source": [
    "XGBoost"
   ]
  },
  {
   "cell_type": "code",
   "execution_count": 11,
   "metadata": {},
   "outputs": [
    {
     "name": "stdout",
     "output_type": "stream",
     "text": [
      "XGBoost로 선정된 변수: \n",
      "['monthly_videos_removed', 'monthly_ad_impressions', 'estimatedRedPartnerRevenue', 'subscribersLost', 'quarterly_ad_impressions', 'dislikes', 'grossRevenue', 'likes', 'ad_revenue_rate', 'quarterly_estimated_revenue', 'weekly_videos_added', 'playlist_related_revenue_rate', 'quarterly_views', 'monthly_estimated_revenue', 'quarterly_watch_time', 'monthly_watch_time', 'views', 'revenue_per_minute_watched', 'revenue_per_playlist_add', 'dislike_rate', 'cpm', 'revenue_per_view', 'monetizedPlaybacks', 'estimatedMinutesWatched', 'revenue_per_red_view', 'weekly_estimated_revenue', 'playback_based_cpm_rate', 'like_rate', 'quarterly_avg_view_percentage', 'grossRevenue_per_ad_impression', 'weekly_watch_time', 'positive_engage_rate', 'playbackBasedCpm', 'comment_to_like_rate', 'subscribers_lost_per_playlist_remove', 'adImpressions', 'weekly_engagement_rate', 'comments', 'weekly_playlist_change_rate', 'watch_time_loss_per_playlist_remove', 'subscribers_gained_per_playlist_add', 'playlist_removal_rate']\n",
      "42\n"
     ]
    }
   ],
   "source": [
    "import xgboost as xgb\n",
    "\n",
    "# XGBoost 모델 학습\n",
    "xgb_model = xgb.XGBRegressor(random_state=42)\n",
    "xgb_model.fit(train_data[x_col], train_data['estimatedAdRevenue'])\n",
    "\n",
    "# 변수 중요도 추출\n",
    "importances = xgb_model.feature_importances_\n",
    "feature_importance_xgb = pd.Series(importances, index=x_col).sort_values(ascending=False)\n",
    "\n",
    "# 중요도 0.001 이상 변수 선정\n",
    "selected_features_by_xgb = list(feature_importance_xgb[feature_importance_xgb >= 0.001].keys())\n",
    "\n",
    "# 중요한 변수 출력\n",
    "print(f\"XGBoost로 선정된 변수: \\n{selected_features_by_xgb}\")\n",
    "print(len(selected_features_by_xgb))"
   ]
  },
  {
   "cell_type": "code",
   "execution_count": 24,
   "metadata": {},
   "outputs": [],
   "source": [
    "selected_features_by_xgb = list(feature_importance_xgb[feature_importance_xgb >= 0.001].keys())"
   ]
  },
  {
   "cell_type": "code",
   "execution_count": 25,
   "metadata": {},
   "outputs": [],
   "source": [
    "# # 비선형모델 활용 변수 선정\n",
    "# importances_df = pd.DataFrame({\n",
    "#     'features': x_col,\n",
    "#     'rf_importance': rf_model.feature_importances_,\n",
    "#     'gbm_importance': gbm_model.feature_importances_,\n",
    "#     'lgbm_importance': lgb_model.feature_importances_,\n",
    "#     'xgb_importance': xgb_model.feature_importances_\n",
    "#     })\n",
    "# importances_df['lgbm_importance'] = importances_df['lgbm_importance'] / importances_df['lgbm_importance'].sum() ## 다른 모델과 중요도 단위 다르기 때문에 정규화\n",
    "# importances_df['mean_importance'] = importances_df[['rf_importance', 'gbm_importance', 'lgbm_importance', 'xgb_importance']].mean(axis=1) ## 각 변수별 모델 중요도 평균"
   ]
  },
  {
   "cell_type": "code",
   "execution_count": 26,
   "metadata": {},
   "outputs": [],
   "source": [
    "# 최종 변수 선택\n",
    "# final_selected_features = list(set(list(importances_df[importances_df['mean_importance'] >= 0.004]['features']) + selected_features_by_corr))\n",
    "final_selected_features = list(set(list(selected_features_by_xgb + selected_features_by_corr)))"
   ]
  },
  {
   "cell_type": "code",
   "execution_count": 29,
   "metadata": {},
   "outputs": [],
   "source": [
    "# 최종 모델링 데이터셋\n",
    "youtube_videos_final = youtube_videos[list(unique_col) + final_selected_features + ['estimatedAdRevenue']]"
   ]
  },
  {
   "cell_type": "code",
   "execution_count": 30,
   "metadata": {},
   "outputs": [],
   "source": [
    "youtube_videos_final.to_csv('C:/py_src/awake/data/youtube_videos_final3.csv', encoding='utf-8-sig', index=False)"
   ]
  }
 ],
 "metadata": {
  "kernelspec": {
   "display_name": "awake_venv",
   "language": "python",
   "name": "python3"
  },
  "language_info": {
   "codemirror_mode": {
    "name": "ipython",
    "version": 3
   },
   "file_extension": ".py",
   "mimetype": "text/x-python",
   "name": "python",
   "nbconvert_exporter": "python",
   "pygments_lexer": "ipython3",
   "version": "3.10.14"
  }
 },
 "nbformat": 4,
 "nbformat_minor": 2
}
