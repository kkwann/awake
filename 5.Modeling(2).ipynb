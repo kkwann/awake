{
 "cells": [
  {
   "cell_type": "code",
   "execution_count": 1,
   "metadata": {},
   "outputs": [],
   "source": [
    "import pymongo\n",
    "import pandas as pd\n",
    "import numpy as np\n",
    "import math\n",
    "from datetime import datetime\n",
    "\n",
    "# import dask.dataframe as dd ## 대규모 데이터 처리\n",
    "# import vaex ## 대규모 데이터 처리\n",
    "\n",
    "# from sklearn.linear_model import LinearRegression ## likes, dislikes 대체\n",
    "from sklearn.preprocessing import StandardScaler\n",
    "from sklearn.ensemble import IsolationForest\n",
    "from sklearn.model_selection import train_test_split\n",
    "\n",
    "from sklearn.ensemble import RandomForestClassifier\n",
    "from sklearn.ensemble import RandomForestRegressor, GradientBoostingRegressor\n",
    "from lightgbm import LGBMRegressor\n",
    "import xgboost as xgb\n",
    "from sklearn.model_selection import KFold, cross_val_score, train_test_split\n",
    "from sklearn.metrics import mean_squared_error\n",
    "\n",
    "from imblearn.under_sampling import RandomUnderSampler\n",
    "from sklearn.metrics import accuracy_score, confusion_matrix, classification_report, roc_auc_score, roc_curve\n",
    "import matplotlib.pyplot as plt\n",
    "import seaborn as sns\n",
    "\n",
    "import os\n",
    "from dotenv import load_dotenv"
   ]
  },
  {
   "cell_type": "code",
   "execution_count": 2,
   "metadata": {},
   "outputs": [],
   "source": [
    "file_path = 'C:/py_src/awake/data/'"
   ]
  },
  {
   "cell_type": "code",
   "execution_count": 3,
   "metadata": {},
   "outputs": [],
   "source": [
    "# 계정 / 콘텐츠 분석 데이터셋 불러오기\n",
    "merge_df_users_fin = pd.read_csv(file_path + 'merge_df_users_final2.csv', low_memory=False)\n",
    "youtube_videos = pd.read_csv(file_path + 'youtube_videos_final2.csv')"
   ]
  },
  {
   "cell_type": "markdown",
   "metadata": {},
   "source": [
    "## 계정 데이터 분석"
   ]
  },
  {
   "cell_type": "markdown",
   "metadata": {},
   "source": [
    "### 데이터 분할\n",
    "- 미래를 예측하기 위한 모델이므로 시간순으로 데이터 분할\n",
    "- 시작날짜 : 2023-03-26\n",
    "- 종료날짜 : 2024-05-06\n",
    "- 전체 기간의 80% 날짜 : 2024-02-11"
   ]
  },
  {
   "cell_type": "code",
   "execution_count": 7,
   "metadata": {},
   "outputs": [],
   "source": [
    "# 컬럼 정리\n",
    "unique_col = merge_df_users_fin.columns[:11]\n",
    "x_col = merge_df_users_fin.columns[11:].drop('subscribers_count') ## y값 제거"
   ]
  },
  {
   "cell_type": "code",
   "execution_count": 8,
   "metadata": {},
   "outputs": [],
   "source": [
    "# 데이터 분할\n",
    "train_data = merge_df_users_fin[merge_df_users_fin['date'] <= '2024-02-11']\n",
    "test_data = merge_df_users_fin[merge_df_users_fin['date'] > '2024-02-11']"
   ]
  },
  {
   "cell_type": "code",
   "execution_count": 9,
   "metadata": {},
   "outputs": [
    {
     "name": "stdout",
     "output_type": "stream",
     "text": [
      "(84473, 56)\n",
      "(21210, 56)\n"
     ]
    }
   ],
   "source": [
    "# 불균형 확인\n",
    "print(train_data.shape)\n",
    "print(test_data.shape)"
   ]
  },
  {
   "cell_type": "markdown",
   "metadata": {},
   "source": [
    "### 모델 기법 적용"
   ]
  },
  {
   "cell_type": "code",
   "execution_count": 10,
   "metadata": {},
   "outputs": [],
   "source": [
    "# 각 모델 정의\n",
    "rf_model = RandomForestRegressor(random_state=42)\n",
    "gbm_model = GradientBoostingRegressor(random_state=42)\n",
    "lgbm_model = LGBMRegressor(random_state=42)\n",
    "xgb_model = xgb.XGBRegressor(random_state=42)\n",
    "\n",
    "# 모델 리스트\n",
    "models = {\n",
    "    'RandomForest': rf_model,\n",
    "    'GBM': gbm_model,\n",
    "    'LightGBM': lgbm_model,\n",
    "    'XGBoost': xgb_model\n",
    "}"
   ]
  },
  {
   "cell_type": "code",
   "execution_count": 9,
   "metadata": {},
   "outputs": [],
   "source": [
    "# # 모델별 교차 검증 결과 저장\n",
    "# results = {}\n",
    "\n",
    "# for model_name, model in models.items():\n",
    "#     print(f\"\\n{model_name} 모델 성능 평가 중...\")\n",
    "    \n",
    "#     # 교차 검증\n",
    "#     cv_scores = cross_val_score(model, train_data[x_col], train_data['subscribers_count'], cv=5, scoring='neg_mean_squared_error')\n",
    "    \n",
    "#     # 평균 RMSE 계산\n",
    "#     rmse_scores = np.sqrt(-cv_scores)  # neg_mean_squared_error는 음수이므로 양수로 변환 후 제곱근\n",
    "#     mean_rmse = rmse_scores.mean()\n",
    "#     print(f\"{model_name} 교차 검증 평균 RMSE: {mean_rmse}\")\n",
    "    \n",
    "#     # 결과 저장\n",
    "#     results[model_name] = mean_rmse"
   ]
  },
  {
   "cell_type": "markdown",
   "metadata": {},
   "source": [
    "### 모델 성능 평가"
   ]
  },
  {
   "cell_type": "code",
   "execution_count": 11,
   "metadata": {},
   "outputs": [
    {
     "name": "stdout",
     "output_type": "stream",
     "text": [
      "RandomForest\n",
      "R² 값: 0.9157\n",
      "MSE: 4975277385.4485\n",
      "RMSE: 70535.6462\n",
      "----------------------------------------\n",
      "\n",
      "GBM\n",
      "R² 값: 0.8720\n",
      "MSE: 7554219339.4865\n",
      "RMSE: 86915.0122\n",
      "----------------------------------------\n",
      "\n",
      "[LightGBM] [Info] Auto-choosing col-wise multi-threading, the overhead of testing was 0.007564 seconds.\n",
      "You can set `force_col_wise=true` to remove the overhead.\n",
      "[LightGBM] [Info] Total Bins 11208\n",
      "[LightGBM] [Info] Number of data points in the train set: 84473, number of used features: 44\n",
      "[LightGBM] [Info] Start training from score 65433.322872\n",
      "LightGBM\n",
      "R² 값: 0.8862\n",
      "MSE: 6715269272.1564\n",
      "RMSE: 81946.7466\n",
      "----------------------------------------\n",
      "\n",
      "XGBoost\n",
      "R² 값: 0.9474\n",
      "MSE: 3100811798.8810\n",
      "RMSE: 55684.9333\n",
      "----------------------------------------\n",
      "\n"
     ]
    }
   ],
   "source": [
    "from sklearn.ensemble import RandomForestRegressor\n",
    "from sklearn.metrics import mean_squared_error, r2_score\n",
    "import numpy as np\n",
    "\n",
    "for model in models:\n",
    "    # 모델 정의 및 학습\n",
    "    models[model].fit(train_data[x_col], train_data['subscribers_count'])\n",
    "\n",
    "    # 예측\n",
    "    y_pred = models[model].predict(test_data[x_col])\n",
    "\n",
    "    # MSE 계산\n",
    "    mse = mean_squared_error(test_data['subscribers_count'], y_pred)\n",
    "\n",
    "    # RMSE 계산\n",
    "    rmse = np.sqrt(mse)\n",
    "\n",
    "    # R² 값 계산\n",
    "    r2 = r2_score(test_data['subscribers_count'], y_pred)\n",
    "\n",
    "    # 결과 출력\n",
    "    print(model)\n",
    "    print(f\"R² 값: {r2:.4f}\")\n",
    "    print(f\"MSE: {mse:.4f}\")\n",
    "    print(f\"RMSE: {rmse:.4f}\")\n",
    "    print(\"----------------------------------------\")\n",
    "    print(\"\")"
   ]
  },
  {
   "cell_type": "code",
   "execution_count": 92,
   "metadata": {},
   "outputs": [],
   "source": [
    "# # 비선형모델 활용 변수 선정\n",
    "# importances_df = pd.DataFrame({\n",
    "#     'features': x_col,\n",
    "#     'rf_importance': models['RandomForest'].feature_importances_,\n",
    "#     'gbm_importance': models['GBM'].feature_importances_,\n",
    "#     'lgbm_importance': models['LightGBM'].feature_importances_,\n",
    "#     'xgb_importance': models['XGBoost'].feature_importances_    \n",
    "# })\n",
    "# importances_df['lgbm_importance'] = importances_df['lgbm_importance'] / importances_df['lgbm_importance'].sum() ## 다른 모델과 중요도 단위 다르기 때문에 정규화\n",
    "# importances_df['mean_importance'] = importances_df[['rf_importance', 'gbm_importance', 'lgbm_importance', 'xgb_importance']].mean(axis=1) ## 각 변수별 모델 중요도 평균"
   ]
  },
  {
   "cell_type": "markdown",
   "metadata": {},
   "source": [
    "### 모델 성능 개선"
   ]
  },
  {
   "cell_type": "code",
   "execution_count": 60,
   "metadata": {},
   "outputs": [
    {
     "data": {
      "text/plain": [
       "Index(['weekly_estimated_revenue', 'weekly_estimated_ad_revenue',\n",
       "       'subscriber_increase_rate', 'monthly_revenue_per_ad_impression',\n",
       "       'revenue_per_subscriber', 'quarterly_avg_view_duration',\n",
       "       'quarterly_estimated_revenue', 'monthly_net_subscribers_change',\n",
       "       'estimated_revenue', 'subscriber_view_time_rate',\n",
       "       'quarterly_total_view_time', 'weekly_revenue_per_ad_impression',\n",
       "       'monthly_subscribers_lost', 'subscribers_lost', 'watched_time_rate',\n",
       "       'age18-24.female', 'quarterly_subscribers_gained', 'gross_revenue',\n",
       "       'gross_revenue_per_ad_impression', 'weekly_net_subscribers_change',\n",
       "       'playback_rate', 'age25-34.female', 'estimated_red_partner_revenue',\n",
       "       'redViews', 'quarterly_estimated_ad_revenue',\n",
       "       'quarterly_net_subscribers_change', 'estimatedMinutesWatched',\n",
       "       'subscriber_decrease_rate', 'weekly_subscribers_lost',\n",
       "       'estimated_ad_revenue', 'quarterly_subscribers_lost',\n",
       "       'monthly_subscribers_gained', 'age13-17.female',\n",
       "       'weekly_total_view_time', 'monthly_estimated_ad_revenue',\n",
       "       'unplayback_rate', 'monthly_estimated_revenue', 'monetized_playbacks',\n",
       "       'revenue_per_ad_impression', 'quarterly_revenue_per_ad_impression',\n",
       "       'monthly_total_view_time', 'quarterly_playback_rate', 'cpm',\n",
       "       'SUBSCRIBED'],\n",
       "      dtype='object')"
      ]
     },
     "execution_count": 60,
     "metadata": {},
     "output_type": "execute_result"
    }
   ],
   "source": [
    "x_col"
   ]
  },
  {
   "cell_type": "markdown",
   "metadata": {},
   "source": [
    "스태킹"
   ]
  },
  {
   "cell_type": "code",
   "execution_count": 12,
   "metadata": {},
   "outputs": [
    {
     "name": "stdout",
     "output_type": "stream",
     "text": [
      "스태킹 앙상블 모델 R2: 0.9661\n",
      "스태킹 앙상블 모델 MSE: 1998305072.9542\n",
      "스태킹 앙상블 모델 RMSE: 44702.4057\n"
     ]
    },
    {
     "name": "stderr",
     "output_type": "stream",
     "text": [
      "c:\\Users\\kkims\\anaconda3\\envs\\awake\\lib\\site-packages\\sklearn\\metrics\\_regression.py:492: FutureWarning: 'squared' is deprecated in version 1.4 and will be removed in 1.6. To calculate the root mean squared error, use the function'root_mean_squared_error'.\n",
      "  warnings.warn(\n"
     ]
    }
   ],
   "source": [
    "from sklearn.ensemble import StackingRegressor\n",
    "from sklearn.linear_model import Ridge\n",
    "\n",
    "# 스태킹 모델 정의\n",
    "stacking_model = StackingRegressor(\n",
    "    estimators=[\n",
    "    ('random_forest', models['RandomForest']),\n",
    "    # ('gbm', models['GBM']),\n",
    "    # ('lightgbm', models['LightGBM']),\n",
    "    ('xgboost', models['XGBoost'])\n",
    "    ],\n",
    "    final_estimator=Ridge()\n",
    ")\n",
    "\n",
    "# 스태킹 모델 학습\n",
    "stacking_model.fit(train_data[x_col], train_data['subscribers_count'])\n",
    "\n",
    "# 예측\n",
    "y_pred = stacking_model.predict(test_data[x_col])\n",
    "\n",
    "# 성능 평가\n",
    "# R² 값 계산\n",
    "r2 = r2_score(test_data['subscribers_count'], y_pred)\n",
    "\n",
    "# MSE 계산\n",
    "mse = mean_squared_error(test_data['subscribers_count'], y_pred)\n",
    "\n",
    "# RMSE 계산\n",
    "rmse = mean_squared_error(test_data['subscribers_count'], y_pred, squared=False)\n",
    "\n",
    "print(f\"스태킹 앙상블 모델 R2: {r2:.4f}\")\n",
    "print(f\"스태킹 앙상블 모델 MSE: {mse:.4f}\")\n",
    "print(f\"스태킹 앙상블 모델 RMSE: {rmse:.4f}\")"
   ]
  },
  {
   "cell_type": "markdown",
   "metadata": {},
   "source": [
    "### 실제데이터 결과 확인"
   ]
  },
  {
   "cell_type": "code",
   "execution_count": 56,
   "metadata": {},
   "outputs": [],
   "source": [
    "# 예측 결과 확인\n",
    "y_pred = stacking_model.predict(merge_df_users_fin[x_col])\n",
    "merge_df_users_fin['predict'] = y_pred"
   ]
  },
  {
   "cell_type": "code",
   "execution_count": 57,
   "metadata": {},
   "outputs": [
    {
     "name": "stderr",
     "output_type": "stream",
     "text": [
      "C:\\Users\\kkims\\AppData\\Local\\Temp\\ipykernel_23628\\2617090873.py:5: SettingWithCopyWarning: \n",
      "A value is trying to be set on a copy of a slice from a DataFrame.\n",
      "Try using .loc[row_indexer,col_indexer] = value instead\n",
      "\n",
      "See the caveats in the documentation: https://pandas.pydata.org/pandas-docs/stable/user_guide/indexing.html#returning-a-view-versus-a-copy\n",
      "  result_df['date'] = pd.to_datetime(result_df['date'])\n",
      "C:\\Users\\kkims\\AppData\\Local\\Temp\\ipykernel_23628\\2617090873.py:7: SettingWithCopyWarning: \n",
      "A value is trying to be set on a copy of a slice from a DataFrame.\n",
      "Try using .loc[row_indexer,col_indexer] = value instead\n",
      "\n",
      "See the caveats in the documentation: https://pandas.pydata.org/pandas-docs/stable/user_guide/indexing.html#returning-a-view-versus-a-copy\n",
      "  result_df['1_month_future_predict'] = result_df.groupby('youtube_user_id')['predict'].shift(-30).rolling(window=30).mean()\n",
      "C:\\Users\\kkims\\AppData\\Local\\Temp\\ipykernel_23628\\2617090873.py:8: SettingWithCopyWarning: \n",
      "A value is trying to be set on a copy of a slice from a DataFrame.\n",
      "Try using .loc[row_indexer,col_indexer] = value instead\n",
      "\n",
      "See the caveats in the documentation: https://pandas.pydata.org/pandas-docs/stable/user_guide/indexing.html#returning-a-view-versus-a-copy\n",
      "  result_df['3_month_future_predict'] = result_df.groupby('youtube_user_id')['predict'].shift(-90).rolling(window=90).mean()\n",
      "C:\\Users\\kkims\\AppData\\Local\\Temp\\ipykernel_23628\\2617090873.py:9: SettingWithCopyWarning: \n",
      "A value is trying to be set on a copy of a slice from a DataFrame.\n",
      "Try using .loc[row_indexer,col_indexer] = value instead\n",
      "\n",
      "See the caveats in the documentation: https://pandas.pydata.org/pandas-docs/stable/user_guide/indexing.html#returning-a-view-versus-a-copy\n",
      "  result_df['6_month_future_predict'] = result_df.groupby('youtube_user_id')['predict'].shift(-180).rolling(window=180).mean()\n",
      "C:\\Users\\kkims\\AppData\\Local\\Temp\\ipykernel_23628\\2617090873.py:10: SettingWithCopyWarning: \n",
      "A value is trying to be set on a copy of a slice from a DataFrame.\n",
      "Try using .loc[row_indexer,col_indexer] = value instead\n",
      "\n",
      "See the caveats in the documentation: https://pandas.pydata.org/pandas-docs/stable/user_guide/indexing.html#returning-a-view-versus-a-copy\n",
      "  result_df['12_month_future_predict'] = result_df.groupby('youtube_user_id')['predict'].shift(-365).rolling(window=365).mean()\n"
     ]
    }
   ],
   "source": [
    "# 계정별 구독자수 평균, 구독자 예측수 평균 비교\n",
    "result_df = merge_df_users_fin[['youtube_user_id','date','channel_title','subscriberCount','subscribers_count','predict']]\n",
    "\n",
    "# 1개월, 3개월, 6개월, 1년 뒤 구독자수 예측값\n",
    "result_df['date'] = pd.to_datetime(result_df['date']) \n",
    "\n",
    "result_df['1_month_future_predict'] = result_df.groupby('youtube_user_id')['predict'].shift(-30).rolling(window=30).mean()\n",
    "result_df['3_month_future_predict'] = result_df.groupby('youtube_user_id')['predict'].shift(-90).rolling(window=90).mean()\n",
    "result_df['6_month_future_predict'] = result_df.groupby('youtube_user_id')['predict'].shift(-180).rolling(window=180).mean()\n",
    "result_df['12_month_future_predict'] = result_df.groupby('youtube_user_id')['predict'].shift(-365).rolling(window=365).mean()\n",
    "\n",
    "# 계정별 기간에 따른 구독자수 예측값 비교\n",
    "result_df_final = result_df.groupby(['youtube_user_id'])[['subscribers_count','predict','1_month_future_predict','3_month_future_predict','6_month_future_predict','12_month_future_predict']].mean().reset_index()"
   ]
  },
  {
   "cell_type": "code",
   "execution_count": 129,
   "metadata": {},
   "outputs": [],
   "source": [
    "# 기간 따른 예측 결과\n",
    "# 1개월\n",
    "result_1_month_plus_user_id = result_df_final[result_df_final['predict'] > 0][result_df_final[result_df_final['predict'] > 0]['subscribers_count'] < result_df_final[result_df_final['predict'] > 0]['1_month_future_predict']]['youtube_user_id']\n",
    "result_1_month_minus_user_id = result_df_final[result_df_final['predict'] > 0][result_df_final[result_df_final['predict'] > 0]['subscribers_count'] > result_df_final[result_df_final['predict'] > 0]['1_month_future_predict']]['youtube_user_id']\n",
    "\n",
    "# 3개월\n",
    "result_3_month_plus_user_id = result_df_final[result_df_final['predict'] > 0][result_df_final[result_df_final['predict'] > 0]['subscribers_count'] < result_df_final[result_df_final['predict'] > 0]['3_month_future_predict']]['youtube_user_id']\n",
    "result_3_month_minus_user_id = result_df_final[result_df_final['predict'] > 0][result_df_final[result_df_final['predict'] > 0]['subscribers_count'] > result_df_final[result_df_final['predict'] > 0]['3_month_future_predict']]['youtube_user_id']\n",
    "\n",
    "# 6개월\n",
    "result_6_month_plus_user_id = result_df_final[result_df_final['predict'] > 0][result_df_final[result_df_final['predict'] > 0]['subscribers_count'] < result_df_final[result_df_final['predict'] > 0]['6_month_future_predict']]['youtube_user_id']\n",
    "result_6_month_minus_user_id = result_df_final[result_df_final['predict'] > 0][result_df_final[result_df_final['predict'] > 0]['subscribers_count'] > result_df_final[result_df_final['predict'] > 0]['6_month_future_predict']]['youtube_user_id']\n",
    "\n",
    "# 12개월\n",
    "result_12_month_plus_user_id = result_df_final[result_df_final['predict'] > 0][result_df_final[result_df_final['predict'] > 0]['subscribers_count'] < result_df_final[result_df_final['predict'] > 0]['12_month_future_predict']]['youtube_user_id']\n",
    "result_12_month_minus_user_id = result_df_final[result_df_final['predict'] > 0][result_df_final[result_df_final['predict'] > 0]['subscribers_count'] > result_df_final[result_df_final['predict'] > 0]['12_month_future_predict']]['youtube_user_id']"
   ]
  },
  {
   "cell_type": "code",
   "execution_count": 144,
   "metadata": {},
   "outputs": [
    {
     "name": "stdout",
     "output_type": "stream",
     "text": [
      "7\n",
      "['유익한 균튜버' '0' '모하지연 MOHAJIYEON' '-mentalholder 멘탈홀더 tv' '지미 geemi.'\n",
      " '프롬수지 fromsuzy' 'fromsuzy 프롬수지']\n"
     ]
    }
   ],
   "source": [
    "print(len(result_df[result_df['youtube_user_id'].isin(result_12_month_minus_user_id)]['channel_title'].unique()))\n",
    "print(result_df[result_df['youtube_user_id'].isin(result_12_month_minus_user_id)]['channel_title'].unique())"
   ]
  },
  {
   "cell_type": "code",
   "execution_count": 159,
   "metadata": {},
   "outputs": [
    {
     "data": {
      "text/plain": [
       "array(['낭만아저씨코디TV', '0', '오디디 코미디', '모하지연 MOHAJIYEON', '콜드쉽 Coldsheep',\n",
       "       '팀브라더스', '맛집남자 foodman', '-mentalholder 멘탈홀더 tv', '황헬린 탈출기',\n",
       "       '프롬수지 fromsuzy', 'fromsuzy 프롬수지'], dtype=object)"
      ]
     },
     "execution_count": 159,
     "metadata": {},
     "output_type": "execute_result"
    }
   ],
   "source": [
    "# 계속 증가\n",
    "increase_user_id = result_df_final[result_df_final['predict'] > 0][(result_df_final[result_df_final['predict'] > 0]['1_month_future_predict'] < result_df_final[result_df_final['predict'] > 0]['3_month_future_predict']) & \n",
    "                                                                   (result_df_final[result_df_final['predict'] > 0]['3_month_future_predict'] < result_df_final[result_df_final['predict'] > 0]['6_month_future_predict']) & \n",
    "                                                                   (result_df_final[result_df_final['predict'] > 0]['6_month_future_predict'] < result_df_final[result_df_final['predict'] > 0]['12_month_future_predict'])]['youtube_user_id']\n",
    "result_df[result_df['youtube_user_id'].isin(increase_user_id)]['channel_title'].unique()"
   ]
  },
  {
   "cell_type": "code",
   "execution_count": 163,
   "metadata": {},
   "outputs": [
    {
     "data": {
      "text/plain": [
       "array([], dtype=object)"
      ]
     },
     "execution_count": 163,
     "metadata": {},
     "output_type": "execute_result"
    }
   ],
   "source": [
    "# 계속 감소\n",
    "decrease_user_id = result_df_final[result_df_final['predict'] > 0][(result_df_final[result_df_final['predict'] > 0]['1_month_future_predict'] > result_df_final[result_df_final['predict'] > 0]['3_month_future_predict']) & \n",
    "                                                                   (result_df_final[result_df_final['predict'] > 0]['3_month_future_predict'] > result_df_final[result_df_final['predict'] > 0]['6_month_future_predict']) & \n",
    "                                                                   (result_df_final[result_df_final['predict'] > 0]['6_month_future_predict'] > result_df_final[result_df_final['predict'] > 0]['12_month_future_predict'])]['youtube_user_id']\n",
    "result_df[result_df['youtube_user_id'].isin(decrease_user_id)]['channel_title'].unique()"
   ]
  },
  {
   "cell_type": "code",
   "execution_count": 161,
   "metadata": {},
   "outputs": [
    {
     "data": {
      "text/plain": [
       "array(['낭만아저씨코디TV', '0', '오디디 코미디', '모하지연 MOHAJIYEON', '콜드쉽 Coldsheep',\n",
       "       '팀브라더스', '맛집남자 foodman', '-mentalholder 멘탈홀더 tv', '황헬린 탈출기',\n",
       "       '프롬수지 fromsuzy', 'fromsuzy 프롬수지'], dtype=object)"
      ]
     },
     "execution_count": 161,
     "metadata": {},
     "output_type": "execute_result"
    }
   ],
   "source": [
    "result_df[result_df['youtube_user_id'].isin(increase_user_id)]['channel_title'].unique()"
   ]
  },
  {
   "cell_type": "markdown",
   "metadata": {},
   "source": [
    "## 콘텐츠 데이터 분석"
   ]
  },
  {
   "cell_type": "markdown",
   "metadata": {},
   "source": [
    "### 데이터 분할\n",
    "- 미래를 예측하기 위한 모델이므로 시간순으로 데이터 분할\n",
    "- 시작날짜 : 2023-03-26\n",
    "- 종료날짜 : 2024-05-06\n",
    "- 전체 기간의 80% 날짜 : 2024-02-11"
   ]
  },
  {
   "cell_type": "code",
   "execution_count": 14,
   "metadata": {},
   "outputs": [
    {
     "data": {
      "text/plain": [
       "Index(['youtube_user_id', 'video', 'end_date', 'quarterly_avg_view_percentage',\n",
       "       'playlist_removal_rate', 'ad_revenue_rate',\n",
       "       'weekly_avg_view_percentage', 'playback_rate', 'dislikes', 'views',\n",
       "       'comment_rate', 'quarterly_avg_view_duration',\n",
       "       'weekly_total_engagement', 'playlist_addition_rate',\n",
       "       'positive_engage_rate', 'share_rate', 'estimatedRedPartnerRevenue',\n",
       "       'weekly_watch_time', 'monthly_total_engagement',\n",
       "       'watch_time_loss_per_playlist_remove', 'monthly_watch_time',\n",
       "       'quarterly_estimated_revenue', 'subscribers_lost_per_playlist_remove',\n",
       "       'subscribers_gained_per_playlist_add', 'averageViewDuration',\n",
       "       'monthly_playlist_change_rate', 'shares', 'weekly_playlist_change_rate',\n",
       "       'weekly_engagement_rate', 'dislike_rate', 'videosRemovedFromPlaylists',\n",
       "       'redViews', 'averageViewPercentage', 'weekly_videos_removed',\n",
       "       'monthly_views', 'subscribers_conversion_rate',\n",
       "       'estimatedMinutesWatched', 'like_rate', 'videosAddedToPlaylists',\n",
       "       'likes', 'weekly_estimated_ad_revenue', 'net_playlist_addition_rate',\n",
       "       'monthly_videos_removed', 'estimatedRedMinutesWatched',\n",
       "       'quarterly_revenue_per_ad_impression', 'monthly_avg_view_duration',\n",
       "       'watch_time_per_playlist_add', 'monthly_videos_added',\n",
       "       'quarterly_ad_impressions', 'like_to_dislike_ratio',\n",
       "       'watched_view_rate', 'quarterly_playlist_change_rate', 'cpm',\n",
       "       'comments', 'weekly_videos_added', 'quarterly_views', 'weekly_views',\n",
       "       'monthly_avg_view_percentage', 'avg_view_duration_rate',\n",
       "       'adImpressions', 'total_engage_rate', 'net_subscribers_change'],\n",
       "      dtype='object')"
      ]
     },
     "execution_count": 14,
     "metadata": {},
     "output_type": "execute_result"
    }
   ],
   "source": [
    "youtube_videos.columns"
   ]
  },
  {
   "cell_type": "code",
   "execution_count": 4,
   "metadata": {},
   "outputs": [],
   "source": [
    "# 컬럼 정리\n",
    "unique_col = youtube_videos.columns[:3]\n",
    "x_col = youtube_videos.columns[3:].drop(['net_subscribers_change']) ## y값 제거"
   ]
  },
  {
   "cell_type": "code",
   "execution_count": 5,
   "metadata": {},
   "outputs": [],
   "source": [
    "# 데이터 분할\n",
    "train_data = youtube_videos[youtube_videos['end_date'] <= '2024-02-11']\n",
    "test_data = youtube_videos[youtube_videos['end_date'] > '2024-02-11']"
   ]
  },
  {
   "cell_type": "code",
   "execution_count": 6,
   "metadata": {},
   "outputs": [
    {
     "name": "stdout",
     "output_type": "stream",
     "text": [
      "(6538190, 62)\n",
      "(2031321, 62)\n"
     ]
    }
   ],
   "source": [
    "# 불균형 확인\n",
    "print(train_data.shape)\n",
    "print(test_data.shape)"
   ]
  },
  {
   "cell_type": "markdown",
   "metadata": {},
   "source": [
    "### 모델 기법 적용"
   ]
  },
  {
   "cell_type": "code",
   "execution_count": 7,
   "metadata": {},
   "outputs": [],
   "source": [
    "# 각 모델 정의\n",
    "rf_model = RandomForestRegressor(random_state=42)\n",
    "gbm_model = GradientBoostingRegressor(random_state=42)\n",
    "lgbm_model = LGBMRegressor(random_state=42)\n",
    "xgb_model = xgb.XGBRegressor(random_state=42)\n",
    "\n",
    "# 모델 리스트\n",
    "models = {\n",
    "    'RandomForest': rf_model,\n",
    "    'GBM': gbm_model,\n",
    "    'LightGBM': lgbm_model,\n",
    "    'XGBoost': xgb_model\n",
    "}"
   ]
  },
  {
   "cell_type": "markdown",
   "metadata": {},
   "source": [
    "### 모델 성능 평가"
   ]
  },
  {
   "cell_type": "markdown",
   "metadata": {},
   "source": [
    "XGBoost"
   ]
  },
  {
   "cell_type": "code",
   "execution_count": 9,
   "metadata": {},
   "outputs": [
    {
     "name": "stdout",
     "output_type": "stream",
     "text": [
      "XGBoost\n",
      "R² 값: 0.7614\n",
      "MSE: 162.7376\n",
      "RMSE: 12.7569\n",
      "----------------------------------------\n",
      "\n"
     ]
    }
   ],
   "source": [
    "from sklearn.ensemble import RandomForestRegressor\n",
    "from sklearn.metrics import mean_squared_error, r2_score\n",
    "import numpy as np\n",
    "\n",
    "# 모델 정의 및 학습\n",
    "models['XGBoost'].fit(train_data[x_col], train_data['net_subscribers_change'])\n",
    "\n",
    "# 예측\n",
    "y_pred = models['XGBoost'].predict(test_data[x_col])\n",
    "\n",
    "# MSE 계산\n",
    "mse = mean_squared_error(test_data['net_subscribers_change'], y_pred)\n",
    "\n",
    "# RMSE 계산\n",
    "rmse = np.sqrt(mse)\n",
    "\n",
    "# R² 값 계산\n",
    "r2 = r2_score(test_data['net_subscribers_change'], y_pred)\n",
    "\n",
    "# 결과 출력\n",
    "print('XGBoost')\n",
    "print(f\"R² 값: {r2:.4f}\")\n",
    "print(f\"MSE: {mse:.4f}\")\n",
    "print(f\"RMSE: {rmse:.4f}\")\n",
    "print(\"----------------------------------------\")\n",
    "print(\"\")"
   ]
  },
  {
   "cell_type": "code",
   "execution_count": 20,
   "metadata": {},
   "outputs": [],
   "source": [
    "from sklearn.ensemble import RandomForestRegressor\n",
    "from sklearn.metrics import mean_squared_error, r2_score\n",
    "import numpy as np\n",
    "\n",
    "for model in models:\n",
    "    # 모델 정의 및 학습\n",
    "    models[model].fit(train_data[x_col], train_data['net_subscribers_change'])\n",
    "\n",
    "    # 예측\n",
    "    y_pred = models[model].predict(test_data[x_col])\n",
    "\n",
    "    # MSE 계산\n",
    "    mse = mean_squared_error(test_data['net_subscribers_change'], y_pred)\n",
    "\n",
    "    # RMSE 계산\n",
    "    rmse = np.sqrt(mse)\n",
    "\n",
    "    # R² 값 계산\n",
    "    r2 = r2_score(test_data['net_subscribers_change'], y_pred)\n",
    "\n",
    "    # 결과 출력\n",
    "    print(model)\n",
    "    print(f\"R² 값: {r2:.4f}\")\n",
    "    print(f\"MSE: {mse:.4f}\")\n",
    "    print(f\"RMSE: {rmse:.4f}\")\n",
    "    print(\"----------------------------------------\")\n",
    "    print(\"\")"
   ]
  },
  {
   "cell_type": "code",
   "execution_count": null,
   "metadata": {},
   "outputs": [],
   "source": [
    "# # 비선형모델 활용 변수 선정\n",
    "# importances_df = pd.DataFrame({\n",
    "#     'features': x_col,\n",
    "#     'rf_importance': models['RandomForest'].feature_importances_,\n",
    "#     'gbm_importance': models['GBM'].feature_importances_,\n",
    "#     'lgbm_importance': models['LightGBM'].feature_importances_,\n",
    "#     'xgb_importance': models['XGBoost'].feature_importances_    \n",
    "# })\n",
    "# importances_df['lgbm_importance'] = importances_df['lgbm_importance'] / importances_df['lgbm_importance'].sum() ## 다른 모델과 중요도 단위 다르기 때문에 정규화\n",
    "# importances_df['mean_importance'] = importances_df[['rf_importance', 'gbm_importance', 'lgbm_importance', 'xgb_importance']].mean(axis=1) ## 각 변수별 모델 중요도 평균"
   ]
  },
  {
   "cell_type": "markdown",
   "metadata": {},
   "source": [
    "### 모델 성능 개선"
   ]
  },
  {
   "cell_type": "code",
   "execution_count": 10,
   "metadata": {},
   "outputs": [
    {
     "data": {
      "text/plain": [
       "Index(['quarterly_avg_view_percentage', 'playlist_removal_rate',\n",
       "       'ad_revenue_rate', 'weekly_avg_view_percentage', 'playback_rate',\n",
       "       'dislikes', 'views', 'comment_rate', 'quarterly_avg_view_duration',\n",
       "       'weekly_total_engagement', 'playlist_addition_rate',\n",
       "       'positive_engage_rate', 'share_rate', 'estimatedRedPartnerRevenue',\n",
       "       'weekly_watch_time', 'monthly_total_engagement',\n",
       "       'watch_time_loss_per_playlist_remove', 'monthly_watch_time',\n",
       "       'quarterly_estimated_revenue', 'subscribers_lost_per_playlist_remove',\n",
       "       'subscribers_gained_per_playlist_add', 'averageViewDuration',\n",
       "       'monthly_playlist_change_rate', 'shares', 'weekly_playlist_change_rate',\n",
       "       'weekly_engagement_rate', 'dislike_rate', 'videosRemovedFromPlaylists',\n",
       "       'redViews', 'averageViewPercentage', 'weekly_videos_removed',\n",
       "       'monthly_views', 'subscribers_conversion_rate',\n",
       "       'estimatedMinutesWatched', 'like_rate', 'videosAddedToPlaylists',\n",
       "       'likes', 'weekly_estimated_ad_revenue', 'net_playlist_addition_rate',\n",
       "       'monthly_videos_removed', 'estimatedRedMinutesWatched',\n",
       "       'quarterly_revenue_per_ad_impression', 'monthly_avg_view_duration',\n",
       "       'watch_time_per_playlist_add', 'monthly_videos_added',\n",
       "       'quarterly_ad_impressions', 'like_to_dislike_ratio',\n",
       "       'watched_view_rate', 'quarterly_playlist_change_rate', 'cpm',\n",
       "       'comments', 'weekly_videos_added', 'quarterly_views', 'weekly_views',\n",
       "       'monthly_avg_view_percentage', 'avg_view_duration_rate',\n",
       "       'adImpressions', 'total_engage_rate'],\n",
       "      dtype='object')"
      ]
     },
     "execution_count": 10,
     "metadata": {},
     "output_type": "execute_result"
    }
   ],
   "source": [
    "x_col"
   ]
  },
  {
   "cell_type": "markdown",
   "metadata": {},
   "source": [
    "스태킹"
   ]
  },
  {
   "cell_type": "code",
   "execution_count": null,
   "metadata": {},
   "outputs": [
    {
     "name": "stdout",
     "output_type": "stream",
     "text": [
      "스태킹 앙상블 모델 R2: 0.9661\n",
      "스태킹 앙상블 모델 MSE: 1998305072.9542\n",
      "스태킹 앙상블 모델 RMSE: 44702.4057\n"
     ]
    },
    {
     "name": "stderr",
     "output_type": "stream",
     "text": [
      "c:\\Users\\kkims\\anaconda3\\envs\\awake\\lib\\site-packages\\sklearn\\metrics\\_regression.py:492: FutureWarning: 'squared' is deprecated in version 1.4 and will be removed in 1.6. To calculate the root mean squared error, use the function'root_mean_squared_error'.\n",
      "  warnings.warn(\n"
     ]
    }
   ],
   "source": [
    "from sklearn.ensemble import StackingRegressor\n",
    "from sklearn.linear_model import Ridge\n",
    "\n",
    "# 스태킹 모델 정의\n",
    "stacking_model = StackingRegressor(\n",
    "    estimators=[\n",
    "    ('random_forest', models['RandomForest']),\n",
    "    # ('gbm', models['GBM']),\n",
    "    # ('lightgbm', models['LightGBM']),\n",
    "    ('xgboost', models['XGBoost'])\n",
    "    ],\n",
    "    final_estimator=Ridge()\n",
    ")\n",
    "\n",
    "# 스태킹 모델 학습\n",
    "stacking_model.fit(train_data[x_col], train_data['subscribers_count'])\n",
    "\n",
    "# 예측\n",
    "y_pred = stacking_model.predict(test_data[x_col])\n",
    "\n",
    "# 성능 평가\n",
    "# R² 값 계산\n",
    "r2 = r2_score(test_data['subscribers_count'], y_pred)\n",
    "\n",
    "# MSE 계산\n",
    "mse = mean_squared_error(test_data['subscribers_count'], y_pred)\n",
    "\n",
    "# RMSE 계산\n",
    "rmse = mean_squared_error(test_data['subscribers_count'], y_pred, squared=False)\n",
    "\n",
    "print(f\"스태킹 앙상블 모델 R2: {r2:.4f}\")\n",
    "print(f\"스태킹 앙상블 모델 MSE: {mse:.4f}\")\n",
    "print(f\"스태킹 앙상블 모델 RMSE: {rmse:.4f}\")"
   ]
  },
  {
   "cell_type": "markdown",
   "metadata": {},
   "source": [
    "### 실제데이터 결과 확인"
   ]
  },
  {
   "cell_type": "code",
   "execution_count": 11,
   "metadata": {},
   "outputs": [],
   "source": [
    "# 예측 결과 확인\n",
    "# y_pred = stacking_model.predict(merge_df_users_fin[x_col])\n",
    "# merge_df_users_fin['predict'] = y_pred\n",
    "\n",
    "y_pred = models['XGBoost'].predict(youtube_videos[x_col])\n",
    "youtube_videos['predict'] = y_pred"
   ]
  },
  {
   "cell_type": "code",
   "execution_count": 47,
   "metadata": {},
   "outputs": [
    {
     "name": "stderr",
     "output_type": "stream",
     "text": [
      "C:\\Users\\kkims\\AppData\\Local\\Temp\\ipykernel_35480\\2229153722.py:5: SettingWithCopyWarning: \n",
      "A value is trying to be set on a copy of a slice from a DataFrame.\n",
      "Try using .loc[row_indexer,col_indexer] = value instead\n",
      "\n",
      "See the caveats in the documentation: https://pandas.pydata.org/pandas-docs/stable/user_guide/indexing.html#returning-a-view-versus-a-copy\n",
      "  result_df['end_date'] = pd.to_datetime(result_df['end_date'])\n",
      "C:\\Users\\kkims\\AppData\\Local\\Temp\\ipykernel_35480\\2229153722.py:7: SettingWithCopyWarning: \n",
      "A value is trying to be set on a copy of a slice from a DataFrame.\n",
      "Try using .loc[row_indexer,col_indexer] = value instead\n",
      "\n",
      "See the caveats in the documentation: https://pandas.pydata.org/pandas-docs/stable/user_guide/indexing.html#returning-a-view-versus-a-copy\n",
      "  result_df['1_month_future_predict'] = result_df.groupby('youtube_user_id')['predict'].shift(-30).rolling(window=30).sum()\n",
      "C:\\Users\\kkims\\AppData\\Local\\Temp\\ipykernel_35480\\2229153722.py:8: SettingWithCopyWarning: \n",
      "A value is trying to be set on a copy of a slice from a DataFrame.\n",
      "Try using .loc[row_indexer,col_indexer] = value instead\n",
      "\n",
      "See the caveats in the documentation: https://pandas.pydata.org/pandas-docs/stable/user_guide/indexing.html#returning-a-view-versus-a-copy\n",
      "  result_df['3_month_future_predict'] = result_df.groupby('youtube_user_id')['predict'].shift(-90).rolling(window=90).sum()\n",
      "C:\\Users\\kkims\\AppData\\Local\\Temp\\ipykernel_35480\\2229153722.py:9: SettingWithCopyWarning: \n",
      "A value is trying to be set on a copy of a slice from a DataFrame.\n",
      "Try using .loc[row_indexer,col_indexer] = value instead\n",
      "\n",
      "See the caveats in the documentation: https://pandas.pydata.org/pandas-docs/stable/user_guide/indexing.html#returning-a-view-versus-a-copy\n",
      "  result_df['6_month_future_predict'] = result_df.groupby('youtube_user_id')['predict'].shift(-180).rolling(window=180).sum()\n",
      "C:\\Users\\kkims\\AppData\\Local\\Temp\\ipykernel_35480\\2229153722.py:10: SettingWithCopyWarning: \n",
      "A value is trying to be set on a copy of a slice from a DataFrame.\n",
      "Try using .loc[row_indexer,col_indexer] = value instead\n",
      "\n",
      "See the caveats in the documentation: https://pandas.pydata.org/pandas-docs/stable/user_guide/indexing.html#returning-a-view-versus-a-copy\n",
      "  result_df['12_month_future_predict'] = result_df.groupby('youtube_user_id')['predict'].shift(-365).rolling(window=365).sum()\n"
     ]
    }
   ],
   "source": [
    "# 계정별 구독자수 평균, 구독자 예측수 평균 비교\n",
    "result_df = youtube_videos[['youtube_user_id', 'video', 'end_date','net_subscribers_change','predict']]\n",
    "\n",
    "# 1개월, 3개월, 6개월, 1년 뒤 구독자수 예측값\n",
    "result_df['end_date'] = pd.to_datetime(result_df['end_date']) \n",
    "\n",
    "result_df['1_month_future_predict'] = result_df.groupby('youtube_user_id')['predict'].shift(-30).rolling(window=30).sum()\n",
    "result_df['3_month_future_predict'] = result_df.groupby('youtube_user_id')['predict'].shift(-90).rolling(window=90).sum()\n",
    "result_df['6_month_future_predict'] = result_df.groupby('youtube_user_id')['predict'].shift(-180).rolling(window=180).sum()\n",
    "result_df['12_month_future_predict'] = result_df.groupby('youtube_user_id')['predict'].shift(-365).rolling(window=365).sum()\n",
    "\n",
    "result_df_final = result_df.groupby('youtube_user_id')[['net_subscribers_change','predict','1_month_future_predict','3_month_future_predict','6_month_future_predict','12_month_future_predict']].mean().reset_index()\n",
    "\n",
    "# # 계정별 기간에 따른 구독자수 예측값 비교\n",
    "# result_df_final = result_df.groupby('youtube_user_id').agg({\n",
    "#     'net_subscribers_change': 'sum',\n",
    "#     'predict': 'sum',\n",
    "#     '1_month_future_predict': 'mean',\n",
    "#     '3_month_future_predict': 'mean',\n",
    "#     '6_month_future_predict': 'mean',\n",
    "#     '12_month_future_predict': 'mean'\n",
    "# }).reset_index()"
   ]
  },
  {
   "cell_type": "code",
   "execution_count": 48,
   "metadata": {},
   "outputs": [
    {
     "data": {
      "text/html": [
       "<div>\n",
       "<style scoped>\n",
       "    .dataframe tbody tr th:only-of-type {\n",
       "        vertical-align: middle;\n",
       "    }\n",
       "\n",
       "    .dataframe tbody tr th {\n",
       "        vertical-align: top;\n",
       "    }\n",
       "\n",
       "    .dataframe thead th {\n",
       "        text-align: right;\n",
       "    }\n",
       "</style>\n",
       "<table border=\"1\" class=\"dataframe\">\n",
       "  <thead>\n",
       "    <tr style=\"text-align: right;\">\n",
       "      <th></th>\n",
       "      <th>youtube_user_id</th>\n",
       "      <th>net_subscribers_change</th>\n",
       "      <th>predict</th>\n",
       "      <th>1_month_future_predict</th>\n",
       "      <th>3_month_future_predict</th>\n",
       "      <th>6_month_future_predict</th>\n",
       "      <th>12_month_future_predict</th>\n",
       "    </tr>\n",
       "  </thead>\n",
       "  <tbody>\n",
       "    <tr>\n",
       "      <th>0</th>\n",
       "      <td>627cb611aa6f212355e0b617</td>\n",
       "      <td>0.379747</td>\n",
       "      <td>0.382552</td>\n",
       "      <td>12.385390</td>\n",
       "      <td>116.729057</td>\n",
       "      <td>129.459735</td>\n",
       "      <td>291.270128</td>\n",
       "    </tr>\n",
       "    <tr>\n",
       "      <th>1</th>\n",
       "      <td>627f59ccaa39226247c60b01</td>\n",
       "      <td>0.004092</td>\n",
       "      <td>0.003064</td>\n",
       "      <td>7.216854</td>\n",
       "      <td>28.098924</td>\n",
       "      <td>38.695281</td>\n",
       "      <td>100.541398</td>\n",
       "    </tr>\n",
       "    <tr>\n",
       "      <th>2</th>\n",
       "      <td>6287228afb15712a8cb931d7</td>\n",
       "      <td>0.062367</td>\n",
       "      <td>0.064970</td>\n",
       "      <td>2.104034</td>\n",
       "      <td>19.590236</td>\n",
       "      <td>188.309656</td>\n",
       "      <td>99.094312</td>\n",
       "    </tr>\n",
       "    <tr>\n",
       "      <th>3</th>\n",
       "      <td>6287229efb15712a8cb93225</td>\n",
       "      <td>0.431036</td>\n",
       "      <td>0.447465</td>\n",
       "      <td>15.172724</td>\n",
       "      <td>46.000699</td>\n",
       "      <td>109.600360</td>\n",
       "      <td>290.532449</td>\n",
       "    </tr>\n",
       "    <tr>\n",
       "      <th>4</th>\n",
       "      <td>628722c8fb15712a8cb9326e</td>\n",
       "      <td>0.017652</td>\n",
       "      <td>0.017624</td>\n",
       "      <td>2.686011</td>\n",
       "      <td>10.595387</td>\n",
       "      <td>41.708335</td>\n",
       "      <td>89.416130</td>\n",
       "    </tr>\n",
       "    <tr>\n",
       "      <th>...</th>\n",
       "      <td>...</td>\n",
       "      <td>...</td>\n",
       "      <td>...</td>\n",
       "      <td>...</td>\n",
       "      <td>...</td>\n",
       "      <td>...</td>\n",
       "      <td>...</td>\n",
       "    </tr>\n",
       "    <tr>\n",
       "      <th>244</th>\n",
       "      <td>65cc401305bf1c0baa425146</td>\n",
       "      <td>26.399153</td>\n",
       "      <td>29.262514</td>\n",
       "      <td>699.265555</td>\n",
       "      <td>849.958527</td>\n",
       "      <td>1009.570118</td>\n",
       "      <td>1167.163210</td>\n",
       "    </tr>\n",
       "    <tr>\n",
       "      <th>245</th>\n",
       "      <td>65e7b773d8da110bb072e2b5</td>\n",
       "      <td>0.040671</td>\n",
       "      <td>0.035281</td>\n",
       "      <td>36.399463</td>\n",
       "      <td>86.325874</td>\n",
       "      <td>108.807077</td>\n",
       "      <td>160.637183</td>\n",
       "    </tr>\n",
       "    <tr>\n",
       "      <th>246</th>\n",
       "      <td>65f7b17ed8da110bb0733b7b</td>\n",
       "      <td>0.110803</td>\n",
       "      <td>0.110047</td>\n",
       "      <td>22.619763</td>\n",
       "      <td>41.335566</td>\n",
       "      <td>164.753147</td>\n",
       "      <td>346.371367</td>\n",
       "    </tr>\n",
       "    <tr>\n",
       "      <th>247</th>\n",
       "      <td>65fecf7ed8da110bb0736199</td>\n",
       "      <td>0.130583</td>\n",
       "      <td>0.128215</td>\n",
       "      <td>39.495797</td>\n",
       "      <td>120.498499</td>\n",
       "      <td>213.384922</td>\n",
       "      <td>407.093474</td>\n",
       "    </tr>\n",
       "    <tr>\n",
       "      <th>248</th>\n",
       "      <td>66230ee6d8da110bb0744b2d</td>\n",
       "      <td>0.764118</td>\n",
       "      <td>0.735218</td>\n",
       "      <td>53.908297</td>\n",
       "      <td>124.166062</td>\n",
       "      <td>121.797854</td>\n",
       "      <td>212.579355</td>\n",
       "    </tr>\n",
       "  </tbody>\n",
       "</table>\n",
       "<p>249 rows × 7 columns</p>\n",
       "</div>"
      ],
      "text/plain": [
       "              youtube_user_id  net_subscribers_change    predict  \\\n",
       "0    627cb611aa6f212355e0b617                0.379747   0.382552   \n",
       "1    627f59ccaa39226247c60b01                0.004092   0.003064   \n",
       "2    6287228afb15712a8cb931d7                0.062367   0.064970   \n",
       "3    6287229efb15712a8cb93225                0.431036   0.447465   \n",
       "4    628722c8fb15712a8cb9326e                0.017652   0.017624   \n",
       "..                        ...                     ...        ...   \n",
       "244  65cc401305bf1c0baa425146               26.399153  29.262514   \n",
       "245  65e7b773d8da110bb072e2b5                0.040671   0.035281   \n",
       "246  65f7b17ed8da110bb0733b7b                0.110803   0.110047   \n",
       "247  65fecf7ed8da110bb0736199                0.130583   0.128215   \n",
       "248  66230ee6d8da110bb0744b2d                0.764118   0.735218   \n",
       "\n",
       "     1_month_future_predict  3_month_future_predict  6_month_future_predict  \\\n",
       "0                 12.385390              116.729057              129.459735   \n",
       "1                  7.216854               28.098924               38.695281   \n",
       "2                  2.104034               19.590236              188.309656   \n",
       "3                 15.172724               46.000699              109.600360   \n",
       "4                  2.686011               10.595387               41.708335   \n",
       "..                      ...                     ...                     ...   \n",
       "244              699.265555              849.958527             1009.570118   \n",
       "245               36.399463               86.325874              108.807077   \n",
       "246               22.619763               41.335566              164.753147   \n",
       "247               39.495797              120.498499              213.384922   \n",
       "248               53.908297              124.166062              121.797854   \n",
       "\n",
       "     12_month_future_predict  \n",
       "0                 291.270128  \n",
       "1                 100.541398  \n",
       "2                  99.094312  \n",
       "3                 290.532449  \n",
       "4                  89.416130  \n",
       "..                       ...  \n",
       "244              1167.163210  \n",
       "245               160.637183  \n",
       "246               346.371367  \n",
       "247               407.093474  \n",
       "248               212.579355  \n",
       "\n",
       "[249 rows x 7 columns]"
      ]
     },
     "execution_count": 48,
     "metadata": {},
     "output_type": "execute_result"
    }
   ],
   "source": [
    "result_df_final"
   ]
  },
  {
   "cell_type": "code",
   "execution_count": 38,
   "metadata": {},
   "outputs": [
    {
     "data": {
      "text/html": [
       "<div>\n",
       "<style scoped>\n",
       "    .dataframe tbody tr th:only-of-type {\n",
       "        vertical-align: middle;\n",
       "    }\n",
       "\n",
       "    .dataframe tbody tr th {\n",
       "        vertical-align: top;\n",
       "    }\n",
       "\n",
       "    .dataframe thead th {\n",
       "        text-align: right;\n",
       "    }\n",
       "</style>\n",
       "<table border=\"1\" class=\"dataframe\">\n",
       "  <thead>\n",
       "    <tr style=\"text-align: right;\">\n",
       "      <th></th>\n",
       "      <th>youtube_user_id</th>\n",
       "      <th>net_subscribers_change</th>\n",
       "      <th>predict</th>\n",
       "      <th>1_month_future_predict</th>\n",
       "      <th>3_month_future_predict</th>\n",
       "      <th>6_month_future_predict</th>\n",
       "      <th>12_month_future_predict</th>\n",
       "    </tr>\n",
       "  </thead>\n",
       "  <tbody>\n",
       "    <tr>\n",
       "      <th>0</th>\n",
       "      <td>627cb611aa6f212355e0b617</td>\n",
       "      <td>5850</td>\n",
       "      <td>5893.210938</td>\n",
       "      <td>0.412846</td>\n",
       "      <td>1.296990</td>\n",
       "      <td>0.719221</td>\n",
       "      <td>0.798000</td>\n",
       "    </tr>\n",
       "    <tr>\n",
       "      <th>1</th>\n",
       "      <td>627f59ccaa39226247c60b01</td>\n",
       "      <td>35</td>\n",
       "      <td>26.211802</td>\n",
       "      <td>0.240562</td>\n",
       "      <td>0.312210</td>\n",
       "      <td>0.214974</td>\n",
       "      <td>0.275456</td>\n",
       "    </tr>\n",
       "    <tr>\n",
       "      <th>2</th>\n",
       "      <td>6287228afb15712a8cb931d7</td>\n",
       "      <td>323</td>\n",
       "      <td>336.477325</td>\n",
       "      <td>0.070134</td>\n",
       "      <td>0.217669</td>\n",
       "      <td>1.046165</td>\n",
       "      <td>0.271491</td>\n",
       "    </tr>\n",
       "    <tr>\n",
       "      <th>3</th>\n",
       "      <td>6287229efb15712a8cb93225</td>\n",
       "      <td>34473</td>\n",
       "      <td>35786.925781</td>\n",
       "      <td>0.505757</td>\n",
       "      <td>0.511119</td>\n",
       "      <td>0.608891</td>\n",
       "      <td>0.795979</td>\n",
       "    </tr>\n",
       "    <tr>\n",
       "      <th>4</th>\n",
       "      <td>628722c8fb15712a8cb9326e</td>\n",
       "      <td>614</td>\n",
       "      <td>613.027466</td>\n",
       "      <td>0.089534</td>\n",
       "      <td>0.117727</td>\n",
       "      <td>0.231713</td>\n",
       "      <td>0.244976</td>\n",
       "    </tr>\n",
       "    <tr>\n",
       "      <th>...</th>\n",
       "      <td>...</td>\n",
       "      <td>...</td>\n",
       "      <td>...</td>\n",
       "      <td>...</td>\n",
       "      <td>...</td>\n",
       "      <td>...</td>\n",
       "      <td>...</td>\n",
       "    </tr>\n",
       "    <tr>\n",
       "      <th>244</th>\n",
       "      <td>65cc401305bf1c0baa425146</td>\n",
       "      <td>317793</td>\n",
       "      <td>352262.156250</td>\n",
       "      <td>23.308852</td>\n",
       "      <td>9.443984</td>\n",
       "      <td>5.608723</td>\n",
       "      <td>3.197707</td>\n",
       "    </tr>\n",
       "    <tr>\n",
       "      <th>245</th>\n",
       "      <td>65e7b773d8da110bb072e2b5</td>\n",
       "      <td>252</td>\n",
       "      <td>218.602585</td>\n",
       "      <td>1.213315</td>\n",
       "      <td>0.959176</td>\n",
       "      <td>0.604484</td>\n",
       "      <td>0.440102</td>\n",
       "    </tr>\n",
       "    <tr>\n",
       "      <th>246</th>\n",
       "      <td>65f7b17ed8da110bb0733b7b</td>\n",
       "      <td>280</td>\n",
       "      <td>278.088257</td>\n",
       "      <td>0.753992</td>\n",
       "      <td>0.459284</td>\n",
       "      <td>0.915295</td>\n",
       "      <td>0.948963</td>\n",
       "    </tr>\n",
       "    <tr>\n",
       "      <th>247</th>\n",
       "      <td>65fecf7ed8da110bb0736199</td>\n",
       "      <td>1149</td>\n",
       "      <td>1128.165894</td>\n",
       "      <td>1.316527</td>\n",
       "      <td>1.338872</td>\n",
       "      <td>1.185472</td>\n",
       "      <td>1.115325</td>\n",
       "    </tr>\n",
       "    <tr>\n",
       "      <th>248</th>\n",
       "      <td>66230ee6d8da110bb0744b2d</td>\n",
       "      <td>2598</td>\n",
       "      <td>2499.741211</td>\n",
       "      <td>1.796943</td>\n",
       "      <td>1.379623</td>\n",
       "      <td>0.676655</td>\n",
       "      <td>0.582409</td>\n",
       "    </tr>\n",
       "  </tbody>\n",
       "</table>\n",
       "<p>249 rows × 7 columns</p>\n",
       "</div>"
      ],
      "text/plain": [
       "              youtube_user_id  net_subscribers_change        predict  \\\n",
       "0    627cb611aa6f212355e0b617                    5850    5893.210938   \n",
       "1    627f59ccaa39226247c60b01                      35      26.211802   \n",
       "2    6287228afb15712a8cb931d7                     323     336.477325   \n",
       "3    6287229efb15712a8cb93225                   34473   35786.925781   \n",
       "4    628722c8fb15712a8cb9326e                     614     613.027466   \n",
       "..                        ...                     ...            ...   \n",
       "244  65cc401305bf1c0baa425146                  317793  352262.156250   \n",
       "245  65e7b773d8da110bb072e2b5                     252     218.602585   \n",
       "246  65f7b17ed8da110bb0733b7b                     280     278.088257   \n",
       "247  65fecf7ed8da110bb0736199                    1149    1128.165894   \n",
       "248  66230ee6d8da110bb0744b2d                    2598    2499.741211   \n",
       "\n",
       "     1_month_future_predict  3_month_future_predict  6_month_future_predict  \\\n",
       "0                  0.412846                1.296990                0.719221   \n",
       "1                  0.240562                0.312210                0.214974   \n",
       "2                  0.070134                0.217669                1.046165   \n",
       "3                  0.505757                0.511119                0.608891   \n",
       "4                  0.089534                0.117727                0.231713   \n",
       "..                      ...                     ...                     ...   \n",
       "244               23.308852                9.443984                5.608723   \n",
       "245                1.213315                0.959176                0.604484   \n",
       "246                0.753992                0.459284                0.915295   \n",
       "247                1.316527                1.338872                1.185472   \n",
       "248                1.796943                1.379623                0.676655   \n",
       "\n",
       "     12_month_future_predict  \n",
       "0                   0.798000  \n",
       "1                   0.275456  \n",
       "2                   0.271491  \n",
       "3                   0.795979  \n",
       "4                   0.244976  \n",
       "..                       ...  \n",
       "244                 3.197707  \n",
       "245                 0.440102  \n",
       "246                 0.948963  \n",
       "247                 1.115325  \n",
       "248                 0.582409  \n",
       "\n",
       "[249 rows x 7 columns]"
      ]
     },
     "execution_count": 38,
     "metadata": {},
     "output_type": "execute_result"
    }
   ],
   "source": [
    "result_df_final"
   ]
  },
  {
   "cell_type": "code",
   "execution_count": null,
   "metadata": {},
   "outputs": [],
   "source": [
    "# 기간 따른 예측 결과\n",
    "# 1개월\n",
    "result_1_month_plus_user_id = result_df_final[result_df_final['predict'] > 0][result_df_final[result_df_final['predict'] > 0]['subscribers_count'] < result_df_final[result_df_final['predict'] > 0]['1_month_future_predict']]['youtube_user_id']\n",
    "result_1_month_minus_user_id = result_df_final[result_df_final['predict'] > 0][result_df_final[result_df_final['predict'] > 0]['subscribers_count'] > result_df_final[result_df_final['predict'] > 0]['1_month_future_predict']]['youtube_user_id']\n",
    "\n",
    "# 3개월\n",
    "result_3_month_plus_user_id = result_df_final[result_df_final['predict'] > 0][result_df_final[result_df_final['predict'] > 0]['subscribers_count'] < result_df_final[result_df_final['predict'] > 0]['3_month_future_predict']]['youtube_user_id']\n",
    "result_3_month_minus_user_id = result_df_final[result_df_final['predict'] > 0][result_df_final[result_df_final['predict'] > 0]['subscribers_count'] > result_df_final[result_df_final['predict'] > 0]['3_month_future_predict']]['youtube_user_id']\n",
    "\n",
    "# 6개월\n",
    "result_6_month_plus_user_id = result_df_final[result_df_final['predict'] > 0][result_df_final[result_df_final['predict'] > 0]['subscribers_count'] < result_df_final[result_df_final['predict'] > 0]['6_month_future_predict']]['youtube_user_id']\n",
    "result_6_month_minus_user_id = result_df_final[result_df_final['predict'] > 0][result_df_final[result_df_final['predict'] > 0]['subscribers_count'] > result_df_final[result_df_final['predict'] > 0]['6_month_future_predict']]['youtube_user_id']\n",
    "\n",
    "# 12개월\n",
    "result_12_month_plus_user_id = result_df_final[result_df_final['predict'] > 0][result_df_final[result_df_final['predict'] > 0]['subscribers_count'] < result_df_final[result_df_final['predict'] > 0]['12_month_future_predict']]['youtube_user_id']\n",
    "result_12_month_minus_user_id = result_df_final[result_df_final['predict'] > 0][result_df_final[result_df_final['predict'] > 0]['subscribers_count'] > result_df_final[result_df_final['predict'] > 0]['12_month_future_predict']]['youtube_user_id']"
   ]
  },
  {
   "cell_type": "code",
   "execution_count": null,
   "metadata": {},
   "outputs": [
    {
     "name": "stdout",
     "output_type": "stream",
     "text": [
      "7\n",
      "['유익한 균튜버' '0' '모하지연 MOHAJIYEON' '-mentalholder 멘탈홀더 tv' '지미 geemi.'\n",
      " '프롬수지 fromsuzy' 'fromsuzy 프롬수지']\n"
     ]
    }
   ],
   "source": [
    "print(len(result_df[result_df['youtube_user_id'].isin(result_12_month_minus_user_id)]['channel_title'].unique()))\n",
    "print(result_df[result_df['youtube_user_id'].isin(result_12_month_minus_user_id)]['channel_title'].unique())"
   ]
  },
  {
   "cell_type": "code",
   "execution_count": null,
   "metadata": {},
   "outputs": [
    {
     "data": {
      "text/plain": [
       "array(['낭만아저씨코디TV', '0', '오디디 코미디', '모하지연 MOHAJIYEON', '콜드쉽 Coldsheep',\n",
       "       '팀브라더스', '맛집남자 foodman', '-mentalholder 멘탈홀더 tv', '황헬린 탈출기',\n",
       "       '프롬수지 fromsuzy', 'fromsuzy 프롬수지'], dtype=object)"
      ]
     },
     "metadata": {},
     "output_type": "display_data"
    }
   ],
   "source": [
    "# 계속 증가\n",
    "increase_user_id = result_df_final[result_df_final['predict'] > 0][(result_df_final[result_df_final['predict'] > 0]['1_month_future_predict'] < result_df_final[result_df_final['predict'] > 0]['3_month_future_predict']) & \n",
    "                                                                   (result_df_final[result_df_final['predict'] > 0]['3_month_future_predict'] < result_df_final[result_df_final['predict'] > 0]['6_month_future_predict']) & \n",
    "                                                                   (result_df_final[result_df_final['predict'] > 0]['6_month_future_predict'] < result_df_final[result_df_final['predict'] > 0]['12_month_future_predict'])]['youtube_user_id']\n",
    "result_df[result_df['youtube_user_id'].isin(increase_user_id)]['channel_title'].unique()"
   ]
  },
  {
   "cell_type": "code",
   "execution_count": null,
   "metadata": {},
   "outputs": [
    {
     "data": {
      "text/plain": [
       "array([], dtype=object)"
      ]
     },
     "metadata": {},
     "output_type": "display_data"
    }
   ],
   "source": [
    "# 계속 감소\n",
    "decrease_user_id = result_df_final[result_df_final['predict'] > 0][(result_df_final[result_df_final['predict'] > 0]['1_month_future_predict'] > result_df_final[result_df_final['predict'] > 0]['3_month_future_predict']) & \n",
    "                                                                   (result_df_final[result_df_final['predict'] > 0]['3_month_future_predict'] > result_df_final[result_df_final['predict'] > 0]['6_month_future_predict']) & \n",
    "                                                                   (result_df_final[result_df_final['predict'] > 0]['6_month_future_predict'] > result_df_final[result_df_final['predict'] > 0]['12_month_future_predict'])]['youtube_user_id']\n",
    "result_df[result_df['youtube_user_id'].isin(decrease_user_id)]['channel_title'].unique()"
   ]
  }
 ],
 "metadata": {
  "kernelspec": {
   "display_name": "awake_venv",
   "language": "python",
   "name": "python3"
  },
  "language_info": {
   "codemirror_mode": {
    "name": "ipython",
    "version": 3
   },
   "file_extension": ".py",
   "mimetype": "text/x-python",
   "name": "python",
   "nbconvert_exporter": "python",
   "pygments_lexer": "ipython3",
   "version": "3.10.14"
  }
 },
 "nbformat": 4,
 "nbformat_minor": 2
}
