{
 "cells": [
  {
   "cell_type": "code",
   "execution_count": 1,
   "metadata": {},
   "outputs": [
    {
     "name": "stderr",
     "output_type": "stream",
     "text": [
      "c:\\Users\\kwan\\AppData\\Local\\anaconda3\\envs\\awake_venv\\lib\\site-packages\\dask\\dataframe\\__init__.py:42: FutureWarning: \n",
      "Dask dataframe query planning is disabled because dask-expr is not installed.\n",
      "\n",
      "You can install it with `pip install dask[dataframe]` or `conda install dask`.\n",
      "This will raise in a future version.\n",
      "\n",
      "  warnings.warn(msg, FutureWarning)\n"
     ]
    }
   ],
   "source": [
    "import pymongo\n",
    "import pandas as pd\n",
    "import numpy as np\n",
    "import math\n",
    "from datetime import datetime\n",
    "\n",
    "# import dask.dataframe as dd ## 대규모 데이터 처리\n",
    "# import vaex ## 대규모 데이터 처리\n",
    "\n",
    "# from sklearn.linear_model import LinearRegression ## likes, dislikes 대체\n",
    "from sklearn.preprocessing import StandardScaler\n",
    "from sklearn.ensemble import IsolationForest\n",
    "from sklearn.model_selection import train_test_split\n",
    "\n",
    "from sklearn.ensemble import RandomForestClassifier\n",
    "from sklearn.ensemble import RandomForestRegressor, GradientBoostingRegressor\n",
    "from lightgbm import LGBMRegressor\n",
    "import xgboost as xgb\n",
    "from sklearn.model_selection import KFold, cross_val_score, train_test_split\n",
    "from sklearn.metrics import mean_squared_error\n",
    "\n",
    "from imblearn.under_sampling import RandomUnderSampler\n",
    "from sklearn.metrics import accuracy_score, confusion_matrix, classification_report, roc_auc_score, roc_curve\n",
    "import matplotlib.pyplot as plt\n",
    "import seaborn as sns\n",
    "\n",
    "import os\n",
    "from dotenv import load_dotenv"
   ]
  },
  {
   "cell_type": "code",
   "execution_count": 2,
   "metadata": {},
   "outputs": [],
   "source": [
    "file_path = 'C:/py_src/awake/data/'"
   ]
  },
  {
   "cell_type": "code",
   "execution_count": 3,
   "metadata": {},
   "outputs": [],
   "source": [
    "# 계정 / 콘텐츠 분석 데이터셋 불러오기\n",
    "merge_df_users_fin = pd.read_csv(file_path + 'merge_df_users_final2.csv', low_memory=False)\n",
    "youtube_videos = pd.read_csv(file_path + 'youtube_videos_final2.csv')"
   ]
  },
  {
   "cell_type": "markdown",
   "metadata": {},
   "source": [
    "## 계정 데이터 분석"
   ]
  },
  {
   "cell_type": "markdown",
   "metadata": {},
   "source": [
    "### 데이터 분할\n",
    "- 미래를 예측하기 위한 모델이므로 시간순으로 데이터 분할\n",
    "- 시작날짜 : 2023-03-26\n",
    "- 종료날짜 : 2024-05-06\n",
    "- 전체 기간의 80% 날짜 : 2024-02-11"
   ]
  },
  {
   "cell_type": "code",
   "execution_count": 4,
   "metadata": {},
   "outputs": [],
   "source": [
    "# 컬럼 정리\n",
    "unique_col = merge_df_users_fin.columns[:11]\n",
    "x_col = merge_df_users_fin.columns[11:].drop('subscribers_count') ## y값 제거"
   ]
  },
  {
   "cell_type": "code",
   "execution_count": 5,
   "metadata": {},
   "outputs": [],
   "source": [
    "# 데이터 분할\n",
    "train_data = merge_df_users_fin[merge_df_users_fin['date'] <= '2024-02-11']\n",
    "test_data = merge_df_users_fin[merge_df_users_fin['date'] > '2024-02-11']"
   ]
  },
  {
   "cell_type": "code",
   "execution_count": 6,
   "metadata": {},
   "outputs": [
    {
     "name": "stdout",
     "output_type": "stream",
     "text": [
      "(84473, 56)\n",
      "(21210, 56)\n"
     ]
    }
   ],
   "source": [
    "# 불균형 확인\n",
    "print(train_data.shape)\n",
    "print(test_data.shape)"
   ]
  },
  {
   "cell_type": "markdown",
   "metadata": {},
   "source": [
    "### 모델 기법 적용"
   ]
  },
  {
   "cell_type": "code",
   "execution_count": 7,
   "metadata": {},
   "outputs": [],
   "source": [
    "# 각 모델 정의\n",
    "rf_model = RandomForestRegressor(random_state=42)\n",
    "gbm_model = GradientBoostingRegressor(random_state=42)\n",
    "lgbm_model = LGBMRegressor(random_state=42)\n",
    "xgb_model = xgb.XGBRegressor(random_state=42)\n",
    "\n",
    "# 모델 리스트\n",
    "models = {\n",
    "    'RandomForest': rf_model,\n",
    "    'GBM': gbm_model,\n",
    "    'LightGBM': lgbm_model,\n",
    "    'XGBoost': xgb_model\n",
    "}"
   ]
  },
  {
   "cell_type": "code",
   "execution_count": 8,
   "metadata": {},
   "outputs": [],
   "source": [
    "# # 모델별 교차 검증 결과 저장\n",
    "# results = {}\n",
    "\n",
    "# for model_name, model in models.items():\n",
    "#     print(f\"\\n{model_name} 모델 성능 평가 중...\")\n",
    "    \n",
    "#     # 교차 검증\n",
    "#     cv_scores = cross_val_score(model, train_data[x_col], train_data['subscribers_count'], cv=5, scoring='neg_mean_squared_error')\n",
    "    \n",
    "#     # 평균 RMSE 계산\n",
    "#     rmse_scores = np.sqrt(-cv_scores)  # neg_mean_squared_error는 음수이므로 양수로 변환 후 제곱근\n",
    "#     mean_rmse = rmse_scores.mean()\n",
    "#     print(f\"{model_name} 교차 검증 평균 RMSE: {mean_rmse}\")\n",
    "    \n",
    "#     # 결과 저장\n",
    "#     results[model_name] = mean_rmse"
   ]
  },
  {
   "cell_type": "markdown",
   "metadata": {},
   "source": [
    "### 모델 성능 평가"
   ]
  },
  {
   "cell_type": "code",
   "execution_count": 9,
   "metadata": {},
   "outputs": [
    {
     "name": "stdout",
     "output_type": "stream",
     "text": [
      "RandomForest\n",
      "R² 값: 0.9157\n",
      "MSE: 4975277385.4485\n",
      "RMSE: 70535.6462\n",
      "----------------------------------------\n",
      "\n",
      "GBM\n",
      "R² 값: 0.8720\n",
      "MSE: 7554219339.4865\n",
      "RMSE: 86915.0122\n",
      "----------------------------------------\n",
      "\n",
      "[LightGBM] [Info] Auto-choosing row-wise multi-threading, the overhead of testing was 0.012762 seconds.\n",
      "You can set `force_row_wise=true` to remove the overhead.\n",
      "And if memory is not enough, you can set `force_col_wise=true`.\n",
      "[LightGBM] [Info] Total Bins 11208\n",
      "[LightGBM] [Info] Number of data points in the train set: 84473, number of used features: 44\n",
      "[LightGBM] [Info] Start training from score 65433.322872\n",
      "LightGBM\n",
      "R² 값: 0.8862\n",
      "MSE: 6715269272.1564\n",
      "RMSE: 81946.7466\n",
      "----------------------------------------\n",
      "\n",
      "XGBoost\n",
      "R² 값: 0.9474\n",
      "MSE: 3100811798.8810\n",
      "RMSE: 55684.9333\n",
      "----------------------------------------\n",
      "\n"
     ]
    }
   ],
   "source": [
    "from sklearn.ensemble import RandomForestRegressor\n",
    "from sklearn.metrics import mean_squared_error, r2_score\n",
    "import numpy as np\n",
    "\n",
    "for model in models:\n",
    "    # 모델 정의 및 학습\n",
    "    models[model].fit(train_data[x_col], train_data['subscribers_count'])\n",
    "\n",
    "    # 예측\n",
    "    y_pred = models[model].predict(test_data[x_col])\n",
    "\n",
    "    # MSE 계산\n",
    "    mse = mean_squared_error(test_data['subscribers_count'], y_pred)\n",
    "\n",
    "    # RMSE 계산\n",
    "    rmse = np.sqrt(mse)\n",
    "\n",
    "    # R² 값 계산\n",
    "    r2 = r2_score(test_data['subscribers_count'], y_pred)\n",
    "\n",
    "    # 결과 출력\n",
    "    print(model)\n",
    "    print(f\"R² 값: {r2:.4f}\")\n",
    "    print(f\"MSE: {mse:.4f}\")\n",
    "    print(f\"RMSE: {rmse:.4f}\")\n",
    "    print(\"----------------------------------------\")\n",
    "    print(\"\")"
   ]
  },
  {
   "cell_type": "code",
   "execution_count": 10,
   "metadata": {},
   "outputs": [],
   "source": [
    "# # 비선형모델 활용 변수 선정\n",
    "# importances_df = pd.DataFrame({\n",
    "#     'features': x_col,\n",
    "#     'rf_importance': models['RandomForest'].feature_importances_,\n",
    "#     'gbm_importance': models['GBM'].feature_importances_,\n",
    "#     'lgbm_importance': models['LightGBM'].feature_importances_,\n",
    "#     'xgb_importance': models['XGBoost'].feature_importances_    \n",
    "# })\n",
    "# importances_df['lgbm_importance'] = importances_df['lgbm_importance'] / importances_df['lgbm_importance'].sum() ## 다른 모델과 중요도 단위 다르기 때문에 정규화\n",
    "# importances_df['mean_importance'] = importances_df[['rf_importance', 'gbm_importance', 'lgbm_importance', 'xgb_importance']].mean(axis=1) ## 각 변수별 모델 중요도 평균"
   ]
  },
  {
   "cell_type": "markdown",
   "metadata": {},
   "source": [
    "### 모델 성능 개선"
   ]
  },
  {
   "cell_type": "markdown",
   "metadata": {},
   "source": [
    "스태킹"
   ]
  },
  {
   "cell_type": "code",
   "execution_count": 11,
   "metadata": {},
   "outputs": [
    {
     "name": "stdout",
     "output_type": "stream",
     "text": [
      "스태킹 앙상블 모델 R2: 0.9661\n",
      "스태킹 앙상블 모델 MSE: 1998305072.9543\n",
      "스태킹 앙상블 모델 RMSE: 44702.4057\n"
     ]
    },
    {
     "name": "stderr",
     "output_type": "stream",
     "text": [
      "c:\\Users\\kwan\\AppData\\Local\\anaconda3\\envs\\awake_venv\\lib\\site-packages\\sklearn\\metrics\\_regression.py:492: FutureWarning: 'squared' is deprecated in version 1.4 and will be removed in 1.6. To calculate the root mean squared error, use the function'root_mean_squared_error'.\n",
      "  warnings.warn(\n"
     ]
    }
   ],
   "source": [
    "from sklearn.ensemble import StackingRegressor\n",
    "from sklearn.linear_model import Ridge\n",
    "\n",
    "# 스태킹 모델 정의\n",
    "stacking_model = StackingRegressor(\n",
    "    estimators=[\n",
    "    ('random_forest', models['RandomForest']),\n",
    "    # ('gbm', models['GBM']),\n",
    "    # ('lightgbm', models['LightGBM']),\n",
    "    ('xgboost', models['XGBoost'])\n",
    "    ],\n",
    "    final_estimator=Ridge()\n",
    ")\n",
    "\n",
    "# 스태킹 모델 학습\n",
    "stacking_model.fit(train_data[x_col], train_data['subscribers_count'])\n",
    "\n",
    "# 예측\n",
    "y_pred = stacking_model.predict(test_data[x_col])\n",
    "\n",
    "# 성능 평가\n",
    "# R² 값 계산\n",
    "r2 = r2_score(test_data['subscribers_count'], y_pred)\n",
    "\n",
    "# MSE 계산\n",
    "mse = mean_squared_error(test_data['subscribers_count'], y_pred)\n",
    "\n",
    "# RMSE 계산\n",
    "rmse = mean_squared_error(test_data['subscribers_count'], y_pred, squared=False)\n",
    "\n",
    "print(f\"스태킹 앙상블 모델 R2: {r2:.4f}\")\n",
    "print(f\"스태킹 앙상블 모델 MSE: {mse:.4f}\")\n",
    "print(f\"스태킹 앙상블 모델 RMSE: {rmse:.4f}\")"
   ]
  },
  {
   "cell_type": "markdown",
   "metadata": {},
   "source": [
    "### 실제데이터 결과 확인"
   ]
  },
  {
   "cell_type": "code",
   "execution_count": 12,
   "metadata": {},
   "outputs": [],
   "source": [
    "# 예측 결과 확인\n",
    "y_pred = stacking_model.predict(merge_df_users_fin[x_col])\n",
    "merge_df_users_fin['predict'] = y_pred"
   ]
  },
  {
   "cell_type": "code",
   "execution_count": 13,
   "metadata": {},
   "outputs": [
    {
     "name": "stderr",
     "output_type": "stream",
     "text": [
      "C:\\Users\\kwan\\AppData\\Local\\Temp\\ipykernel_9668\\470996871.py:5: SettingWithCopyWarning: \n",
      "A value is trying to be set on a copy of a slice from a DataFrame.\n",
      "Try using .loc[row_indexer,col_indexer] = value instead\n",
      "\n",
      "See the caveats in the documentation: https://pandas.pydata.org/pandas-docs/stable/user_guide/indexing.html#returning-a-view-versus-a-copy\n",
      "  result_df['date'] = pd.to_datetime(result_df['date'])\n",
      "C:\\Users\\kwan\\AppData\\Local\\Temp\\ipykernel_9668\\470996871.py:7: SettingWithCopyWarning: \n",
      "A value is trying to be set on a copy of a slice from a DataFrame.\n",
      "Try using .loc[row_indexer,col_indexer] = value instead\n",
      "\n",
      "See the caveats in the documentation: https://pandas.pydata.org/pandas-docs/stable/user_guide/indexing.html#returning-a-view-versus-a-copy\n",
      "  result_df['1_month_future_predict'] = result_df.groupby('youtube_user_id')['predict'].shift(-30).rolling(window=30).mean()\n",
      "C:\\Users\\kwan\\AppData\\Local\\Temp\\ipykernel_9668\\470996871.py:8: SettingWithCopyWarning: \n",
      "A value is trying to be set on a copy of a slice from a DataFrame.\n",
      "Try using .loc[row_indexer,col_indexer] = value instead\n",
      "\n",
      "See the caveats in the documentation: https://pandas.pydata.org/pandas-docs/stable/user_guide/indexing.html#returning-a-view-versus-a-copy\n",
      "  result_df['3_month_future_predict'] = result_df.groupby('youtube_user_id')['predict'].shift(-90).rolling(window=90).mean()\n",
      "C:\\Users\\kwan\\AppData\\Local\\Temp\\ipykernel_9668\\470996871.py:9: SettingWithCopyWarning: \n",
      "A value is trying to be set on a copy of a slice from a DataFrame.\n",
      "Try using .loc[row_indexer,col_indexer] = value instead\n",
      "\n",
      "See the caveats in the documentation: https://pandas.pydata.org/pandas-docs/stable/user_guide/indexing.html#returning-a-view-versus-a-copy\n",
      "  result_df['6_month_future_predict'] = result_df.groupby('youtube_user_id')['predict'].shift(-180).rolling(window=180).mean()\n",
      "C:\\Users\\kwan\\AppData\\Local\\Temp\\ipykernel_9668\\470996871.py:10: SettingWithCopyWarning: \n",
      "A value is trying to be set on a copy of a slice from a DataFrame.\n",
      "Try using .loc[row_indexer,col_indexer] = value instead\n",
      "\n",
      "See the caveats in the documentation: https://pandas.pydata.org/pandas-docs/stable/user_guide/indexing.html#returning-a-view-versus-a-copy\n",
      "  result_df['12_month_future_predict'] = result_df.groupby('youtube_user_id')['predict'].shift(-365).rolling(window=365).mean()\n"
     ]
    }
   ],
   "source": [
    "# 계정별 구독자수 평균, 구독자 예측수 평균 비교\n",
    "result_df = merge_df_users_fin[['youtube_user_id','date','channel_title','subscriberCount','subscribers_count','predict']]\n",
    "\n",
    "# 1개월, 3개월, 6개월, 1년 뒤 구독자수 예측값\n",
    "result_df['date'] = pd.to_datetime(result_df['date']) \n",
    "\n",
    "result_df['1_month_future_predict'] = result_df.groupby('youtube_user_id')['predict'].shift(-30).rolling(window=30).mean()\n",
    "result_df['3_month_future_predict'] = result_df.groupby('youtube_user_id')['predict'].shift(-90).rolling(window=90).mean()\n",
    "result_df['6_month_future_predict'] = result_df.groupby('youtube_user_id')['predict'].shift(-180).rolling(window=180).mean()\n",
    "result_df['12_month_future_predict'] = result_df.groupby('youtube_user_id')['predict'].shift(-365).rolling(window=365).mean()\n",
    "\n",
    "# 계정별 기간에 따른 구독자수 예측값 비교\n",
    "result_df_final = result_df.groupby(['youtube_user_id'])[['subscribers_count','predict','1_month_future_predict','3_month_future_predict','6_month_future_predict','12_month_future_predict']].mean().reset_index()"
   ]
  },
  {
   "cell_type": "code",
   "execution_count": 14,
   "metadata": {},
   "outputs": [],
   "source": [
    "# 기간 따른 예측 결과\n",
    "# 1개월\n",
    "result_1_month_plus_user_id = result_df_final[result_df_final['predict'] > 0][result_df_final[result_df_final['predict'] > 0]['subscribers_count'] < result_df_final[result_df_final['predict'] > 0]['1_month_future_predict']]['youtube_user_id']\n",
    "result_1_month_minus_user_id = result_df_final[result_df_final['predict'] > 0][result_df_final[result_df_final['predict'] > 0]['subscribers_count'] > result_df_final[result_df_final['predict'] > 0]['1_month_future_predict']]['youtube_user_id']\n",
    "\n",
    "# 3개월\n",
    "result_3_month_plus_user_id = result_df_final[result_df_final['predict'] > 0][result_df_final[result_df_final['predict'] > 0]['subscribers_count'] < result_df_final[result_df_final['predict'] > 0]['3_month_future_predict']]['youtube_user_id']\n",
    "result_3_month_minus_user_id = result_df_final[result_df_final['predict'] > 0][result_df_final[result_df_final['predict'] > 0]['subscribers_count'] > result_df_final[result_df_final['predict'] > 0]['3_month_future_predict']]['youtube_user_id']\n",
    "\n",
    "# 6개월\n",
    "result_6_month_plus_user_id = result_df_final[result_df_final['predict'] > 0][result_df_final[result_df_final['predict'] > 0]['subscribers_count'] < result_df_final[result_df_final['predict'] > 0]['6_month_future_predict']]['youtube_user_id']\n",
    "result_6_month_minus_user_id = result_df_final[result_df_final['predict'] > 0][result_df_final[result_df_final['predict'] > 0]['subscribers_count'] > result_df_final[result_df_final['predict'] > 0]['6_month_future_predict']]['youtube_user_id']\n",
    "\n",
    "# 12개월\n",
    "result_12_month_plus_user_id = result_df_final[result_df_final['predict'] > 0][result_df_final[result_df_final['predict'] > 0]['subscribers_count'] < result_df_final[result_df_final['predict'] > 0]['12_month_future_predict']]['youtube_user_id']\n",
    "result_12_month_minus_user_id = result_df_final[result_df_final['predict'] > 0][result_df_final[result_df_final['predict'] > 0]['subscribers_count'] > result_df_final[result_df_final['predict'] > 0]['12_month_future_predict']]['youtube_user_id']"
   ]
  },
  {
   "cell_type": "code",
   "execution_count": 15,
   "metadata": {},
   "outputs": [
    {
     "name": "stdout",
     "output_type": "stream",
     "text": [
      "7\n",
      "['유익한 균튜버' '0' '모하지연 MOHAJIYEON' '-mentalholder 멘탈홀더 tv' '지미 geemi.'\n",
      " '프롬수지 fromsuzy' 'fromsuzy 프롬수지']\n"
     ]
    }
   ],
   "source": [
    "print(len(result_df[result_df['youtube_user_id'].isin(result_12_month_minus_user_id)]['channel_title'].unique()))\n",
    "print(result_df[result_df['youtube_user_id'].isin(result_12_month_minus_user_id)]['channel_title'].unique())"
   ]
  },
  {
   "cell_type": "code",
   "execution_count": 16,
   "metadata": {},
   "outputs": [
    {
     "data": {
      "text/plain": [
       "array(['낭만아저씨코디TV', '0', '오디디 코미디', '모하지연 MOHAJIYEON', '콜드쉽 Coldsheep',\n",
       "       '팀브라더스', '맛집남자 foodman', '-mentalholder 멘탈홀더 tv', '황헬린 탈출기',\n",
       "       '프롬수지 fromsuzy', 'fromsuzy 프롬수지'], dtype=object)"
      ]
     },
     "execution_count": 16,
     "metadata": {},
     "output_type": "execute_result"
    }
   ],
   "source": [
    "# 계속 증가\n",
    "increase_user_id = result_df_final[result_df_final['predict'] > 0][(result_df_final[result_df_final['predict'] > 0]['1_month_future_predict'] < result_df_final[result_df_final['predict'] > 0]['3_month_future_predict']) & \n",
    "                                                                   (result_df_final[result_df_final['predict'] > 0]['3_month_future_predict'] < result_df_final[result_df_final['predict'] > 0]['6_month_future_predict']) & \n",
    "                                                                   (result_df_final[result_df_final['predict'] > 0]['6_month_future_predict'] < result_df_final[result_df_final['predict'] > 0]['12_month_future_predict'])]['youtube_user_id']\n",
    "result_df[result_df['youtube_user_id'].isin(increase_user_id)]['channel_title'].unique()"
   ]
  },
  {
   "cell_type": "code",
   "execution_count": 17,
   "metadata": {},
   "outputs": [
    {
     "data": {
      "text/plain": [
       "array([], dtype=object)"
      ]
     },
     "execution_count": 17,
     "metadata": {},
     "output_type": "execute_result"
    }
   ],
   "source": [
    "# 계속 감소\n",
    "decrease_user_id = result_df_final[result_df_final['predict'] > 0][(result_df_final[result_df_final['predict'] > 0]['1_month_future_predict'] > result_df_final[result_df_final['predict'] > 0]['3_month_future_predict']) & \n",
    "                                                                   (result_df_final[result_df_final['predict'] > 0]['3_month_future_predict'] > result_df_final[result_df_final['predict'] > 0]['6_month_future_predict']) & \n",
    "                                                                   (result_df_final[result_df_final['predict'] > 0]['6_month_future_predict'] > result_df_final[result_df_final['predict'] > 0]['12_month_future_predict'])]['youtube_user_id']\n",
    "result_df[result_df['youtube_user_id'].isin(decrease_user_id)]['channel_title'].unique()"
   ]
  },
  {
   "cell_type": "code",
   "execution_count": 18,
   "metadata": {},
   "outputs": [
    {
     "data": {
      "text/plain": [
       "array(['낭만아저씨코디TV', '0', '오디디 코미디', '모하지연 MOHAJIYEON', '콜드쉽 Coldsheep',\n",
       "       '팀브라더스', '맛집남자 foodman', '-mentalholder 멘탈홀더 tv', '황헬린 탈출기',\n",
       "       '프롬수지 fromsuzy', 'fromsuzy 프롬수지'], dtype=object)"
      ]
     },
     "execution_count": 18,
     "metadata": {},
     "output_type": "execute_result"
    }
   ],
   "source": [
    "result_df[result_df['youtube_user_id'].isin(increase_user_id)]['channel_title'].unique()"
   ]
  },
  {
   "cell_type": "markdown",
   "metadata": {},
   "source": [
    "## 콘텐츠 데이터 분석"
   ]
  },
  {
   "cell_type": "markdown",
   "metadata": {},
   "source": [
    "### 데이터 분할\n",
    "- 미래를 예측하기 위한 모델이므로 시간순으로 데이터 분할\n",
    "- 시작날짜 : 2023-03-26\n",
    "- 종료날짜 : 2024-05-06\n",
    "- 전체 기간의 80% 날짜 : 2024-02-11"
   ]
  },
  {
   "cell_type": "code",
   "execution_count": 19,
   "metadata": {},
   "outputs": [],
   "source": [
    "# 컬럼 정리\n",
    "unique_col = youtube_videos.columns[:3]\n",
    "x_col = youtube_videos.columns[3:].drop(['net_subscribers_change']) ## y값 제거"
   ]
  },
  {
   "cell_type": "code",
   "execution_count": 20,
   "metadata": {},
   "outputs": [],
   "source": [
    "# 데이터 분할\n",
    "train_data = youtube_videos[youtube_videos['end_date'] <= '2024-02-11']\n",
    "test_data = youtube_videos[youtube_videos['end_date'] > '2024-02-11']"
   ]
  },
  {
   "cell_type": "code",
   "execution_count": 21,
   "metadata": {},
   "outputs": [
    {
     "name": "stdout",
     "output_type": "stream",
     "text": [
      "(6538190, 62)\n",
      "(2031321, 62)\n"
     ]
    }
   ],
   "source": [
    "# 불균형 확인\n",
    "print(train_data.shape)\n",
    "print(test_data.shape)"
   ]
  },
  {
   "cell_type": "markdown",
   "metadata": {},
   "source": [
    "### 모델 기법 적용"
   ]
  },
  {
   "cell_type": "code",
   "execution_count": 22,
   "metadata": {},
   "outputs": [],
   "source": [
    "# 각 모델 정의\n",
    "rf_model = RandomForestRegressor(random_state=42)\n",
    "# gbm_model = GradientBoostingRegressor(random_state=42)\n",
    "# lgbm_model = LGBMRegressor(random_state=42)\n",
    "xgb_model = xgb.XGBRegressor(random_state=42)\n",
    "\n",
    "# 모델 리스트\n",
    "models = {\n",
    "    'RandomForest': rf_model,\n",
    "    # 'GBM': gbm_model,\n",
    "    # 'LightGBM': lgbm_model,\n",
    "    'XGBoost': xgb_model\n",
    "}"
   ]
  },
  {
   "cell_type": "markdown",
   "metadata": {},
   "source": [
    "### 모델 성능 평가"
   ]
  },
  {
   "cell_type": "markdown",
   "metadata": {},
   "source": [
    "XGBoost"
   ]
  },
  {
   "cell_type": "code",
   "execution_count": 23,
   "metadata": {},
   "outputs": [
    {
     "name": "stdout",
     "output_type": "stream",
     "text": [
      "XGBoost\n",
      "R² 값: 0.7614\n",
      "MSE: 162.7376\n",
      "RMSE: 12.7569\n",
      "----------------------------------------\n",
      "\n"
     ]
    }
   ],
   "source": [
    "from sklearn.ensemble import RandomForestRegressor\n",
    "from sklearn.metrics import mean_squared_error, r2_score\n",
    "import numpy as np\n",
    "\n",
    "# 모델 정의 및 학습\n",
    "models['XGBoost'].fit(train_data[x_col], train_data['net_subscribers_change'])\n",
    "\n",
    "# 예측\n",
    "y_pred = models['XGBoost'].predict(test_data[x_col])\n",
    "\n",
    "# MSE 계산\n",
    "mse = mean_squared_error(test_data['net_subscribers_change'], y_pred)\n",
    "\n",
    "# RMSE 계산\n",
    "rmse = np.sqrt(mse)\n",
    "\n",
    "# R² 값 계산\n",
    "r2 = r2_score(test_data['net_subscribers_change'], y_pred)\n",
    "\n",
    "# 결과 출력\n",
    "print('XGBoost')\n",
    "print(f\"R² 값: {r2:.4f}\")\n",
    "print(f\"MSE: {mse:.4f}\")\n",
    "print(f\"RMSE: {rmse:.4f}\")\n",
    "print(\"----------------------------------------\")\n",
    "print(\"\")"
   ]
  },
  {
   "cell_type": "code",
   "execution_count": 24,
   "metadata": {},
   "outputs": [],
   "source": [
    "# from sklearn.ensemble import RandomForestRegressor\n",
    "# from sklearn.metrics import mean_squared_error, r2_score\n",
    "# import numpy as np\n",
    "\n",
    "# for model in models:\n",
    "#     # 모델 정의 및 학습\n",
    "#     models[model].fit(train_data[x_col], train_data['net_subscribers_change'])\n",
    "\n",
    "#     # 예측\n",
    "#     y_pred = models[model].predict(test_data[x_col])\n",
    "\n",
    "#     # MSE 계산\n",
    "#     mse = mean_squared_error(test_data['net_subscribers_change'], y_pred)\n",
    "\n",
    "#     # RMSE 계산\n",
    "#     rmse = np.sqrt(mse)\n",
    "\n",
    "#     # R² 값 계산\n",
    "#     r2 = r2_score(test_data['net_subscribers_change'], y_pred)\n",
    "\n",
    "#     # 결과 출력\n",
    "#     print(model)\n",
    "#     print(f\"R² 값: {r2:.4f}\")\n",
    "#     print(f\"MSE: {mse:.4f}\")\n",
    "#     print(f\"RMSE: {rmse:.4f}\")\n",
    "#     print(\"----------------------------------------\")\n",
    "#     print(\"\")"
   ]
  },
  {
   "cell_type": "code",
   "execution_count": 25,
   "metadata": {},
   "outputs": [],
   "source": [
    "# # 비선형모델 활용 변수 선정\n",
    "# importances_df = pd.DataFrame({\n",
    "#     'features': x_col,\n",
    "#     'rf_importance': models['RandomForest'].feature_importances_,\n",
    "#     'gbm_importance': models['GBM'].feature_importances_,\n",
    "#     'lgbm_importance': models['LightGBM'].feature_importances_,\n",
    "#     'xgb_importance': models['XGBoost'].feature_importances_    \n",
    "# })\n",
    "# importances_df['lgbm_importance'] = importances_df['lgbm_importance'] / importances_df['lgbm_importance'].sum() ## 다른 모델과 중요도 단위 다르기 때문에 정규화\n",
    "# importances_df['mean_importance'] = importances_df[['rf_importance', 'gbm_importance', 'lgbm_importance', 'xgb_importance']].mean(axis=1) ## 각 변수별 모델 중요도 평균"
   ]
  },
  {
   "cell_type": "markdown",
   "metadata": {},
   "source": [
    "### 모델 성능 개선"
   ]
  },
  {
   "cell_type": "markdown",
   "metadata": {},
   "source": [
    "스태킹"
   ]
  },
  {
   "cell_type": "code",
   "execution_count": 26,
   "metadata": {},
   "outputs": [],
   "source": [
    "# from sklearn.ensemble import StackingRegressor\n",
    "# from sklearn.linear_model import Ridge\n",
    "\n",
    "# # 스태킹 모델 정의\n",
    "# stacking_model = StackingRegressor(\n",
    "#     estimators=[\n",
    "#     ('random_forest', models['RandomForest']),\n",
    "#     # ('gbm', models['GBM']),\n",
    "#     # ('lightgbm', models['LightGBM']),\n",
    "#     ('xgboost', models['XGBoost'])\n",
    "#     ],\n",
    "#     final_estimator=Ridge()\n",
    "# )\n",
    "\n",
    "# # 스태킹 모델 학습\n",
    "# stacking_model.fit(train_data[x_col], train_data['subscribers_count'])\n",
    "\n",
    "# # 예측\n",
    "# y_pred = stacking_model.predict(test_data[x_col])\n",
    "\n",
    "# # 성능 평가\n",
    "# # R² 값 계산\n",
    "# r2 = r2_score(test_data['subscribers_count'], y_pred)\n",
    "\n",
    "# # MSE 계산\n",
    "# mse = mean_squared_error(test_data['subscribers_count'], y_pred)\n",
    "\n",
    "# # RMSE 계산\n",
    "# rmse = mean_squared_error(test_data['subscribers_count'], y_pred, squared=False)\n",
    "\n",
    "# print(f\"스태킹 앙상블 모델 R2: {r2:.4f}\")\n",
    "# print(f\"스태킹 앙상블 모델 MSE: {mse:.4f}\")\n",
    "# print(f\"스태킹 앙상블 모델 RMSE: {rmse:.4f}\")"
   ]
  },
  {
   "cell_type": "markdown",
   "metadata": {},
   "source": [
    "### 실제데이터 결과 확인"
   ]
  },
  {
   "cell_type": "code",
   "execution_count": 27,
   "metadata": {},
   "outputs": [],
   "source": [
    "# 예측 결과 확인\n",
    "# y_pred = stacking_model.predict(merge_df_users_fin[x_col])\n",
    "# merge_df_users_fin['predict'] = y_pred\n",
    "\n",
    "y_pred = models['XGBoost'].predict(youtube_videos[x_col])\n",
    "youtube_videos['predict'] = y_pred"
   ]
  },
  {
   "cell_type": "code",
   "execution_count": 28,
   "metadata": {},
   "outputs": [],
   "source": [
    "# 계정별 구독자수 평균, 구독자 예측수 평균 비교\n",
    "result_contents_df = youtube_videos[['youtube_user_id', 'video', 'end_date', 'net_subscribers_change', 'predict']]\n",
    "\n",
    "# 계정별 콘텐츠의 구독자 순증감 1일 합계\n",
    "result_contents_df = result_contents_df.groupby(['youtube_user_id', 'end_date'], as_index=False).agg({\n",
    "    'net_subscribers_change': 'sum',\n",
    "    'predict': 'sum'\n",
    "})\n",
    "\n",
    "# 1개월, 3개월, 6개월, 1년 뒤 구독자수 예측값 계산\n",
    "result_contents_df['end_date'] = pd.to_datetime(result_contents_df['end_date'])\n",
    "\n",
    "# Shift와 Rolling 연산을 위한 그룹별 처리\n",
    "result_contents_df['1_month_future_predict'] = result_contents_df.groupby('youtube_user_id')['predict'].transform(lambda x: x.shift(-30).rolling(window=30).sum())\n",
    "result_contents_df['3_month_future_predict'] = result_contents_df.groupby('youtube_user_id')['predict'].transform(lambda x: x.shift(-90).rolling(window=90).sum())\n",
    "result_contents_df['6_month_future_predict'] = result_contents_df.groupby('youtube_user_id')['predict'].transform(lambda x: x.shift(-180).rolling(window=180).sum())\n",
    "result_contents_df['12_month_future_predict'] = result_contents_df.groupby('youtube_user_id')['predict'].transform(lambda x: x.shift(-365).rolling(window=365).sum())\n",
    "\n",
    "# 계정별로 최종 평균값을 계산\n",
    "result_contents_df_final = result_contents_df.groupby('youtube_user_id').agg({\n",
    "    'net_subscribers_change': 'mean',\n",
    "    'predict': 'mean',\n",
    "    '1_month_future_predict': 'mean',\n",
    "    '3_month_future_predict': 'mean',\n",
    "    '6_month_future_predict': 'mean',\n",
    "    '12_month_future_predict': 'mean'\n",
    "}).reset_index()\n"
   ]
  },
  {
   "cell_type": "code",
   "execution_count": 76,
   "metadata": {},
   "outputs": [
    {
     "data": {
      "text/html": [
       "<div>\n",
       "<style scoped>\n",
       "    .dataframe tbody tr th:only-of-type {\n",
       "        vertical-align: middle;\n",
       "    }\n",
       "\n",
       "    .dataframe tbody tr th {\n",
       "        vertical-align: top;\n",
       "    }\n",
       "\n",
       "    .dataframe thead th {\n",
       "        text-align: right;\n",
       "    }\n",
       "</style>\n",
       "<table border=\"1\" class=\"dataframe\">\n",
       "  <thead>\n",
       "    <tr style=\"text-align: right;\">\n",
       "      <th></th>\n",
       "      <th>youtube_user_id</th>\n",
       "      <th>net_subscribers_change</th>\n",
       "      <th>predict</th>\n",
       "      <th>1_month_future_predict</th>\n",
       "      <th>3_month_future_predict</th>\n",
       "      <th>6_month_future_predict</th>\n",
       "      <th>12_month_future_predict</th>\n",
       "    </tr>\n",
       "  </thead>\n",
       "  <tbody>\n",
       "    <tr>\n",
       "      <th>0</th>\n",
       "      <td>627cb611aa6f212355e0b617</td>\n",
       "      <td>14.698492</td>\n",
       "      <td>14.807063</td>\n",
       "      <td>451.798290</td>\n",
       "      <td>1235.781848</td>\n",
       "      <td>3059.494297</td>\n",
       "      <td>NaN</td>\n",
       "    </tr>\n",
       "    <tr>\n",
       "      <th>1</th>\n",
       "      <td>627f59ccaa39226247c60b01</td>\n",
       "      <td>0.087719</td>\n",
       "      <td>0.065694</td>\n",
       "      <td>1.464700</td>\n",
       "      <td>4.562360</td>\n",
       "      <td>9.341878</td>\n",
       "      <td>NaN</td>\n",
       "    </tr>\n",
       "    <tr>\n",
       "      <th>2</th>\n",
       "      <td>6287228afb15712a8cb931d7</td>\n",
       "      <td>0.811558</td>\n",
       "      <td>0.845420</td>\n",
       "      <td>26.440269</td>\n",
       "      <td>80.305818</td>\n",
       "      <td>147.027722</td>\n",
       "      <td>NaN</td>\n",
       "    </tr>\n",
       "    <tr>\n",
       "      <th>3</th>\n",
       "      <td>6287229efb15712a8cb93225</td>\n",
       "      <td>86.398496</td>\n",
       "      <td>89.691544</td>\n",
       "      <td>2557.540167</td>\n",
       "      <td>5313.285963</td>\n",
       "      <td>17462.534853</td>\n",
       "      <td>NaN</td>\n",
       "    </tr>\n",
       "    <tr>\n",
       "      <th>4</th>\n",
       "      <td>628722c8fb15712a8cb9326e</td>\n",
       "      <td>1.538847</td>\n",
       "      <td>1.536410</td>\n",
       "      <td>44.785220</td>\n",
       "      <td>134.212667</td>\n",
       "      <td>236.541541</td>\n",
       "      <td>NaN</td>\n",
       "    </tr>\n",
       "    <tr>\n",
       "      <th>...</th>\n",
       "      <td>...</td>\n",
       "      <td>...</td>\n",
       "      <td>...</td>\n",
       "      <td>...</td>\n",
       "      <td>...</td>\n",
       "      <td>...</td>\n",
       "      <td>...</td>\n",
       "    </tr>\n",
       "    <tr>\n",
       "      <th>244</th>\n",
       "      <td>65cc401305bf1c0baa425146</td>\n",
       "      <td>3875.524390</td>\n",
       "      <td>4295.879883</td>\n",
       "      <td>169077.137456</td>\n",
       "      <td>NaN</td>\n",
       "      <td>NaN</td>\n",
       "      <td>NaN</td>\n",
       "    </tr>\n",
       "    <tr>\n",
       "      <th>245</th>\n",
       "      <td>65e7b773d8da110bb072e2b5</td>\n",
       "      <td>4.064516</td>\n",
       "      <td>3.525848</td>\n",
       "      <td>90.618017</td>\n",
       "      <td>NaN</td>\n",
       "      <td>NaN</td>\n",
       "      <td>NaN</td>\n",
       "    </tr>\n",
       "    <tr>\n",
       "      <th>246</th>\n",
       "      <td>65f7b17ed8da110bb0733b7b</td>\n",
       "      <td>5.714286</td>\n",
       "      <td>5.675271</td>\n",
       "      <td>NaN</td>\n",
       "      <td>NaN</td>\n",
       "      <td>NaN</td>\n",
       "      <td>NaN</td>\n",
       "    </tr>\n",
       "    <tr>\n",
       "      <th>247</th>\n",
       "      <td>65fecf7ed8da110bb0736199</td>\n",
       "      <td>26.113636</td>\n",
       "      <td>25.640135</td>\n",
       "      <td>NaN</td>\n",
       "      <td>NaN</td>\n",
       "      <td>NaN</td>\n",
       "      <td>NaN</td>\n",
       "    </tr>\n",
       "    <tr>\n",
       "      <th>248</th>\n",
       "      <td>66230ee6d8da110bb0744b2d</td>\n",
       "      <td>152.823529</td>\n",
       "      <td>147.043594</td>\n",
       "      <td>NaN</td>\n",
       "      <td>NaN</td>\n",
       "      <td>NaN</td>\n",
       "      <td>NaN</td>\n",
       "    </tr>\n",
       "  </tbody>\n",
       "</table>\n",
       "<p>249 rows × 7 columns</p>\n",
       "</div>"
      ],
      "text/plain": [
       "              youtube_user_id  net_subscribers_change      predict  \\\n",
       "0    627cb611aa6f212355e0b617               14.698492    14.807063   \n",
       "1    627f59ccaa39226247c60b01                0.087719     0.065694   \n",
       "2    6287228afb15712a8cb931d7                0.811558     0.845420   \n",
       "3    6287229efb15712a8cb93225               86.398496    89.691544   \n",
       "4    628722c8fb15712a8cb9326e                1.538847     1.536410   \n",
       "..                        ...                     ...          ...   \n",
       "244  65cc401305bf1c0baa425146             3875.524390  4295.879883   \n",
       "245  65e7b773d8da110bb072e2b5                4.064516     3.525848   \n",
       "246  65f7b17ed8da110bb0733b7b                5.714286     5.675271   \n",
       "247  65fecf7ed8da110bb0736199               26.113636    25.640135   \n",
       "248  66230ee6d8da110bb0744b2d              152.823529   147.043594   \n",
       "\n",
       "     1_month_future_predict  3_month_future_predict  6_month_future_predict  \\\n",
       "0                451.798290             1235.781848             3059.494297   \n",
       "1                  1.464700                4.562360                9.341878   \n",
       "2                 26.440269               80.305818              147.027722   \n",
       "3               2557.540167             5313.285963            17462.534853   \n",
       "4                 44.785220              134.212667              236.541541   \n",
       "..                      ...                     ...                     ...   \n",
       "244           169077.137456                     NaN                     NaN   \n",
       "245               90.618017                     NaN                     NaN   \n",
       "246                     NaN                     NaN                     NaN   \n",
       "247                     NaN                     NaN                     NaN   \n",
       "248                     NaN                     NaN                     NaN   \n",
       "\n",
       "     12_month_future_predict  \n",
       "0                        NaN  \n",
       "1                        NaN  \n",
       "2                        NaN  \n",
       "3                        NaN  \n",
       "4                        NaN  \n",
       "..                       ...  \n",
       "244                      NaN  \n",
       "245                      NaN  \n",
       "246                      NaN  \n",
       "247                      NaN  \n",
       "248                      NaN  \n",
       "\n",
       "[249 rows x 7 columns]"
      ]
     },
     "execution_count": 76,
     "metadata": {},
     "output_type": "execute_result"
    }
   ],
   "source": [
    "result_contents_df_final"
   ]
  },
  {
   "cell_type": "code",
   "execution_count": 34,
   "metadata": {},
   "outputs": [],
   "source": [
    "# 최종 결과 데이터셋\n",
    "final_result_df = pd.merge(result_df_final[['youtube_user_id','subscribers_count']],result_contents_df_final,how='left',on='youtube_user_id')"
   ]
  },
  {
   "cell_type": "code",
   "execution_count": 41,
   "metadata": {},
   "outputs": [],
   "source": [
    "# 기간별 구독자수 증가율 계산\n",
    "final_result_df['1_month_future_ratio'] = final_result_df['1_month_future_predict'] / final_result_df['subscribers_count']\n",
    "final_result_df['3_month_future_ratio'] = final_result_df['3_month_future_predict'] / final_result_df['subscribers_count']\n",
    "final_result_df['6_month_future_ratio'] = final_result_df['6_month_future_predict'] / final_result_df['subscribers_count']\n",
    "final_result_df['12_month_future_ratio'] = final_result_df['12_month_future_predict'] / final_result_df['subscribers_count']"
   ]
  },
  {
   "cell_type": "code",
   "execution_count": 68,
   "metadata": {},
   "outputs": [
    {
     "data": {
      "text/plain": [
       "250"
      ]
     },
     "execution_count": 68,
     "metadata": {},
     "output_type": "execute_result"
    }
   ],
   "source": [
    "final_result_df['12_month_future_ratio'].isnull().sum()"
   ]
  },
  {
   "cell_type": "code",
   "execution_count": 66,
   "metadata": {},
   "outputs": [
    {
     "data": {
      "text/html": [
       "<div>\n",
       "<style scoped>\n",
       "    .dataframe tbody tr th:only-of-type {\n",
       "        vertical-align: middle;\n",
       "    }\n",
       "\n",
       "    .dataframe tbody tr th {\n",
       "        vertical-align: top;\n",
       "    }\n",
       "\n",
       "    .dataframe thead th {\n",
       "        text-align: right;\n",
       "    }\n",
       "</style>\n",
       "<table border=\"1\" class=\"dataframe\">\n",
       "  <thead>\n",
       "    <tr style=\"text-align: right;\">\n",
       "      <th></th>\n",
       "      <th>youtube_user_id</th>\n",
       "      <th>subscribers_count</th>\n",
       "      <th>net_subscribers_change</th>\n",
       "      <th>predict</th>\n",
       "      <th>1_month_future_predict</th>\n",
       "      <th>3_month_future_predict</th>\n",
       "      <th>6_month_future_predict</th>\n",
       "      <th>12_month_future_predict</th>\n",
       "      <th>1_month_future_ratio</th>\n",
       "      <th>3_month_future_ratio</th>\n",
       "      <th>6_month_future_ratio</th>\n",
       "      <th>12_month_future_ratio</th>\n",
       "    </tr>\n",
       "  </thead>\n",
       "  <tbody>\n",
       "    <tr>\n",
       "      <th>0</th>\n",
       "      <td>627cb611aa6f212355e0b617</td>\n",
       "      <td>118163.451852</td>\n",
       "      <td>14.698492</td>\n",
       "      <td>14.807063</td>\n",
       "      <td>451.798290</td>\n",
       "      <td>1235.781848</td>\n",
       "      <td>3059.494297</td>\n",
       "      <td>NaN</td>\n",
       "      <td>0.003824</td>\n",
       "      <td>0.010458</td>\n",
       "      <td>0.025892</td>\n",
       "      <td>NaN</td>\n",
       "    </tr>\n",
       "    <tr>\n",
       "      <th>1</th>\n",
       "      <td>627f59ccaa39226247c60b01</td>\n",
       "      <td>5062.320988</td>\n",
       "      <td>0.087719</td>\n",
       "      <td>0.065694</td>\n",
       "      <td>1.464700</td>\n",
       "      <td>4.562360</td>\n",
       "      <td>9.341878</td>\n",
       "      <td>NaN</td>\n",
       "      <td>0.000289</td>\n",
       "      <td>0.000901</td>\n",
       "      <td>0.001845</td>\n",
       "      <td>NaN</td>\n",
       "    </tr>\n",
       "    <tr>\n",
       "      <th>2</th>\n",
       "      <td>6287228afb15712a8cb931d7</td>\n",
       "      <td>3041.802469</td>\n",
       "      <td>0.811558</td>\n",
       "      <td>0.845420</td>\n",
       "      <td>26.440269</td>\n",
       "      <td>80.305818</td>\n",
       "      <td>147.027722</td>\n",
       "      <td>NaN</td>\n",
       "      <td>0.008692</td>\n",
       "      <td>0.026401</td>\n",
       "      <td>0.048336</td>\n",
       "      <td>NaN</td>\n",
       "    </tr>\n",
       "    <tr>\n",
       "      <th>3</th>\n",
       "      <td>6287229efb15712a8cb93225</td>\n",
       "      <td>85975.167901</td>\n",
       "      <td>86.398496</td>\n",
       "      <td>89.691544</td>\n",
       "      <td>2557.540167</td>\n",
       "      <td>5313.285963</td>\n",
       "      <td>17462.534853</td>\n",
       "      <td>NaN</td>\n",
       "      <td>0.029747</td>\n",
       "      <td>0.061800</td>\n",
       "      <td>0.203111</td>\n",
       "      <td>NaN</td>\n",
       "    </tr>\n",
       "    <tr>\n",
       "      <th>4</th>\n",
       "      <td>628722c8fb15712a8cb9326e</td>\n",
       "      <td>1597.286420</td>\n",
       "      <td>1.538847</td>\n",
       "      <td>1.536410</td>\n",
       "      <td>44.785220</td>\n",
       "      <td>134.212667</td>\n",
       "      <td>236.541541</td>\n",
       "      <td>NaN</td>\n",
       "      <td>0.028038</td>\n",
       "      <td>0.084025</td>\n",
       "      <td>0.148090</td>\n",
       "      <td>NaN</td>\n",
       "    </tr>\n",
       "    <tr>\n",
       "      <th>...</th>\n",
       "      <td>...</td>\n",
       "      <td>...</td>\n",
       "      <td>...</td>\n",
       "      <td>...</td>\n",
       "      <td>...</td>\n",
       "      <td>...</td>\n",
       "      <td>...</td>\n",
       "      <td>...</td>\n",
       "      <td>...</td>\n",
       "      <td>...</td>\n",
       "      <td>...</td>\n",
       "      <td>...</td>\n",
       "    </tr>\n",
       "    <tr>\n",
       "      <th>245</th>\n",
       "      <td>65cc401305bf1c0baa425146</td>\n",
       "      <td>257643.593220</td>\n",
       "      <td>3875.524390</td>\n",
       "      <td>4295.879883</td>\n",
       "      <td>169077.137456</td>\n",
       "      <td>NaN</td>\n",
       "      <td>NaN</td>\n",
       "      <td>NaN</td>\n",
       "      <td>0.656244</td>\n",
       "      <td>NaN</td>\n",
       "      <td>NaN</td>\n",
       "      <td>NaN</td>\n",
       "    </tr>\n",
       "    <tr>\n",
       "      <th>246</th>\n",
       "      <td>65e7b773d8da110bb072e2b5</td>\n",
       "      <td>2992.901235</td>\n",
       "      <td>4.064516</td>\n",
       "      <td>3.525848</td>\n",
       "      <td>90.618017</td>\n",
       "      <td>NaN</td>\n",
       "      <td>NaN</td>\n",
       "      <td>NaN</td>\n",
       "      <td>0.030278</td>\n",
       "      <td>NaN</td>\n",
       "      <td>NaN</td>\n",
       "      <td>NaN</td>\n",
       "    </tr>\n",
       "    <tr>\n",
       "      <th>247</th>\n",
       "      <td>65f7b17ed8da110bb0733b7b</td>\n",
       "      <td>2572.145679</td>\n",
       "      <td>5.714286</td>\n",
       "      <td>5.675271</td>\n",
       "      <td>NaN</td>\n",
       "      <td>NaN</td>\n",
       "      <td>NaN</td>\n",
       "      <td>NaN</td>\n",
       "      <td>NaN</td>\n",
       "      <td>NaN</td>\n",
       "      <td>NaN</td>\n",
       "      <td>NaN</td>\n",
       "    </tr>\n",
       "    <tr>\n",
       "      <th>248</th>\n",
       "      <td>65fecf7ed8da110bb0736199</td>\n",
       "      <td>33770.382716</td>\n",
       "      <td>26.113636</td>\n",
       "      <td>25.640135</td>\n",
       "      <td>NaN</td>\n",
       "      <td>NaN</td>\n",
       "      <td>NaN</td>\n",
       "      <td>NaN</td>\n",
       "      <td>NaN</td>\n",
       "      <td>NaN</td>\n",
       "      <td>NaN</td>\n",
       "      <td>NaN</td>\n",
       "    </tr>\n",
       "    <tr>\n",
       "      <th>249</th>\n",
       "      <td>66230ee6d8da110bb0744b2d</td>\n",
       "      <td>249118.718519</td>\n",
       "      <td>152.823529</td>\n",
       "      <td>147.043594</td>\n",
       "      <td>NaN</td>\n",
       "      <td>NaN</td>\n",
       "      <td>NaN</td>\n",
       "      <td>NaN</td>\n",
       "      <td>NaN</td>\n",
       "      <td>NaN</td>\n",
       "      <td>NaN</td>\n",
       "      <td>NaN</td>\n",
       "    </tr>\n",
       "  </tbody>\n",
       "</table>\n",
       "<p>250 rows × 12 columns</p>\n",
       "</div>"
      ],
      "text/plain": [
       "              youtube_user_id  subscribers_count  net_subscribers_change  \\\n",
       "0    627cb611aa6f212355e0b617      118163.451852               14.698492   \n",
       "1    627f59ccaa39226247c60b01        5062.320988                0.087719   \n",
       "2    6287228afb15712a8cb931d7        3041.802469                0.811558   \n",
       "3    6287229efb15712a8cb93225       85975.167901               86.398496   \n",
       "4    628722c8fb15712a8cb9326e        1597.286420                1.538847   \n",
       "..                        ...                ...                     ...   \n",
       "245  65cc401305bf1c0baa425146      257643.593220             3875.524390   \n",
       "246  65e7b773d8da110bb072e2b5        2992.901235                4.064516   \n",
       "247  65f7b17ed8da110bb0733b7b        2572.145679                5.714286   \n",
       "248  65fecf7ed8da110bb0736199       33770.382716               26.113636   \n",
       "249  66230ee6d8da110bb0744b2d      249118.718519              152.823529   \n",
       "\n",
       "         predict  1_month_future_predict  3_month_future_predict  \\\n",
       "0      14.807063              451.798290             1235.781848   \n",
       "1       0.065694                1.464700                4.562360   \n",
       "2       0.845420               26.440269               80.305818   \n",
       "3      89.691544             2557.540167             5313.285963   \n",
       "4       1.536410               44.785220              134.212667   \n",
       "..           ...                     ...                     ...   \n",
       "245  4295.879883           169077.137456                     NaN   \n",
       "246     3.525848               90.618017                     NaN   \n",
       "247     5.675271                     NaN                     NaN   \n",
       "248    25.640135                     NaN                     NaN   \n",
       "249   147.043594                     NaN                     NaN   \n",
       "\n",
       "     6_month_future_predict  12_month_future_predict  1_month_future_ratio  \\\n",
       "0               3059.494297                      NaN              0.003824   \n",
       "1                  9.341878                      NaN              0.000289   \n",
       "2                147.027722                      NaN              0.008692   \n",
       "3              17462.534853                      NaN              0.029747   \n",
       "4                236.541541                      NaN              0.028038   \n",
       "..                      ...                      ...                   ...   \n",
       "245                     NaN                      NaN              0.656244   \n",
       "246                     NaN                      NaN              0.030278   \n",
       "247                     NaN                      NaN                   NaN   \n",
       "248                     NaN                      NaN                   NaN   \n",
       "249                     NaN                      NaN                   NaN   \n",
       "\n",
       "     3_month_future_ratio  6_month_future_ratio  12_month_future_ratio  \n",
       "0                0.010458              0.025892                    NaN  \n",
       "1                0.000901              0.001845                    NaN  \n",
       "2                0.026401              0.048336                    NaN  \n",
       "3                0.061800              0.203111                    NaN  \n",
       "4                0.084025              0.148090                    NaN  \n",
       "..                    ...                   ...                    ...  \n",
       "245                   NaN                   NaN                    NaN  \n",
       "246                   NaN                   NaN                    NaN  \n",
       "247                   NaN                   NaN                    NaN  \n",
       "248                   NaN                   NaN                    NaN  \n",
       "249                   NaN                   NaN                    NaN  \n",
       "\n",
       "[250 rows x 12 columns]"
      ]
     },
     "execution_count": 66,
     "metadata": {},
     "output_type": "execute_result"
    }
   ],
   "source": [
    "final_result_df.sort_values(['12_month_future_ratio'],ascending=False)"
   ]
  },
  {
   "cell_type": "code",
   "execution_count": 71,
   "metadata": {},
   "outputs": [
    {
     "data": {
      "text/plain": [
       "array(['오디디 코미디', '0', '황나겸', '다먹어라이언', '래아TV', '슈로시안 SUROSIAN',\n",
       "       '채림처럼firstcherry', '드론브이로그 DroneVlog', '군대위키', '월텍남 - 월스트리트 테크남',\n",
       "       '콤므', '맛집남자 foodman', '엔트리뷰 [누구나 재미있는 테크리뷰]', 'Dalhae달달해', '단곰',\n",
       "       '너굴몬', 'GMENCY 멘시의 마인크래프트', '코인덕 차트아지', '日本ジヌ【니혼지누】ー韓国に関する全て',\n",
       "       \"파파스캠핑 papa's camp | a korean camper\", '중년독수리의 대리여행'], dtype=object)"
      ]
     },
     "execution_count": 71,
     "metadata": {},
     "output_type": "execute_result"
    }
   ],
   "source": [
    "merge_df_users_fin[merge_df_users_fin['youtube_user_id'].isin(final_result_df.sort_values(['6_month_future_ratio'],ascending=False)['youtube_user_id'].iloc[:20])]['channel_title'].unique()"
   ]
  },
  {
   "cell_type": "code",
   "execution_count": 77,
   "metadata": {},
   "outputs": [
    {
     "data": {
      "text/plain": [
       "{'0',\n",
       " 'GMENCY 멘시의 마인크래프트',\n",
       " '日本ジヌ【니혼지누】ー韓国に関する全て',\n",
       " '군대위키',\n",
       " '너굴몬',\n",
       " '다먹어라이언',\n",
       " '단곰',\n",
       " '래아TV',\n",
       " '맛집남자 foodman',\n",
       " '슈로시안 SUROSIAN',\n",
       " '오늘도희다 HEEDA',\n",
       " '월텍남 - 월스트리트 테크남',\n",
       " '중년독수리의 대리여행',\n",
       " '채림처럼firstcherry',\n",
       " '채찍단',\n",
       " '코인덕 차트아지',\n",
       " '콤므',\n",
       " '탬니몰리',\n",
       " \"파파스캠핑 papa's camp | a korean camper\",\n",
       " '황나겸'}"
      ]
     },
     "execution_count": 77,
     "metadata": {},
     "output_type": "execute_result"
    }
   ],
   "source": [
    "(set(merge_df_users_fin[merge_df_users_fin['youtube_user_id'].isin(final_result_df.sort_values(['1_month_future_ratio'],ascending=False)['youtube_user_id'].iloc[:50])]['channel_title'].unique()) & \n",
    " set(merge_df_users_fin[merge_df_users_fin['youtube_user_id'].isin(final_result_df.sort_values(['3_month_future_ratio'],ascending=False)['youtube_user_id'].iloc[:50])]['channel_title'].unique()) & \n",
    " set(merge_df_users_fin[merge_df_users_fin['youtube_user_id'].isin(final_result_df.sort_values(['6_month_future_ratio'],ascending=False)['youtube_user_id'].iloc[:50])]['channel_title'].unique()))"
   ]
  }
 ],
 "metadata": {
  "kernelspec": {
   "display_name": "awake",
   "language": "python",
   "name": "python3"
  },
  "language_info": {
   "codemirror_mode": {
    "name": "ipython",
    "version": 3
   },
   "file_extension": ".py",
   "mimetype": "text/x-python",
   "name": "python",
   "nbconvert_exporter": "python",
   "pygments_lexer": "ipython3",
   "version": "3.10.14"
  }
 },
 "nbformat": 4,
 "nbformat_minor": 2
}
