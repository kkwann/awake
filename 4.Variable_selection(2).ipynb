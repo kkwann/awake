{
 "cells": [
  {
   "cell_type": "code",
   "execution_count": 1,
   "metadata": {},
   "outputs": [
    {
     "name": "stderr",
     "output_type": "stream",
     "text": [
      "c:\\Users\\kwan\\AppData\\Local\\anaconda3\\envs\\awake_venv\\lib\\site-packages\\dask\\dataframe\\__init__.py:42: FutureWarning: \n",
      "Dask dataframe query planning is disabled because dask-expr is not installed.\n",
      "\n",
      "You can install it with `pip install dask[dataframe]` or `conda install dask`.\n",
      "This will raise in a future version.\n",
      "\n",
      "  warnings.warn(msg, FutureWarning)\n"
     ]
    }
   ],
   "source": [
    "import pymongo\n",
    "import pandas as pd\n",
    "import numpy as np\n",
    "import math\n",
    "from datetime import datetime\n",
    "\n",
    "import dask.dataframe as dd ## 대규모 데이터 처리\n",
    "# import vaex ## 대규모 데이터 처리\n",
    "\n",
    "# from sklearn.linear_model import LinearRegression ## likes, dislikes 대체\n",
    "from sklearn.preprocessing import StandardScaler\n",
    "from sklearn.ensemble import IsolationForest\n",
    "from sklearn.model_selection import train_test_split\n",
    "from imblearn.under_sampling import RandomUnderSampler\n",
    "from sklearn.ensemble import RandomForestClassifier\n",
    "from sklearn.metrics import accuracy_score, confusion_matrix, classification_report, roc_auc_score, roc_curve\n",
    "import matplotlib.pyplot as plt\n",
    "import seaborn as sns\n",
    "\n",
    "import os\n",
    "from dotenv import load_dotenv"
   ]
  },
  {
   "cell_type": "code",
   "execution_count": 2,
   "metadata": {},
   "outputs": [],
   "source": [
    "file_path = 'C:/py_src/awake/data/'"
   ]
  },
  {
   "cell_type": "code",
   "execution_count": 3,
   "metadata": {},
   "outputs": [],
   "source": [
    "# 계정 / 콘텐츠 분석 데이터셋 불러오기\n",
    "# merge_df_users_fin = pd.read_csv(file_path + 'merge_df_users_fin_eda.csv', low_memory=False)\n",
    "# youtube_videos = pd.read_csv(file_path + 'youtube_videos_eda.csv')\n",
    "youtube_videos = dd.read_csv(file_path + 'youtube_videos_eda.csv')"
   ]
  },
  {
   "cell_type": "markdown",
   "metadata": {},
   "source": [
    "## 계정 데이터 분석"
   ]
  },
  {
   "cell_type": "code",
   "execution_count": 4,
   "metadata": {},
   "outputs": [],
   "source": [
    "# 불필요정보 제거 - y값 제거(다른 모델)\n",
    "merge_df_users_fin = merge_df_users_fin.drop('y_label',axis=1)\n",
    "## y값 : merge_df_users_fin['subscribers_count']"
   ]
  },
  {
   "cell_type": "markdown",
   "metadata": {},
   "source": [
    "### 기간별 피처 생성"
   ]
  },
  {
   "cell_type": "code",
   "execution_count": 5,
   "metadata": {},
   "outputs": [],
   "source": [
    "# 주별, 월별, 분기별 변수 생성\n",
    "\n",
    "# 구독자 관련 변수\n",
    "merge_df_users_fin['weekly_subscribers_gained'] = merge_df_users_fin['subscribers_gained'].rolling(window=7).sum()\n",
    "merge_df_users_fin['monthly_subscribers_gained'] = merge_df_users_fin['subscribers_gained'].rolling(window=30).sum()\n",
    "merge_df_users_fin['quarterly_subscribers_gained'] = merge_df_users_fin['subscribers_gained'].rolling(window=90).sum()\n",
    "\n",
    "merge_df_users_fin['weekly_subscribers_lost'] = merge_df_users_fin['subscribers_lost'].rolling(window=7).sum()\n",
    "merge_df_users_fin['monthly_subscribers_lost'] = merge_df_users_fin['subscribers_lost'].rolling(window=30).sum()\n",
    "merge_df_users_fin['quarterly_subscribers_lost'] = merge_df_users_fin['subscribers_lost'].rolling(window=90).sum()\n",
    "\n",
    "merge_df_users_fin['weekly_net_subscribers_change'] = merge_df_users_fin['weekly_subscribers_gained'] - merge_df_users_fin['weekly_subscribers_lost']\n",
    "merge_df_users_fin['monthly_net_subscribers_change'] = merge_df_users_fin['monthly_subscribers_gained'] - merge_df_users_fin['monthly_subscribers_lost']\n",
    "merge_df_users_fin['quarterly_net_subscribers_change'] = merge_df_users_fin['quarterly_subscribers_gained'] - merge_df_users_fin['quarterly_subscribers_lost']\n",
    "\n",
    "# 수익 관련 변수\n",
    "merge_df_users_fin['weekly_estimated_revenue'] = merge_df_users_fin['estimated_revenue'].rolling(window=7).sum()\n",
    "merge_df_users_fin['monthly_estimated_revenue'] = merge_df_users_fin['estimated_revenue'].rolling(window=30).sum()\n",
    "merge_df_users_fin['quarterly_estimated_revenue'] = merge_df_users_fin['estimated_revenue'].rolling(window=90).sum()\n",
    "\n",
    "merge_df_users_fin['weekly_estimated_ad_revenue'] = merge_df_users_fin['estimated_ad_revenue'].rolling(window=7).sum()\n",
    "merge_df_users_fin['monthly_estimated_ad_revenue'] = merge_df_users_fin['estimated_ad_revenue'].rolling(window=30).sum()\n",
    "merge_df_users_fin['quarterly_estimated_ad_revenue'] = merge_df_users_fin['estimated_ad_revenue'].rolling(window=90).sum()\n",
    "\n",
    "merge_df_users_fin['weekly_revenue_per_subscriber'] = merge_df_users_fin['weekly_estimated_revenue'] / (merge_df_users_fin['weekly_subscribers_gained'] + 1)\n",
    "merge_df_users_fin['monthly_revenue_per_subscriber'] = merge_df_users_fin['monthly_estimated_revenue'] / (merge_df_users_fin['monthly_subscribers_gained'] + 1)\n",
    "merge_df_users_fin['quarterly_revenue_per_subscriber'] = merge_df_users_fin['quarterly_estimated_revenue'] / (merge_df_users_fin['quarterly_subscribers_gained'] + 1)\n",
    "\n",
    "# 시청 시간 관련 변수\n",
    "merge_df_users_fin['weekly_avg_view_duration'] = merge_df_users_fin['averageViewDuration'].rolling(window=7).mean()\n",
    "merge_df_users_fin['monthly_avg_view_duration'] = merge_df_users_fin['averageViewDuration'].rolling(window=30).mean()\n",
    "merge_df_users_fin['quarterly_avg_view_duration'] = merge_df_users_fin['averageViewDuration'].rolling(window=90).mean()\n",
    "\n",
    "merge_df_users_fin['weekly_total_view_time'] = merge_df_users_fin['estimatedMinutesWatched'].rolling(window=7).sum()\n",
    "merge_df_users_fin['monthly_total_view_time'] = merge_df_users_fin['estimatedMinutesWatched'].rolling(window=30).sum()\n",
    "merge_df_users_fin['quarterly_total_view_time'] = merge_df_users_fin['estimatedMinutesWatched'].rolling(window=90).sum()\n",
    "\n",
    "merge_df_users_fin['weekly_view_time_per_user'] = merge_df_users_fin['weekly_total_view_time'] / (merge_df_users_fin['weekly_subscribers_gained'] + 1)\n",
    "merge_df_users_fin['monthly_view_time_per_user'] = merge_df_users_fin['monthly_total_view_time'] / (merge_df_users_fin['monthly_subscribers_gained'] + 1)\n",
    "merge_df_users_fin['quarterly_view_time_per_user'] = merge_df_users_fin['quarterly_total_view_time'] / (merge_df_users_fin['quarterly_subscribers_gained'] + 1)\n",
    "\n",
    "# 광고 관련 변수\n",
    "merge_df_users_fin['weekly_playback_rate'] = merge_df_users_fin['playback_based_cpm'].rolling(window=7).mean()\n",
    "merge_df_users_fin['monthly_playback_rate'] = merge_df_users_fin['playback_based_cpm'].rolling(window=30).mean()\n",
    "merge_df_users_fin['quarterly_playback_rate'] = merge_df_users_fin['playback_based_cpm'].rolling(window=90).mean()\n",
    "\n",
    "merge_df_users_fin['weekly_ad_revenue_rate'] = merge_df_users_fin['estimated_ad_revenue'] / (merge_df_users_fin['weekly_total_view_time'] + 1)\n",
    "merge_df_users_fin['monthly_ad_revenue_rate'] = merge_df_users_fin['estimated_ad_revenue'] / (merge_df_users_fin['monthly_total_view_time'] + 1)\n",
    "merge_df_users_fin['quarterly_ad_revenue_rate'] = merge_df_users_fin['estimated_ad_revenue'] / (merge_df_users_fin['quarterly_total_view_time'] + 1)\n",
    "\n",
    "merge_df_users_fin['weekly_revenue_per_ad_impression'] = merge_df_users_fin['weekly_estimated_ad_revenue'] / (merge_df_users_fin['ad_impressions'].rolling(window=7).sum() + 1)\n",
    "merge_df_users_fin['monthly_revenue_per_ad_impression'] = merge_df_users_fin['monthly_estimated_ad_revenue'] / (merge_df_users_fin['ad_impressions'].rolling(window=30).sum() + 1)\n",
    "merge_df_users_fin['quarterly_revenue_per_ad_impression'] = merge_df_users_fin['quarterly_estimated_ad_revenue'] / (merge_df_users_fin['ad_impressions'].rolling(window=90).sum() + 1)"
   ]
  },
  {
   "cell_type": "code",
   "execution_count": 6,
   "metadata": {},
   "outputs": [],
   "source": [
    "# null값 대체\n",
    "merge_df_users_fin = merge_df_users_fin.fillna(0) ## NaN\n",
    "merge_df_users_fin = merge_df_users_fin.replace([np.inf, -np.inf], 0) ## inf"
   ]
  },
  {
   "cell_type": "markdown",
   "metadata": {},
   "source": [
    "### 데이터 분할\n",
    "- 미래를 예측하기 위한 모델이므로 시간순으로 데이터 분할\n",
    "- 시작날짜 : 2023-03-26\n",
    "- 종료날짜 : 2024-05-06\n",
    "- 전체 기간의 80% 날짜 : 2024-02-11"
   ]
  },
  {
   "cell_type": "code",
   "execution_count": 7,
   "metadata": {},
   "outputs": [],
   "source": [
    "# 컬럼 정리\n",
    "unique_col = merge_df_users_fin.columns[:11]\n",
    "x_col = merge_df_users_fin.columns[11:].drop('subscribers_count') ## y값 제거"
   ]
  },
  {
   "cell_type": "code",
   "execution_count": 8,
   "metadata": {},
   "outputs": [],
   "source": [
    "# 데이터 분할\n",
    "train_data = merge_df_users_fin[merge_df_users_fin['date'] <= '2024-02-11']\n",
    "test_data = merge_df_users_fin[merge_df_users_fin['date'] > '2024-02-11']"
   ]
  },
  {
   "cell_type": "code",
   "execution_count": 9,
   "metadata": {},
   "outputs": [
    {
     "name": "stdout",
     "output_type": "stream",
     "text": [
      "(84473, 124)\n",
      "(21210, 124)\n"
     ]
    }
   ],
   "source": [
    "# 불균형 확인\n",
    "print(train_data.shape)\n",
    "print(test_data.shape)"
   ]
  },
  {
   "cell_type": "markdown",
   "metadata": {},
   "source": [
    "### 변수선택"
   ]
  },
  {
   "cell_type": "markdown",
   "metadata": {},
   "source": [
    "상관분석"
   ]
  },
  {
   "cell_type": "code",
   "execution_count": 11,
   "metadata": {},
   "outputs": [
    {
     "name": "stdout",
     "output_type": "stream",
     "text": [
      "['redViews', 'SUBSCRIBED', 'estimatedMinutesWatched', 'estimated_revenue', 'estimated_ad_revenue', 'estimated_red_partner_revenue', 'gross_revenue', 'cpm', 'subscribers_lost', 'monetized_playbacks', 'revenue_per_ad_impression', 'watched_time_rate', 'gross_revenue_per_ad_impression', 'playback_rate', 'monthly_subscribers_gained', 'quarterly_subscribers_gained', 'weekly_subscribers_lost', 'monthly_subscribers_lost', 'quarterly_subscribers_lost', 'weekly_estimated_revenue', 'monthly_estimated_revenue', 'quarterly_estimated_revenue', 'weekly_estimated_ad_revenue', 'monthly_estimated_ad_revenue', 'quarterly_estimated_ad_revenue', 'weekly_total_view_time', 'monthly_total_view_time', 'quarterly_total_view_time', 'quarterly_revenue_per_ad_impression', 'unplayback_rate']\n",
      "30\n"
     ]
    }
   ],
   "source": [
    "# 상관계수 절대값이 0.3 이상\n",
    "corr_df = train_data[['subscribers_count'] + list(x_col)].corr()\n",
    "selected_features_by_corr = list(corr_df[corr_df['subscribers_count'] >= 0.3].iloc[:,0].keys()) + list(corr_df[corr_df['subscribers_count'] <= -0.3].iloc[:,0].keys())\n",
    "selected_features_by_corr.remove('subscribers_count')\n",
    "print(selected_features_by_corr)\n",
    "print(len(selected_features_by_corr))"
   ]
  },
  {
   "cell_type": "markdown",
   "metadata": {},
   "source": [
    "RandomForest"
   ]
  },
  {
   "cell_type": "code",
   "execution_count": 12,
   "metadata": {},
   "outputs": [
    {
     "name": "stdout",
     "output_type": "stream",
     "text": [
      "랜덤 포레스트로 선정된 변수: \n",
      "['weekly_subscribers_lost', 'quarterly_estimated_ad_revenue', 'monthly_revenue_per_ad_impression', 'subscriber_decrease_rate', 'subscribers_lost', 'playback_rate', 'weekly_revenue_per_ad_impression', 'weekly_net_subscribers_change', 'unplayback_rate', 'quarterly_subscribers_lost', 'monthly_net_subscribers_change', 'age18-24.female', 'age13-17.female', 'quarterly_net_subscribers_change', 'cpm', 'quarterly_revenue_per_subscriber', 'age25-34.female', 'monthly_subscribers_lost', 'redViews', 'quarterly_avg_view_duration', 'quarterly_subscribers_gained', 'quarterly_estimated_revenue', 'SUBSCRIBED', 'gross_revenue_per_ad_impression', 'UNSUBSCRIBED', 'likes', 'quarterly_total_view_time', 'subscriber_increase_rate', 'weekly_estimated_ad_revenue', 'quarterly_revenue_per_ad_impression', 'monthly_subscribers_gained', 'weekly_estimated_revenue', 'subscriber_view_time_rate', 'monthly_total_view_time', 'revenue_per_subscriber', 'age25-34.male', 'unsubscribed_view_time_rate', 'estimated_red_partner_revenue', 'subscriber_retention_rate', 'age35-44.female', 'quarterly_playback_rate', 'estimated_ad_revenue']\n"
     ]
    }
   ],
   "source": [
    "from sklearn.ensemble import RandomForestRegressor\n",
    "\n",
    "# 랜덤 포레스트 모델 학습\n",
    "rf_model = RandomForestRegressor(random_state=42)\n",
    "rf_model.fit(train_data[x_col], train_data['subscribers_count'])\n",
    "\n",
    "# 변수 중요도 추출\n",
    "importances = rf_model.feature_importances_\n",
    "feature_importance_rf = pd.Series(importances, index=x_col).sort_values(ascending=False)\n",
    "\n",
    "# 중요도 0.001 이상 변수 선정\n",
    "selected_features_by_rf = list(feature_importance_rf[feature_importance_rf >= 0.001].keys())\n",
    "\n",
    "# 중요한 변수 출력\n",
    "print(f\"랜덤 포레스트로 선정된 변수: \\n{selected_features_by_rf}\")"
   ]
  },
  {
   "cell_type": "markdown",
   "metadata": {},
   "source": [
    "Gradient Boosting"
   ]
  },
  {
   "cell_type": "code",
   "execution_count": 13,
   "metadata": {},
   "outputs": [
    {
     "name": "stdout",
     "output_type": "stream",
     "text": [
      "Gradient Boosting으로 선정된 변수: \n",
      "['weekly_subscribers_lost', 'subscribers_lost', 'subscriber_decrease_rate', 'quarterly_estimated_ad_revenue', 'quarterly_estimated_revenue', 'gross_revenue_per_ad_impression', 'quarterly_net_subscribers_change', 'monthly_subscribers_lost', 'SUBSCRIBED', 'monthly_estimated_ad_revenue', 'cpm', 'monthly_net_subscribers_change', 'weekly_net_subscribers_change', 'age13-17.female', 'weekly_estimated_revenue', 'revenue_per_subscriber', 'quarterly_subscribers_lost', 'subscriber_increase_rate', 'age25-34.female', 'playback_rate', 'monthly_ad_revenue_rate', 'quarterly_subscribers_gained', 'likes', 'quarterly_total_view_time', 'quarterly_playback_rate', 'monthly_subscribers_gained', 'estimated_ad_revenue', 'subscriber_view_time_rate', 'quarterly_avg_view_duration', 'monthly_total_view_time', 'unplayback_rate', 'quarterly_ad_revenue_rate', 'age18-24.female']\n"
     ]
    }
   ],
   "source": [
    "from sklearn.ensemble import GradientBoostingRegressor\n",
    "\n",
    "# Gradient Boosting 모델 학습\n",
    "gbm_model = GradientBoostingRegressor(random_state=42)\n",
    "gbm_model.fit(train_data[x_col], train_data['subscribers_count'])\n",
    "\n",
    "# 변수 중요도 추출\n",
    "importances = gbm_model.feature_importances_\n",
    "feature_importance_gbm = pd.Series(importances, index=x_col).sort_values(ascending=False)\n",
    "\n",
    "# 중요도 0.001 이상 변수 선정\n",
    "selected_features_by_gbm = list(feature_importance_gbm[feature_importance_gbm >= 0.001].keys())\n",
    "\n",
    "# 중요한 변수 출력\n",
    "print(f\"Gradient Boosting으로 선정된 변수: \\n{selected_features_by_gbm}\")"
   ]
  },
  {
   "cell_type": "markdown",
   "metadata": {},
   "source": [
    "LightGBM"
   ]
  },
  {
   "cell_type": "code",
   "execution_count": 14,
   "metadata": {},
   "outputs": [
    {
     "name": "stderr",
     "output_type": "stream",
     "text": [
      "c:\\Users\\kwan\\AppData\\Local\\anaconda3\\envs\\awake_venv\\lib\\site-packages\\dask\\dataframe\\__init__.py:42: FutureWarning: \n",
      "Dask dataframe query planning is disabled because dask-expr is not installed.\n",
      "\n",
      "You can install it with `pip install dask[dataframe]` or `conda install dask`.\n",
      "This will raise in a future version.\n",
      "\n",
      "  warnings.warn(msg, FutureWarning)\n"
     ]
    },
    {
     "name": "stdout",
     "output_type": "stream",
     "text": [
      "[LightGBM] [Info] Auto-choosing col-wise multi-threading, the overhead of testing was 0.081231 seconds.\n",
      "You can set `force_col_wise=true` to remove the overhead.\n",
      "[LightGBM] [Info] Total Bins 28461\n",
      "[LightGBM] [Info] Number of data points in the train set: 84473, number of used features: 112\n",
      "[LightGBM] [Info] Start training from score 65433.322872\n",
      "LightGBM으로 선정된 변수: \n",
      "['subscriber_decrease_rate', 'subscribers_lost', 'weekly_subscribers_lost', 'subscriber_increase_rate', 'subscriber_view_time_rate', 'quarterly_net_subscribers_change', 'weekly_net_subscribers_change', 'monthly_net_subscribers_change', 'quarterly_playback_rate', 'quarterly_avg_view_duration', 'monthly_subscribers_lost', 'quarterly_subscribers_lost', 'age18-24.female', 'SUBSCRIBED', 'quarterly_total_view_time', 'quarterly_estimated_revenue', 'quarterly_ad_revenue_rate', 'revenue_per_subscriber', 'quarterly_estimated_ad_revenue', 'avg_view_duration_rate', 'quarterly_revenue_per_ad_impression', 'quarterly_view_time_per_user', 'monthly_ad_revenue_rate', 'subscribers_gained', 'UNSUBSCRIBED', 'revenue_per_subscribed_view', 'comments', 'dislikes', 'subscriber_retention_rate', 'net_subscribers_change', 'monthly_playback_rate', 'quarterly_revenue_per_subscriber', 'quarterly_subscribers_gained', 'monthly_view_time_per_user', 'subscribed_view_time_rate', 'weekly_playback_rate', 'female_viewer_rate', 'age18-24.male', 'age25-34.female', 'weekly_estimated_ad_revenue']\n"
     ]
    }
   ],
   "source": [
    "import lightgbm as lgb\n",
    "\n",
    "# LightGBM 모델 학습\n",
    "lgb_model = lgb.LGBMRegressor(random_state=42)\n",
    "lgb_model.fit(train_data[x_col], train_data['subscribers_count'])\n",
    "\n",
    "# 변수 중요도 추출\n",
    "importances = lgb_model.feature_importances_\n",
    "feature_importance_lgbm = pd.Series(importances, index=x_col).sort_values(ascending=False)\n",
    "\n",
    "# 중요도 0.001 이상 변수 선정\n",
    "feature_importance_lgbm = feature_importance_lgbm / feature_importance_lgbm.sum() ## 중요도 정규화\n",
    "selected_features_by_lgbm = list(feature_importance_lgbm[feature_importance_lgbm >= 0.005].keys())\n",
    "\n",
    "# 중요한 변수 출력\n",
    "print(f\"LightGBM으로 선정된 변수: \\n{selected_features_by_lgbm}\")\n"
   ]
  },
  {
   "cell_type": "markdown",
   "metadata": {},
   "source": [
    "XGBoost"
   ]
  },
  {
   "cell_type": "code",
   "execution_count": 15,
   "metadata": {},
   "outputs": [
    {
     "name": "stdout",
     "output_type": "stream",
     "text": [
      "XGBoost로 선정된 변수: \n",
      "['quarterly_estimated_revenue', 'quarterly_estimated_ad_revenue', 'weekly_subscribers_lost', 'quarterly_net_subscribers_change', 'weekly_estimated_ad_revenue', 'quarterly_subscribers_lost', 'weekly_net_subscribers_change', 'quarterly_total_view_time', 'playback_rate', 'subscribers_lost', 'unplayback_rate', 'age18-24.female', 'subscriber_decrease_rate', 'SUBSCRIBED', 'estimated_revenue', 'age25-34.female', 'cpm', 'quarterly_revenue_per_ad_impression', 'revenue_per_unsubscribed_view', 'monthly_net_subscribers_change', 'quarterly_playback_rate', 'subscribed_view_time_rate', 'subscriber_increase_rate', 'quarterly_avg_view_duration', 'male_viewer_rate', 'revenue_per_red_view', 'monthly_playback_rate', 'weekly_estimated_revenue', 'quarterly_revenue_per_subscriber', 'subscriber_retention_rate', 'estimated_red_partner_revenue', 'views', 'unsubscribed_view_time_rate']\n"
     ]
    }
   ],
   "source": [
    "import xgboost as xgb\n",
    "\n",
    "# XGBoost 모델 학습\n",
    "xgb_model = xgb.XGBRegressor(random_state=42)\n",
    "xgb_model.fit(train_data[x_col], train_data['subscribers_count'])\n",
    "\n",
    "# 변수 중요도 추출\n",
    "importances = xgb_model.feature_importances_\n",
    "feature_importance_xgb = pd.Series(importances, index=x_col).sort_values(ascending=False)\n",
    "\n",
    "# 중요도 0.001 이상 변수 선정\n",
    "selected_features_by_xgb = list(feature_importance_xgb[feature_importance_xgb >= 0.001].keys())\n",
    "\n",
    "# 중요한 변수 출력\n",
    "print(f\"XGBoost로 선정된 변수: \\n{selected_features_by_xgb}\")"
   ]
  },
  {
   "cell_type": "code",
   "execution_count": 16,
   "metadata": {},
   "outputs": [],
   "source": [
    "# 비선형모델 활용 변수 선정\n",
    "importances_df = pd.DataFrame({\n",
    "    'features': x_col,\n",
    "    'rf_importance': rf_model.feature_importances_,\n",
    "    'gbm_importance': gbm_model.feature_importances_,\n",
    "    'lgbm_importance': lgb_model.feature_importances_,\n",
    "    'xgb_importance': xgb_model.feature_importances_    \n",
    "})\n",
    "importances_df['lgbm_importance'] = importances_df['lgbm_importance'] / importances_df['lgbm_importance'].sum() ## 다른 모델과 중요도 단위 다르기 때문에 정규화\n",
    "importances_df['mean_importance'] = importances_df[['rf_importance', 'gbm_importance', 'lgbm_importance', 'xgb_importance']].mean(axis=1) ## 각 변수별 모델 중요도 평균"
   ]
  },
  {
   "cell_type": "code",
   "execution_count": 17,
   "metadata": {},
   "outputs": [],
   "source": [
    "# 최종 변수 선택\n",
    "final_selected_features = list(set(list(importances_df[importances_df['mean_importance'] >= 0.004]['features']) + selected_features_by_corr))"
   ]
  },
  {
   "cell_type": "code",
   "execution_count": 21,
   "metadata": {},
   "outputs": [],
   "source": [
    "# 최종 모델링 데이터셋\n",
    "merge_df_users_final = merge_df_users_fin[list(unique_col) + final_selected_features + ['subscribers_count']]"
   ]
  },
  {
   "cell_type": "code",
   "execution_count": 22,
   "metadata": {},
   "outputs": [],
   "source": [
    "# merge_df_users_final.to_csv('C:/py_src/awake/data/merge_df_users_final2.csv', encoding='utf-8-sig', index=False)"
   ]
  },
  {
   "cell_type": "markdown",
   "metadata": {},
   "source": [
    "## 콘텐츠 데이터 분석"
   ]
  },
  {
   "cell_type": "code",
   "execution_count": 7,
   "metadata": {},
   "outputs": [
    {
     "data": {
      "text/plain": [
       "Index(['youtube_user_id', 'video', 'end_date', 'views', 'redViews', 'comments',\n",
       "       'likes', 'dislikes', 'shares', 'estimatedMinutesWatched',\n",
       "       'estimatedRedMinutesWatched', 'averageViewDuration',\n",
       "       'averageViewPercentage', 'videosAddedToPlaylists',\n",
       "       'videosRemovedFromPlaylists', 'estimatedRevenue', 'estimatedAdRevenue',\n",
       "       'grossRevenue', 'estimatedRedPartnerRevenue', 'playbackBasedCpm', 'cpm',\n",
       "       'subscribersGained', 'subscribersLost', 'monetizedPlaybacks',\n",
       "       'adImpressions', 'cardClickRate', 'cardTeaserClickRate',\n",
       "       'cardImpressions', 'cardTeaserImpressions', 'cardClicks',\n",
       "       'cardTeaserClicks', 'like_rate', 'comment_rate', 'share_rate',\n",
       "       'dislike_rate', 'total_engage_rate', 'positive_engage_rate',\n",
       "       'comment_to_like_rate', 'like_to_dislike_ratio',\n",
       "       'net_subscribers_change', 'subscribers_conversion_rate',\n",
       "       'subscribers_gained_per_card_click',\n",
       "       'subscribers_gained_per_playlist_add',\n",
       "       'card_click_to_subscriber_conversion',\n",
       "       'subscribers_lost_per_playlist_remove', 'revenue_per_view',\n",
       "       'revenue_per_red_view', 'ad_revenue_rate', 'red_revenue_rate',\n",
       "       'cpm_to_revenue_ratio', 'revenue_per_ad_impression',\n",
       "       'playback_based_cpm_rate', 'revenue_per_card_click',\n",
       "       'revenue_per_playlist_add', 'card_click_to_revenue_ratio',\n",
       "       'net_revenue_per_playlist_add', 'ad_revenue_per_card_click',\n",
       "       'revenue_per_minute_watched', 'avg_view_duration_rate',\n",
       "       'watched_time_rate', 'watched_view_rate', 'watch_time_per_card_click',\n",
       "       'watch_time_per_playlist_add', 'avg_view_duration_per_card_click',\n",
       "       'watch_time_loss_per_playlist_remove', 'revenue_per_playback',\n",
       "       'grossRevenue_per_ad_impression', 'playback_rate', 'unplayback_rate',\n",
       "       'ad_impressions_per_card_click', 'ad_impressions_per_playlist_add',\n",
       "       'ad_playbacks_per_card_click', 'ad_playbacks_per_playlist_add',\n",
       "       'card_to_teaser_click_rate', 'card_click_per_impression_rate',\n",
       "       'card_teaser_click_per_impression_rate', 'total_card_teaser_click_rate',\n",
       "       'card_conversion_rate', 'playlist_addition_rate',\n",
       "       'playlist_removal_rate', 'net_playlist_addition_rate',\n",
       "       'playlist_engagement_rate', 'playlist_related_revenue_rate', 'y_label'],\n",
       "      dtype='object')"
      ]
     },
     "execution_count": 7,
     "metadata": {},
     "output_type": "execute_result"
    }
   ],
   "source": [
    "youtube_videos.columns"
   ]
  },
  {
   "cell_type": "code",
   "execution_count": 8,
   "metadata": {},
   "outputs": [],
   "source": [
    "# 불필요정보 제거 - y값 제거(다른 모델)\n",
    "youtube_videos = youtube_videos.drop('y_label',axis=1)\n",
    "## y값 : youtube_videos['subscribers_count']"
   ]
  },
  {
   "cell_type": "markdown",
   "metadata": {},
   "source": [
    "### 기간별 피처 생성"
   ]
  },
  {
   "cell_type": "code",
   "execution_count": 12,
   "metadata": {},
   "outputs": [],
   "source": [
    "# 주별, 월별, 분기별 변수 생성\n",
    "\n",
    "# 조회수 및 시청 시간 관련\n",
    "youtube_videos['weekly_views'] = youtube_videos['views'].rolling(window=7).sum()\n",
    "youtube_videos['monthly_views'] = youtube_videos['views'].rolling(window=30).sum()\n",
    "youtube_videos['quarterly_views'] = youtube_videos['views'].rolling(window=90).sum()\n",
    "\n",
    "youtube_videos['weekly_watch_time'] = youtube_videos['estimatedMinutesWatched'].rolling(window=7).sum()\n",
    "youtube_videos['monthly_watch_time'] = youtube_videos['estimatedMinutesWatched'].rolling(window=30).sum()\n",
    "youtube_videos['quarterly_watch_time'] = youtube_videos['estimatedMinutesWatched'].rolling(window=90).sum()\n",
    "\n",
    "youtube_videos['weekly_avg_view_duration'] = youtube_videos['averageViewDuration'].rolling(window=7).mean()\n",
    "youtube_videos['monthly_avg_view_duration'] = youtube_videos['averageViewDuration'].rolling(window=30).mean()\n",
    "youtube_videos['quarterly_avg_view_duration'] = youtube_videos['averageViewDuration'].rolling(window=90).mean()\n",
    "\n",
    "youtube_videos['weekly_avg_view_percentage'] = youtube_videos['averageViewPercentage'].rolling(window=7).mean()\n",
    "youtube_videos['monthly_avg_view_percentage'] = youtube_videos['averageViewPercentage'].rolling(window=30).mean()\n",
    "youtube_videos['quarterly_avg_view_percentage'] = youtube_videos['averageViewPercentage'].rolling(window=90).mean()\n",
    "\n",
    "\n",
    "# 참여도 관련\n",
    "youtube_videos['weekly_videos_added'] = youtube_videos['videosAddedToPlaylists'].rolling(window=7).sum()\n",
    "youtube_videos['monthly_videos_added'] = youtube_videos['videosAddedToPlaylists'].rolling(window=30).sum()\n",
    "youtube_videos['quarterly_videos_added'] = youtube_videos['videosAddedToPlaylists'].rolling(window=90).sum()\n",
    "\n",
    "youtube_videos['weekly_videos_removed'] = youtube_videos['videosRemovedFromPlaylists'].rolling(window=7).sum()\n",
    "youtube_videos['monthly_videos_removed'] = youtube_videos['videosRemovedFromPlaylists'].rolling(window=30).sum()\n",
    "youtube_videos['quarterly_videos_removed'] = youtube_videos['videosRemovedFromPlaylists'].rolling(window=90).sum()\n",
    "\n",
    "# 수익 및 광고 관련\n",
    "youtube_videos['weekly_estimated_revenue'] = youtube_videos['estimatedRevenue'].rolling(window=7).sum()\n",
    "youtube_videos['monthly_estimated_revenue'] = youtube_videos['estimatedRevenue'].rolling(window=30).sum()\n",
    "youtube_videos['quarterly_estimated_revenue'] = youtube_videos['estimatedRevenue'].rolling(window=90).sum()\n",
    "\n",
    "youtube_videos['weekly_estimated_ad_revenue'] = youtube_videos['estimatedAdRevenue'].rolling(window=7).sum()\n",
    "youtube_videos['monthly_estimated_ad_revenue'] = youtube_videos['estimatedAdRevenue'].rolling(window=30).sum()\n",
    "youtube_videos['quarterly_estimated_ad_revenue'] = youtube_videos['estimatedAdRevenue'].rolling(window=90).sum()\n",
    "\n",
    "youtube_videos['weekly_revenue_per_ad_impression'] = youtube_videos['weekly_estimated_ad_revenue'] / (youtube_videos['adImpressions'].rolling(window=7).sum() + 1)\n",
    "youtube_videos['monthly_revenue_per_ad_impression'] = youtube_videos['monthly_estimated_ad_revenue'] / (youtube_videos['adImpressions'].rolling(window=30).sum() + 1)\n",
    "youtube_videos['quarterly_revenue_per_ad_impression'] = youtube_videos['quarterly_estimated_ad_revenue'] / (youtube_videos['adImpressions'].rolling(window=90).sum() + 1)\n",
    "\n",
    "# 카드 및 티저 관련\n",
    "youtube_videos['weekly_card_click_rate'] = youtube_videos['cardClickRate'].rolling(window=7).mean()\n",
    "youtube_videos['monthly_card_click_rate'] = youtube_videos['cardClickRate'].rolling(window=30).mean()\n",
    "youtube_videos['quarterly_card_click_rate'] = youtube_videos['cardClickRate'].rolling(window=90).mean()\n",
    "\n",
    "youtube_videos['weekly_card_teaser_click_rate'] = youtube_videos['cardTeaserClickRate'].rolling(window=7).mean()\n",
    "youtube_videos['monthly_card_teaser_click_rate'] = youtube_videos['cardTeaserClickRate'].rolling(window=30).mean()\n",
    "youtube_videos['quarterly_card_teaser_click_rate'] = youtube_videos['cardTeaserClickRate'].rolling(window=90).mean()\n",
    "\n",
    "youtube_videos['weekly_card_clicks'] = youtube_videos['cardClicks'].rolling(window=7).sum()\n",
    "youtube_videos['monthly_card_clicks'] = youtube_videos['cardClicks'].rolling(window=30).sum()\n",
    "youtube_videos['quarterly_card_clicks'] = youtube_videos['cardClicks'].rolling(window=90).sum()\n",
    "\n",
    "youtube_videos['weekly_card_teaser_clicks'] = youtube_videos['cardTeaserClicks'].rolling(window=7).sum()\n",
    "youtube_videos['monthly_card_teaser_clicks'] = youtube_videos['cardTeaserClicks'].rolling(window=30).sum()\n",
    "youtube_videos['quarterly_card_teaser_clicks'] = youtube_videos['cardTeaserClicks'].rolling(window=90).sum()\n",
    "\n",
    "# 참여도 관련\n",
    "youtube_videos['weekly_total_engagement'] = (youtube_videos['likes'].rolling(window=7).sum() +\n",
    "                                 youtube_videos['dislikes'].rolling(window=7).sum() +\n",
    "                                 youtube_videos['comments'].rolling(window=7).sum() +\n",
    "                                 youtube_videos['shares'].rolling(window=7).sum())\n",
    "\n",
    "youtube_videos['monthly_total_engagement'] = (youtube_videos['likes'].rolling(window=30).sum() +\n",
    "                                  youtube_videos['dislikes'].rolling(window=30).sum() +\n",
    "                                  youtube_videos['comments'].rolling(window=30).sum() +\n",
    "                                  youtube_videos['shares'].rolling(window=30).sum())\n",
    "\n",
    "youtube_videos['quarterly_total_engagement'] = (youtube_videos['likes'].rolling(window=90).sum() +\n",
    "                                    youtube_videos['dislikes'].rolling(window=90).sum() +\n",
    "                                    youtube_videos['comments'].rolling(window=90).sum() +\n",
    "                                    youtube_videos['shares'].rolling(window=90).sum())\n",
    "\n",
    "youtube_videos['weekly_engagement_rate'] = youtube_videos['weekly_total_engagement'] / (youtube_videos['weekly_views'] + 1)\n",
    "youtube_videos['monthly_engagement_rate'] = youtube_videos['monthly_total_engagement'] / (youtube_videos['monthly_views'] + 1)\n",
    "youtube_videos['quarterly_engagement_rate'] = youtube_videos['quarterly_total_engagement'] / (youtube_videos['quarterly_views'] + 1)\n",
    "\n",
    "youtube_videos['weekly_playlist_change_rate'] = (youtube_videos['weekly_videos_added'] - youtube_videos['weekly_videos_removed']) / (youtube_videos['weekly_videos_added'] + 1)\n",
    "youtube_videos['monthly_playlist_change_rate'] = (youtube_videos['monthly_videos_added'] - youtube_videos['monthly_videos_removed']) / (youtube_videos['monthly_videos_added'] + 1)\n",
    "youtube_videos['quarterly_playlist_change_rate'] = (youtube_videos['quarterly_videos_added'] - youtube_videos['quarterly_videos_removed']) / (youtube_videos['quarterly_videos_added'] + 1)"
   ]
  },
  {
   "cell_type": "code",
   "execution_count": 13,
   "metadata": {},
   "outputs": [],
   "source": [
    "# null값 대체\n",
    "youtube_videos = youtube_videos.fillna(0) ## NaN\n",
    "youtube_videos = youtube_videos.replace([np.inf, -np.inf], 0) ## inf"
   ]
  },
  {
   "cell_type": "markdown",
   "metadata": {},
   "source": [
    "### 데이터 분할\n",
    "- 미래를 예측하기 위한 모델이므로 시간순으로 데이터 분할\n",
    "- 시작날짜 : 2023-03-26\n",
    "- 종료날짜 : 2024-05-06\n",
    "- 전체 기간의 80% 날짜 : 2024-02-11"
   ]
  },
  {
   "cell_type": "code",
   "execution_count": 18,
   "metadata": {},
   "outputs": [],
   "source": [
    "# 컬럼 정리\n",
    "unique_col = youtube_videos.columns[:3]\n",
    "x_col = youtube_videos.columns[3:].drop('net_subscribers_change') ## y값 제거"
   ]
  },
  {
   "cell_type": "code",
   "execution_count": 21,
   "metadata": {},
   "outputs": [],
   "source": [
    "# 데이터 분할\n",
    "train_data = youtube_videos[youtube_videos['end_date'] <= '2024-02-11']\n",
    "test_data = youtube_videos[youtube_videos['end_date'] > '2024-02-11']"
   ]
  },
  {
   "cell_type": "code",
   "execution_count": 24,
   "metadata": {},
   "outputs": [],
   "source": [
    "len(test_data)"
   ]
  },
  {
   "cell_type": "code",
   "execution_count": 22,
   "metadata": {},
   "outputs": [
    {
     "name": "stdout",
     "output_type": "stream",
     "text": [
      "(Delayed('int-3a56412b-1e5c-455b-81ab-88ecae1c65ed'), 131)\n",
      "(Delayed('int-31826ee8-6b78-4632-afb2-66ff59fbe08b'), 131)\n"
     ]
    }
   ],
   "source": [
    "# 불균형 확인\n",
    "print(train_data.shape)\n",
    "print(test_data.shape)"
   ]
  },
  {
   "cell_type": "markdown",
   "metadata": {},
   "source": [
    "### 변수선택"
   ]
  },
  {
   "cell_type": "markdown",
   "metadata": {},
   "source": [
    "상관분석"
   ]
  },
  {
   "cell_type": "code",
   "execution_count": null,
   "metadata": {},
   "outputs": [
    {
     "name": "stdout",
     "output_type": "stream",
     "text": [
      "['redViews', 'SUBSCRIBED', 'estimatedMinutesWatched', 'estimated_revenue', 'estimated_ad_revenue', 'estimated_red_partner_revenue', 'gross_revenue', 'cpm', 'subscribers_lost', 'monetized_playbacks', 'revenue_per_ad_impression', 'watched_time_rate', 'gross_revenue_per_ad_impression', 'playback_rate', 'monthly_subscribers_gained', 'quarterly_subscribers_gained', 'weekly_subscribers_lost', 'monthly_subscribers_lost', 'quarterly_subscribers_lost', 'weekly_estimated_revenue', 'monthly_estimated_revenue', 'quarterly_estimated_revenue', 'weekly_estimated_ad_revenue', 'monthly_estimated_ad_revenue', 'quarterly_estimated_ad_revenue', 'weekly_total_view_time', 'monthly_total_view_time', 'quarterly_total_view_time', 'quarterly_revenue_per_ad_impression', 'unplayback_rate']\n",
      "30\n"
     ]
    }
   ],
   "source": [
    "# 상관계수 절대값이 0.3 이상\n",
    "corr_df = train_data[['net_subscribers_change'] + list(x_col)].corr()\n",
    "selected_features_by_corr = list(corr_df[corr_df['net_subscribers_change'] >= 0.3].iloc[:,0].keys()) + list(corr_df[corr_df['net_subscribers_change'] <= -0.3].iloc[:,0].keys())\n",
    "selected_features_by_corr.remove('net_subscribers_change')\n",
    "print(selected_features_by_corr)\n",
    "print(len(selected_features_by_corr))"
   ]
  },
  {
   "cell_type": "markdown",
   "metadata": {},
   "source": [
    "RandomForest"
   ]
  },
  {
   "cell_type": "code",
   "execution_count": null,
   "metadata": {},
   "outputs": [
    {
     "name": "stdout",
     "output_type": "stream",
     "text": [
      "랜덤 포레스트로 선정된 변수: \n",
      "['weekly_subscribers_lost', 'quarterly_estimated_ad_revenue', 'monthly_revenue_per_ad_impression', 'subscriber_decrease_rate', 'subscribers_lost', 'playback_rate', 'weekly_revenue_per_ad_impression', 'weekly_net_subscribers_change', 'unplayback_rate', 'quarterly_subscribers_lost', 'monthly_net_subscribers_change', 'age18-24.female', 'age13-17.female', 'quarterly_net_subscribers_change', 'cpm', 'quarterly_revenue_per_subscriber', 'age25-34.female', 'monthly_subscribers_lost', 'redViews', 'quarterly_avg_view_duration', 'quarterly_subscribers_gained', 'quarterly_estimated_revenue', 'SUBSCRIBED', 'gross_revenue_per_ad_impression', 'UNSUBSCRIBED', 'likes', 'quarterly_total_view_time', 'subscriber_increase_rate', 'weekly_estimated_ad_revenue', 'quarterly_revenue_per_ad_impression', 'monthly_subscribers_gained', 'weekly_estimated_revenue', 'subscriber_view_time_rate', 'monthly_total_view_time', 'revenue_per_subscriber', 'age25-34.male', 'unsubscribed_view_time_rate', 'estimated_red_partner_revenue', 'subscriber_retention_rate', 'age35-44.female', 'quarterly_playback_rate', 'estimated_ad_revenue']\n"
     ]
    }
   ],
   "source": [
    "from sklearn.ensemble import RandomForestRegressor\n",
    "\n",
    "# 랜덤 포레스트 모델 학습\n",
    "rf_model = RandomForestRegressor(random_state=42)\n",
    "rf_model.fit(train_data[x_col], train_data['subscribers_count'])\n",
    "\n",
    "# 변수 중요도 추출\n",
    "importances = rf_model.feature_importances_\n",
    "feature_importance_rf = pd.Series(importances, index=x_col).sort_values(ascending=False)\n",
    "\n",
    "# 중요도 0.001 이상 변수 선정\n",
    "selected_features_by_rf = list(feature_importance_rf[feature_importance_rf >= 0.001].keys())\n",
    "\n",
    "# 중요한 변수 출력\n",
    "print(f\"랜덤 포레스트로 선정된 변수: \\n{selected_features_by_rf}\")"
   ]
  },
  {
   "cell_type": "markdown",
   "metadata": {},
   "source": [
    "Gradient Boosting"
   ]
  },
  {
   "cell_type": "code",
   "execution_count": null,
   "metadata": {},
   "outputs": [
    {
     "name": "stdout",
     "output_type": "stream",
     "text": [
      "Gradient Boosting으로 선정된 변수: \n",
      "['weekly_subscribers_lost', 'subscribers_lost', 'subscriber_decrease_rate', 'quarterly_estimated_ad_revenue', 'quarterly_estimated_revenue', 'gross_revenue_per_ad_impression', 'quarterly_net_subscribers_change', 'monthly_subscribers_lost', 'SUBSCRIBED', 'monthly_estimated_ad_revenue', 'cpm', 'monthly_net_subscribers_change', 'weekly_net_subscribers_change', 'age13-17.female', 'weekly_estimated_revenue', 'revenue_per_subscriber', 'quarterly_subscribers_lost', 'subscriber_increase_rate', 'age25-34.female', 'playback_rate', 'monthly_ad_revenue_rate', 'quarterly_subscribers_gained', 'likes', 'quarterly_total_view_time', 'quarterly_playback_rate', 'monthly_subscribers_gained', 'estimated_ad_revenue', 'subscriber_view_time_rate', 'quarterly_avg_view_duration', 'monthly_total_view_time', 'unplayback_rate', 'quarterly_ad_revenue_rate', 'age18-24.female']\n"
     ]
    }
   ],
   "source": [
    "from sklearn.ensemble import GradientBoostingRegressor\n",
    "\n",
    "# Gradient Boosting 모델 학습\n",
    "gbm_model = GradientBoostingRegressor(random_state=42)\n",
    "gbm_model.fit(train_data[x_col], train_data['subscribers_count'])\n",
    "\n",
    "# 변수 중요도 추출\n",
    "importances = gbm_model.feature_importances_\n",
    "feature_importance_gbm = pd.Series(importances, index=x_col).sort_values(ascending=False)\n",
    "\n",
    "# 중요도 0.001 이상 변수 선정\n",
    "selected_features_by_gbm = list(feature_importance_gbm[feature_importance_gbm >= 0.001].keys())\n",
    "\n",
    "# 중요한 변수 출력\n",
    "print(f\"Gradient Boosting으로 선정된 변수: \\n{selected_features_by_gbm}\")"
   ]
  },
  {
   "cell_type": "markdown",
   "metadata": {},
   "source": [
    "LightGBM"
   ]
  },
  {
   "cell_type": "code",
   "execution_count": null,
   "metadata": {},
   "outputs": [
    {
     "name": "stderr",
     "output_type": "stream",
     "text": [
      "c:\\Users\\kwan\\AppData\\Local\\anaconda3\\envs\\awake_venv\\lib\\site-packages\\dask\\dataframe\\__init__.py:42: FutureWarning: \n",
      "Dask dataframe query planning is disabled because dask-expr is not installed.\n",
      "\n",
      "You can install it with `pip install dask[dataframe]` or `conda install dask`.\n",
      "This will raise in a future version.\n",
      "\n",
      "  warnings.warn(msg, FutureWarning)\n"
     ]
    },
    {
     "name": "stdout",
     "output_type": "stream",
     "text": [
      "[LightGBM] [Info] Auto-choosing col-wise multi-threading, the overhead of testing was 0.081231 seconds.\n",
      "You can set `force_col_wise=true` to remove the overhead.\n",
      "[LightGBM] [Info] Total Bins 28461\n",
      "[LightGBM] [Info] Number of data points in the train set: 84473, number of used features: 112\n",
      "[LightGBM] [Info] Start training from score 65433.322872\n",
      "LightGBM으로 선정된 변수: \n",
      "['subscriber_decrease_rate', 'subscribers_lost', 'weekly_subscribers_lost', 'subscriber_increase_rate', 'subscriber_view_time_rate', 'quarterly_net_subscribers_change', 'weekly_net_subscribers_change', 'monthly_net_subscribers_change', 'quarterly_playback_rate', 'quarterly_avg_view_duration', 'monthly_subscribers_lost', 'quarterly_subscribers_lost', 'age18-24.female', 'SUBSCRIBED', 'quarterly_total_view_time', 'quarterly_estimated_revenue', 'quarterly_ad_revenue_rate', 'revenue_per_subscriber', 'quarterly_estimated_ad_revenue', 'avg_view_duration_rate', 'quarterly_revenue_per_ad_impression', 'quarterly_view_time_per_user', 'monthly_ad_revenue_rate', 'subscribers_gained', 'UNSUBSCRIBED', 'revenue_per_subscribed_view', 'comments', 'dislikes', 'subscriber_retention_rate', 'net_subscribers_change', 'monthly_playback_rate', 'quarterly_revenue_per_subscriber', 'quarterly_subscribers_gained', 'monthly_view_time_per_user', 'subscribed_view_time_rate', 'weekly_playback_rate', 'female_viewer_rate', 'age18-24.male', 'age25-34.female', 'weekly_estimated_ad_revenue']\n"
     ]
    }
   ],
   "source": [
    "import lightgbm as lgb\n",
    "\n",
    "# LightGBM 모델 학습\n",
    "lgb_model = lgb.LGBMRegressor(random_state=42)\n",
    "lgb_model.fit(train_data[x_col], train_data['subscribers_count'])\n",
    "\n",
    "# 변수 중요도 추출\n",
    "importances = lgb_model.feature_importances_\n",
    "feature_importance_lgbm = pd.Series(importances, index=x_col).sort_values(ascending=False)\n",
    "\n",
    "# 중요도 0.001 이상 변수 선정\n",
    "feature_importance_lgbm = feature_importance_lgbm / feature_importance_lgbm.sum() ## 중요도 정규화\n",
    "selected_features_by_lgbm = list(feature_importance_lgbm[feature_importance_lgbm >= 0.005].keys())\n",
    "\n",
    "# 중요한 변수 출력\n",
    "print(f\"LightGBM으로 선정된 변수: \\n{selected_features_by_lgbm}\")\n"
   ]
  },
  {
   "cell_type": "markdown",
   "metadata": {},
   "source": [
    "XGBoost"
   ]
  },
  {
   "cell_type": "code",
   "execution_count": null,
   "metadata": {},
   "outputs": [
    {
     "name": "stdout",
     "output_type": "stream",
     "text": [
      "XGBoost로 선정된 변수: \n",
      "['quarterly_estimated_revenue', 'quarterly_estimated_ad_revenue', 'weekly_subscribers_lost', 'quarterly_net_subscribers_change', 'weekly_estimated_ad_revenue', 'quarterly_subscribers_lost', 'weekly_net_subscribers_change', 'quarterly_total_view_time', 'playback_rate', 'subscribers_lost', 'unplayback_rate', 'age18-24.female', 'subscriber_decrease_rate', 'SUBSCRIBED', 'estimated_revenue', 'age25-34.female', 'cpm', 'quarterly_revenue_per_ad_impression', 'revenue_per_unsubscribed_view', 'monthly_net_subscribers_change', 'quarterly_playback_rate', 'subscribed_view_time_rate', 'subscriber_increase_rate', 'quarterly_avg_view_duration', 'male_viewer_rate', 'revenue_per_red_view', 'monthly_playback_rate', 'weekly_estimated_revenue', 'quarterly_revenue_per_subscriber', 'subscriber_retention_rate', 'estimated_red_partner_revenue', 'views', 'unsubscribed_view_time_rate']\n"
     ]
    }
   ],
   "source": [
    "import xgboost as xgb\n",
    "\n",
    "# XGBoost 모델 학습\n",
    "xgb_model = xgb.XGBRegressor(random_state=42)\n",
    "xgb_model.fit(train_data[x_col], train_data['subscribers_count'])\n",
    "\n",
    "# 변수 중요도 추출\n",
    "importances = xgb_model.feature_importances_\n",
    "feature_importance_xgb = pd.Series(importances, index=x_col).sort_values(ascending=False)\n",
    "\n",
    "# 중요도 0.001 이상 변수 선정\n",
    "selected_features_by_xgb = list(feature_importance_xgb[feature_importance_xgb >= 0.001].keys())\n",
    "\n",
    "# 중요한 변수 출력\n",
    "print(f\"XGBoost로 선정된 변수: \\n{selected_features_by_xgb}\")"
   ]
  },
  {
   "cell_type": "code",
   "execution_count": null,
   "metadata": {},
   "outputs": [],
   "source": [
    "# 비선형모델 활용 변수 선정\n",
    "importances_df = pd.DataFrame({\n",
    "    'features': x_col,\n",
    "    'rf_importance': rf_model.feature_importances_,\n",
    "    'gbm_importance': gbm_model.feature_importances_,\n",
    "    'lgbm_importance': lgb_model.feature_importances_,\n",
    "    'xgb_importance': xgb_model.feature_importances_    \n",
    "})\n",
    "importances_df['lgbm_importance'] = importances_df['lgbm_importance'] / importances_df['lgbm_importance'].sum() ## 다른 모델과 중요도 단위 다르기 때문에 정규화\n",
    "importances_df['mean_importance'] = importances_df[['rf_importance', 'gbm_importance', 'lgbm_importance', 'xgb_importance']].mean(axis=1) ## 각 변수별 모델 중요도 평균"
   ]
  },
  {
   "cell_type": "code",
   "execution_count": null,
   "metadata": {},
   "outputs": [],
   "source": [
    "# 최종 변수 선택\n",
    "final_selected_features = list(set(list(importances_df[importances_df['mean_importance'] >= 0.004]['features']) + selected_features_by_corr))"
   ]
  },
  {
   "cell_type": "code",
   "execution_count": null,
   "metadata": {},
   "outputs": [],
   "source": [
    "# 최종 모델링 데이터셋\n",
    "merge_df_users_final = merge_df_users_fin[list(unique_col) + final_selected_features + ['subscribers_count']]"
   ]
  },
  {
   "cell_type": "code",
   "execution_count": null,
   "metadata": {},
   "outputs": [],
   "source": [
    "# merge_df_users_final.to_csv('C:/py_src/awake/data/merge_df_users_final2.csv', encoding='utf-8-sig', index=False)"
   ]
  },
  {
   "cell_type": "code",
   "execution_count": 100,
   "metadata": {},
   "outputs": [],
   "source": [
    "youtube_videos_final = youtube_videos[list(unique_col) + final_selected_features + ['y_label']]"
   ]
  },
  {
   "cell_type": "code",
   "execution_count": 101,
   "metadata": {},
   "outputs": [],
   "source": [
    "# youtube_videos_final.to_csv('C:/py_src/awake/data/youtube_videos_final.csv', encoding='utf-8-sig', index=False)"
   ]
  }
 ],
 "metadata": {
  "kernelspec": {
   "display_name": "awake_venv",
   "language": "python",
   "name": "python3"
  },
  "language_info": {
   "codemirror_mode": {
    "name": "ipython",
    "version": 3
   },
   "file_extension": ".py",
   "mimetype": "text/x-python",
   "name": "python",
   "nbconvert_exporter": "python",
   "pygments_lexer": "ipython3",
   "version": "3.10.14"
  }
 },
 "nbformat": 4,
 "nbformat_minor": 2
}
