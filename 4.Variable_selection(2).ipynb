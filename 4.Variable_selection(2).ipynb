{
 "cells": [
  {
   "cell_type": "code",
   "execution_count": 1,
   "metadata": {},
   "outputs": [],
   "source": [
    "import pymongo\n",
    "import pandas as pd\n",
    "import numpy as np\n",
    "import math\n",
    "from datetime import datetime\n",
    "\n",
    "# import dask.dataframe as dd ## 대규모 데이터 처리\n",
    "# import vaex ## 대규모 데이터 처리\n",
    "\n",
    "# from sklearn.linear_model import LinearRegression ## likes, dislikes 대체\n",
    "from sklearn.preprocessing import StandardScaler\n",
    "from sklearn.ensemble import IsolationForest\n",
    "from sklearn.model_selection import train_test_split\n",
    "from imblearn.under_sampling import RandomUnderSampler\n",
    "from sklearn.ensemble import RandomForestClassifier\n",
    "from sklearn.metrics import accuracy_score, confusion_matrix, classification_report, roc_auc_score, roc_curve\n",
    "import matplotlib.pyplot as plt\n",
    "import seaborn as sns\n",
    "\n",
    "import os\n",
    "from dotenv import load_dotenv"
   ]
  },
  {
   "cell_type": "code",
   "execution_count": 2,
   "metadata": {},
   "outputs": [],
   "source": [
    "file_path = 'C:/py_src/awake/data/'"
   ]
  },
  {
   "cell_type": "code",
   "execution_count": 3,
   "metadata": {},
   "outputs": [],
   "source": [
    "# 계정 / 콘텐츠 분석 데이터셋 불러오기\n",
    "merge_df_users_fin = pd.read_csv(file_path + 'merge_df_users_fin_eda.csv', low_memory=False)\n",
    "# youtube_videos = pd.read_csv(file_path + 'youtube_videos_eda.csv')"
   ]
  },
  {
   "cell_type": "markdown",
   "metadata": {},
   "source": [
    "## 계정 데이터 분석"
   ]
  },
  {
   "cell_type": "code",
   "execution_count": 4,
   "metadata": {},
   "outputs": [],
   "source": [
    "# 불필요정보 제거 - y값 제거(다른 모델)\n",
    "merge_df_users_fin = merge_df_users_fin.drop('y_label',axis=1)\n",
    "## y값 : merge_df_users_fin['subscribers_count']"
   ]
  },
  {
   "cell_type": "markdown",
   "metadata": {},
   "source": [
    "### 기간별 피처 생성"
   ]
  },
  {
   "cell_type": "code",
   "execution_count": 5,
   "metadata": {},
   "outputs": [],
   "source": [
    "# 주별, 월별, 분기별 변수 생성\n",
    "\n",
    "# 구독자 관련 변수\n",
    "merge_df_users_fin['weekly_subscribers_gained'] = merge_df_users_fin['subscribers_gained'].rolling(window=7).sum()\n",
    "merge_df_users_fin['monthly_subscribers_gained'] = merge_df_users_fin['subscribers_gained'].rolling(window=30).sum()\n",
    "merge_df_users_fin['quarterly_subscribers_gained'] = merge_df_users_fin['subscribers_gained'].rolling(window=90).sum()\n",
    "\n",
    "merge_df_users_fin['weekly_subscribers_lost'] = merge_df_users_fin['subscribers_lost'].rolling(window=7).sum()\n",
    "merge_df_users_fin['monthly_subscribers_lost'] = merge_df_users_fin['subscribers_lost'].rolling(window=30).sum()\n",
    "merge_df_users_fin['quarterly_subscribers_lost'] = merge_df_users_fin['subscribers_lost'].rolling(window=90).sum()\n",
    "\n",
    "merge_df_users_fin['weekly_net_subscribers_change'] = merge_df_users_fin['weekly_subscribers_gained'] - merge_df_users_fin['weekly_subscribers_lost']\n",
    "merge_df_users_fin['monthly_net_subscribers_change'] = merge_df_users_fin['monthly_subscribers_gained'] - merge_df_users_fin['monthly_subscribers_lost']\n",
    "merge_df_users_fin['quarterly_net_subscribers_change'] = merge_df_users_fin['quarterly_subscribers_gained'] - merge_df_users_fin['quarterly_subscribers_lost']\n",
    "\n",
    "# 수익 관련 변수\n",
    "merge_df_users_fin['weekly_estimated_revenue'] = merge_df_users_fin['estimated_revenue'].rolling(window=7).sum()\n",
    "merge_df_users_fin['monthly_estimated_revenue'] = merge_df_users_fin['estimated_revenue'].rolling(window=30).sum()\n",
    "merge_df_users_fin['quarterly_estimated_revenue'] = merge_df_users_fin['estimated_revenue'].rolling(window=90).sum()\n",
    "\n",
    "merge_df_users_fin['weekly_estimated_ad_revenue'] = merge_df_users_fin['estimated_ad_revenue'].rolling(window=7).sum()\n",
    "merge_df_users_fin['monthly_estimated_ad_revenue'] = merge_df_users_fin['estimated_ad_revenue'].rolling(window=30).sum()\n",
    "merge_df_users_fin['quarterly_estimated_ad_revenue'] = merge_df_users_fin['estimated_ad_revenue'].rolling(window=90).sum()\n",
    "\n",
    "merge_df_users_fin['weekly_revenue_per_subscriber'] = merge_df_users_fin['weekly_estimated_revenue'] / (merge_df_users_fin['weekly_subscribers_gained'] + 1)\n",
    "merge_df_users_fin['monthly_revenue_per_subscriber'] = merge_df_users_fin['monthly_estimated_revenue'] / (merge_df_users_fin['monthly_subscribers_gained'] + 1)\n",
    "merge_df_users_fin['quarterly_revenue_per_subscriber'] = merge_df_users_fin['quarterly_estimated_revenue'] / (merge_df_users_fin['quarterly_subscribers_gained'] + 1)\n",
    "\n",
    "# 시청 시간 관련 변수\n",
    "merge_df_users_fin['weekly_avg_view_duration'] = merge_df_users_fin['averageViewDuration'].rolling(window=7).mean()\n",
    "merge_df_users_fin['monthly_avg_view_duration'] = merge_df_users_fin['averageViewDuration'].rolling(window=30).mean()\n",
    "merge_df_users_fin['quarterly_avg_view_duration'] = merge_df_users_fin['averageViewDuration'].rolling(window=90).mean()\n",
    "\n",
    "merge_df_users_fin['weekly_total_view_time'] = merge_df_users_fin['estimatedMinutesWatched'].rolling(window=7).sum()\n",
    "merge_df_users_fin['monthly_total_view_time'] = merge_df_users_fin['estimatedMinutesWatched'].rolling(window=30).sum()\n",
    "merge_df_users_fin['quarterly_total_view_time'] = merge_df_users_fin['estimatedMinutesWatched'].rolling(window=90).sum()\n",
    "\n",
    "merge_df_users_fin['weekly_view_time_per_user'] = merge_df_users_fin['weekly_total_view_time'] / (merge_df_users_fin['weekly_subscribers_gained'] + 1)\n",
    "merge_df_users_fin['monthly_view_time_per_user'] = merge_df_users_fin['monthly_total_view_time'] / (merge_df_users_fin['monthly_subscribers_gained'] + 1)\n",
    "merge_df_users_fin['quarterly_view_time_per_user'] = merge_df_users_fin['quarterly_total_view_time'] / (merge_df_users_fin['quarterly_subscribers_gained'] + 1)\n",
    "\n",
    "# 광고 관련 변수\n",
    "merge_df_users_fin['weekly_playback_rate'] = merge_df_users_fin['playback_based_cpm'].rolling(window=7).mean()\n",
    "merge_df_users_fin['monthly_playback_rate'] = merge_df_users_fin['playback_based_cpm'].rolling(window=30).mean()\n",
    "merge_df_users_fin['quarterly_playback_rate'] = merge_df_users_fin['playback_based_cpm'].rolling(window=90).mean()\n",
    "\n",
    "merge_df_users_fin['weekly_ad_revenue_rate'] = merge_df_users_fin['estimated_ad_revenue'] / (merge_df_users_fin['weekly_total_view_time'] + 1)\n",
    "merge_df_users_fin['monthly_ad_revenue_rate'] = merge_df_users_fin['estimated_ad_revenue'] / (merge_df_users_fin['monthly_total_view_time'] + 1)\n",
    "merge_df_users_fin['quarterly_ad_revenue_rate'] = merge_df_users_fin['estimated_ad_revenue'] / (merge_df_users_fin['quarterly_total_view_time'] + 1)\n",
    "\n",
    "merge_df_users_fin['weekly_revenue_per_ad_impression'] = merge_df_users_fin['weekly_estimated_ad_revenue'] / (merge_df_users_fin['ad_impressions'].rolling(window=7).sum() + 1)\n",
    "merge_df_users_fin['monthly_revenue_per_ad_impression'] = merge_df_users_fin['monthly_estimated_ad_revenue'] / (merge_df_users_fin['ad_impressions'].rolling(window=30).sum() + 1)\n",
    "merge_df_users_fin['quarterly_revenue_per_ad_impression'] = merge_df_users_fin['quarterly_estimated_ad_revenue'] / (merge_df_users_fin['ad_impressions'].rolling(window=90).sum() + 1)"
   ]
  },
  {
   "cell_type": "markdown",
   "metadata": {},
   "source": [
    "### 데이터 분할\n",
    "- 미래를 예측하기 위한 모델이므로 시간순으로 데이터 분할\n",
    "- 시작날짜 : 2023-03-26\n",
    "- 종료날짜 : 2024-05-06\n",
    "- 전체 기간의 80% 날짜 : 2024-02-11"
   ]
  },
  {
   "cell_type": "code",
   "execution_count": 6,
   "metadata": {},
   "outputs": [],
   "source": [
    "# 컬럼 정리\n",
    "unique_col = merge_df_users_fin.columns[:11]\n",
    "x_col = merge_df_users_fin.columns[11:].drop('subscribers_count') ## y값 제거"
   ]
  },
  {
   "cell_type": "code",
   "execution_count": 7,
   "metadata": {},
   "outputs": [],
   "source": [
    "# 데이터 분할\n",
    "train_data = merge_df_users_fin[merge_df_users_fin['date'] <= '2024-02-11']\n",
    "test_data = merge_df_users_fin[merge_df_users_fin['date'] > '2024-02-11']"
   ]
  },
  {
   "cell_type": "code",
   "execution_count": 8,
   "metadata": {},
   "outputs": [
    {
     "name": "stdout",
     "output_type": "stream",
     "text": [
      "(84473, 124)\n",
      "(21210, 124)\n"
     ]
    }
   ],
   "source": [
    "# 불균형 확인\n",
    "print(train_data.shape)\n",
    "print(test_data.shape)"
   ]
  },
  {
   "cell_type": "markdown",
   "metadata": {},
   "source": [
    "### 변수선택"
   ]
  },
  {
   "cell_type": "markdown",
   "metadata": {},
   "source": [
    "상관분석"
   ]
  },
  {
   "cell_type": "code",
   "execution_count": 13,
   "metadata": {},
   "outputs": [
    {
     "name": "stdout",
     "output_type": "stream",
     "text": [
      "['redViews', 'SUBSCRIBED', 'estimatedMinutesWatched', 'estimated_revenue', 'estimated_ad_revenue', 'estimated_red_partner_revenue', 'gross_revenue', 'cpm', 'subscribers_lost', 'monetized_playbacks', 'revenue_per_ad_impression', 'watched_time_rate', 'gross_revenue_per_ad_impression', 'playback_rate', 'monthly_subscribers_gained', 'quarterly_subscribers_gained', 'weekly_subscribers_lost', 'monthly_subscribers_lost', 'quarterly_subscribers_lost', 'weekly_estimated_revenue', 'monthly_estimated_revenue', 'quarterly_estimated_revenue', 'weekly_estimated_ad_revenue', 'monthly_estimated_ad_revenue', 'quarterly_estimated_ad_revenue', 'weekly_total_view_time', 'monthly_total_view_time', 'quarterly_total_view_time', 'quarterly_revenue_per_ad_impression', 'unplayback_rate']\n",
      "30\n"
     ]
    }
   ],
   "source": [
    "# 상관계수 절대값이 0.3 이상\n",
    "corr_df = train_data[['subscribers_count'] + list(x_col)].corr()\n",
    "selected_features_by_corr = list(corr_df[corr_df['subscribers_count'] >= 0.3].iloc[:,0].keys()) + list(corr_df[corr_df['subscribers_count'] <= -0.3].iloc[:,0].keys())\n",
    "selected_features_by_corr.remove('subscribers_count')\n",
    "print(selected_features_by_corr)\n",
    "print(len(selected_features_by_corr))"
   ]
  },
  {
   "cell_type": "markdown",
   "metadata": {},
   "source": [
    "RandomForest"
   ]
  },
  {
   "cell_type": "code",
   "execution_count": 14,
   "metadata": {},
   "outputs": [],
   "source": [
    "from sklearn.ensemble import RandomForestRegressor\n",
    "\n",
    "# 랜덤 포레스트 모델 학습\n",
    "rf_model = RandomForestRegressor(random_state=42)\n",
    "rf_model.fit(train_data[x_col], train_data['subscribers_count'])\n",
    "\n",
    "# 변수 중요도 추출\n",
    "importances = rf_model.feature_importances_\n",
    "feature_importance_rf = pd.Series(importances, index=x_col).sort_values(ascending=False)\n",
    "\n",
    "# 중요도 0.001 이상 변수 선정\n",
    "selected_features_by_rf = list(feature_importance_rf[feature_importance_rf >= 0.001].keys())\n",
    "\n",
    "# 중요한 변수 출력\n",
    "print(f\"랜덤 포레스트로 선정된 변수: \\n{selected_features_by_rf}\")"
   ]
  },
  {
   "cell_type": "markdown",
   "metadata": {},
   "source": [
    "Gradient Boosting"
   ]
  },
  {
   "cell_type": "code",
   "execution_count": 15,
   "metadata": {},
   "outputs": [
    {
     "name": "stdout",
     "output_type": "stream",
     "text": [
      "Gradient Boosting으로 선정된 상위 10개 변수: \n",
      "subscribers_lost                   0.489201\n",
      "subscriber_decrease_rate           0.144005\n",
      "gross_revenue_per_ad_impression    0.126283\n",
      "unplayback_rate                    0.074181\n",
      "net_subscribers_change             0.045006\n",
      "SUBSCRIBED                         0.032577\n",
      "cpm                                0.031536\n",
      "age13-17.female                    0.020211\n",
      "revenue_per_subscriber             0.005551\n",
      "subscriber_view_time_rate          0.004379\n",
      "dtype: float64\n"
     ]
    }
   ],
   "source": [
    "from sklearn.ensemble import GradientBoostingRegressor\n",
    "\n",
    "# Gradient Boosting 모델 학습\n",
    "gbm_model = GradientBoostingRegressor(random_state=42)\n",
    "gbm_model.fit(train_data[x_col], train_data['subscribers_count'])\n",
    "\n",
    "# 변수 중요도 추출\n",
    "importances = gbm_model.feature_importances_\n",
    "feature_importance_gbm = pd.Series(importances, index=x_col).sort_values(ascending=False)\n",
    "\n",
    "# 중요도 0.001 이상 변수 선정\n",
    "selected_features_by_gbm = list(feature_importance_gbm[feature_importance_gbm >= 0.001].keys())\n",
    "\n",
    "# 중요한 변수 출력\n",
    "print(f\"Gradient Boosting으로 선정된 변수: \\n{selected_features_by_gbm}\")"
   ]
  },
  {
   "cell_type": "markdown",
   "metadata": {},
   "source": [
    "LightGBM"
   ]
  },
  {
   "cell_type": "code",
   "execution_count": null,
   "metadata": {},
   "outputs": [
    {
     "name": "stderr",
     "output_type": "stream",
     "text": [
      "c:\\Users\\kwan\\AppData\\Local\\anaconda3\\envs\\awake_venv\\lib\\site-packages\\dask\\dataframe\\__init__.py:42: FutureWarning: \n",
      "Dask dataframe query planning is disabled because dask-expr is not installed.\n",
      "\n",
      "You can install it with `pip install dask[dataframe]` or `conda install dask`.\n",
      "This will raise in a future version.\n",
      "\n",
      "  warnings.warn(msg, FutureWarning)\n"
     ]
    },
    {
     "name": "stdout",
     "output_type": "stream",
     "text": [
      "[LightGBM] [Info] Auto-choosing row-wise multi-threading, the overhead of testing was 0.018887 seconds.\n",
      "You can set `force_row_wise=true` to remove the overhead.\n",
      "And if memory is not enough, you can set `force_col_wise=true`.\n",
      "[LightGBM] [Info] Total Bins 19281\n",
      "[LightGBM] [Info] Number of data points in the train set: 84473, number of used features: 76\n",
      "[LightGBM] [Info] Start training from score 65433.322872\n",
      "LightGBM으로 선정된 변수: \n",
      "['subscriber_decrease_rate', 'subscribers_lost', 'subscriber_increase_rate', 'net_subscribers_change', 'subscriber_view_time_rate', 'revenue_per_subscriber', 'gross_revenue_per_ad_impression', 'age18-24.female', 'subscribers_gained', 'dislikes', 'avg_view_duration_rate', 'estimated_red_partner_revenue', 'subscriber_retention_rate', 'comments', 'age13-17.female', 'age45-54.female', 'cpm', 'SUBSCRIBED', 'playback_based_cpm', 'subscribers_conversion_rate', 'age25-34.female', 'UNSUBSCRIBED', 'subscribed_view_time_rate', 'redViews', 'age45-54.male', 'like_to_dislike_ratio', 'age18-24.male', 'estimatedMinutesWatched', 'female_viewer_rate', 'age35-44.female', 'cpm_to_revenue_ratio', 'revenue_per_minute_watched', 'age55-64.female', 'averageViewPercentage', 'age13-17.male', 'revenue_per_view', 'share_rate', 'unsubscribed_view_rate', 'revenue_per_red_view', 'unsubscribed_view_time_rate', 'comment_rate', 'revenue_per_subscribed_view', 'comment_to_like_rate', 'estimated_revenue', 'adult_viewer_rate', 'subscribed_view_rate', 'estimated_ad_revenue', 'revenue_per_ad_impression', 'age25-34.male', 'ad_impressions', 'total_engage_rate', 'shares', 'likes', 'averageViewDuration', 'monetized_playbacks', 'older_viewer_rate', 'age35-44.male', 'playback_rate', 'age55-64.male', 'male_viewer_rate', 'dislike_rate', 'youth_viewer_rate', 'watched_time_rate', 'ad_revenue_rate', 'gross_revenue', 'playback_based_cpm_rate', 'views', 'age65-.female', 'red_revenue_rate', 'revenue_per_unsubscribed_view', 'like_rate', 'positive_engage_rate', 'age65-.male', 'watched_view_rate', 'unplayback_rate']\n"
     ]
    }
   ],
   "source": [
    "import lightgbm as lgb\n",
    "\n",
    "# LightGBM 모델 학습\n",
    "lgb_model = lgb.LGBMRegressor(random_state=42)\n",
    "lgb_model.fit(train_data[x_col], train_data['subscribers_count'])\n",
    "\n",
    "# 변수 중요도 추출\n",
    "importances = lgb_model.feature_importances_\n",
    "feature_importance_lgbm = pd.Series(importances, index=x_col).sort_values(ascending=False)\n",
    "\n",
    "# 중요도 0.001 이상 변수 선정\n",
    "feature_importance_lgbm = feature_importance_lgbm / feature_importance_lgbm.sum() ## 중요도 정규화\n",
    "selected_features_by_lgbm = list(feature_importance_lgbm[feature_importance_lgbm >= 0.005].keys())\n",
    "\n",
    "# 중요한 변수 출력\n",
    "print(f\"LightGBM으로 선정된 변수: \\n{selected_features_by_lgbm}\")\n"
   ]
  },
  {
   "cell_type": "markdown",
   "metadata": {},
   "source": [
    "XGBoost"
   ]
  },
  {
   "cell_type": "code",
   "execution_count": 26,
   "metadata": {},
   "outputs": [
    {
     "name": "stdout",
     "output_type": "stream",
     "text": [
      "XGBoost로 선정된 상위 10개 변수: \n",
      "cpm                         0.572726\n",
      "age13-17.female             0.139477\n",
      "subscribers_lost            0.076834\n",
      "net_subscribers_change      0.040480\n",
      "adult_viewer_rate           0.024873\n",
      "subscriber_decrease_rate    0.023228\n",
      "age18-24.female             0.016084\n",
      "age18-24.male               0.013767\n",
      "SUBSCRIBED                  0.013691\n",
      "age45-54.male               0.007620\n",
      "dtype: float32\n"
     ]
    }
   ],
   "source": [
    "import xgboost as xgb\n",
    "\n",
    "# XGBoost 모델 학습\n",
    "xgb_model = xgb.XGBRegressor(random_state=42)\n",
    "xgb_model.fit(train_data[x_col], train_data['subscribers_count'])\n",
    "\n",
    "# 변수 중요도 추출\n",
    "importances = xgb_model.feature_importances_\n",
    "feature_importance_xgb = pd.Series(importances, index=x_col).sort_values(ascending=False)\n",
    "\n",
    "# 중요도 0.001 이상 변수 선정\n",
    "selected_features_by_xgb = list(feature_importance_xgb[feature_importance_xgb >= 0.001].keys())\n",
    "\n",
    "# 중요한 변수 출력\n",
    "print(f\"XGBoost로 선정된 변수: \\n{selected_features_by_xgb}\")"
   ]
  },
  {
   "cell_type": "code",
   "execution_count": 124,
   "metadata": {},
   "outputs": [],
   "source": [
    "# 비선형모델 활용 변수 선정\n",
    "importances_df = pd.DataFrame({\n",
    "    'features': x_col,\n",
    "    'rf_importance': rf_model.feature_importances_,\n",
    "    'gbm_importance': gbm_model.feature_importances_,\n",
    "    'lgbm_importance': lgb_model.feature_importances_,\n",
    "    'xgb_importance': xgb_model.feature_importances_    \n",
    "})\n",
    "importances_df['lgbm_importance'] = importances_df['lgbm_importance'] / importances_df['lgbm_importance'].sum() ## 다른 모델과 중요도 단위 다르기 때문에 정규화\n",
    "importances_df['mean_importance'] = importances_df[['rf_importance', 'gbm_importance', 'lgbm_importance', 'xgb_importance']].mean(axis=1) ## 각 변수별 모델 중요도 평균"
   ]
  },
  {
   "cell_type": "code",
   "execution_count": 133,
   "metadata": {},
   "outputs": [],
   "source": [
    "# 최종 변수 선택\n",
    "final_selected_features = list(set(list(importances_df[importances_df['mean_importance'] >= 0.004]['features']) + selected_features_by_corr))"
   ]
  },
  {
   "cell_type": "code",
   "execution_count": 138,
   "metadata": {},
   "outputs": [],
   "source": [
    "# 최종 모델링 데이터셋\n",
    "merge_df_users_final = merge_df_users_fin[list(unique_col) + final_selected_features + ['subscribers_count']]"
   ]
  },
  {
   "cell_type": "code",
   "execution_count": 143,
   "metadata": {},
   "outputs": [],
   "source": [
    "# merge_df_users_final.to_csv('C:/py_src/awake/data/merge_df_users_final2.csv', encoding='utf-8-sig', index=False)"
   ]
  },
  {
   "cell_type": "markdown",
   "metadata": {},
   "source": [
    "## 콘텐츠 데이터 분석"
   ]
  },
  {
   "cell_type": "markdown",
   "metadata": {},
   "source": [
    "### 데이터 분할"
   ]
  },
  {
   "cell_type": "code",
   "execution_count": 73,
   "metadata": {},
   "outputs": [],
   "source": [
    "# 컬럼 정리\n",
    "unique_col = youtube_videos.columns[:3]\n",
    "x_col = youtube_videos.columns[3:-1]"
   ]
  },
  {
   "cell_type": "code",
   "execution_count": 77,
   "metadata": {},
   "outputs": [],
   "source": [
    "# 데이터 분할\n",
    "X = youtube_videos[x_col].drop(columns=['total_engage_rate', 'net_subscribers_change', 'averageViewPercentage', 'revenue_per_view', 'grossRevenue_per_ad_impression','total_card_teaser_click_rate','playlist_engagement_rate']) ## y값 라벨링에 쓰인 지표 제거\n",
    "y = youtube_videos['y_label']\n",
    "X_train, X_test, y_train, y_test = train_test_split(X, y, test_size=0.2, random_state=42)"
   ]
  },
  {
   "cell_type": "code",
   "execution_count": 36,
   "metadata": {},
   "outputs": [],
   "source": [
    "# del X, y"
   ]
  },
  {
   "cell_type": "code",
   "execution_count": 78,
   "metadata": {},
   "outputs": [
    {
     "name": "stdout",
     "output_type": "stream",
     "text": [
      "y_label\n",
      "1    6513105\n",
      "0     342503\n",
      "Name: count, dtype: int64\n",
      "y_label\n",
      "1    1627933\n",
      "0      85970\n",
      "Name: count, dtype: int64\n"
     ]
    }
   ],
   "source": [
    "# 불균형 확인\n",
    "print(y_train.value_counts())\n",
    "print(y_test.value_counts())"
   ]
  },
  {
   "cell_type": "markdown",
   "metadata": {},
   "source": [
    "### 언더샘플링"
   ]
  },
  {
   "cell_type": "code",
   "execution_count": 79,
   "metadata": {},
   "outputs": [],
   "source": [
    "# 언더샘플링\n",
    "rus = RandomUnderSampler(random_state=42)\n",
    "X_train_resampled, y_train_resampled = rus.fit_resample(X_train, y_train)"
   ]
  },
  {
   "cell_type": "markdown",
   "metadata": {},
   "source": [
    "### 변수선택"
   ]
  },
  {
   "cell_type": "markdown",
   "metadata": {},
   "source": [
    "t-test"
   ]
  },
  {
   "cell_type": "code",
   "execution_count": 80,
   "metadata": {},
   "outputs": [
    {
     "name": "stdout",
     "output_type": "stream",
     "text": [
      "Selected Features by t-test: ['views', 'redViews', 'comments', 'likes', 'dislikes', 'shares', 'estimatedMinutesWatched', 'estimatedRedMinutesWatched', 'averageViewDuration', 'videosAddedToPlaylists', 'videosRemovedFromPlaylists', 'estimatedRevenue', 'estimatedAdRevenue', 'grossRevenue', 'estimatedRedPartnerRevenue', 'playbackBasedCpm', 'cpm', 'subscribersGained', 'subscribersLost', 'monetizedPlaybacks', 'adImpressions', 'cardClickRate', 'cardTeaserClickRate', 'cardImpressions', 'cardTeaserImpressions', 'cardClicks', 'cardTeaserClicks', 'like_rate', 'comment_rate', 'share_rate', 'dislike_rate', 'positive_engage_rate', 'comment_to_like_rate', 'like_to_dislike_ratio', 'subscribers_conversion_rate', 'subscribers_gained_per_card_click', 'subscribers_gained_per_playlist_add', 'card_click_to_subscriber_conversion', 'subscribers_lost_per_playlist_remove', 'revenue_per_red_view', 'ad_revenue_rate', 'red_revenue_rate', 'cpm_to_revenue_ratio', 'revenue_per_ad_impression', 'playback_based_cpm_rate', 'revenue_per_card_click', 'revenue_per_playlist_add', 'net_revenue_per_playlist_add', 'ad_revenue_per_card_click', 'revenue_per_minute_watched', 'avg_view_duration_rate', 'watched_time_rate', 'watched_view_rate', 'watch_time_per_card_click', 'watch_time_per_playlist_add', 'avg_view_duration_per_card_click', 'watch_time_loss_per_playlist_remove', 'revenue_per_playback', 'playback_rate', 'unplayback_rate', 'ad_impressions_per_card_click', 'ad_impressions_per_playlist_add', 'ad_playbacks_per_card_click', 'ad_playbacks_per_playlist_add', 'card_to_teaser_click_rate', 'card_click_per_impression_rate', 'card_teaser_click_per_impression_rate', 'card_conversion_rate', 'playlist_addition_rate', 'playlist_removal_rate', 'net_playlist_addition_rate', 'playlist_related_revenue_rate']\n"
     ]
    }
   ],
   "source": [
    "from scipy.stats import ttest_ind\n",
    "\n",
    "# y=0과 y=1 그룹으로 데이터 나누기\n",
    "group_0 = X_train_resampled[y_train_resampled == 0]\n",
    "group_1 = X_train_resampled[y_train_resampled == 1]\n",
    "\n",
    "# t-test 수행\n",
    "p_values = []\n",
    "for col in X_train_resampled.columns:\n",
    "    t_stat, p_val = ttest_ind(group_0[col], group_1[col], equal_var=False)  # Welch's t-test\n",
    "    p_values.append((col, p_val))\n",
    "\n",
    "# p-value < 0.05인 변수 선택\n",
    "selected_features_by_ttest = [col for col, p_val in p_values if p_val < 0.05]\n",
    "print(\"Selected Features by t-test:\", selected_features_by_ttest)"
   ]
  },
  {
   "cell_type": "code",
   "execution_count": 81,
   "metadata": {},
   "outputs": [
    {
     "data": {
      "text/plain": [
       "72"
      ]
     },
     "execution_count": 81,
     "metadata": {},
     "output_type": "execute_result"
    }
   ],
   "source": [
    "len(selected_features_by_ttest)"
   ]
  },
  {
   "cell_type": "markdown",
   "metadata": {},
   "source": [
    "Lasso"
   ]
  },
  {
   "cell_type": "code",
   "execution_count": 86,
   "metadata": {},
   "outputs": [
    {
     "name": "stdout",
     "output_type": "stream",
     "text": [
      "Selected Features by Lasso: Index(['views', 'redViews', 'comments', 'likes', 'dislikes', 'shares',\n",
      "       'estimatedRedMinutesWatched', 'averageViewDuration',\n",
      "       'videosAddedToPlaylists', 'videosRemovedFromPlaylists',\n",
      "       'estimatedRevenue', 'estimatedAdRevenue', 'grossRevenue',\n",
      "       'playbackBasedCpm', 'cpm', 'subscribersGained', 'subscribersLost',\n",
      "       'monetizedPlaybacks', 'adImpressions', 'cardClickRate',\n",
      "       'cardTeaserClickRate', 'cardImpressions', 'cardTeaserImpressions',\n",
      "       'like_rate', 'comment_rate', 'dislike_rate', 'positive_engage_rate',\n",
      "       'comment_to_like_rate', 'like_to_dislike_ratio',\n",
      "       'subscribers_conversion_rate', 'subscribers_gained_per_playlist_add',\n",
      "       'revenue_per_red_view', 'ad_revenue_rate', 'red_revenue_rate',\n",
      "       'cpm_to_revenue_ratio', 'revenue_per_ad_impression',\n",
      "       'playback_based_cpm_rate', 'revenue_per_playlist_add',\n",
      "       'net_revenue_per_playlist_add', 'revenue_per_minute_watched',\n",
      "       'avg_view_duration_rate', 'watched_view_rate',\n",
      "       'watch_time_per_playlist_add', 'avg_view_duration_per_card_click',\n",
      "       'watch_time_loss_per_playlist_remove', 'revenue_per_playback',\n",
      "       'unplayback_rate', 'ad_playbacks_per_playlist_add',\n",
      "       'card_click_per_impression_rate',\n",
      "       'card_teaser_click_per_impression_rate', 'card_conversion_rate',\n",
      "       'playlist_addition_rate', 'playlist_removal_rate',\n",
      "       'playlist_related_revenue_rate'],\n",
      "      dtype='object')\n"
     ]
    }
   ],
   "source": [
    "from sklearn.linear_model import LassoCV\n",
    "from sklearn.preprocessing import StandardScaler\n",
    "\n",
    "# t-test로 선택된 변수로 데이터프레임 구성\n",
    "X_train_ttest_selected = X_train_resampled[selected_features_by_ttest]\n",
    "\n",
    "# 데이터 스케일링\n",
    "scaler = StandardScaler()\n",
    "X_train_scaled = scaler.fit_transform(X_train_ttest_selected)\n",
    "\n",
    "# LassoCV 모델 설정: 반복 횟수 증가, alpha 범위 조정\n",
    "lasso = LassoCV(cv=5, random_state=42, max_iter=10000, alphas=[0.1, 0.05, 0.01, 0.005, 0.001]).fit(X_train_scaled, y_train_resampled)\n",
    "\n",
    "# 선택된 변수 확인 (회귀 계수가 0이 아닌 변수들)\n",
    "selected_features_by_lasso = X_train_ttest_selected.columns[(lasso.coef_ != 0)]\n",
    "print(\"Selected Features by Lasso:\", selected_features_by_lasso)"
   ]
  },
  {
   "cell_type": "code",
   "execution_count": 87,
   "metadata": {},
   "outputs": [
    {
     "data": {
      "text/plain": [
       "54"
      ]
     },
     "execution_count": 87,
     "metadata": {},
     "output_type": "execute_result"
    }
   ],
   "source": [
    "len(selected_features_by_lasso)"
   ]
  },
  {
   "cell_type": "code",
   "execution_count": 91,
   "metadata": {},
   "outputs": [
    {
     "data": {
      "text/plain": [
       "{'ad_impressions_per_card_click',\n",
       " 'ad_impressions_per_playlist_add',\n",
       " 'ad_playbacks_per_card_click',\n",
       " 'ad_revenue_per_card_click',\n",
       " 'cardClicks',\n",
       " 'cardTeaserClicks',\n",
       " 'card_click_to_subscriber_conversion',\n",
       " 'card_to_teaser_click_rate',\n",
       " 'estimatedMinutesWatched',\n",
       " 'estimatedRedPartnerRevenue',\n",
       " 'net_playlist_addition_rate',\n",
       " 'playback_rate',\n",
       " 'revenue_per_card_click',\n",
       " 'share_rate',\n",
       " 'subscribers_gained_per_card_click',\n",
       " 'subscribers_lost_per_playlist_remove',\n",
       " 'watch_time_per_card_click',\n",
       " 'watched_time_rate'}"
      ]
     },
     "execution_count": 91,
     "metadata": {},
     "output_type": "execute_result"
    }
   ],
   "source": [
    "## lasso 선택으로 제거된 변수\n",
    "set(selected_features_by_ttest) - set(selected_features_by_lasso)"
   ]
  },
  {
   "cell_type": "markdown",
   "metadata": {},
   "source": [
    "RandomForest"
   ]
  },
  {
   "cell_type": "code",
   "execution_count": 92,
   "metadata": {},
   "outputs": [
    {
     "name": "stdout",
     "output_type": "stream",
     "text": [
      "Final Selected Features by RandomForest: ['positive_engage_rate', 'playlist_addition_rate', 'cpm', 'revenue_per_ad_impression', 'like_rate', 'revenue_per_playback', 'playlist_removal_rate', 'videosAddedToPlaylists', 'videosRemovedFromPlaylists', 'views', 'likes', 'subscribersGained', 'watch_time_per_playlist_add', 'playbackBasedCpm', 'revenue_per_red_view', 'averageViewDuration', 'shares', 'estimatedRevenue', 'avg_view_duration_rate', 'redViews', 'watch_time_loss_per_playlist_remove', 'ad_revenue_rate', 'playlist_related_revenue_rate', 'estimatedRedMinutesWatched', 'watched_view_rate', 'grossRevenue', 'revenue_per_minute_watched', 'comment_rate', 'net_revenue_per_playlist_add', 'cpm_to_revenue_ratio', 'ad_playbacks_per_playlist_add', 'adImpressions', 'estimatedAdRevenue', 'comments', 'subscribers_conversion_rate', 'monetizedPlaybacks', 'dislikes']\n",
      "Cross-Validation Accuracy: 0.99\n"
     ]
    }
   ],
   "source": [
    "from sklearn.ensemble import RandomForestClassifier\n",
    "from sklearn.model_selection import cross_val_score\n",
    "\n",
    "# RandomForest 모델 학습 및 교차 검증\n",
    "X_train_lasso_selected = X_train_resampled[selected_features_by_lasso]\n",
    "\n",
    "model = RandomForestClassifier(random_state=42)\n",
    "cross_val_scores = cross_val_score(model, X_train_lasso_selected, y_train_resampled, cv=5, scoring='accuracy')\n",
    "\n",
    "# 모델 학습\n",
    "model.fit(X_train_lasso_selected, y_train_resampled)\n",
    "\n",
    "# 피처 중요도 추출\n",
    "importances = model.feature_importances_\n",
    "feature_importances = pd.DataFrame({'feature': selected_features_by_lasso, 'importance': importances})\n",
    "feature_importances = feature_importances.sort_values(by='importance', ascending=False)\n",
    "\n",
    "# 최종적으로 중요한 변수 선택 (예: 상위 10개 변수)\n",
    "final_selected_features = list(feature_importances[feature_importances['importance'] > 0.005]['feature'])\n",
    "print(\"Final Selected Features by RandomForest:\", final_selected_features)\n",
    "\n",
    "# 교차 검증 결과 출력\n",
    "print(f\"Cross-Validation Accuracy: {cross_val_scores.mean():.2f}\")"
   ]
  },
  {
   "cell_type": "code",
   "execution_count": 102,
   "metadata": {},
   "outputs": [
    {
     "data": {
      "text/plain": [
       "37"
      ]
     },
     "execution_count": 102,
     "metadata": {},
     "output_type": "execute_result"
    }
   ],
   "source": [
    "len(final_selected_features)"
   ]
  },
  {
   "cell_type": "code",
   "execution_count": 94,
   "metadata": {},
   "outputs": [
    {
     "data": {
      "text/html": [
       "<div>\n",
       "<style scoped>\n",
       "    .dataframe tbody tr th:only-of-type {\n",
       "        vertical-align: middle;\n",
       "    }\n",
       "\n",
       "    .dataframe tbody tr th {\n",
       "        vertical-align: top;\n",
       "    }\n",
       "\n",
       "    .dataframe thead th {\n",
       "        text-align: right;\n",
       "    }\n",
       "</style>\n",
       "<table border=\"1\" class=\"dataframe\">\n",
       "  <thead>\n",
       "    <tr style=\"text-align: right;\">\n",
       "      <th></th>\n",
       "      <th>feature</th>\n",
       "      <th>importance</th>\n",
       "    </tr>\n",
       "  </thead>\n",
       "  <tbody>\n",
       "    <tr>\n",
       "      <th>26</th>\n",
       "      <td>positive_engage_rate</td>\n",
       "      <td>0.111536</td>\n",
       "    </tr>\n",
       "    <tr>\n",
       "      <th>51</th>\n",
       "      <td>playlist_addition_rate</td>\n",
       "      <td>0.079711</td>\n",
       "    </tr>\n",
       "    <tr>\n",
       "      <th>14</th>\n",
       "      <td>cpm</td>\n",
       "      <td>0.077948</td>\n",
       "    </tr>\n",
       "    <tr>\n",
       "      <th>35</th>\n",
       "      <td>revenue_per_ad_impression</td>\n",
       "      <td>0.064829</td>\n",
       "    </tr>\n",
       "    <tr>\n",
       "      <th>23</th>\n",
       "      <td>like_rate</td>\n",
       "      <td>0.064504</td>\n",
       "    </tr>\n",
       "    <tr>\n",
       "      <th>45</th>\n",
       "      <td>revenue_per_playback</td>\n",
       "      <td>0.054518</td>\n",
       "    </tr>\n",
       "    <tr>\n",
       "      <th>52</th>\n",
       "      <td>playlist_removal_rate</td>\n",
       "      <td>0.045625</td>\n",
       "    </tr>\n",
       "    <tr>\n",
       "      <th>8</th>\n",
       "      <td>videosAddedToPlaylists</td>\n",
       "      <td>0.038797</td>\n",
       "    </tr>\n",
       "    <tr>\n",
       "      <th>9</th>\n",
       "      <td>videosRemovedFromPlaylists</td>\n",
       "      <td>0.034812</td>\n",
       "    </tr>\n",
       "    <tr>\n",
       "      <th>0</th>\n",
       "      <td>views</td>\n",
       "      <td>0.033525</td>\n",
       "    </tr>\n",
       "    <tr>\n",
       "      <th>3</th>\n",
       "      <td>likes</td>\n",
       "      <td>0.028271</td>\n",
       "    </tr>\n",
       "    <tr>\n",
       "      <th>15</th>\n",
       "      <td>subscribersGained</td>\n",
       "      <td>0.027792</td>\n",
       "    </tr>\n",
       "    <tr>\n",
       "      <th>42</th>\n",
       "      <td>watch_time_per_playlist_add</td>\n",
       "      <td>0.027306</td>\n",
       "    </tr>\n",
       "    <tr>\n",
       "      <th>13</th>\n",
       "      <td>playbackBasedCpm</td>\n",
       "      <td>0.026720</td>\n",
       "    </tr>\n",
       "    <tr>\n",
       "      <th>31</th>\n",
       "      <td>revenue_per_red_view</td>\n",
       "      <td>0.025445</td>\n",
       "    </tr>\n",
       "    <tr>\n",
       "      <th>7</th>\n",
       "      <td>averageViewDuration</td>\n",
       "      <td>0.021687</td>\n",
       "    </tr>\n",
       "    <tr>\n",
       "      <th>5</th>\n",
       "      <td>shares</td>\n",
       "      <td>0.021608</td>\n",
       "    </tr>\n",
       "    <tr>\n",
       "      <th>10</th>\n",
       "      <td>estimatedRevenue</td>\n",
       "      <td>0.021284</td>\n",
       "    </tr>\n",
       "    <tr>\n",
       "      <th>40</th>\n",
       "      <td>avg_view_duration_rate</td>\n",
       "      <td>0.017162</td>\n",
       "    </tr>\n",
       "    <tr>\n",
       "      <th>1</th>\n",
       "      <td>redViews</td>\n",
       "      <td>0.015088</td>\n",
       "    </tr>\n",
       "    <tr>\n",
       "      <th>44</th>\n",
       "      <td>watch_time_loss_per_playlist_remove</td>\n",
       "      <td>0.012223</td>\n",
       "    </tr>\n",
       "    <tr>\n",
       "      <th>32</th>\n",
       "      <td>ad_revenue_rate</td>\n",
       "      <td>0.011749</td>\n",
       "    </tr>\n",
       "    <tr>\n",
       "      <th>53</th>\n",
       "      <td>playlist_related_revenue_rate</td>\n",
       "      <td>0.010592</td>\n",
       "    </tr>\n",
       "    <tr>\n",
       "      <th>6</th>\n",
       "      <td>estimatedRedMinutesWatched</td>\n",
       "      <td>0.010020</td>\n",
       "    </tr>\n",
       "    <tr>\n",
       "      <th>41</th>\n",
       "      <td>watched_view_rate</td>\n",
       "      <td>0.009507</td>\n",
       "    </tr>\n",
       "    <tr>\n",
       "      <th>12</th>\n",
       "      <td>grossRevenue</td>\n",
       "      <td>0.007820</td>\n",
       "    </tr>\n",
       "    <tr>\n",
       "      <th>39</th>\n",
       "      <td>revenue_per_minute_watched</td>\n",
       "      <td>0.007375</td>\n",
       "    </tr>\n",
       "    <tr>\n",
       "      <th>24</th>\n",
       "      <td>comment_rate</td>\n",
       "      <td>0.007187</td>\n",
       "    </tr>\n",
       "    <tr>\n",
       "      <th>38</th>\n",
       "      <td>net_revenue_per_playlist_add</td>\n",
       "      <td>0.007001</td>\n",
       "    </tr>\n",
       "    <tr>\n",
       "      <th>34</th>\n",
       "      <td>cpm_to_revenue_ratio</td>\n",
       "      <td>0.006816</td>\n",
       "    </tr>\n",
       "    <tr>\n",
       "      <th>47</th>\n",
       "      <td>ad_playbacks_per_playlist_add</td>\n",
       "      <td>0.006595</td>\n",
       "    </tr>\n",
       "    <tr>\n",
       "      <th>18</th>\n",
       "      <td>adImpressions</td>\n",
       "      <td>0.006546</td>\n",
       "    </tr>\n",
       "    <tr>\n",
       "      <th>11</th>\n",
       "      <td>estimatedAdRevenue</td>\n",
       "      <td>0.006424</td>\n",
       "    </tr>\n",
       "    <tr>\n",
       "      <th>2</th>\n",
       "      <td>comments</td>\n",
       "      <td>0.006238</td>\n",
       "    </tr>\n",
       "    <tr>\n",
       "      <th>29</th>\n",
       "      <td>subscribers_conversion_rate</td>\n",
       "      <td>0.005937</td>\n",
       "    </tr>\n",
       "    <tr>\n",
       "      <th>17</th>\n",
       "      <td>monetizedPlaybacks</td>\n",
       "      <td>0.005630</td>\n",
       "    </tr>\n",
       "    <tr>\n",
       "      <th>4</th>\n",
       "      <td>dislikes</td>\n",
       "      <td>0.005052</td>\n",
       "    </tr>\n",
       "    <tr>\n",
       "      <th>37</th>\n",
       "      <td>revenue_per_playlist_add</td>\n",
       "      <td>0.004819</td>\n",
       "    </tr>\n",
       "    <tr>\n",
       "      <th>25</th>\n",
       "      <td>dislike_rate</td>\n",
       "      <td>0.004675</td>\n",
       "    </tr>\n",
       "    <tr>\n",
       "      <th>33</th>\n",
       "      <td>red_revenue_rate</td>\n",
       "      <td>0.004625</td>\n",
       "    </tr>\n",
       "    <tr>\n",
       "      <th>30</th>\n",
       "      <td>subscribers_gained_per_playlist_add</td>\n",
       "      <td>0.004355</td>\n",
       "    </tr>\n",
       "    <tr>\n",
       "      <th>36</th>\n",
       "      <td>playback_based_cpm_rate</td>\n",
       "      <td>0.003394</td>\n",
       "    </tr>\n",
       "    <tr>\n",
       "      <th>46</th>\n",
       "      <td>unplayback_rate</td>\n",
       "      <td>0.002474</td>\n",
       "    </tr>\n",
       "    <tr>\n",
       "      <th>16</th>\n",
       "      <td>subscribersLost</td>\n",
       "      <td>0.001819</td>\n",
       "    </tr>\n",
       "    <tr>\n",
       "      <th>27</th>\n",
       "      <td>comment_to_like_rate</td>\n",
       "      <td>0.001565</td>\n",
       "    </tr>\n",
       "    <tr>\n",
       "      <th>28</th>\n",
       "      <td>like_to_dislike_ratio</td>\n",
       "      <td>0.001106</td>\n",
       "    </tr>\n",
       "    <tr>\n",
       "      <th>22</th>\n",
       "      <td>cardTeaserImpressions</td>\n",
       "      <td>0.000183</td>\n",
       "    </tr>\n",
       "    <tr>\n",
       "      <th>49</th>\n",
       "      <td>card_teaser_click_per_impression_rate</td>\n",
       "      <td>0.000023</td>\n",
       "    </tr>\n",
       "    <tr>\n",
       "      <th>20</th>\n",
       "      <td>cardTeaserClickRate</td>\n",
       "      <td>0.000021</td>\n",
       "    </tr>\n",
       "    <tr>\n",
       "      <th>21</th>\n",
       "      <td>cardImpressions</td>\n",
       "      <td>0.000019</td>\n",
       "    </tr>\n",
       "    <tr>\n",
       "      <th>43</th>\n",
       "      <td>avg_view_duration_per_card_click</td>\n",
       "      <td>0.000013</td>\n",
       "    </tr>\n",
       "    <tr>\n",
       "      <th>48</th>\n",
       "      <td>card_click_per_impression_rate</td>\n",
       "      <td>0.000011</td>\n",
       "    </tr>\n",
       "    <tr>\n",
       "      <th>19</th>\n",
       "      <td>cardClickRate</td>\n",
       "      <td>0.000011</td>\n",
       "    </tr>\n",
       "    <tr>\n",
       "      <th>50</th>\n",
       "      <td>card_conversion_rate</td>\n",
       "      <td>0.000010</td>\n",
       "    </tr>\n",
       "  </tbody>\n",
       "</table>\n",
       "</div>"
      ],
      "text/plain": [
       "                                  feature  importance\n",
       "26                   positive_engage_rate    0.111536\n",
       "51                 playlist_addition_rate    0.079711\n",
       "14                                    cpm    0.077948\n",
       "35              revenue_per_ad_impression    0.064829\n",
       "23                              like_rate    0.064504\n",
       "45                   revenue_per_playback    0.054518\n",
       "52                  playlist_removal_rate    0.045625\n",
       "8                  videosAddedToPlaylists    0.038797\n",
       "9              videosRemovedFromPlaylists    0.034812\n",
       "0                                   views    0.033525\n",
       "3                                   likes    0.028271\n",
       "15                      subscribersGained    0.027792\n",
       "42            watch_time_per_playlist_add    0.027306\n",
       "13                       playbackBasedCpm    0.026720\n",
       "31                   revenue_per_red_view    0.025445\n",
       "7                     averageViewDuration    0.021687\n",
       "5                                  shares    0.021608\n",
       "10                       estimatedRevenue    0.021284\n",
       "40                 avg_view_duration_rate    0.017162\n",
       "1                                redViews    0.015088\n",
       "44    watch_time_loss_per_playlist_remove    0.012223\n",
       "32                        ad_revenue_rate    0.011749\n",
       "53          playlist_related_revenue_rate    0.010592\n",
       "6              estimatedRedMinutesWatched    0.010020\n",
       "41                      watched_view_rate    0.009507\n",
       "12                           grossRevenue    0.007820\n",
       "39             revenue_per_minute_watched    0.007375\n",
       "24                           comment_rate    0.007187\n",
       "38           net_revenue_per_playlist_add    0.007001\n",
       "34                   cpm_to_revenue_ratio    0.006816\n",
       "47          ad_playbacks_per_playlist_add    0.006595\n",
       "18                          adImpressions    0.006546\n",
       "11                     estimatedAdRevenue    0.006424\n",
       "2                                comments    0.006238\n",
       "29            subscribers_conversion_rate    0.005937\n",
       "17                     monetizedPlaybacks    0.005630\n",
       "4                                dislikes    0.005052\n",
       "37               revenue_per_playlist_add    0.004819\n",
       "25                           dislike_rate    0.004675\n",
       "33                       red_revenue_rate    0.004625\n",
       "30    subscribers_gained_per_playlist_add    0.004355\n",
       "36                playback_based_cpm_rate    0.003394\n",
       "46                        unplayback_rate    0.002474\n",
       "16                        subscribersLost    0.001819\n",
       "27                   comment_to_like_rate    0.001565\n",
       "28                  like_to_dislike_ratio    0.001106\n",
       "22                  cardTeaserImpressions    0.000183\n",
       "49  card_teaser_click_per_impression_rate    0.000023\n",
       "20                    cardTeaserClickRate    0.000021\n",
       "21                        cardImpressions    0.000019\n",
       "43       avg_view_duration_per_card_click    0.000013\n",
       "48         card_click_per_impression_rate    0.000011\n",
       "19                          cardClickRate    0.000011\n",
       "50                   card_conversion_rate    0.000010"
      ]
     },
     "execution_count": 94,
     "metadata": {},
     "output_type": "execute_result"
    }
   ],
   "source": [
    "feature_importances ## 0.005 기준으로 변수 선택"
   ]
  },
  {
   "cell_type": "code",
   "execution_count": 100,
   "metadata": {},
   "outputs": [],
   "source": [
    "youtube_videos_final = youtube_videos[list(unique_col) + final_selected_features + ['y_label']]"
   ]
  },
  {
   "cell_type": "code",
   "execution_count": 101,
   "metadata": {},
   "outputs": [],
   "source": [
    "# youtube_videos_final.to_csv('C:/py_src/awake/data/youtube_videos_final.csv', encoding='utf-8-sig', index=False)"
   ]
  }
 ],
 "metadata": {
  "kernelspec": {
   "display_name": "awake_venv",
   "language": "python",
   "name": "python3"
  },
  "language_info": {
   "codemirror_mode": {
    "name": "ipython",
    "version": 3
   },
   "file_extension": ".py",
   "mimetype": "text/x-python",
   "name": "python",
   "nbconvert_exporter": "python",
   "pygments_lexer": "ipython3",
   "version": "3.10.14"
  }
 },
 "nbformat": 4,
 "nbformat_minor": 2
}
