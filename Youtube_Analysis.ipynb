{
 "cells": [
  {
   "cell_type": "markdown",
   "metadata": {},
   "source": [
    "패키지 로드"
   ]
  },
  {
   "cell_type": "code",
   "execution_count": 1,
   "metadata": {},
   "outputs": [],
   "source": [
    "import pymongo\n",
    "import pandas as pd\n",
    "import numpy as np\n",
    "from sklearn.preprocessing import StandardScaler\n",
    "from sklearn.ensemble import IsolationForest\n",
    "import xgboost as xgb\n",
    "import os\n",
    "from dotenv import load_dotenv\n",
    "import joblib\n",
    "import cloudpickle\n",
    "\n",
    "import warnings\n",
    "warnings.filterwarnings('ignore')"
   ]
  },
  {
   "cell_type": "markdown",
   "metadata": {},
   "source": [
    "유튜브 분석 로드"
   ]
  },
  {
   "cell_type": "code",
   "execution_count": 2,
   "metadata": {},
   "outputs": [],
   "source": [
    "# 불러오기\n",
    "with open('youtube_analysis.joblib', 'rb') as f:\n",
    "    youtube_analysis = cloudpickle.load(f)"
   ]
  },
  {
   "cell_type": "markdown",
   "metadata": {},
   "source": [
    "필요데이터 로드"
   ]
  },
  {
   "cell_type": "code",
   "execution_count": 3,
   "metadata": {},
   "outputs": [],
   "source": [
    "# 필요데이터 경로\n",
    "need_data_path = 'C:/py_src/awake/data/need/'"
   ]
  },
  {
   "cell_type": "code",
   "execution_count": 12,
   "metadata": {},
   "outputs": [],
   "source": [
    "# 필요데이터 로드\n",
    "# 변수명, 파일명 변경하면 실행안됨(주의!)\n",
    "user_info_df, trained_data, features_weight, input_data = youtube_analysis.data_preparation_need(need_data_path)"
   ]
  },
  {
   "cell_type": "markdown",
   "metadata": {},
   "source": [
    "MongDB 연동"
   ]
  },
  {
   "cell_type": "code",
   "execution_count": 13,
   "metadata": {},
   "outputs": [],
   "source": [
    "# MongoDB 연동\n",
    "# 각자 ID, PW 입력\n",
    "db = youtube_analysis.mongodb_connection('external_user','nrAx9lyGH5K7lbgv')"
   ]
  },
  {
   "cell_type": "markdown",
   "metadata": {},
   "source": [
    "데이터 준비"
   ]
  },
  {
   "cell_type": "code",
   "execution_count": 14,
   "metadata": {},
   "outputs": [],
   "source": [
    "# 계정 데이터 및 콘텐츠 데이터 로드\n",
    "youtube_user_df = youtube_analysis.data_preparation_user(db)\n",
    "youtube_contents_df = youtube_analysis.data_preparation_contents(db)"
   ]
  },
  {
   "cell_type": "markdown",
   "metadata": {},
   "source": [
    "분석 결과 확인"
   ]
  },
  {
   "cell_type": "code",
   "execution_count": 15,
   "metadata": {},
   "outputs": [
    {
     "name": "stdout",
     "output_type": "stream",
     "text": [
      "큰 영향력 계정\n",
      "0\n",
      "[]\n",
      "---------------------------------------------------------------------\n",
      "\n",
      "작은 영향력 계정\n",
      "29\n",
      "['난리범석', 'AllaproTV', '띵크박스 ThinkBox Korea', '로켓런처 - 한계를 돌파하는 힘이 되는 채널', '혜옥메이크업', 'RightHere', '에이든 우지 Aiden uzi', '카이바군', '코그룸', '이서방', '구봉바다낚시 뽀식이', '박진서', 'DDONIE 또니 / 러브크레센트', '링링언니', '떤두', \"밍의 하루_Ming's day\", '정케빈 KEVIN', '우아린WOOARIN', 'Lee Stave', '룩앳댓태리 Look at that taeri', '황지수', '끄루끄루뽜끄루', '유걸YU-Girl TV', '커피수혈', '하윤 Hayoon', 'fromsuzy 프롬수지', 'yeahs', '내맘대로 1시간', '내가 니 앱이다']\n",
      "---------------------------------------------------------------------\n",
      "\n",
      "잠재적 영향력 계정\n",
      "0\n",
      "[]\n",
      "---------------------------------------------------------------------\n",
      "\n",
      "가짜 영향력 계정\n",
      "1\n",
      "['오디디 코미디']\n",
      "---------------------------------------------------------------------\n",
      "\n"
     ]
    }
   ],
   "source": [
    "# Topic 1 - 콘텐츠 영향력 데이터 내 Fraud 색출을 통한 채널 진성 영향력 파악\n",
    "result_topic1_df = youtube_analysis.result_topic1()"
   ]
  },
  {
   "cell_type": "code",
   "execution_count": 16,
   "metadata": {},
   "outputs": [
    {
     "name": "stdout",
     "output_type": "stream",
     "text": [
      "1개월 후 유지 및 감소 예상 계정\n",
      "20\n",
      "['난리범석' '띵크박스 ThinkBox Korea' '로켓런처 - 한계를 돌파하는 힘이 되는 채널' '혜옥메이크업'\n",
      " 'RightHere' '에이든 우지 Aiden uzi' '이서방' 'DDONIE 또니 / 러브크레센트' '떤두'\n",
      " '우아린WOOARIN' 'Lee Stave' '룩앳댓태리 Look at that taeri' '황지수' '끄루끄루뽜끄루'\n",
      " '유걸YU-Girl TV' '커피수혈' '하윤 Hayoon' 'yeahs' '내맘대로 1시간' '내가 니 앱이다']\n",
      "---------------------------------------------------------------------\n",
      "\n",
      "1개월 후 증가 예상 계정\n",
      "6\n",
      "['AllaproTV' '카이바군' '구봉바다낚시 뽀식이' '링링언니' '정케빈 KEVIN' 'fromsuzy 프롬수지']\n",
      "---------------------------------------------------------------------\n",
      "\n",
      "1개월 후 크게 증가 예상 계정\n",
      "1\n",
      "['오디디 코미디']\n",
      "---------------------------------------------------------------------\n",
      "\n",
      "3개월 후 유지 및 감소 예상 계정\n",
      "15\n",
      "['난리범석' '띵크박스 ThinkBox Korea' '로켓런처 - 한계를 돌파하는 힘이 되는 채널' '혜옥메이크업'\n",
      " 'RightHere' 'DDONIE 또니 / 러브크레센트' '우아린WOOARIN' 'Lee Stave'\n",
      " '룩앳댓태리 Look at that taeri' '끄루끄루뽜끄루' '유걸YU-Girl TV' '커피수혈' 'yeahs'\n",
      " '내맘대로 1시간' '내가 니 앱이다']\n",
      "---------------------------------------------------------------------\n",
      "\n",
      "3개월 후 증가 예상 계정\n",
      "6\n",
      "['AllaproTV' '카이바군' '구봉바다낚시 뽀식이' '링링언니' '정케빈 KEVIN' 'fromsuzy 프롬수지']\n",
      "---------------------------------------------------------------------\n",
      "\n",
      "3개월 후 크게 증가 예상 계정\n",
      "1\n",
      "['오디디 코미디']\n",
      "---------------------------------------------------------------------\n",
      "\n"
     ]
    }
   ],
   "source": [
    "# Topic 2 - 구독자 수 예측\n",
    "result_topic2_df = youtube_analysis.result_topic2()"
   ]
  },
  {
   "cell_type": "code",
   "execution_count": 17,
   "metadata": {},
   "outputs": [
    {
     "name": "stdout",
     "output_type": "stream",
     "text": [
      "1개월 후 유지 및 감소 예상 계정\n",
      "21\n",
      "['난리범석' '띵크박스 ThinkBox Korea' '로켓런처 - 한계를 돌파하는 힘이 되는 채널' '혜옥메이크업'\n",
      " 'RightHere' '에이든 우지 Aiden uzi' '이서방' 'DDONIE 또니 / 러브크레센트' '링링언니' '떤두'\n",
      " '우아린WOOARIN' 'Lee Stave' '룩앳댓태리 Look at that taeri' '황지수' '끄루끄루뽜끄루'\n",
      " '유걸YU-Girl TV' '커피수혈' '하윤 Hayoon' 'yeahs' '내맘대로 1시간' '내가 니 앱이다']\n",
      "---------------------------------------------------------------------\n",
      "\n",
      "1개월 후 증가 예상 계정\n",
      "4\n",
      "['카이바군' '구봉바다낚시 뽀식이' '정케빈 KEVIN' 'fromsuzy 프롬수지']\n",
      "---------------------------------------------------------------------\n",
      "\n",
      "1개월 후 크게 증가 예상 계정\n",
      "2\n",
      "['AllaproTV' '오디디 코미디']\n",
      "---------------------------------------------------------------------\n",
      "\n",
      "3개월 후 유지 및 감소 예상 계정\n",
      "16\n",
      "['난리범석' '띵크박스 ThinkBox Korea' '로켓런처 - 한계를 돌파하는 힘이 되는 채널' '혜옥메이크업'\n",
      " 'RightHere' 'DDONIE 또니 / 러브크레센트' '링링언니' '우아린WOOARIN' 'Lee Stave'\n",
      " '룩앳댓태리 Look at that taeri' '끄루끄루뽜끄루' '유걸YU-Girl TV' '커피수혈' 'yeahs'\n",
      " '내맘대로 1시간' '내가 니 앱이다']\n",
      "---------------------------------------------------------------------\n",
      "\n",
      "3개월 후 증가 예상 계정\n",
      "5\n",
      "['AllaproTV' '카이바군' '구봉바다낚시 뽀식이' '정케빈 KEVIN' 'fromsuzy 프롬수지']\n",
      "---------------------------------------------------------------------\n",
      "\n",
      "3개월 후 크게 증가 예상 계정\n",
      "1\n",
      "['오디디 코미디']\n",
      "---------------------------------------------------------------------\n",
      "\n"
     ]
    }
   ],
   "source": [
    "# Topic 3 - 광고수익 예측\n",
    "result_topic3_df = youtube_analysis.result_topic3()"
   ]
  },
  {
   "cell_type": "code",
   "execution_count": 18,
   "metadata": {},
   "outputs": [
    {
     "name": "stdout",
     "output_type": "stream",
     "text": [
      "부도 가능성 안전\n",
      "0\n",
      "[]\n",
      "---------------------------------------------------------------------\n",
      "\n",
      "부도 가능성 보통\n",
      "0\n",
      "[]\n",
      "---------------------------------------------------------------------\n",
      "\n",
      "부도 가능성 위험\n",
      "30\n",
      "['유걸YU-Girl TV', '띵크박스 ThinkBox Korea', '커피수혈', '우아린WOOARIN', '하윤 Hayoon', '오디디 코미디', \"밍의 하루_Ming's day\", 'yeahs', 'DDONIE 또니 / 러브크레센트', '내맘대로 1시간', '이서방', '박진서', '내가 니 앱이다', '황지수', '링링언니', 'RightHere', 'Lee Stave', '카이바군', '끄루끄루뽜끄루', 'fromsuzy 프롬수지', '혜옥메이크업', '에이든 우지 Aiden uzi', '정케빈 KEVIN', '난리범석', 'AllaproTV', '로켓런처 - 한계를 돌파하는 힘이 되는 채널', '구봉바다낚시 뽀식이', '룩앳댓태리 Look at that taeri', '떤두', '코그룸']\n",
      "---------------------------------------------------------------------\n",
      "\n"
     ]
    }
   ],
   "source": [
    "# Topic 4 - 신용평가 스코어링, 부도예측확률 분포도 구조 개발\n",
    "result_topic4_df = youtube_analysis.result_topic4()"
   ]
  }
 ],
 "metadata": {
  "kernelspec": {
   "display_name": "awake",
   "language": "python",
   "name": "python3"
  },
  "language_info": {
   "codemirror_mode": {
    "name": "ipython",
    "version": 3
   },
   "file_extension": ".py",
   "mimetype": "text/x-python",
   "name": "python",
   "nbconvert_exporter": "python",
   "pygments_lexer": "ipython3",
   "version": "3.10.14"
  }
 },
 "nbformat": 4,
 "nbformat_minor": 2
}
