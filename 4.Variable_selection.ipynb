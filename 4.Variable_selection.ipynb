{
 "cells": [
  {
   "cell_type": "code",
   "execution_count": 1,
   "metadata": {},
   "outputs": [],
   "source": [
    "import pymongo\n",
    "import pandas as pd\n",
    "import numpy as np\n",
    "import math\n",
    "from datetime import datetime\n",
    "\n",
    "# import dask.dataframe as dd ## 대규모 데이터 처리\n",
    "# import vaex ## 대규모 데이터 처리\n",
    "\n",
    "# from sklearn.linear_model import LinearRegression ## likes, dislikes 대체\n",
    "from sklearn.preprocessing import StandardScaler\n",
    "from sklearn.ensemble import IsolationForest\n",
    "from sklearn.model_selection import train_test_split\n",
    "from imblearn.under_sampling import RandomUnderSampler\n",
    "from sklearn.ensemble import RandomForestClassifier\n",
    "from sklearn.metrics import accuracy_score, confusion_matrix, classification_report, roc_auc_score, roc_curve\n",
    "import matplotlib.pyplot as plt\n",
    "import seaborn as sns\n",
    "\n",
    "import os\n",
    "from dotenv import load_dotenv"
   ]
  },
  {
   "cell_type": "code",
   "execution_count": 2,
   "metadata": {},
   "outputs": [],
   "source": [
    "file_path = 'C:/py_src/awake/data/'"
   ]
  },
  {
   "cell_type": "code",
   "execution_count": 3,
   "metadata": {},
   "outputs": [],
   "source": [
    "# 계정 / 콘텐츠 분석 데이터셋 불러오기\n",
    "merge_df_users_fin = pd.read_csv(file_path + 'merge_df_users_fin_eda.csv', low_memory=False)\n",
    "youtube_videos = pd.read_csv(file_path + 'youtube_videos_eda.csv')"
   ]
  },
  {
   "cell_type": "markdown",
   "metadata": {},
   "source": [
    "## 계정 데이터 분석"
   ]
  },
  {
   "cell_type": "code",
   "execution_count": null,
   "metadata": {},
   "outputs": [],
   "source": [
    "merge_df_users_fin.head()"
   ]
  },
  {
   "cell_type": "markdown",
   "metadata": {},
   "source": [
    "### 데이터 분할"
   ]
  },
  {
   "cell_type": "code",
   "execution_count": 21,
   "metadata": {},
   "outputs": [],
   "source": [
    "# 컬럼 정리\n",
    "unique_col = merge_df_users_fin.columns[:11]\n",
    "x_col = merge_df_users_fin.columns[11:-1]"
   ]
  },
  {
   "cell_type": "code",
   "execution_count": 22,
   "metadata": {},
   "outputs": [],
   "source": [
    "# 데이터 분할\n",
    "X = merge_df_users_fin[x_col].drop(columns=['total_engage_rate','net_subscribers_change','revenue_per_view','averageViewPercentage', 'gross_revenue_per_ad_impression']) ## y값 라벨링에 쓰인 지표 제거\n",
    "y = merge_df_users_fin['y_label']\n",
    "X_train, X_test, y_train, y_test = train_test_split(X, y, test_size=0.2, random_state=42)"
   ]
  },
  {
   "cell_type": "code",
   "execution_count": 23,
   "metadata": {},
   "outputs": [
    {
     "name": "stdout",
     "output_type": "stream",
     "text": [
      "y_label\n",
      "1    80302\n",
      "0     4244\n",
      "Name: count, dtype: int64\n",
      "y_label\n",
      "1    20096\n",
      "0     1041\n",
      "Name: count, dtype: int64\n"
     ]
    }
   ],
   "source": [
    "# 불균형 확인\n",
    "print(y_train.value_counts())\n",
    "print(y_test.value_counts())"
   ]
  },
  {
   "cell_type": "markdown",
   "metadata": {},
   "source": [
    "### 언더샘플링"
   ]
  },
  {
   "cell_type": "code",
   "execution_count": 24,
   "metadata": {},
   "outputs": [],
   "source": [
    "# 언더샘플링\n",
    "rus = RandomUnderSampler(random_state=42)\n",
    "X_train_resampled, y_train_resampled = rus.fit_resample(X_train, y_train)"
   ]
  },
  {
   "cell_type": "markdown",
   "metadata": {},
   "source": [
    "### 변수선택"
   ]
  },
  {
   "cell_type": "markdown",
   "metadata": {},
   "source": [
    "t-test"
   ]
  },
  {
   "cell_type": "code",
   "execution_count": 25,
   "metadata": {},
   "outputs": [
    {
     "name": "stdout",
     "output_type": "stream",
     "text": [
      "Selected Features by t-test: ['views', 'redViews', 'UNSUBSCRIBED', 'SUBSCRIBED', 'comments', 'likes', 'shares', 'dislikes', 'estimatedMinutesWatched', 'averageViewDuration', 'estimated_revenue', 'estimated_ad_revenue', 'estimated_red_partner_revenue', 'gross_revenue', 'cpm', 'playback_based_cpm', 'subscribers_count', 'subscribers_gained', 'subscribers_lost', 'ad_impressions', 'monetized_playbacks', 'age13-17.female', 'age13-17.male', 'age18-24.female', 'age18-24.male', 'age25-34.female', 'age25-34.male', 'age35-44.female', 'age35-44.male', 'age45-54.female', 'age55-64.female', 'age55-64.male', 'age65-.female', 'age65-.male', 'like_rate', 'comment_rate', 'share_rate', 'dislike_rate', 'positive_engage_rate', 'like_to_dislike_ratio', 'subscriber_increase_rate', 'subscriber_decrease_rate', 'subscribers_conversion_rate', 'subscribed_view_rate', 'unsubscribed_view_rate', 'revenue_per_subscribed_view', 'revenue_per_unsubscribed_view', 'revenue_per_subscriber', 'revenue_per_red_view', 'ad_revenue_rate', 'red_revenue_rate', 'cpm_to_revenue_ratio', 'revenue_per_ad_impression', 'revenue_per_minute_watched', 'avg_view_duration_rate', 'watched_time_rate', 'watched_view_rate', 'subscribed_view_time_rate', 'unsubscribed_view_time_rate', 'subscriber_view_time_rate', 'revenue_per_playback', 'playback_rate', 'unplayback_rate', 'female_viewer_rate', 'male_viewer_rate', 'youth_viewer_rate', 'adult_viewer_rate', 'older_viewer_rate']\n"
     ]
    },
    {
     "name": "stderr",
     "output_type": "stream",
     "text": [
      "c:\\Users\\kwan\\AppData\\Local\\anaconda3\\envs\\awake_venv\\lib\\site-packages\\scipy\\stats\\_stats_py.py:1079: RuntimeWarning: invalid value encountered in subtract\n",
      "  a_zero_mean = a - mean\n",
      "c:\\Users\\kwan\\AppData\\Local\\anaconda3\\envs\\awake_venv\\lib\\site-packages\\scipy\\stats\\_stats_py.py:6527: RuntimeWarning: invalid value encountered in scalar subtract\n",
      "  d = mean1 - mean2\n",
      "c:\\Users\\kwan\\AppData\\Local\\anaconda3\\envs\\awake_venv\\lib\\site-packages\\scipy\\stats\\_stats_py.py:7025: RuntimeWarning: invalid value encountered in scalar subtract\n",
      "  estimate = m1-m2\n"
     ]
    }
   ],
   "source": [
    "from scipy.stats import ttest_ind\n",
    "\n",
    "# y=0과 y=1 그룹으로 데이터 나누기\n",
    "group_0 = X_train_resampled[y_train_resampled == 0]\n",
    "group_1 = X_train_resampled[y_train_resampled == 1]\n",
    "\n",
    "# t-test 수행\n",
    "p_values = []\n",
    "for col in X_train_resampled.columns:\n",
    "    t_stat, p_val = ttest_ind(group_0[col], group_1[col], equal_var=False)  # Welch's t-test\n",
    "    p_values.append((col, p_val))\n",
    "\n",
    "# p-value < 0.05인 변수 선택\n",
    "selected_features_by_ttest = [col for col, p_val in p_values if p_val < 0.05]\n",
    "print(\"Selected Features by t-test:\", selected_features_by_ttest)"
   ]
  },
  {
   "cell_type": "markdown",
   "metadata": {},
   "source": [
    "Lasso"
   ]
  },
  {
   "cell_type": "code",
   "execution_count": 42,
   "metadata": {},
   "outputs": [
    {
     "name": "stdout",
     "output_type": "stream",
     "text": [
      "Selected Features by Lasso: Index(['redViews', 'SUBSCRIBED', 'comments', 'likes', 'shares',\n",
      "       'estimatedMinutesWatched', 'averageViewDuration', 'estimated_revenue',\n",
      "       'estimated_red_partner_revenue', 'gross_revenue', 'cpm',\n",
      "       'subscribers_count', 'subscribers_gained', 'subscribers_lost',\n",
      "       'ad_impressions', 'monetized_playbacks', 'age13-17.female',\n",
      "       'age18-24.female', 'age18-24.male', 'age25-34.female', 'age25-34.male',\n",
      "       'age35-44.female', 'age65-.female', 'like_rate', 'comment_rate',\n",
      "       'dislike_rate', 'positive_engage_rate', 'like_to_dislike_ratio',\n",
      "       'subscriber_increase_rate', 'subscriber_decrease_rate',\n",
      "       'subscribers_conversion_rate', 'subscribed_view_rate',\n",
      "       'unsubscribed_view_rate', 'revenue_per_subscriber',\n",
      "       'revenue_per_red_view', 'ad_revenue_rate', 'red_revenue_rate',\n",
      "       'revenue_per_minute_watched', 'avg_view_duration_rate',\n",
      "       'watched_view_rate', 'subscribed_view_time_rate',\n",
      "       'unsubscribed_view_time_rate', 'subscriber_view_time_rate',\n",
      "       'playback_rate'],\n",
      "      dtype='object')\n"
     ]
    }
   ],
   "source": [
    "from sklearn.linear_model import LassoCV\n",
    "from sklearn.preprocessing import StandardScaler\n",
    "\n",
    "# t-test로 선택된 변수로 데이터프레임 구성\n",
    "X_train_ttest_selected = X_train_resampled[selected_features_by_ttest]\n",
    "\n",
    "# 데이터 스케일링\n",
    "scaler = StandardScaler()\n",
    "X_train_scaled = scaler.fit_transform(X_train_ttest_selected)\n",
    "\n",
    "# LassoCV 모델 설정: 반복 횟수 증가, alpha 범위 조정\n",
    "lasso = LassoCV(cv=5, random_state=42, max_iter=10000, alphas=[0.1, 0.05, 0.01, 0.005, 0.001]).fit(X_train_scaled, y_train_resampled)\n",
    "\n",
    "# 선택된 변수 확인 (회귀 계수가 0이 아닌 변수들)\n",
    "selected_features_by_lasso = X_train_ttest_selected.columns[(lasso.coef_ != 0)]\n",
    "print(\"Selected Features by Lasso:\", selected_features_by_lasso)"
   ]
  },
  {
   "cell_type": "code",
   "execution_count": 51,
   "metadata": {},
   "outputs": [
    {
     "data": {
      "text/plain": [
       "44"
      ]
     },
     "execution_count": 51,
     "metadata": {},
     "output_type": "execute_result"
    }
   ],
   "source": [
    "len(selected_features_by_lasso)"
   ]
  },
  {
   "cell_type": "code",
   "execution_count": 44,
   "metadata": {},
   "outputs": [
    {
     "data": {
      "text/plain": [
       "{'UNSUBSCRIBED',\n",
       " 'adult_viewer_rate',\n",
       " 'age13-17.male',\n",
       " 'age35-44.male',\n",
       " 'age45-54.female',\n",
       " 'age55-64.female',\n",
       " 'age55-64.male',\n",
       " 'age65-.male',\n",
       " 'cpm_to_revenue_ratio',\n",
       " 'dislikes',\n",
       " 'estimated_ad_revenue',\n",
       " 'female_viewer_rate',\n",
       " 'male_viewer_rate',\n",
       " 'older_viewer_rate',\n",
       " 'playback_based_cpm',\n",
       " 'revenue_per_ad_impression',\n",
       " 'revenue_per_playback',\n",
       " 'revenue_per_subscribed_view',\n",
       " 'revenue_per_unsubscribed_view',\n",
       " 'share_rate',\n",
       " 'unplayback_rate',\n",
       " 'views',\n",
       " 'watched_time_rate',\n",
       " 'youth_viewer_rate'}"
      ]
     },
     "execution_count": 44,
     "metadata": {},
     "output_type": "execute_result"
    }
   ],
   "source": [
    "## lasso 선택으로 제거된 변수\n",
    "set(selected_features_by_ttest) - set(selected_features_by_lasso)"
   ]
  },
  {
   "cell_type": "markdown",
   "metadata": {},
   "source": [
    "RandomForest"
   ]
  },
  {
   "cell_type": "code",
   "execution_count": 32,
   "metadata": {},
   "outputs": [
    {
     "name": "stdout",
     "output_type": "stream",
     "text": [
      "Final Selected Features by RandomForest: ['estimated_revenue', 'estimatedMinutesWatched', 'subscribers_gained', 'comments', 'revenue_per_red_view', 'positive_engage_rate', 'revenue_per_minute_watched', 'likes', 'shares', 'estimated_red_partner_revenue', 'gross_revenue', 'like_rate', 'subscribers_lost', 'revenue_per_subscriber', 'cpm', 'subscriber_increase_rate', 'monetized_playbacks', 'playback_rate', 'redViews', 'red_revenue_rate', 'subscribers_count', 'SUBSCRIBED']\n",
      "Cross-Validation Accuracy: 0.98\n"
     ]
    }
   ],
   "source": [
    "from sklearn.ensemble import RandomForestClassifier\n",
    "from sklearn.model_selection import cross_val_score\n",
    "\n",
    "# RandomForest 모델 학습 및 교차 검증\n",
    "X_train_lasso_selected = X_train_resampled[selected_features_by_lasso]\n",
    "\n",
    "model = RandomForestClassifier(random_state=42)\n",
    "cross_val_scores = cross_val_score(model, X_train_lasso_selected, y_train_resampled, cv=5, scoring='accuracy')\n",
    "\n",
    "# 모델 학습\n",
    "model.fit(X_train_lasso_selected, y_train_resampled)\n",
    "\n",
    "# 피처 중요도 추출\n",
    "importances = model.feature_importances_\n",
    "feature_importances = pd.DataFrame({'feature': selected_features_by_lasso, 'importance': importances})\n",
    "feature_importances = feature_importances.sort_values(by='importance', ascending=False)\n",
    "\n",
    "# 최종적으로 중요한 변수 선택 (예: 상위 10개 변수)\n",
    "final_selected_features = list(feature_importances[feature_importances['importance'] > 0.005]['feature'])\n",
    "print(\"Final Selected Features by RandomForest:\", final_selected_features)\n",
    "\n",
    "# 교차 검증 결과 출력\n",
    "print(f\"Cross-Validation Accuracy: {cross_val_scores.mean():.2f}\")"
   ]
  },
  {
   "cell_type": "code",
   "execution_count": 52,
   "metadata": {},
   "outputs": [
    {
     "data": {
      "text/html": [
       "<div>\n",
       "<style scoped>\n",
       "    .dataframe tbody tr th:only-of-type {\n",
       "        vertical-align: middle;\n",
       "    }\n",
       "\n",
       "    .dataframe tbody tr th {\n",
       "        vertical-align: top;\n",
       "    }\n",
       "\n",
       "    .dataframe thead th {\n",
       "        text-align: right;\n",
       "    }\n",
       "</style>\n",
       "<table border=\"1\" class=\"dataframe\">\n",
       "  <thead>\n",
       "    <tr style=\"text-align: right;\">\n",
       "      <th></th>\n",
       "      <th>feature</th>\n",
       "      <th>importance</th>\n",
       "    </tr>\n",
       "  </thead>\n",
       "  <tbody>\n",
       "    <tr>\n",
       "      <th>7</th>\n",
       "      <td>estimated_revenue</td>\n",
       "      <td>0.124202</td>\n",
       "    </tr>\n",
       "    <tr>\n",
       "      <th>5</th>\n",
       "      <td>estimatedMinutesWatched</td>\n",
       "      <td>0.078844</td>\n",
       "    </tr>\n",
       "    <tr>\n",
       "      <th>12</th>\n",
       "      <td>subscribers_gained</td>\n",
       "      <td>0.064941</td>\n",
       "    </tr>\n",
       "    <tr>\n",
       "      <th>2</th>\n",
       "      <td>comments</td>\n",
       "      <td>0.060625</td>\n",
       "    </tr>\n",
       "    <tr>\n",
       "      <th>34</th>\n",
       "      <td>revenue_per_red_view</td>\n",
       "      <td>0.054205</td>\n",
       "    </tr>\n",
       "    <tr>\n",
       "      <th>26</th>\n",
       "      <td>positive_engage_rate</td>\n",
       "      <td>0.053293</td>\n",
       "    </tr>\n",
       "    <tr>\n",
       "      <th>37</th>\n",
       "      <td>revenue_per_minute_watched</td>\n",
       "      <td>0.053080</td>\n",
       "    </tr>\n",
       "    <tr>\n",
       "      <th>3</th>\n",
       "      <td>likes</td>\n",
       "      <td>0.051197</td>\n",
       "    </tr>\n",
       "    <tr>\n",
       "      <th>4</th>\n",
       "      <td>shares</td>\n",
       "      <td>0.049286</td>\n",
       "    </tr>\n",
       "    <tr>\n",
       "      <th>8</th>\n",
       "      <td>estimated_red_partner_revenue</td>\n",
       "      <td>0.046729</td>\n",
       "    </tr>\n",
       "    <tr>\n",
       "      <th>9</th>\n",
       "      <td>gross_revenue</td>\n",
       "      <td>0.031909</td>\n",
       "    </tr>\n",
       "    <tr>\n",
       "      <th>23</th>\n",
       "      <td>like_rate</td>\n",
       "      <td>0.031803</td>\n",
       "    </tr>\n",
       "    <tr>\n",
       "      <th>13</th>\n",
       "      <td>subscribers_lost</td>\n",
       "      <td>0.030711</td>\n",
       "    </tr>\n",
       "    <tr>\n",
       "      <th>33</th>\n",
       "      <td>revenue_per_subscriber</td>\n",
       "      <td>0.026493</td>\n",
       "    </tr>\n",
       "    <tr>\n",
       "      <th>10</th>\n",
       "      <td>cpm</td>\n",
       "      <td>0.022385</td>\n",
       "    </tr>\n",
       "    <tr>\n",
       "      <th>28</th>\n",
       "      <td>subscriber_increase_rate</td>\n",
       "      <td>0.019067</td>\n",
       "    </tr>\n",
       "    <tr>\n",
       "      <th>15</th>\n",
       "      <td>monetized_playbacks</td>\n",
       "      <td>0.018571</td>\n",
       "    </tr>\n",
       "    <tr>\n",
       "      <th>43</th>\n",
       "      <td>playback_rate</td>\n",
       "      <td>0.016481</td>\n",
       "    </tr>\n",
       "    <tr>\n",
       "      <th>0</th>\n",
       "      <td>redViews</td>\n",
       "      <td>0.015122</td>\n",
       "    </tr>\n",
       "    <tr>\n",
       "      <th>36</th>\n",
       "      <td>red_revenue_rate</td>\n",
       "      <td>0.011693</td>\n",
       "    </tr>\n",
       "    <tr>\n",
       "      <th>11</th>\n",
       "      <td>subscribers_count</td>\n",
       "      <td>0.011163</td>\n",
       "    </tr>\n",
       "    <tr>\n",
       "      <th>1</th>\n",
       "      <td>SUBSCRIBED</td>\n",
       "      <td>0.010988</td>\n",
       "    </tr>\n",
       "    <tr>\n",
       "      <th>35</th>\n",
       "      <td>ad_revenue_rate</td>\n",
       "      <td>0.009988</td>\n",
       "    </tr>\n",
       "    <tr>\n",
       "      <th>30</th>\n",
       "      <td>subscribers_conversion_rate</td>\n",
       "      <td>0.009808</td>\n",
       "    </tr>\n",
       "    <tr>\n",
       "      <th>39</th>\n",
       "      <td>watched_view_rate</td>\n",
       "      <td>0.009447</td>\n",
       "    </tr>\n",
       "    <tr>\n",
       "      <th>42</th>\n",
       "      <td>subscriber_view_time_rate</td>\n",
       "      <td>0.008361</td>\n",
       "    </tr>\n",
       "    <tr>\n",
       "      <th>6</th>\n",
       "      <td>averageViewDuration</td>\n",
       "      <td>0.008122</td>\n",
       "    </tr>\n",
       "    <tr>\n",
       "      <th>29</th>\n",
       "      <td>subscriber_decrease_rate</td>\n",
       "      <td>0.007716</td>\n",
       "    </tr>\n",
       "    <tr>\n",
       "      <th>38</th>\n",
       "      <td>avg_view_duration_rate</td>\n",
       "      <td>0.007093</td>\n",
       "    </tr>\n",
       "    <tr>\n",
       "      <th>24</th>\n",
       "      <td>comment_rate</td>\n",
       "      <td>0.006420</td>\n",
       "    </tr>\n",
       "    <tr>\n",
       "      <th>14</th>\n",
       "      <td>ad_impressions</td>\n",
       "      <td>0.006215</td>\n",
       "    </tr>\n",
       "    <tr>\n",
       "      <th>41</th>\n",
       "      <td>unsubscribed_view_time_rate</td>\n",
       "      <td>0.006081</td>\n",
       "    </tr>\n",
       "    <tr>\n",
       "      <th>31</th>\n",
       "      <td>subscribed_view_rate</td>\n",
       "      <td>0.004682</td>\n",
       "    </tr>\n",
       "    <tr>\n",
       "      <th>18</th>\n",
       "      <td>age18-24.male</td>\n",
       "      <td>0.004373</td>\n",
       "    </tr>\n",
       "    <tr>\n",
       "      <th>32</th>\n",
       "      <td>unsubscribed_view_rate</td>\n",
       "      <td>0.003999</td>\n",
       "    </tr>\n",
       "    <tr>\n",
       "      <th>20</th>\n",
       "      <td>age25-34.male</td>\n",
       "      <td>0.003923</td>\n",
       "    </tr>\n",
       "    <tr>\n",
       "      <th>19</th>\n",
       "      <td>age25-34.female</td>\n",
       "      <td>0.003189</td>\n",
       "    </tr>\n",
       "    <tr>\n",
       "      <th>22</th>\n",
       "      <td>age65-.female</td>\n",
       "      <td>0.003048</td>\n",
       "    </tr>\n",
       "    <tr>\n",
       "      <th>17</th>\n",
       "      <td>age18-24.female</td>\n",
       "      <td>0.002847</td>\n",
       "    </tr>\n",
       "    <tr>\n",
       "      <th>25</th>\n",
       "      <td>dislike_rate</td>\n",
       "      <td>0.002793</td>\n",
       "    </tr>\n",
       "    <tr>\n",
       "      <th>40</th>\n",
       "      <td>subscribed_view_time_rate</td>\n",
       "      <td>0.002744</td>\n",
       "    </tr>\n",
       "    <tr>\n",
       "      <th>21</th>\n",
       "      <td>age35-44.female</td>\n",
       "      <td>0.002492</td>\n",
       "    </tr>\n",
       "    <tr>\n",
       "      <th>16</th>\n",
       "      <td>age13-17.female</td>\n",
       "      <td>0.001962</td>\n",
       "    </tr>\n",
       "    <tr>\n",
       "      <th>27</th>\n",
       "      <td>like_to_dislike_ratio</td>\n",
       "      <td>0.001908</td>\n",
       "    </tr>\n",
       "  </tbody>\n",
       "</table>\n",
       "</div>"
      ],
      "text/plain": [
       "                          feature  importance\n",
       "7               estimated_revenue    0.124202\n",
       "5         estimatedMinutesWatched    0.078844\n",
       "12             subscribers_gained    0.064941\n",
       "2                        comments    0.060625\n",
       "34           revenue_per_red_view    0.054205\n",
       "26           positive_engage_rate    0.053293\n",
       "37     revenue_per_minute_watched    0.053080\n",
       "3                           likes    0.051197\n",
       "4                          shares    0.049286\n",
       "8   estimated_red_partner_revenue    0.046729\n",
       "9                   gross_revenue    0.031909\n",
       "23                      like_rate    0.031803\n",
       "13               subscribers_lost    0.030711\n",
       "33         revenue_per_subscriber    0.026493\n",
       "10                            cpm    0.022385\n",
       "28       subscriber_increase_rate    0.019067\n",
       "15            monetized_playbacks    0.018571\n",
       "43                  playback_rate    0.016481\n",
       "0                        redViews    0.015122\n",
       "36               red_revenue_rate    0.011693\n",
       "11              subscribers_count    0.011163\n",
       "1                      SUBSCRIBED    0.010988\n",
       "35                ad_revenue_rate    0.009988\n",
       "30    subscribers_conversion_rate    0.009808\n",
       "39              watched_view_rate    0.009447\n",
       "42      subscriber_view_time_rate    0.008361\n",
       "6             averageViewDuration    0.008122\n",
       "29       subscriber_decrease_rate    0.007716\n",
       "38         avg_view_duration_rate    0.007093\n",
       "24                   comment_rate    0.006420\n",
       "14                 ad_impressions    0.006215\n",
       "41    unsubscribed_view_time_rate    0.006081\n",
       "31           subscribed_view_rate    0.004682\n",
       "18                  age18-24.male    0.004373\n",
       "32         unsubscribed_view_rate    0.003999\n",
       "20                  age25-34.male    0.003923\n",
       "19                age25-34.female    0.003189\n",
       "22                  age65-.female    0.003048\n",
       "17                age18-24.female    0.002847\n",
       "25                   dislike_rate    0.002793\n",
       "40      subscribed_view_time_rate    0.002744\n",
       "21                age35-44.female    0.002492\n",
       "16                age13-17.female    0.001962\n",
       "27          like_to_dislike_ratio    0.001908"
      ]
     },
     "execution_count": 52,
     "metadata": {},
     "output_type": "execute_result"
    }
   ],
   "source": [
    "feature_importances ## 0.005 기준으로 변수 선택"
   ]
  },
  {
   "cell_type": "code",
   "execution_count": 56,
   "metadata": {},
   "outputs": [
    {
     "data": {
      "text/plain": [
       "32"
      ]
     },
     "execution_count": 56,
     "metadata": {},
     "output_type": "execute_result"
    }
   ],
   "source": [
    "len(final_selected_features)"
   ]
  },
  {
   "cell_type": "markdown",
   "metadata": {},
   "source": [
    "## 콘텐츠 데이터 분석"
   ]
  },
  {
   "cell_type": "code",
   "execution_count": null,
   "metadata": {},
   "outputs": [],
   "source": [
    "youtube_videos.head()"
   ]
  },
  {
   "cell_type": "markdown",
   "metadata": {},
   "source": [
    "### 데이터 분할"
   ]
  },
  {
   "cell_type": "code",
   "execution_count": 31,
   "metadata": {},
   "outputs": [],
   "source": [
    "# 컬럼 정리\n",
    "unique_col = youtube_videos.columns[:3]\n",
    "x_col = youtube_videos.columns[3:-1]"
   ]
  },
  {
   "cell_type": "code",
   "execution_count": 35,
   "metadata": {},
   "outputs": [],
   "source": [
    "# 데이터 분할\n",
    "X = youtube_videos[x_col].drop(columns=y_col) ## y값 라벨링에 쓰인 지표 제거\n",
    "y = youtube_videos['y_label']\n",
    "X_train, X_test, y_train, y_test = train_test_split(X, y, test_size=0.2, random_state=42)"
   ]
  },
  {
   "cell_type": "code",
   "execution_count": 36,
   "metadata": {},
   "outputs": [],
   "source": [
    "del X, y"
   ]
  },
  {
   "cell_type": "code",
   "execution_count": 37,
   "metadata": {},
   "outputs": [
    {
     "name": "stdout",
     "output_type": "stream",
     "text": [
      "y_label\n",
      "1    6513105\n",
      "0     342503\n",
      "Name: count, dtype: int64\n",
      "y_label\n",
      "1    1627933\n",
      "0      85970\n",
      "Name: count, dtype: int64\n"
     ]
    }
   ],
   "source": [
    "# 불균형 확인\n",
    "print(y_train.value_counts())\n",
    "print(y_test.value_counts())"
   ]
  },
  {
   "cell_type": "markdown",
   "metadata": {},
   "source": [
    "### 언더샘플링"
   ]
  },
  {
   "cell_type": "code",
   "execution_count": 38,
   "metadata": {},
   "outputs": [],
   "source": [
    "# 언더샘플링\n",
    "rus = RandomUnderSampler(random_state=42)\n",
    "X_train_resampled, y_train_resampled = rus.fit_resample(X_train, y_train)"
   ]
  },
  {
   "cell_type": "markdown",
   "metadata": {},
   "source": [
    "### 변수선택"
   ]
  },
  {
   "cell_type": "markdown",
   "metadata": {},
   "source": [
    "t-test"
   ]
  },
  {
   "cell_type": "code",
   "execution_count": 39,
   "metadata": {},
   "outputs": [
    {
     "name": "stdout",
     "output_type": "stream",
     "text": [
      "Selected Features by t-test: ['views', 'redViews', 'comments', 'likes', 'dislikes', 'shares', 'estimatedMinutesWatched', 'estimatedRedMinutesWatched', 'averageViewDuration', 'videosAddedToPlaylists', 'videosRemovedFromPlaylists', 'estimatedRevenue', 'estimatedAdRevenue', 'grossRevenue', 'estimatedRedPartnerRevenue', 'playbackBasedCpm', 'cpm', 'subscribersGained', 'subscribersLost', 'monetizedPlaybacks', 'adImpressions', 'cardClickRate', 'cardTeaserClickRate', 'cardImpressions', 'cardTeaserImpressions', 'cardClicks', 'cardTeaserClicks', 'like_rate', 'comment_rate', 'share_rate', 'dislike_rate', 'positive_engage_rate', 'comment_to_like_rate', 'like_to_dislike_ratio', 'subscribers_conversion_rate', 'subscribers_gained_per_card_click', 'subscribers_gained_per_playlist_add', 'card_click_to_subscriber_conversion', 'subscribers_lost_per_playlist_remove', 'revenue_per_red_view', 'ad_revenue_rate', 'red_revenue_rate', 'cpm_to_revenue_ratio', 'revenue_per_ad_impression', 'playback_based_cpm_rate', 'revenue_per_card_click', 'revenue_per_playlist_add', 'ad_revenue_per_card_click', 'revenue_per_minute_watched', 'revenue_per_red_minute_watched', 'avg_view_duration_rate', 'watched_time_rate', 'watched_red_time_rate', 'watched_view_rate', 'watched_red_view_rate', 'watch_time_per_card_click', 'watch_time_per_playlist_add', 'avg_view_duration_per_card_click', 'watch_time_loss_per_playlist_remove', 'revenue_per_playback', 'playback_rate', 'grossrevenue_per_card_click', 'grossrevenue_per_playlist_add', 'ad_impressions_per_card_click', 'ad_impressions_per_playlist_add', 'ad_playbacks_per_card_click', 'ad_playbacks_per_playlist_add', 'card_to_teaser_click_rate', 'card_click_per_impression_rate', 'card_teaser_click_per_impression_rate', 'card_conversion_rate', 'playlist_addition_rate', 'playlist_removal_rate', 'playlist_related_revenue_rate']\n"
     ]
    },
    {
     "name": "stderr",
     "output_type": "stream",
     "text": [
      "c:\\Users\\kkims\\anaconda3\\envs\\awake\\lib\\site-packages\\scipy\\stats\\_stats_py.py:1079: RuntimeWarning: invalid value encountered in subtract\n",
      "  a_zero_mean = a - mean\n",
      "c:\\Users\\kkims\\anaconda3\\envs\\awake\\lib\\site-packages\\scipy\\stats\\_stats_py.py:6527: RuntimeWarning: invalid value encountered in scalar subtract\n",
      "  d = mean1 - mean2\n",
      "c:\\Users\\kkims\\anaconda3\\envs\\awake\\lib\\site-packages\\scipy\\stats\\_stats_py.py:7025: RuntimeWarning: invalid value encountered in scalar subtract\n",
      "  estimate = m1-m2\n"
     ]
    }
   ],
   "source": [
    "from scipy.stats import ttest_ind\n",
    "\n",
    "# y=0과 y=1 그룹으로 데이터 나누기\n",
    "group_0 = X_train_resampled[y_train_resampled == 0]\n",
    "group_1 = X_train_resampled[y_train_resampled == 1]\n",
    "\n",
    "# t-test 수행\n",
    "p_values = []\n",
    "for col in X_train_resampled.columns:\n",
    "    t_stat, p_val = ttest_ind(group_0[col], group_1[col], equal_var=False)  # Welch's t-test\n",
    "    p_values.append((col, p_val))\n",
    "\n",
    "# p-value < 0.05인 변수 선택\n",
    "selected_features_by_ttest = [col for col, p_val in p_values if p_val < 0.05]\n",
    "print(\"Selected Features by t-test:\", selected_features_by_ttest)"
   ]
  },
  {
   "cell_type": "code",
   "execution_count": 47,
   "metadata": {},
   "outputs": [
    {
     "data": {
      "text/plain": [
       "74"
      ]
     },
     "execution_count": 47,
     "metadata": {},
     "output_type": "execute_result"
    }
   ],
   "source": [
    "len(selected_features_by_ttest)"
   ]
  },
  {
   "cell_type": "markdown",
   "metadata": {},
   "source": [
    "Lasso"
   ]
  },
  {
   "cell_type": "code",
   "execution_count": 48,
   "metadata": {},
   "outputs": [
    {
     "name": "stdout",
     "output_type": "stream",
     "text": [
      "Selected Features by Lasso: Index(['views', 'redViews', 'comments', 'likes', 'dislikes', 'shares',\n",
      "       'estimatedRedMinutesWatched', 'averageViewDuration',\n",
      "       'videosAddedToPlaylists', 'videosRemovedFromPlaylists',\n",
      "       'estimatedRevenue', 'estimatedAdRevenue', 'grossRevenue',\n",
      "       'playbackBasedCpm', 'cpm', 'subscribersGained', 'subscribersLost',\n",
      "       'monetizedPlaybacks', 'adImpressions', 'cardClickRate',\n",
      "       'cardTeaserClickRate', 'cardImpressions', 'cardTeaserImpressions',\n",
      "       'like_rate', 'comment_rate', 'dislike_rate', 'positive_engage_rate',\n",
      "       'comment_to_like_rate', 'like_to_dislike_ratio',\n",
      "       'subscribers_conversion_rate', 'subscribers_gained_per_playlist_add',\n",
      "       'revenue_per_red_view', 'ad_revenue_rate', 'red_revenue_rate',\n",
      "       'cpm_to_revenue_ratio', 'revenue_per_ad_impression',\n",
      "       'playback_based_cpm_rate', 'revenue_per_playlist_add',\n",
      "       'revenue_per_minute_watched', 'avg_view_duration_rate',\n",
      "       'watched_time_rate', 'watched_red_view_rate',\n",
      "       'watch_time_per_playlist_add', 'avg_view_duration_per_card_click',\n",
      "       'watch_time_loss_per_playlist_remove', 'revenue_per_playback',\n",
      "       'playback_rate', 'grossrevenue_per_playlist_add',\n",
      "       'ad_playbacks_per_playlist_add', 'card_click_per_impression_rate',\n",
      "       'card_teaser_click_per_impression_rate', 'card_conversion_rate',\n",
      "       'playlist_addition_rate', 'playlist_removal_rate',\n",
      "       'playlist_related_revenue_rate'],\n",
      "      dtype='object')\n"
     ]
    }
   ],
   "source": [
    "from sklearn.linear_model import LassoCV\n",
    "from sklearn.preprocessing import StandardScaler\n",
    "\n",
    "# t-test로 선택된 변수로 데이터프레임 구성\n",
    "X_train_ttest_selected = X_train_resampled[selected_features_by_ttest]\n",
    "\n",
    "# 데이터 스케일링\n",
    "scaler = StandardScaler()\n",
    "X_train_scaled = scaler.fit_transform(X_train_ttest_selected)\n",
    "\n",
    "# LassoCV 모델 설정: 반복 횟수 증가, alpha 범위 조정\n",
    "lasso = LassoCV(cv=5, random_state=42, max_iter=10000, alphas=[0.1, 0.05, 0.01, 0.005, 0.001]).fit(X_train_scaled, y_train_resampled)\n",
    "\n",
    "# 선택된 변수 확인 (회귀 계수가 0이 아닌 변수들)\n",
    "selected_features_by_lasso = X_train_ttest_selected.columns[(lasso.coef_ != 0)]\n",
    "print(\"Selected Features by Lasso:\", selected_features_by_lasso)"
   ]
  },
  {
   "cell_type": "code",
   "execution_count": 50,
   "metadata": {},
   "outputs": [
    {
     "data": {
      "text/plain": [
       "55"
      ]
     },
     "execution_count": 50,
     "metadata": {},
     "output_type": "execute_result"
    }
   ],
   "source": [
    "len(selected_features_by_lasso)"
   ]
  },
  {
   "cell_type": "code",
   "execution_count": 53,
   "metadata": {},
   "outputs": [
    {
     "data": {
      "text/plain": [
       "{'ad_impressions_per_card_click',\n",
       " 'ad_impressions_per_playlist_add',\n",
       " 'ad_playbacks_per_card_click',\n",
       " 'ad_revenue_per_card_click',\n",
       " 'cardClicks',\n",
       " 'cardTeaserClicks',\n",
       " 'card_click_to_subscriber_conversion',\n",
       " 'card_to_teaser_click_rate',\n",
       " 'estimatedMinutesWatched',\n",
       " 'estimatedRedPartnerRevenue',\n",
       " 'grossrevenue_per_card_click',\n",
       " 'revenue_per_card_click',\n",
       " 'revenue_per_red_minute_watched',\n",
       " 'share_rate',\n",
       " 'subscribers_gained_per_card_click',\n",
       " 'subscribers_lost_per_playlist_remove',\n",
       " 'watch_time_per_card_click',\n",
       " 'watched_red_time_rate',\n",
       " 'watched_view_rate'}"
      ]
     },
     "execution_count": 53,
     "metadata": {},
     "output_type": "execute_result"
    }
   ],
   "source": [
    "## lasso 선택으로 제거된 변수\n",
    "set(selected_features_by_ttest) - set(selected_features_by_lasso)"
   ]
  },
  {
   "cell_type": "markdown",
   "metadata": {},
   "source": [
    "RandomForest"
   ]
  },
  {
   "cell_type": "code",
   "execution_count": 54,
   "metadata": {},
   "outputs": [
    {
     "name": "stdout",
     "output_type": "stream",
     "text": [
      "Final Selected Features by RandomForest: ['positive_engage_rate', 'playlist_addition_rate', 'cpm', 'revenue_per_ad_impression', 'revenue_per_playback', 'playlist_removal_rate', 'like_rate', 'playbackBasedCpm', 'videosAddedToPlaylists', 'views', 'likes', 'videosRemovedFromPlaylists', 'subscribersGained', 'watch_time_per_playlist_add', 'shares', 'watched_time_rate', 'revenue_per_red_view', 'estimatedRevenue', 'redViews', 'averageViewDuration', 'revenue_per_minute_watched', 'watch_time_loss_per_playlist_remove', 'avg_view_duration_rate', 'revenue_per_playlist_add', 'estimatedAdRevenue', 'watched_red_view_rate', 'estimatedRedMinutesWatched', 'grossRevenue', 'cpm_to_revenue_ratio', 'comment_rate', 'playlist_related_revenue_rate', 'ad_revenue_rate', 'comments', 'subscribers_conversion_rate', 'red_revenue_rate', 'ad_playbacks_per_playlist_add', 'monetizedPlaybacks', 'adImpressions']\n",
      "Cross-Validation Accuracy: 0.99\n"
     ]
    }
   ],
   "source": [
    "from sklearn.ensemble import RandomForestClassifier\n",
    "from sklearn.model_selection import cross_val_score\n",
    "\n",
    "# RandomForest 모델 학습 및 교차 검증\n",
    "X_train_lasso_selected = X_train_resampled[selected_features_by_lasso]\n",
    "\n",
    "model = RandomForestClassifier(random_state=42)\n",
    "cross_val_scores = cross_val_score(model, X_train_lasso_selected, y_train_resampled, cv=5, scoring='accuracy')\n",
    "\n",
    "# 모델 학습\n",
    "model.fit(X_train_lasso_selected, y_train_resampled)\n",
    "\n",
    "# 피처 중요도 추출\n",
    "importances = model.feature_importances_\n",
    "feature_importances = pd.DataFrame({'feature': selected_features_by_lasso, 'importance': importances})\n",
    "feature_importances = feature_importances.sort_values(by='importance', ascending=False)\n",
    "\n",
    "# 최종적으로 중요한 변수 선택 (예: 상위 10개 변수)\n",
    "final_selected_features = list(feature_importances[feature_importances['importance'] > 0.005]['feature'])\n",
    "print(\"Final Selected Features by RandomForest:\", final_selected_features)\n",
    "\n",
    "# 교차 검증 결과 출력\n",
    "print(f\"Cross-Validation Accuracy: {cross_val_scores.mean():.2f}\")"
   ]
  },
  {
   "cell_type": "code",
   "execution_count": 58,
   "metadata": {},
   "outputs": [
    {
     "data": {
      "text/plain": [
       "['positive_engage_rate',\n",
       " 'playlist_addition_rate',\n",
       " 'cpm',\n",
       " 'revenue_per_ad_impression',\n",
       " 'revenue_per_playback',\n",
       " 'playlist_removal_rate',\n",
       " 'like_rate',\n",
       " 'playbackBasedCpm',\n",
       " 'videosAddedToPlaylists',\n",
       " 'views',\n",
       " 'likes',\n",
       " 'videosRemovedFromPlaylists',\n",
       " 'subscribersGained',\n",
       " 'watch_time_per_playlist_add',\n",
       " 'shares',\n",
       " 'watched_time_rate',\n",
       " 'revenue_per_red_view',\n",
       " 'estimatedRevenue',\n",
       " 'redViews',\n",
       " 'averageViewDuration',\n",
       " 'revenue_per_minute_watched',\n",
       " 'watch_time_loss_per_playlist_remove',\n",
       " 'avg_view_duration_rate',\n",
       " 'revenue_per_playlist_add',\n",
       " 'estimatedAdRevenue',\n",
       " 'watched_red_view_rate',\n",
       " 'estimatedRedMinutesWatched',\n",
       " 'grossRevenue',\n",
       " 'cpm_to_revenue_ratio',\n",
       " 'comment_rate',\n",
       " 'playlist_related_revenue_rate',\n",
       " 'ad_revenue_rate',\n",
       " 'comments',\n",
       " 'subscribers_conversion_rate',\n",
       " 'red_revenue_rate',\n",
       " 'ad_playbacks_per_playlist_add',\n",
       " 'monetizedPlaybacks',\n",
       " 'adImpressions']"
      ]
     },
     "execution_count": 58,
     "metadata": {},
     "output_type": "execute_result"
    }
   ],
   "source": [
    "final_selected_features"
   ]
  },
  {
   "cell_type": "code",
   "execution_count": 56,
   "metadata": {},
   "outputs": [
    {
     "data": {
      "text/html": [
       "<div>\n",
       "<style scoped>\n",
       "    .dataframe tbody tr th:only-of-type {\n",
       "        vertical-align: middle;\n",
       "    }\n",
       "\n",
       "    .dataframe tbody tr th {\n",
       "        vertical-align: top;\n",
       "    }\n",
       "\n",
       "    .dataframe thead th {\n",
       "        text-align: right;\n",
       "    }\n",
       "</style>\n",
       "<table border=\"1\" class=\"dataframe\">\n",
       "  <thead>\n",
       "    <tr style=\"text-align: right;\">\n",
       "      <th></th>\n",
       "      <th>feature</th>\n",
       "      <th>importance</th>\n",
       "    </tr>\n",
       "  </thead>\n",
       "  <tbody>\n",
       "    <tr>\n",
       "      <th>26</th>\n",
       "      <td>positive_engage_rate</td>\n",
       "      <td>0.115805</td>\n",
       "    </tr>\n",
       "    <tr>\n",
       "      <th>52</th>\n",
       "      <td>playlist_addition_rate</td>\n",
       "      <td>0.072534</td>\n",
       "    </tr>\n",
       "    <tr>\n",
       "      <th>14</th>\n",
       "      <td>cpm</td>\n",
       "      <td>0.066794</td>\n",
       "    </tr>\n",
       "    <tr>\n",
       "      <th>35</th>\n",
       "      <td>revenue_per_ad_impression</td>\n",
       "      <td>0.056216</td>\n",
       "    </tr>\n",
       "    <tr>\n",
       "      <th>45</th>\n",
       "      <td>revenue_per_playback</td>\n",
       "      <td>0.054511</td>\n",
       "    </tr>\n",
       "    <tr>\n",
       "      <th>53</th>\n",
       "      <td>playlist_removal_rate</td>\n",
       "      <td>0.049415</td>\n",
       "    </tr>\n",
       "    <tr>\n",
       "      <th>23</th>\n",
       "      <td>like_rate</td>\n",
       "      <td>0.049097</td>\n",
       "    </tr>\n",
       "    <tr>\n",
       "      <th>13</th>\n",
       "      <td>playbackBasedCpm</td>\n",
       "      <td>0.048472</td>\n",
       "    </tr>\n",
       "    <tr>\n",
       "      <th>8</th>\n",
       "      <td>videosAddedToPlaylists</td>\n",
       "      <td>0.045500</td>\n",
       "    </tr>\n",
       "    <tr>\n",
       "      <th>0</th>\n",
       "      <td>views</td>\n",
       "      <td>0.033676</td>\n",
       "    </tr>\n",
       "    <tr>\n",
       "      <th>3</th>\n",
       "      <td>likes</td>\n",
       "      <td>0.031456</td>\n",
       "    </tr>\n",
       "    <tr>\n",
       "      <th>9</th>\n",
       "      <td>videosRemovedFromPlaylists</td>\n",
       "      <td>0.028884</td>\n",
       "    </tr>\n",
       "    <tr>\n",
       "      <th>15</th>\n",
       "      <td>subscribersGained</td>\n",
       "      <td>0.027418</td>\n",
       "    </tr>\n",
       "    <tr>\n",
       "      <th>42</th>\n",
       "      <td>watch_time_per_playlist_add</td>\n",
       "      <td>0.026476</td>\n",
       "    </tr>\n",
       "    <tr>\n",
       "      <th>5</th>\n",
       "      <td>shares</td>\n",
       "      <td>0.026243</td>\n",
       "    </tr>\n",
       "    <tr>\n",
       "      <th>40</th>\n",
       "      <td>watched_time_rate</td>\n",
       "      <td>0.022118</td>\n",
       "    </tr>\n",
       "    <tr>\n",
       "      <th>31</th>\n",
       "      <td>revenue_per_red_view</td>\n",
       "      <td>0.019218</td>\n",
       "    </tr>\n",
       "    <tr>\n",
       "      <th>10</th>\n",
       "      <td>estimatedRevenue</td>\n",
       "      <td>0.018265</td>\n",
       "    </tr>\n",
       "    <tr>\n",
       "      <th>1</th>\n",
       "      <td>redViews</td>\n",
       "      <td>0.015992</td>\n",
       "    </tr>\n",
       "    <tr>\n",
       "      <th>7</th>\n",
       "      <td>averageViewDuration</td>\n",
       "      <td>0.015786</td>\n",
       "    </tr>\n",
       "    <tr>\n",
       "      <th>38</th>\n",
       "      <td>revenue_per_minute_watched</td>\n",
       "      <td>0.015611</td>\n",
       "    </tr>\n",
       "    <tr>\n",
       "      <th>44</th>\n",
       "      <td>watch_time_loss_per_playlist_remove</td>\n",
       "      <td>0.014146</td>\n",
       "    </tr>\n",
       "    <tr>\n",
       "      <th>39</th>\n",
       "      <td>avg_view_duration_rate</td>\n",
       "      <td>0.013205</td>\n",
       "    </tr>\n",
       "    <tr>\n",
       "      <th>37</th>\n",
       "      <td>revenue_per_playlist_add</td>\n",
       "      <td>0.010101</td>\n",
       "    </tr>\n",
       "    <tr>\n",
       "      <th>11</th>\n",
       "      <td>estimatedAdRevenue</td>\n",
       "      <td>0.009800</td>\n",
       "    </tr>\n",
       "    <tr>\n",
       "      <th>41</th>\n",
       "      <td>watched_red_view_rate</td>\n",
       "      <td>0.009542</td>\n",
       "    </tr>\n",
       "    <tr>\n",
       "      <th>6</th>\n",
       "      <td>estimatedRedMinutesWatched</td>\n",
       "      <td>0.008687</td>\n",
       "    </tr>\n",
       "    <tr>\n",
       "      <th>12</th>\n",
       "      <td>grossRevenue</td>\n",
       "      <td>0.008309</td>\n",
       "    </tr>\n",
       "    <tr>\n",
       "      <th>34</th>\n",
       "      <td>cpm_to_revenue_ratio</td>\n",
       "      <td>0.007289</td>\n",
       "    </tr>\n",
       "    <tr>\n",
       "      <th>24</th>\n",
       "      <td>comment_rate</td>\n",
       "      <td>0.006699</td>\n",
       "    </tr>\n",
       "    <tr>\n",
       "      <th>54</th>\n",
       "      <td>playlist_related_revenue_rate</td>\n",
       "      <td>0.006690</td>\n",
       "    </tr>\n",
       "    <tr>\n",
       "      <th>32</th>\n",
       "      <td>ad_revenue_rate</td>\n",
       "      <td>0.006370</td>\n",
       "    </tr>\n",
       "    <tr>\n",
       "      <th>2</th>\n",
       "      <td>comments</td>\n",
       "      <td>0.006259</td>\n",
       "    </tr>\n",
       "    <tr>\n",
       "      <th>29</th>\n",
       "      <td>subscribers_conversion_rate</td>\n",
       "      <td>0.006167</td>\n",
       "    </tr>\n",
       "    <tr>\n",
       "      <th>33</th>\n",
       "      <td>red_revenue_rate</td>\n",
       "      <td>0.006027</td>\n",
       "    </tr>\n",
       "    <tr>\n",
       "      <th>48</th>\n",
       "      <td>ad_playbacks_per_playlist_add</td>\n",
       "      <td>0.005372</td>\n",
       "    </tr>\n",
       "    <tr>\n",
       "      <th>17</th>\n",
       "      <td>monetizedPlaybacks</td>\n",
       "      <td>0.005348</td>\n",
       "    </tr>\n",
       "    <tr>\n",
       "      <th>18</th>\n",
       "      <td>adImpressions</td>\n",
       "      <td>0.005055</td>\n",
       "    </tr>\n",
       "    <tr>\n",
       "      <th>30</th>\n",
       "      <td>subscribers_gained_per_playlist_add</td>\n",
       "      <td>0.004753</td>\n",
       "    </tr>\n",
       "    <tr>\n",
       "      <th>4</th>\n",
       "      <td>dislikes</td>\n",
       "      <td>0.004332</td>\n",
       "    </tr>\n",
       "    <tr>\n",
       "      <th>25</th>\n",
       "      <td>dislike_rate</td>\n",
       "      <td>0.004314</td>\n",
       "    </tr>\n",
       "    <tr>\n",
       "      <th>36</th>\n",
       "      <td>playback_based_cpm_rate</td>\n",
       "      <td>0.003226</td>\n",
       "    </tr>\n",
       "    <tr>\n",
       "      <th>47</th>\n",
       "      <td>grossrevenue_per_playlist_add</td>\n",
       "      <td>0.002935</td>\n",
       "    </tr>\n",
       "    <tr>\n",
       "      <th>46</th>\n",
       "      <td>playback_rate</td>\n",
       "      <td>0.002694</td>\n",
       "    </tr>\n",
       "    <tr>\n",
       "      <th>27</th>\n",
       "      <td>comment_to_like_rate</td>\n",
       "      <td>0.001159</td>\n",
       "    </tr>\n",
       "    <tr>\n",
       "      <th>16</th>\n",
       "      <td>subscribersLost</td>\n",
       "      <td>0.000902</td>\n",
       "    </tr>\n",
       "    <tr>\n",
       "      <th>28</th>\n",
       "      <td>like_to_dislike_ratio</td>\n",
       "      <td>0.000868</td>\n",
       "    </tr>\n",
       "    <tr>\n",
       "      <th>22</th>\n",
       "      <td>cardTeaserImpressions</td>\n",
       "      <td>0.000161</td>\n",
       "    </tr>\n",
       "    <tr>\n",
       "      <th>20</th>\n",
       "      <td>cardTeaserClickRate</td>\n",
       "      <td>0.000020</td>\n",
       "    </tr>\n",
       "    <tr>\n",
       "      <th>21</th>\n",
       "      <td>cardImpressions</td>\n",
       "      <td>0.000020</td>\n",
       "    </tr>\n",
       "    <tr>\n",
       "      <th>50</th>\n",
       "      <td>card_teaser_click_per_impression_rate</td>\n",
       "      <td>0.000018</td>\n",
       "    </tr>\n",
       "    <tr>\n",
       "      <th>49</th>\n",
       "      <td>card_click_per_impression_rate</td>\n",
       "      <td>0.000012</td>\n",
       "    </tr>\n",
       "    <tr>\n",
       "      <th>19</th>\n",
       "      <td>cardClickRate</td>\n",
       "      <td>0.000012</td>\n",
       "    </tr>\n",
       "    <tr>\n",
       "      <th>51</th>\n",
       "      <td>card_conversion_rate</td>\n",
       "      <td>0.000012</td>\n",
       "    </tr>\n",
       "    <tr>\n",
       "      <th>43</th>\n",
       "      <td>avg_view_duration_per_card_click</td>\n",
       "      <td>0.000012</td>\n",
       "    </tr>\n",
       "  </tbody>\n",
       "</table>\n",
       "</div>"
      ],
      "text/plain": [
       "                                  feature  importance\n",
       "26                   positive_engage_rate    0.115805\n",
       "52                 playlist_addition_rate    0.072534\n",
       "14                                    cpm    0.066794\n",
       "35              revenue_per_ad_impression    0.056216\n",
       "45                   revenue_per_playback    0.054511\n",
       "53                  playlist_removal_rate    0.049415\n",
       "23                              like_rate    0.049097\n",
       "13                       playbackBasedCpm    0.048472\n",
       "8                  videosAddedToPlaylists    0.045500\n",
       "0                                   views    0.033676\n",
       "3                                   likes    0.031456\n",
       "9              videosRemovedFromPlaylists    0.028884\n",
       "15                      subscribersGained    0.027418\n",
       "42            watch_time_per_playlist_add    0.026476\n",
       "5                                  shares    0.026243\n",
       "40                      watched_time_rate    0.022118\n",
       "31                   revenue_per_red_view    0.019218\n",
       "10                       estimatedRevenue    0.018265\n",
       "1                                redViews    0.015992\n",
       "7                     averageViewDuration    0.015786\n",
       "38             revenue_per_minute_watched    0.015611\n",
       "44    watch_time_loss_per_playlist_remove    0.014146\n",
       "39                 avg_view_duration_rate    0.013205\n",
       "37               revenue_per_playlist_add    0.010101\n",
       "11                     estimatedAdRevenue    0.009800\n",
       "41                  watched_red_view_rate    0.009542\n",
       "6              estimatedRedMinutesWatched    0.008687\n",
       "12                           grossRevenue    0.008309\n",
       "34                   cpm_to_revenue_ratio    0.007289\n",
       "24                           comment_rate    0.006699\n",
       "54          playlist_related_revenue_rate    0.006690\n",
       "32                        ad_revenue_rate    0.006370\n",
       "2                                comments    0.006259\n",
       "29            subscribers_conversion_rate    0.006167\n",
       "33                       red_revenue_rate    0.006027\n",
       "48          ad_playbacks_per_playlist_add    0.005372\n",
       "17                     monetizedPlaybacks    0.005348\n",
       "18                          adImpressions    0.005055\n",
       "30    subscribers_gained_per_playlist_add    0.004753\n",
       "4                                dislikes    0.004332\n",
       "25                           dislike_rate    0.004314\n",
       "36                playback_based_cpm_rate    0.003226\n",
       "47          grossrevenue_per_playlist_add    0.002935\n",
       "46                          playback_rate    0.002694\n",
       "27                   comment_to_like_rate    0.001159\n",
       "16                        subscribersLost    0.000902\n",
       "28                  like_to_dislike_ratio    0.000868\n",
       "22                  cardTeaserImpressions    0.000161\n",
       "20                    cardTeaserClickRate    0.000020\n",
       "21                        cardImpressions    0.000020\n",
       "50  card_teaser_click_per_impression_rate    0.000018\n",
       "49         card_click_per_impression_rate    0.000012\n",
       "19                          cardClickRate    0.000012\n",
       "51                   card_conversion_rate    0.000012\n",
       "43       avg_view_duration_per_card_click    0.000012"
      ]
     },
     "execution_count": 56,
     "metadata": {},
     "output_type": "execute_result"
    }
   ],
   "source": [
    "feature_importances ## 0.005 기준으로 변수 선택"
   ]
  }
 ],
 "metadata": {
  "kernelspec": {
   "display_name": "awake_venv",
   "language": "python",
   "name": "python3"
  },
  "language_info": {
   "codemirror_mode": {
    "name": "ipython",
    "version": 3
   },
   "file_extension": ".py",
   "mimetype": "text/x-python",
   "name": "python",
   "nbconvert_exporter": "python",
   "pygments_lexer": "ipython3",
   "version": "3.10.14"
  }
 },
 "nbformat": 4,
 "nbformat_minor": 2
}
