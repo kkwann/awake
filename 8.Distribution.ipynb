{
 "cells": [
  {
   "cell_type": "markdown",
   "metadata": {},
   "source": [
    "패키지 로드"
   ]
  },
  {
   "cell_type": "code",
   "execution_count": 1,
   "metadata": {},
   "outputs": [],
   "source": [
    "import pymongo\n",
    "import pandas as pd\n",
    "import numpy as np\n",
    "from sklearn.preprocessing import StandardScaler\n",
    "from sklearn.ensemble import IsolationForest\n",
    "import xgboost as xgb\n",
    "import os\n",
    "from dotenv import load_dotenv\n",
    "import joblib\n",
    "import cloudpickle\n",
    "\n",
    "import warnings\n",
    "warnings.filterwarnings('ignore')"
   ]
  },
  {
   "cell_type": "markdown",
   "metadata": {},
   "source": [
    "유튜브 분석 피클 로드"
   ]
  },
  {
   "cell_type": "code",
   "execution_count": 2,
   "metadata": {},
   "outputs": [],
   "source": [
    "# 불러오기\n",
    "with open('youtube_analysis.pkl', 'rb') as f:\n",
    "    youtube_analysis = cloudpickle.load(f)"
   ]
  },
  {
   "cell_type": "markdown",
   "metadata": {},
   "source": [
    "분석에 필요한 데이터 로드"
   ]
  },
  {
   "cell_type": "code",
   "execution_count": 3,
   "metadata": {},
   "outputs": [],
   "source": [
    "# 필요데이터 경로\n",
    "need_data_path = 'C:/py_src/awake/data/need/'"
   ]
  },
  {
   "cell_type": "code",
   "execution_count": 4,
   "metadata": {},
   "outputs": [],
   "source": [
    "# 필요데이터 로드\n",
    "# 변수명, 파일명 변경하면 실행안됨(주의!)\n",
    "user_info_df, trained_data, features_weight, input_data = youtube_analysis.data_preparation_need(need_data_path)"
   ]
  },
  {
   "cell_type": "markdown",
   "metadata": {},
   "source": [
    "MongDB 연동"
   ]
  },
  {
   "cell_type": "code",
   "execution_count": 5,
   "metadata": {},
   "outputs": [],
   "source": [
    "# MongoDB 연동\n",
    "# 각자 ID, PW 입력\n",
    "db = youtube_analysis.mongodb_connection('external_user','nrAx9lyGH5K7lbgv')"
   ]
  },
  {
   "cell_type": "markdown",
   "metadata": {},
   "source": [
    "데이터 준비"
   ]
  },
  {
   "cell_type": "code",
   "execution_count": 6,
   "metadata": {},
   "outputs": [],
   "source": [
    "youtube_user_df = youtube_analysis.data_preparation_user(db)\n",
    "youtube_contents_df = youtube_analysis.data_preparation_contents(db)"
   ]
  },
  {
   "cell_type": "markdown",
   "metadata": {},
   "source": [
    "분석 결과 확인"
   ]
  },
  {
   "cell_type": "code",
   "execution_count": 9,
   "metadata": {},
   "outputs": [
    {
     "name": "stdout",
     "output_type": "stream",
     "text": [
      "큰 영향력 계정\n",
      "1\n",
      "['축구 읽어주는 여자 쵱내']\n",
      "---------------------------------------------------------------------\n",
      "\n",
      "작은 영향력 계정\n",
      "28\n",
      "['운동남 - 운동하는 남자', '금속남자(Metal_male)', '키키낙낙', '먹크탕', '초은 : Cho Eun', '오늘의 여정 - 오늘의 여행 정리', 'Seeyousoon', '유랑민의 지구적응기', '은는이가', '니들needle', 'ORlGN 오리진', '헤이임자heylimja', '패션 고슴도치', 'the sence', '음악하는 황지원', '갓키', '최민욱', '엔딘TV', '윰상 Yun Minsang', '혜윤 (희망)', '김경수', '스뷰작 TV', '연민지TV', '김백사', '김윤지', 'editor gieun', '오이로그', '신햇님 ShinHaley']\n",
      "---------------------------------------------------------------------\n",
      "\n",
      "잠재적 영향력 계정\n",
      "0\n",
      "[]\n",
      "---------------------------------------------------------------------\n",
      "\n",
      "가짜 영향력 계정\n",
      "0\n",
      "[]\n",
      "---------------------------------------------------------------------\n",
      "\n"
     ]
    }
   ],
   "source": [
    "# Topic 1 - 콘텐츠 영향력 데이터 내 Fraud 색출을 통한 채널 진성 영향력 파악\n",
    "result_topic1_df = youtube_analysis.result_topic1()"
   ]
  },
  {
   "cell_type": "code",
   "execution_count": 11,
   "metadata": {},
   "outputs": [
    {
     "name": "stdout",
     "output_type": "stream",
     "text": [
      "1개월 후 유지 및 감소 예상 계정\n",
      "17\n",
      "['운동남 - 운동하는 남자' '금속남자(Metal_male)' '키키낙낙' '초은 : Cho Eun' '유랑민의 지구적응기'\n",
      " '은는이가' '헤이임자heylimja' 'the sence' '음악하는 황지원' '최민욱' '엔딘TV' '김경수' '연민지TV'\n",
      " '김백사' 'editor gieun' '오이로그' '신햇님 ShinHaley']\n",
      "---------------------------------------------------------------------\n",
      "\n",
      "1개월 후 증가 예상 계정\n",
      "4\n",
      "['오늘의 여정 - 오늘의 여행 정리' 'Seeyousoon' 'ORlGN 오리진' '스뷰작 TV']\n",
      "---------------------------------------------------------------------\n",
      "\n",
      "1개월 후 크게 증가 예상 계정\n",
      "2\n",
      "['축구 읽어주는 여자 쵱내' '니들needle']\n",
      "---------------------------------------------------------------------\n",
      "\n",
      "3개월 후 유지 및 감소 예상 계정\n",
      "16\n",
      "['운동남 - 운동하는 남자' '금속남자(Metal_male)' '키키낙낙' '초은 : Cho Eun' '유랑민의 지구적응기'\n",
      " '은는이가' '헤이임자heylimja' 'the sence' '음악하는 황지원' '최민욱' '엔딘TV' '연민지TV' '김백사'\n",
      " 'editor gieun' '오이로그' '신햇님 ShinHaley']\n",
      "---------------------------------------------------------------------\n",
      "\n",
      "3개월 후 증가 예상 계정\n",
      "4\n",
      "['오늘의 여정 - 오늘의 여행 정리' 'Seeyousoon' 'ORlGN 오리진' '스뷰작 TV']\n",
      "---------------------------------------------------------------------\n",
      "\n",
      "3개월 후 크게 증가 예상 계정\n",
      "2\n",
      "['축구 읽어주는 여자 쵱내' '니들needle']\n",
      "---------------------------------------------------------------------\n",
      "\n"
     ]
    }
   ],
   "source": [
    "# Topic 2 - 구독자 수 예측\n",
    "result_topic2_df = youtube_analysis.result_topic2()"
   ]
  },
  {
   "cell_type": "code",
   "execution_count": 12,
   "metadata": {},
   "outputs": [
    {
     "name": "stdout",
     "output_type": "stream",
     "text": [
      "1개월 후 유지 및 감소 예상 계정\n",
      "21\n",
      "['운동남 - 운동하는 남자' '금속남자(Metal_male)' '키키낙낙' '초은 : Cho Eun'\n",
      " '오늘의 여정 - 오늘의 여행 정리' 'Seeyousoon' '유랑민의 지구적응기' '은는이가' 'ORlGN 오리진'\n",
      " '헤이임자heylimja' 'the sence' '음악하는 황지원' '최민욱' '엔딘TV' '김경수' '스뷰작 TV' '연민지TV'\n",
      " '김백사' 'editor gieun' '오이로그' '신햇님 ShinHaley']\n",
      "---------------------------------------------------------------------\n",
      "\n",
      "1개월 후 증가 예상 계정\n",
      "0\n",
      "[]\n",
      "---------------------------------------------------------------------\n",
      "\n",
      "1개월 후 증가 예상 계정\n",
      "2\n",
      "['축구 읽어주는 여자 쵱내' '니들needle']\n",
      "---------------------------------------------------------------------\n",
      "\n",
      "3개월 후 유지 및 감소 예상 계정\n",
      "18\n",
      "['운동남 - 운동하는 남자' '금속남자(Metal_male)' '키키낙낙' '초은 : Cho Eun' 'Seeyousoon'\n",
      " '유랑민의 지구적응기' 'ORlGN 오리진' '헤이임자heylimja' 'the sence' '음악하는 황지원' '최민욱'\n",
      " '엔딘TV' '스뷰작 TV' '연민지TV' '김백사' 'editor gieun' '오이로그' '신햇님 ShinHaley']\n",
      "---------------------------------------------------------------------\n",
      "\n",
      "3개월 후 증가 예상 계정\n",
      "2\n",
      "['오늘의 여정 - 오늘의 여행 정리' '은는이가']\n",
      "---------------------------------------------------------------------\n",
      "\n",
      "3개월 후 증가 예상 계정\n",
      "2\n",
      "['축구 읽어주는 여자 쵱내' '니들needle']\n",
      "---------------------------------------------------------------------\n",
      "\n"
     ]
    }
   ],
   "source": [
    "# Topic 3 - 광고수익 예측\n",
    "result_topic3_df = youtube_analysis.result_topic3()"
   ]
  },
  {
   "cell_type": "code",
   "execution_count": 13,
   "metadata": {},
   "outputs": [
    {
     "name": "stderr",
     "output_type": "stream",
     "text": [
      "C:\\Users\\PC2409\\AppData\\Local\\Temp\\ipykernel_2956\\323242451.py:933: SettingWithCopyWarning: \n",
      "A value is trying to be set on a copy of a slice from a DataFrame.\n",
      "Try using .loc[row_indexer,col_indexer] = value instead\n",
      "\n",
      "See the caveats in the documentation: https://pandas.pydata.org/pandas-docs/stable/user_guide/indexing.html#returning-a-view-versus-a-copy\n",
      "C:\\Users\\PC2409\\AppData\\Local\\Temp\\ipykernel_2956\\323242451.py:937: SettingWithCopyWarning: \n",
      "A value is trying to be set on a copy of a slice from a DataFrame.\n",
      "Try using .loc[row_indexer,col_indexer] = value instead\n",
      "\n",
      "See the caveats in the documentation: https://pandas.pydata.org/pandas-docs/stable/user_guide/indexing.html#returning-a-view-versus-a-copy\n"
     ]
    },
    {
     "name": "stdout",
     "output_type": "stream",
     "text": [
      "부도 가능성 안전\n",
      "0\n",
      "[]\n",
      "---------------------------------------------------------------------\n",
      "\n",
      "부도 가능성 보통\n",
      "0\n",
      "[]\n",
      "---------------------------------------------------------------------\n",
      "\n",
      "부도 가능성 위험\n",
      "28\n",
      "['혜윤 (희망)', '초은 : Cho Eun', '김백사', '엔딘TV', '음악하는 황지원', '연민지TV', 'the sence', '김윤지', 'ORlGN 오리진', '최민욱', '윰상 Yun Minsang', '스뷰작 TV', '운동남 - 운동하는 남자', '오이로그', '신햇님 ShinHaley', '금속남자(Metal_male)', '은는이가', '패션 고슴도치', '키키낙낙', 'Seeyousoon', '헤이임자heylimja', '니들needle', 'editor gieun', '김경수', '축구 읽어주는 여자 쵱내', '오늘의 여정 - 오늘의 여행 정리', '유랑민의 지구적응기', '먹크탕']\n",
      "---------------------------------------------------------------------\n",
      "\n"
     ]
    }
   ],
   "source": [
    "# Topic 4 - 신용평가 스코어링, 부도예측확률 분포도 구조 개발\n",
    "result_topic4_df = youtube_analysis.result_topic4()"
   ]
  }
 ],
 "metadata": {
  "kernelspec": {
   "display_name": "awake_venv",
   "language": "python",
   "name": "python3"
  },
  "language_info": {
   "codemirror_mode": {
    "name": "ipython",
    "version": 3
   },
   "file_extension": ".py",
   "mimetype": "text/x-python",
   "name": "python",
   "nbconvert_exporter": "python",
   "pygments_lexer": "ipython3",
   "version": "3.10.14"
  }
 },
 "nbformat": 4,
 "nbformat_minor": 2
}
