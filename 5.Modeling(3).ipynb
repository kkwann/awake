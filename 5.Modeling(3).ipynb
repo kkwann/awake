{
 "cells": [
  {
   "cell_type": "code",
   "execution_count": 1,
   "metadata": {},
   "outputs": [
    {
     "name": "stderr",
     "output_type": "stream",
     "text": [
      "c:\\Users\\kwan\\AppData\\Local\\anaconda3\\envs\\awake_venv\\lib\\site-packages\\dask\\dataframe\\__init__.py:42: FutureWarning: \n",
      "Dask dataframe query planning is disabled because dask-expr is not installed.\n",
      "\n",
      "You can install it with `pip install dask[dataframe]` or `conda install dask`.\n",
      "This will raise in a future version.\n",
      "\n",
      "  warnings.warn(msg, FutureWarning)\n"
     ]
    }
   ],
   "source": [
    "import pymongo\n",
    "import pandas as pd\n",
    "import numpy as np\n",
    "import math\n",
    "from datetime import datetime\n",
    "\n",
    "# import dask.dataframe as dd ## 대규모 데이터 처리\n",
    "# import vaex ## 대규모 데이터 처리\n",
    "\n",
    "# from sklearn.linear_model import LinearRegression ## likes, dislikes 대체\n",
    "from sklearn.preprocessing import StandardScaler\n",
    "from sklearn.ensemble import IsolationForest\n",
    "from sklearn.model_selection import train_test_split\n",
    "\n",
    "from sklearn.ensemble import RandomForestClassifier\n",
    "from sklearn.ensemble import RandomForestRegressor, GradientBoostingRegressor\n",
    "from lightgbm import LGBMRegressor\n",
    "import xgboost as xgb\n",
    "from sklearn.model_selection import KFold, cross_val_score, train_test_split\n",
    "from sklearn.metrics import mean_squared_error\n",
    "\n",
    "from imblearn.under_sampling import RandomUnderSampler\n",
    "from sklearn.metrics import accuracy_score, confusion_matrix, classification_report, roc_auc_score, roc_curve\n",
    "import matplotlib.pyplot as plt\n",
    "import seaborn as sns\n",
    "\n",
    "import os\n",
    "from dotenv import load_dotenv"
   ]
  },
  {
   "cell_type": "code",
   "execution_count": 2,
   "metadata": {},
   "outputs": [],
   "source": [
    "file_path = 'C:/py_src/awake/data/'"
   ]
  },
  {
   "cell_type": "code",
   "execution_count": 3,
   "metadata": {},
   "outputs": [],
   "source": [
    "# 계정 / 콘텐츠 분석 데이터셋 불러오기\n",
    "merge_df_users_fin = pd.read_csv(file_path + 'merge_df_users_final3.csv', low_memory=False)\n",
    "# youtube_videos = pd.read_csv(file_path + 'youtube_videos_final2.csv')"
   ]
  },
  {
   "cell_type": "markdown",
   "metadata": {},
   "source": [
    "## 계정 데이터 분석"
   ]
  },
  {
   "cell_type": "markdown",
   "metadata": {},
   "source": [
    "### 데이터 분할\n",
    "- 미래를 예측하기 위한 모델이므로 시간순으로 데이터 분할\n",
    "- 시작날짜 : 2023-03-26\n",
    "- 종료날짜 : 2024-05-06\n",
    "- 전체 기간의 80% 날짜 : 2024-02-11"
   ]
  },
  {
   "cell_type": "code",
   "execution_count": 7,
   "metadata": {},
   "outputs": [],
   "source": [
    "# 컬럼 정리\n",
    "unique_col = merge_df_users_fin.columns[:11]\n",
    "x_col = merge_df_users_fin.columns[11:].drop('estimated_ad_revenue') ## y값 제거"
   ]
  },
  {
   "cell_type": "code",
   "execution_count": 8,
   "metadata": {},
   "outputs": [],
   "source": [
    "# 데이터 분할\n",
    "train_data = merge_df_users_fin[merge_df_users_fin['date'] <= '2024-02-11']\n",
    "test_data = merge_df_users_fin[merge_df_users_fin['date'] > '2024-02-11']"
   ]
  },
  {
   "cell_type": "code",
   "execution_count": 9,
   "metadata": {},
   "outputs": [
    {
     "name": "stdout",
     "output_type": "stream",
     "text": [
      "(84473, 57)\n",
      "(21210, 57)\n"
     ]
    }
   ],
   "source": [
    "# 불균형 확인\n",
    "print(train_data.shape)\n",
    "print(test_data.shape)"
   ]
  },
  {
   "cell_type": "markdown",
   "metadata": {},
   "source": [
    "### 모델 기법 적용"
   ]
  },
  {
   "cell_type": "code",
   "execution_count": 10,
   "metadata": {},
   "outputs": [],
   "source": [
    "# 각 모델 정의\n",
    "rf_model = RandomForestRegressor(random_state=42)\n",
    "gbm_model = GradientBoostingRegressor(random_state=42)\n",
    "lgbm_model = LGBMRegressor(random_state=42)\n",
    "xgb_model = xgb.XGBRegressor(random_state=42)\n",
    "\n",
    "# 모델 리스트\n",
    "models = {\n",
    "    'RandomForest': rf_model,\n",
    "    'GBM': gbm_model,\n",
    "    'LightGBM': lgbm_model,\n",
    "    'XGBoost': xgb_model\n",
    "}"
   ]
  },
  {
   "cell_type": "code",
   "execution_count": 9,
   "metadata": {},
   "outputs": [],
   "source": [
    "# # 모델별 교차 검증 결과 저장\n",
    "# results = {}\n",
    "\n",
    "# for model_name, model in models.items():\n",
    "#     print(f\"\\n{model_name} 모델 성능 평가 중...\")\n",
    "    \n",
    "#     # 교차 검증\n",
    "#     cv_scores = cross_val_score(model, train_data[x_col], train_data['subscribers_count'], cv=5, scoring='neg_mean_squared_error')\n",
    "    \n",
    "#     # 평균 RMSE 계산\n",
    "#     rmse_scores = np.sqrt(-cv_scores)  # neg_mean_squared_error는 음수이므로 양수로 변환 후 제곱근\n",
    "#     mean_rmse = rmse_scores.mean()\n",
    "#     print(f\"{model_name} 교차 검증 평균 RMSE: {mean_rmse}\")\n",
    "    \n",
    "#     # 결과 저장\n",
    "#     results[model_name] = mean_rmse"
   ]
  },
  {
   "cell_type": "markdown",
   "metadata": {},
   "source": [
    "### 모델 성능 평가"
   ]
  },
  {
   "cell_type": "code",
   "execution_count": 11,
   "metadata": {},
   "outputs": [
    {
     "name": "stdout",
     "output_type": "stream",
     "text": [
      "RandomForest\n",
      "R² 값: 0.9925\n",
      "MSE: 54900603.8218\n",
      "RMSE: 7409.4942\n",
      "----------------------------------------\n",
      "\n",
      "GBM\n",
      "R² 값: 0.9948\n",
      "MSE: 38151142.2963\n",
      "RMSE: 6176.6611\n",
      "----------------------------------------\n",
      "\n",
      "[LightGBM] [Info] Auto-choosing col-wise multi-threading, the overhead of testing was 0.048380 seconds.\n",
      "You can set `force_col_wise=true` to remove the overhead.\n",
      "[LightGBM] [Info] Total Bins 11454\n",
      "[LightGBM] [Info] Number of data points in the train set: 84473, number of used features: 45\n",
      "[LightGBM] [Info] Start training from score 14667.681766\n",
      "LightGBM\n",
      "R² 값: 0.9225\n",
      "MSE: 569941669.8060\n",
      "RMSE: 23873.4511\n",
      "----------------------------------------\n",
      "\n",
      "XGBoost\n",
      "R² 값: 0.9652\n",
      "MSE: 256061983.5355\n",
      "RMSE: 16001.9369\n",
      "----------------------------------------\n",
      "\n"
     ]
    }
   ],
   "source": [
    "from sklearn.ensemble import RandomForestRegressor\n",
    "from sklearn.metrics import mean_squared_error, r2_score\n",
    "import numpy as np\n",
    "\n",
    "for model in models:\n",
    "    # 모델 정의 및 학습\n",
    "    models[model].fit(train_data[x_col], train_data['estimated_ad_revenue'])\n",
    "\n",
    "    # 예측\n",
    "    y_pred = models[model].predict(test_data[x_col])\n",
    "\n",
    "    # MSE 계산\n",
    "    mse = mean_squared_error(test_data['estimated_ad_revenue'], y_pred)\n",
    "\n",
    "    # RMSE 계산\n",
    "    rmse = np.sqrt(mse)\n",
    "\n",
    "    # R² 값 계산\n",
    "    r2 = r2_score(test_data['estimated_ad_revenue'], y_pred)\n",
    "\n",
    "    # 결과 출력\n",
    "    print(model)\n",
    "    print(f\"R² 값: {r2:.4f}\")\n",
    "    print(f\"MSE: {mse:.4f}\")\n",
    "    print(f\"RMSE: {rmse:.4f}\")\n",
    "    print(\"----------------------------------------\")\n",
    "    print(\"\")"
   ]
  },
  {
   "cell_type": "code",
   "execution_count": 92,
   "metadata": {},
   "outputs": [],
   "source": [
    "# # 비선형모델 활용 변수 선정\n",
    "# importances_df = pd.DataFrame({\n",
    "#     'features': x_col,\n",
    "#     'rf_importance': models['RandomForest'].feature_importances_,\n",
    "#     'gbm_importance': models['GBM'].feature_importances_,\n",
    "#     'lgbm_importance': models['LightGBM'].feature_importances_,\n",
    "#     'xgb_importance': models['XGBoost'].feature_importances_    \n",
    "# })\n",
    "# importances_df['lgbm_importance'] = importances_df['lgbm_importance'] / importances_df['lgbm_importance'].sum() ## 다른 모델과 중요도 단위 다르기 때문에 정규화\n",
    "# importances_df['mean_importance'] = importances_df[['rf_importance', 'gbm_importance', 'lgbm_importance', 'xgb_importance']].mean(axis=1) ## 각 변수별 모델 중요도 평균"
   ]
  },
  {
   "cell_type": "markdown",
   "metadata": {},
   "source": [
    "### 모델 성능 개선"
   ]
  },
  {
   "cell_type": "markdown",
   "metadata": {},
   "source": [
    "스태킹"
   ]
  },
  {
   "cell_type": "code",
   "execution_count": 14,
   "metadata": {},
   "outputs": [
    {
     "name": "stdout",
     "output_type": "stream",
     "text": [
      "[LightGBM] [Info] Auto-choosing col-wise multi-threading, the overhead of testing was 0.036044 seconds.\n",
      "You can set `force_col_wise=true` to remove the overhead.\n",
      "[LightGBM] [Info] Total Bins 11454\n",
      "[LightGBM] [Info] Number of data points in the train set: 84473, number of used features: 45\n",
      "[LightGBM] [Info] Start training from score 14667.681766\n",
      "[LightGBM] [Info] Auto-choosing col-wise multi-threading, the overhead of testing was 0.018468 seconds.\n",
      "You can set `force_col_wise=true` to remove the overhead.\n",
      "[LightGBM] [Info] Total Bins 11453\n",
      "[LightGBM] [Info] Number of data points in the train set: 67578, number of used features: 45\n",
      "[LightGBM] [Info] Start training from score 17638.612776\n",
      "[LightGBM] [Info] Auto-choosing col-wise multi-threading, the overhead of testing was 0.018053 seconds.\n",
      "You can set `force_col_wise=true` to remove the overhead.\n",
      "[LightGBM] [Info] Total Bins 11455\n",
      "[LightGBM] [Info] Number of data points in the train set: 67578, number of used features: 45\n",
      "[LightGBM] [Info] Start training from score 15374.479091\n",
      "[LightGBM] [Info] Auto-choosing col-wise multi-threading, the overhead of testing was 0.024358 seconds.\n",
      "You can set `force_col_wise=true` to remove the overhead.\n",
      "[LightGBM] [Info] Total Bins 11454\n",
      "[LightGBM] [Info] Number of data points in the train set: 67578, number of used features: 45\n",
      "[LightGBM] [Info] Start training from score 11219.213074\n",
      "[LightGBM] [Info] Auto-choosing col-wise multi-threading, the overhead of testing was 0.017960 seconds.\n",
      "You can set `force_col_wise=true` to remove the overhead.\n",
      "[LightGBM] [Info] Total Bins 11451\n",
      "[LightGBM] [Info] Number of data points in the train set: 67579, number of used features: 45\n",
      "[LightGBM] [Info] Start training from score 14721.321260\n",
      "[LightGBM] [Info] Auto-choosing col-wise multi-threading, the overhead of testing was 0.018176 seconds.\n",
      "You can set `force_col_wise=true` to remove the overhead.\n",
      "[LightGBM] [Info] Total Bins 11452\n",
      "[LightGBM] [Info] Number of data points in the train set: 67579, number of used features: 45\n",
      "[LightGBM] [Info] Start training from score 14384.786020\n",
      "스태킹 앙상블 모델 R2: 0.9948\n",
      "스태킹 앙상블 모델 MSE: 37942267.3102\n",
      "스태킹 앙상블 모델 RMSE: 6159.7295\n"
     ]
    },
    {
     "name": "stderr",
     "output_type": "stream",
     "text": [
      "c:\\Users\\kwan\\AppData\\Local\\anaconda3\\envs\\awake_venv\\lib\\site-packages\\sklearn\\metrics\\_regression.py:492: FutureWarning: 'squared' is deprecated in version 1.4 and will be removed in 1.6. To calculate the root mean squared error, use the function'root_mean_squared_error'.\n",
      "  warnings.warn(\n"
     ]
    }
   ],
   "source": [
    "from sklearn.ensemble import StackingRegressor\n",
    "from sklearn.linear_model import Ridge\n",
    "\n",
    "# 스태킹 모델 정의\n",
    "stacking_model = StackingRegressor(\n",
    "    estimators=[\n",
    "    ('random_forest', models['RandomForest']),\n",
    "    ('gbm', models['GBM']),\n",
    "    ('lightgbm', models['LightGBM']),\n",
    "    ('xgboost', models['XGBoost'])\n",
    "    ],\n",
    "    final_estimator=Ridge()\n",
    ")\n",
    "\n",
    "# 스태킹 모델 학습\n",
    "stacking_model.fit(train_data[x_col], train_data['estimated_ad_revenue'])\n",
    "\n",
    "# 예측\n",
    "y_pred = stacking_model.predict(test_data[x_col])\n",
    "\n",
    "# 성능 평가\n",
    "# R² 값 계산\n",
    "r2 = r2_score(test_data['estimated_ad_revenue'], y_pred)\n",
    "\n",
    "# MSE 계산\n",
    "mse = mean_squared_error(test_data['estimated_ad_revenue'], y_pred)\n",
    "\n",
    "# RMSE 계산\n",
    "rmse = mean_squared_error(test_data['estimated_ad_revenue'], y_pred, squared=False)\n",
    "\n",
    "print(f\"스태킹 앙상블 모델 R2: {r2:.4f}\")\n",
    "print(f\"스태킹 앙상블 모델 MSE: {mse:.4f}\")\n",
    "print(f\"스태킹 앙상블 모델 RMSE: {rmse:.4f}\")"
   ]
  },
  {
   "cell_type": "markdown",
   "metadata": {},
   "source": [
    "### 실제데이터 결과 확인"
   ]
  },
  {
   "cell_type": "code",
   "execution_count": 15,
   "metadata": {},
   "outputs": [],
   "source": [
    "# 예측 결과 확인\n",
    "y_pred = stacking_model.predict(merge_df_users_fin[x_col])\n",
    "merge_df_users_fin['predict'] = y_pred"
   ]
  },
  {
   "cell_type": "code",
   "execution_count": 16,
   "metadata": {},
   "outputs": [
    {
     "name": "stderr",
     "output_type": "stream",
     "text": [
      "C:\\Users\\kwan\\AppData\\Local\\Temp\\ipykernel_4396\\2106748872.py:5: SettingWithCopyWarning: \n",
      "A value is trying to be set on a copy of a slice from a DataFrame.\n",
      "Try using .loc[row_indexer,col_indexer] = value instead\n",
      "\n",
      "See the caveats in the documentation: https://pandas.pydata.org/pandas-docs/stable/user_guide/indexing.html#returning-a-view-versus-a-copy\n",
      "  result_df['date'] = pd.to_datetime(result_df['date'])\n",
      "C:\\Users\\kwan\\AppData\\Local\\Temp\\ipykernel_4396\\2106748872.py:7: SettingWithCopyWarning: \n",
      "A value is trying to be set on a copy of a slice from a DataFrame.\n",
      "Try using .loc[row_indexer,col_indexer] = value instead\n",
      "\n",
      "See the caveats in the documentation: https://pandas.pydata.org/pandas-docs/stable/user_guide/indexing.html#returning-a-view-versus-a-copy\n",
      "  result_df['1_month_future_predict'] = result_df.groupby('youtube_user_id')['predict'].shift(-30).rolling(window=30).mean()\n",
      "C:\\Users\\kwan\\AppData\\Local\\Temp\\ipykernel_4396\\2106748872.py:8: SettingWithCopyWarning: \n",
      "A value is trying to be set on a copy of a slice from a DataFrame.\n",
      "Try using .loc[row_indexer,col_indexer] = value instead\n",
      "\n",
      "See the caveats in the documentation: https://pandas.pydata.org/pandas-docs/stable/user_guide/indexing.html#returning-a-view-versus-a-copy\n",
      "  result_df['3_month_future_predict'] = result_df.groupby('youtube_user_id')['predict'].shift(-90).rolling(window=90).mean()\n",
      "C:\\Users\\kwan\\AppData\\Local\\Temp\\ipykernel_4396\\2106748872.py:9: SettingWithCopyWarning: \n",
      "A value is trying to be set on a copy of a slice from a DataFrame.\n",
      "Try using .loc[row_indexer,col_indexer] = value instead\n",
      "\n",
      "See the caveats in the documentation: https://pandas.pydata.org/pandas-docs/stable/user_guide/indexing.html#returning-a-view-versus-a-copy\n",
      "  result_df['6_month_future_predict'] = result_df.groupby('youtube_user_id')['predict'].shift(-180).rolling(window=180).mean()\n",
      "C:\\Users\\kwan\\AppData\\Local\\Temp\\ipykernel_4396\\2106748872.py:10: SettingWithCopyWarning: \n",
      "A value is trying to be set on a copy of a slice from a DataFrame.\n",
      "Try using .loc[row_indexer,col_indexer] = value instead\n",
      "\n",
      "See the caveats in the documentation: https://pandas.pydata.org/pandas-docs/stable/user_guide/indexing.html#returning-a-view-versus-a-copy\n",
      "  result_df['12_month_future_predict'] = result_df.groupby('youtube_user_id')['predict'].shift(-365).rolling(window=365).mean()\n"
     ]
    }
   ],
   "source": [
    "# 계정별 구독자수 평균, 구독자 예측수 평균 비교\n",
    "result_df = merge_df_users_fin[['youtube_user_id','date','channel_title','estimated_ad_revenue','predict']]\n",
    "\n",
    "# 1개월, 3개월, 6개월, 1년 뒤 구독자수 예측값\n",
    "result_df['date'] = pd.to_datetime(result_df['date']) \n",
    "\n",
    "result_df['1_month_future_predict'] = result_df.groupby('youtube_user_id')['predict'].shift(-30).rolling(window=30).mean()\n",
    "result_df['3_month_future_predict'] = result_df.groupby('youtube_user_id')['predict'].shift(-90).rolling(window=90).mean()\n",
    "result_df['6_month_future_predict'] = result_df.groupby('youtube_user_id')['predict'].shift(-180).rolling(window=180).mean()\n",
    "result_df['12_month_future_predict'] = result_df.groupby('youtube_user_id')['predict'].shift(-365).rolling(window=365).mean()\n",
    "\n",
    "# 계정별 기간에 따른 구독자수 예측값 비교\n",
    "result_df_final = result_df.groupby(['youtube_user_id'])[['estimated_ad_revenue','predict','1_month_future_predict','3_month_future_predict','6_month_future_predict','12_month_future_predict']].mean().reset_index()"
   ]
  },
  {
   "cell_type": "code",
   "execution_count": 17,
   "metadata": {},
   "outputs": [],
   "source": [
    "# 기간 따른 예측 결과\n",
    "# 1개월\n",
    "result_1_month_plus_user_id = result_df_final[result_df_final['predict'] > 0][result_df_final[result_df_final['predict'] > 0]['estimated_ad_revenue'] < result_df_final[result_df_final['predict'] > 0]['1_month_future_predict']]['youtube_user_id']\n",
    "result_1_month_minus_user_id = result_df_final[result_df_final['predict'] > 0][result_df_final[result_df_final['predict'] > 0]['estimated_ad_revenue'] > result_df_final[result_df_final['predict'] > 0]['1_month_future_predict']]['youtube_user_id']\n",
    "\n",
    "# 3개월\n",
    "result_3_month_plus_user_id = result_df_final[result_df_final['predict'] > 0][result_df_final[result_df_final['predict'] > 0]['estimated_ad_revenue'] < result_df_final[result_df_final['predict'] > 0]['3_month_future_predict']]['youtube_user_id']\n",
    "result_3_month_minus_user_id = result_df_final[result_df_final['predict'] > 0][result_df_final[result_df_final['predict'] > 0]['estimated_ad_revenue'] > result_df_final[result_df_final['predict'] > 0]['3_month_future_predict']]['youtube_user_id']\n",
    "\n",
    "# 6개월\n",
    "result_6_month_plus_user_id = result_df_final[result_df_final['predict'] > 0][result_df_final[result_df_final['predict'] > 0]['estimated_ad_revenue'] < result_df_final[result_df_final['predict'] > 0]['6_month_future_predict']]['youtube_user_id']\n",
    "result_6_month_minus_user_id = result_df_final[result_df_final['predict'] > 0][result_df_final[result_df_final['predict'] > 0]['estimated_ad_revenue'] > result_df_final[result_df_final['predict'] > 0]['6_month_future_predict']]['youtube_user_id']\n",
    "\n",
    "# 12개월\n",
    "result_12_month_plus_user_id = result_df_final[result_df_final['predict'] > 0][result_df_final[result_df_final['predict'] > 0]['estimated_ad_revenue'] < result_df_final[result_df_final['predict'] > 0]['12_month_future_predict']]['youtube_user_id']\n",
    "result_12_month_minus_user_id = result_df_final[result_df_final['predict'] > 0][result_df_final[result_df_final['predict'] > 0]['estimated_ad_revenue'] > result_df_final[result_df_final['predict'] > 0]['12_month_future_predict']]['youtube_user_id']"
   ]
  },
  {
   "cell_type": "code",
   "execution_count": 31,
   "metadata": {},
   "outputs": [
    {
     "name": "stdout",
     "output_type": "stream",
     "text": [
      "112\n",
      "['성팩 SPAAK' '0' '띠혜 ddihye' '소리미의 신화방송' 'Ella' '찌늉' 'hyeppening 혜프닝'\n",
      " 'KIMBEE 킴비' '나는 불독' '지니원장의피부톡톡' '오늘도희다 HEEDA' '낭만아저씨코디TV'\n",
      " 'Kevin Factory케빈팩토리' 'assesta' 'JinBlog 진블로그' '흙회장' '차세이CHASEYi'\n",
      " 'Mind Patting마음토닥' '배우GO' '시골낭만아재' 'Seol-A 라이더 설아' 'SATUR 세터업'\n",
      " '굥플레이스 맛집투어' '이숲soop' '래띠 LAETI' '시리얼 Sireal' '채찍단' '원의 독백'\n",
      " '잉툰TV- 만화로 쉽게 영어배우자' '라이프에이치 Life.H' '채림처럼firstcherry'\n",
      " '오엔티엘 패션 / ONTL FASHION' '에디레일 Eddy Rails' '모하지연 MOHAJIYEON'\n",
      " '시현하다 RECORDERS' '데일리 슬슬' '오토컨테이너 스튜디오' '부반TV_부에 반하다' '미디하는남자'\n",
      " '바라던 바다 BADACHANNEL' '여정을떠난여정' '찌수연' '월텍남 - 월스트리트 테크남' '팀브라더스' '이고 EGO'\n",
      " 'kiu기우쌤' '콤므' '수빙수tv sooBingsoo' '카이바군' '-mentalholder 멘탈홀더 tv'\n",
      " 'Suzevi ASMR' '사부작장제소sabujakfarrier' '지미 geemi.' '아무튼 리뷰어즈' '만능혁키'\n",
      " '꽃 읽어주는 남자 kkotnam' '코드맨TV' '두남자 토익TV' '너드 슬로리 SloLee'\n",
      " '석시원 커플 SeokSiWon Couple' '태권민국_Captain Master' '임영곤 게임방송'\n",
      " '키메키친 Kime_kitchen' '너굴몬' '디지털생활제안' '주대성 JooDaesung' '나는미도'\n",
      " '용싸부 yongssaboo' '미니멀영어 Minimal English' '채채ChaeChae' '뚜니랑' '캠핑 릴리아빠'\n",
      " '비단한생활 Bidan' '나나무비' '윤순의 평범치 않은 생활' '청어람ARMC' 'Ood 오드' '전또' '보미름'\n",
      " 'BUNNY' '비제TV' '소피요가 Sophie Yoga' '벽돌할아버지 Brick grandpa' '믿식당'\n",
      " '집구석구석꿀팁, 집꿀' '홈바부부_HOMBA BOOBOO' '꿈꾼 배기' '나연이즈백 LPGA Na Yeon Choi'\n",
      " 'MORE김모어' '심플 - IT' '세계여행 테리로그 TERRYLOG' '막셋의 종합게임' '뷰드름 유튜버 인씨'\n",
      " 'AllaproTV' '스타트업잡스' '마미라(마이미니라이프)' 'MerryMa 메리마' '모리캠핑' '구봉바다낚시 뽀식이'\n",
      " \"루다의 댄스 연구소 Ruda's Dance Lab\" '빅민 GAME' '잼스기타' '축구 읽어주는 여자 쵱내' 'OSSC'\n",
      " '동도니TV DongDo2TV' '돈냄새' 'V I N 빈 ' '슬기런바디 Run Body' 'Lizzy리지' '일렉트릭 차이나'\n",
      " '여리여리YeoriYeori' '신크TV']\n"
     ]
    }
   ],
   "source": [
    "print(len(result_df[result_df['youtube_user_id'].isin(result_6_month_minus_user_id)]['channel_title'].unique()))\n",
    "print(result_df[result_df['youtube_user_id'].isin(result_6_month_minus_user_id)]['channel_title'].unique())"
   ]
  },
  {
   "cell_type": "code",
   "execution_count": 35,
   "metadata": {},
   "outputs": [
    {
     "name": "stdout",
     "output_type": "stream",
     "text": [
      "51\n",
      "['Ella' '0' '차박씬' 'assesta' '오디디 코미디' '황나겸' '래아TV' '시리얼 Sireal'\n",
      " 'abbapraise 아바프레이즈' '원의 독백' '오토컨테이너 스튜디오' '라나제이베이킹Lana J' '군대위키' '미디하는남자'\n",
      " 'Jeffreyxking' '유경몬' '콜드쉽 Coldsheep' '라이라마' '-mentalholder 멘탈홀더 tv' '도도'\n",
      " '퓨츠앙' '엔트리뷰 [누구나 재미있는 테크리뷰]' 'Dalhae달달해' '단곰' '앙찡' '코인덕 차트아지'\n",
      " '비단한생활 Bidan' '황헬린 탈출기' '보미름' '日本ジヌ【니혼지누】ー韓国に関する全て'\n",
      " \"파파스캠핑 papa's camp | a korean camper\" '정케빈 KEVIN' '요니의 응원 yoni' 'MORE김모어'\n",
      " '니들needle' '유네린NERIN' '복지다있소' '밖비타' '후니트립 hoony_trip'\n",
      " '와뷰티TV | Wow Beauty ASMR' '김퍼프PUFF' '쿜쿜쿜' '주당 김자케' '이지호이죠_JiHo' '에피코딩'\n",
      " '키나kkina' '동아일보' '이현우의 MLBTV' '평범한 사업가' '여리여리YeoriYeori' 'JN테크리뷰']\n"
     ]
    }
   ],
   "source": [
    "# 계속 증가\n",
    "increase_user_id = result_df_final[result_df_final['predict'] > 0][(result_df_final[result_df_final['predict'] > 0]['1_month_future_predict'] < result_df_final[result_df_final['predict'] > 0]['3_month_future_predict']) & \n",
    "                                                                   (result_df_final[result_df_final['predict'] > 0]['3_month_future_predict'] < result_df_final[result_df_final['predict'] > 0]['6_month_future_predict'])]['youtube_user_id']\n",
    "print(len(result_df[result_df['youtube_user_id'].isin(increase_user_id)]['channel_title'].unique()))\n",
    "print(result_df[result_df['youtube_user_id'].isin(increase_user_id)]['channel_title'].unique())"
   ]
  },
  {
   "cell_type": "code",
   "execution_count": 36,
   "metadata": {},
   "outputs": [
    {
     "name": "stdout",
     "output_type": "stream",
     "text": [
      "60\n",
      "['소리미의 신화방송' '0' '찌늉' 'hyeppening 혜프닝' '오늘도희다 HEEDA' 'JinBlog 진블로그' '흙회장'\n",
      " 'Mind Patting마음토닥' '시골낭만아재' 'Seol-A 라이더 설아' 'SATUR 세터업' '굥플레이스 맛집투어'\n",
      " '채찍단' '잉툰TV- 만화로 쉽게 영어배우자' '라이프에이치 Life.H' '오엔티엘 패션 / ONTL FASHION'\n",
      " '모하지연 MOHAJIYEON' '시현하다 RECORDERS' '부반TV_부에 반하다' '바라던 바다 BADACHANNEL'\n",
      " '여정을떠난여정' '찌수연' '팀브라더스' '이고 EGO' 'kiu기우쌤' '맛집남자 foodman' '카이바군'\n",
      " 'Suzevi ASMR' '사부작장제소sabujakfarrier' '지미 geemi.' '아무튼 리뷰어즈' '임영곤 게임방송'\n",
      " '키메키친 Kime_kitchen' '너굴몬' '주대성 JooDaesung' '나는미도' '미니멀영어 Minimal English'\n",
      " '채채ChaeChae' '캠핑 릴리아빠' '윤순의 평범치 않은 생활' '청어람ARMC' 'Ood 오드' '전또'\n",
      " '소피요가 Sophie Yoga' '벽돌할아버지 Brick grandpa' '믿식당' '집구석구석꿀팁, 집꿀' '꿈꾼 배기'\n",
      " '나연이즈백 LPGA Na Yeon Choi' '세계여행 테리로그 TERRYLOG' '막셋의 종합게임' '스타트업잡스'\n",
      " 'MerryMa 메리마' '모리캠핑' '구봉바다낚시 뽀식이' '빅민 GAME' '잼스기타' 'OSSC' 'Lizzy리지'\n",
      " '신크TV']\n"
     ]
    }
   ],
   "source": [
    "# 계속 감소\n",
    "decrease_user_id = result_df_final[result_df_final['predict'] > 0][(result_df_final[result_df_final['predict'] > 0]['1_month_future_predict'] > result_df_final[result_df_final['predict'] > 0]['3_month_future_predict']) & \n",
    "                                                                   (result_df_final[result_df_final['predict'] > 0]['3_month_future_predict'] > result_df_final[result_df_final['predict'] > 0]['6_month_future_predict'])]['youtube_user_id']\n",
    "print(len(result_df[result_df['youtube_user_id'].isin(decrease_user_id)]['channel_title'].unique()))\n",
    "print(result_df[result_df['youtube_user_id'].isin(decrease_user_id)]['channel_title'].unique())"
   ]
  },
  {
   "cell_type": "markdown",
   "metadata": {},
   "source": [
    "## 콘텐츠 데이터 분석"
   ]
  },
  {
   "cell_type": "markdown",
   "metadata": {},
   "source": [
    "### 데이터 분할\n",
    "- 미래를 예측하기 위한 모델이므로 시간순으로 데이터 분할\n",
    "- 시작날짜 : 2023-03-26\n",
    "- 종료날짜 : 2024-05-06\n",
    "- 전체 기간의 80% 날짜 : 2024-02-11"
   ]
  },
  {
   "cell_type": "code",
   "execution_count": 14,
   "metadata": {},
   "outputs": [
    {
     "data": {
      "text/plain": [
       "Index(['youtube_user_id', 'video', 'end_date', 'quarterly_avg_view_percentage',\n",
       "       'playlist_removal_rate', 'ad_revenue_rate',\n",
       "       'weekly_avg_view_percentage', 'playback_rate', 'dislikes', 'views',\n",
       "       'comment_rate', 'quarterly_avg_view_duration',\n",
       "       'weekly_total_engagement', 'playlist_addition_rate',\n",
       "       'positive_engage_rate', 'share_rate', 'estimatedRedPartnerRevenue',\n",
       "       'weekly_watch_time', 'monthly_total_engagement',\n",
       "       'watch_time_loss_per_playlist_remove', 'monthly_watch_time',\n",
       "       'quarterly_estimated_revenue', 'subscribers_lost_per_playlist_remove',\n",
       "       'subscribers_gained_per_playlist_add', 'averageViewDuration',\n",
       "       'monthly_playlist_change_rate', 'shares', 'weekly_playlist_change_rate',\n",
       "       'weekly_engagement_rate', 'dislike_rate', 'videosRemovedFromPlaylists',\n",
       "       'redViews', 'averageViewPercentage', 'weekly_videos_removed',\n",
       "       'monthly_views', 'subscribers_conversion_rate',\n",
       "       'estimatedMinutesWatched', 'like_rate', 'videosAddedToPlaylists',\n",
       "       'likes', 'weekly_estimated_ad_revenue', 'net_playlist_addition_rate',\n",
       "       'monthly_videos_removed', 'estimatedRedMinutesWatched',\n",
       "       'quarterly_revenue_per_ad_impression', 'monthly_avg_view_duration',\n",
       "       'watch_time_per_playlist_add', 'monthly_videos_added',\n",
       "       'quarterly_ad_impressions', 'like_to_dislike_ratio',\n",
       "       'watched_view_rate', 'quarterly_playlist_change_rate', 'cpm',\n",
       "       'comments', 'weekly_videos_added', 'quarterly_views', 'weekly_views',\n",
       "       'monthly_avg_view_percentage', 'avg_view_duration_rate',\n",
       "       'adImpressions', 'total_engage_rate', 'net_subscribers_change'],\n",
       "      dtype='object')"
      ]
     },
     "execution_count": 14,
     "metadata": {},
     "output_type": "execute_result"
    }
   ],
   "source": [
    "youtube_videos.columns"
   ]
  },
  {
   "cell_type": "code",
   "execution_count": 15,
   "metadata": {},
   "outputs": [],
   "source": [
    "# 컬럼 정리\n",
    "unique_col = youtube_videos.columns[:3]\n",
    "x_col = youtube_videos.columns[3:].drop(['net_subscribers_change']) ## y값 제거"
   ]
  },
  {
   "cell_type": "code",
   "execution_count": 16,
   "metadata": {},
   "outputs": [],
   "source": [
    "# 데이터 분할\n",
    "train_data = youtube_videos[youtube_videos['end_date'] <= '2024-02-11']\n",
    "test_data = youtube_videos[youtube_videos['end_date'] > '2024-02-11']"
   ]
  },
  {
   "cell_type": "code",
   "execution_count": 17,
   "metadata": {},
   "outputs": [
    {
     "name": "stdout",
     "output_type": "stream",
     "text": [
      "(6538190, 62)\n",
      "(2031321, 62)\n"
     ]
    }
   ],
   "source": [
    "# 불균형 확인\n",
    "print(train_data.shape)\n",
    "print(test_data.shape)"
   ]
  },
  {
   "cell_type": "markdown",
   "metadata": {},
   "source": [
    "### 모델 기법 적용"
   ]
  },
  {
   "cell_type": "code",
   "execution_count": 18,
   "metadata": {},
   "outputs": [],
   "source": [
    "# 각 모델 정의\n",
    "rf_model = RandomForestRegressor(random_state=42)\n",
    "gbm_model = GradientBoostingRegressor(random_state=42)\n",
    "lgbm_model = LGBMRegressor(random_state=42)\n",
    "xgb_model = xgb.XGBRegressor(random_state=42)\n",
    "\n",
    "# 모델 리스트\n",
    "models = {\n",
    "    'RandomForest': rf_model,\n",
    "    'GBM': gbm_model,\n",
    "    'LightGBM': lgbm_model,\n",
    "    'XGBoost': xgb_model\n",
    "}"
   ]
  },
  {
   "cell_type": "code",
   "execution_count": null,
   "metadata": {},
   "outputs": [],
   "source": [
    "# # 모델별 교차 검증 결과 저장\n",
    "# results = {}\n",
    "\n",
    "# for model_name, model in models.items():\n",
    "#     print(f\"\\n{model_name} 모델 성능 평가 중...\")\n",
    "    \n",
    "#     # 교차 검증\n",
    "#     cv_scores = cross_val_score(model, train_data[x_col], train_data['subscribers_count'], cv=5, scoring='neg_mean_squared_error')\n",
    "    \n",
    "#     # 평균 RMSE 계산\n",
    "#     rmse_scores = np.sqrt(-cv_scores)  # neg_mean_squared_error는 음수이므로 양수로 변환 후 제곱근\n",
    "#     mean_rmse = rmse_scores.mean()\n",
    "#     print(f\"{model_name} 교차 검증 평균 RMSE: {mean_rmse}\")\n",
    "    \n",
    "#     # 결과 저장\n",
    "#     results[model_name] = mean_rmse"
   ]
  },
  {
   "cell_type": "markdown",
   "metadata": {},
   "source": [
    "### 모델 성능 평가"
   ]
  },
  {
   "cell_type": "code",
   "execution_count": 20,
   "metadata": {},
   "outputs": [],
   "source": [
    "from sklearn.ensemble import RandomForestRegressor\n",
    "from sklearn.metrics import mean_squared_error, r2_score\n",
    "import numpy as np\n",
    "\n",
    "for model in models:\n",
    "    # 모델 정의 및 학습\n",
    "    models[model].fit(train_data[x_col], train_data['net_subscribers_change'])\n",
    "\n",
    "    # 예측\n",
    "    y_pred = models[model].predict(test_data[x_col])\n",
    "\n",
    "    # MSE 계산\n",
    "    mse = mean_squared_error(test_data['net_subscribers_change'], y_pred)\n",
    "\n",
    "    # RMSE 계산\n",
    "    rmse = np.sqrt(mse)\n",
    "\n",
    "    # R² 값 계산\n",
    "    r2 = r2_score(test_data['net_subscribers_change'], y_pred)\n",
    "\n",
    "    # 결과 출력\n",
    "    print(model)\n",
    "    print(f\"R² 값: {r2:.4f}\")\n",
    "    print(f\"MSE: {mse:.4f}\")\n",
    "    print(f\"RMSE: {rmse:.4f}\")\n",
    "    print(\"----------------------------------------\")\n",
    "    print(\"\")"
   ]
  },
  {
   "cell_type": "code",
   "execution_count": null,
   "metadata": {},
   "outputs": [],
   "source": [
    "# # 비선형모델 활용 변수 선정\n",
    "# importances_df = pd.DataFrame({\n",
    "#     'features': x_col,\n",
    "#     'rf_importance': models['RandomForest'].feature_importances_,\n",
    "#     'gbm_importance': models['GBM'].feature_importances_,\n",
    "#     'lgbm_importance': models['LightGBM'].feature_importances_,\n",
    "#     'xgb_importance': models['XGBoost'].feature_importances_    \n",
    "# })\n",
    "# importances_df['lgbm_importance'] = importances_df['lgbm_importance'] / importances_df['lgbm_importance'].sum() ## 다른 모델과 중요도 단위 다르기 때문에 정규화\n",
    "# importances_df['mean_importance'] = importances_df[['rf_importance', 'gbm_importance', 'lgbm_importance', 'xgb_importance']].mean(axis=1) ## 각 변수별 모델 중요도 평균"
   ]
  },
  {
   "cell_type": "markdown",
   "metadata": {},
   "source": [
    "### 모델 성능 개선"
   ]
  },
  {
   "cell_type": "code",
   "execution_count": null,
   "metadata": {},
   "outputs": [
    {
     "data": {
      "text/plain": [
       "Index(['weekly_estimated_revenue', 'weekly_estimated_ad_revenue',\n",
       "       'subscriber_increase_rate', 'monthly_revenue_per_ad_impression',\n",
       "       'revenue_per_subscriber', 'quarterly_avg_view_duration',\n",
       "       'quarterly_estimated_revenue', 'monthly_net_subscribers_change',\n",
       "       'estimated_revenue', 'subscriber_view_time_rate',\n",
       "       'quarterly_total_view_time', 'weekly_revenue_per_ad_impression',\n",
       "       'monthly_subscribers_lost', 'subscribers_lost', 'watched_time_rate',\n",
       "       'age18-24.female', 'quarterly_subscribers_gained', 'gross_revenue',\n",
       "       'gross_revenue_per_ad_impression', 'weekly_net_subscribers_change',\n",
       "       'playback_rate', 'age25-34.female', 'estimated_red_partner_revenue',\n",
       "       'redViews', 'quarterly_estimated_ad_revenue',\n",
       "       'quarterly_net_subscribers_change', 'estimatedMinutesWatched',\n",
       "       'subscriber_decrease_rate', 'weekly_subscribers_lost',\n",
       "       'estimated_ad_revenue', 'quarterly_subscribers_lost',\n",
       "       'monthly_subscribers_gained', 'age13-17.female',\n",
       "       'weekly_total_view_time', 'monthly_estimated_ad_revenue',\n",
       "       'unplayback_rate', 'monthly_estimated_revenue', 'monetized_playbacks',\n",
       "       'revenue_per_ad_impression', 'quarterly_revenue_per_ad_impression',\n",
       "       'monthly_total_view_time', 'quarterly_playback_rate', 'cpm',\n",
       "       'SUBSCRIBED'],\n",
       "      dtype='object')"
      ]
     },
     "metadata": {},
     "output_type": "display_data"
    }
   ],
   "source": [
    "x_col"
   ]
  },
  {
   "cell_type": "markdown",
   "metadata": {},
   "source": [
    "스태킹"
   ]
  },
  {
   "cell_type": "code",
   "execution_count": null,
   "metadata": {},
   "outputs": [
    {
     "name": "stdout",
     "output_type": "stream",
     "text": [
      "스태킹 앙상블 모델 R2: 0.9661\n",
      "스태킹 앙상블 모델 MSE: 1998305072.9542\n",
      "스태킹 앙상블 모델 RMSE: 44702.4057\n"
     ]
    },
    {
     "name": "stderr",
     "output_type": "stream",
     "text": [
      "c:\\Users\\kkims\\anaconda3\\envs\\awake\\lib\\site-packages\\sklearn\\metrics\\_regression.py:492: FutureWarning: 'squared' is deprecated in version 1.4 and will be removed in 1.6. To calculate the root mean squared error, use the function'root_mean_squared_error'.\n",
      "  warnings.warn(\n"
     ]
    }
   ],
   "source": [
    "from sklearn.ensemble import StackingRegressor\n",
    "from sklearn.linear_model import Ridge\n",
    "\n",
    "# 스태킹 모델 정의\n",
    "stacking_model = StackingRegressor(\n",
    "    estimators=[\n",
    "    ('random_forest', models['RandomForest']),\n",
    "    # ('gbm', models['GBM']),\n",
    "    # ('lightgbm', models['LightGBM']),\n",
    "    ('xgboost', models['XGBoost'])\n",
    "    ],\n",
    "    final_estimator=Ridge()\n",
    ")\n",
    "\n",
    "# 스태킹 모델 학습\n",
    "stacking_model.fit(train_data[x_col], train_data['subscribers_count'])\n",
    "\n",
    "# 예측\n",
    "y_pred = stacking_model.predict(test_data[x_col])\n",
    "\n",
    "# 성능 평가\n",
    "# R² 값 계산\n",
    "r2 = r2_score(test_data['subscribers_count'], y_pred)\n",
    "\n",
    "# MSE 계산\n",
    "mse = mean_squared_error(test_data['subscribers_count'], y_pred)\n",
    "\n",
    "# RMSE 계산\n",
    "rmse = mean_squared_error(test_data['subscribers_count'], y_pred, squared=False)\n",
    "\n",
    "print(f\"스태킹 앙상블 모델 R2: {r2:.4f}\")\n",
    "print(f\"스태킹 앙상블 모델 MSE: {mse:.4f}\")\n",
    "print(f\"스태킹 앙상블 모델 RMSE: {rmse:.4f}\")"
   ]
  },
  {
   "cell_type": "markdown",
   "metadata": {},
   "source": [
    "### 실제데이터 결과 확인"
   ]
  },
  {
   "cell_type": "code",
   "execution_count": null,
   "metadata": {},
   "outputs": [],
   "source": [
    "# 예측 결과 확인\n",
    "y_pred = stacking_model.predict(merge_df_users_fin[x_col])\n",
    "merge_df_users_fin['predict'] = y_pred"
   ]
  },
  {
   "cell_type": "code",
   "execution_count": null,
   "metadata": {},
   "outputs": [
    {
     "name": "stderr",
     "output_type": "stream",
     "text": [
      "C:\\Users\\kkims\\AppData\\Local\\Temp\\ipykernel_23628\\2617090873.py:5: SettingWithCopyWarning: \n",
      "A value is trying to be set on a copy of a slice from a DataFrame.\n",
      "Try using .loc[row_indexer,col_indexer] = value instead\n",
      "\n",
      "See the caveats in the documentation: https://pandas.pydata.org/pandas-docs/stable/user_guide/indexing.html#returning-a-view-versus-a-copy\n",
      "  result_df['date'] = pd.to_datetime(result_df['date'])\n",
      "C:\\Users\\kkims\\AppData\\Local\\Temp\\ipykernel_23628\\2617090873.py:7: SettingWithCopyWarning: \n",
      "A value is trying to be set on a copy of a slice from a DataFrame.\n",
      "Try using .loc[row_indexer,col_indexer] = value instead\n",
      "\n",
      "See the caveats in the documentation: https://pandas.pydata.org/pandas-docs/stable/user_guide/indexing.html#returning-a-view-versus-a-copy\n",
      "  result_df['1_month_future_predict'] = result_df.groupby('youtube_user_id')['predict'].shift(-30).rolling(window=30).mean()\n",
      "C:\\Users\\kkims\\AppData\\Local\\Temp\\ipykernel_23628\\2617090873.py:8: SettingWithCopyWarning: \n",
      "A value is trying to be set on a copy of a slice from a DataFrame.\n",
      "Try using .loc[row_indexer,col_indexer] = value instead\n",
      "\n",
      "See the caveats in the documentation: https://pandas.pydata.org/pandas-docs/stable/user_guide/indexing.html#returning-a-view-versus-a-copy\n",
      "  result_df['3_month_future_predict'] = result_df.groupby('youtube_user_id')['predict'].shift(-90).rolling(window=90).mean()\n",
      "C:\\Users\\kkims\\AppData\\Local\\Temp\\ipykernel_23628\\2617090873.py:9: SettingWithCopyWarning: \n",
      "A value is trying to be set on a copy of a slice from a DataFrame.\n",
      "Try using .loc[row_indexer,col_indexer] = value instead\n",
      "\n",
      "See the caveats in the documentation: https://pandas.pydata.org/pandas-docs/stable/user_guide/indexing.html#returning-a-view-versus-a-copy\n",
      "  result_df['6_month_future_predict'] = result_df.groupby('youtube_user_id')['predict'].shift(-180).rolling(window=180).mean()\n",
      "C:\\Users\\kkims\\AppData\\Local\\Temp\\ipykernel_23628\\2617090873.py:10: SettingWithCopyWarning: \n",
      "A value is trying to be set on a copy of a slice from a DataFrame.\n",
      "Try using .loc[row_indexer,col_indexer] = value instead\n",
      "\n",
      "See the caveats in the documentation: https://pandas.pydata.org/pandas-docs/stable/user_guide/indexing.html#returning-a-view-versus-a-copy\n",
      "  result_df['12_month_future_predict'] = result_df.groupby('youtube_user_id')['predict'].shift(-365).rolling(window=365).mean()\n"
     ]
    }
   ],
   "source": [
    "# 계정별 구독자수 평균, 구독자 예측수 평균 비교\n",
    "result_df = merge_df_users_fin[['youtube_user_id','date','channel_title','subscriberCount','subscribers_count','predict']]\n",
    "\n",
    "# 1개월, 3개월, 6개월, 1년 뒤 구독자수 예측값\n",
    "result_df['date'] = pd.to_datetime(result_df['date']) \n",
    "\n",
    "result_df['1_month_future_predict'] = result_df.groupby('youtube_user_id')['predict'].shift(-30).rolling(window=30).mean()\n",
    "result_df['3_month_future_predict'] = result_df.groupby('youtube_user_id')['predict'].shift(-90).rolling(window=90).mean()\n",
    "result_df['6_month_future_predict'] = result_df.groupby('youtube_user_id')['predict'].shift(-180).rolling(window=180).mean()\n",
    "result_df['12_month_future_predict'] = result_df.groupby('youtube_user_id')['predict'].shift(-365).rolling(window=365).mean()\n",
    "\n",
    "# 계정별 기간에 따른 구독자수 예측값 비교\n",
    "result_df_final = result_df.groupby(['youtube_user_id'])[['subscribers_count','predict','1_month_future_predict','3_month_future_predict','6_month_future_predict','12_month_future_predict']].mean().reset_index()"
   ]
  },
  {
   "cell_type": "code",
   "execution_count": null,
   "metadata": {},
   "outputs": [],
   "source": [
    "# 기간 따른 예측 결과\n",
    "# 1개월\n",
    "result_1_month_plus_user_id = result_df_final[result_df_final['predict'] > 0][result_df_final[result_df_final['predict'] > 0]['subscribers_count'] < result_df_final[result_df_final['predict'] > 0]['1_month_future_predict']]['youtube_user_id']\n",
    "result_1_month_minus_user_id = result_df_final[result_df_final['predict'] > 0][result_df_final[result_df_final['predict'] > 0]['subscribers_count'] > result_df_final[result_df_final['predict'] > 0]['1_month_future_predict']]['youtube_user_id']\n",
    "\n",
    "# 3개월\n",
    "result_3_month_plus_user_id = result_df_final[result_df_final['predict'] > 0][result_df_final[result_df_final['predict'] > 0]['subscribers_count'] < result_df_final[result_df_final['predict'] > 0]['3_month_future_predict']]['youtube_user_id']\n",
    "result_3_month_minus_user_id = result_df_final[result_df_final['predict'] > 0][result_df_final[result_df_final['predict'] > 0]['subscribers_count'] > result_df_final[result_df_final['predict'] > 0]['3_month_future_predict']]['youtube_user_id']\n",
    "\n",
    "# 6개월\n",
    "result_6_month_plus_user_id = result_df_final[result_df_final['predict'] > 0][result_df_final[result_df_final['predict'] > 0]['subscribers_count'] < result_df_final[result_df_final['predict'] > 0]['6_month_future_predict']]['youtube_user_id']\n",
    "result_6_month_minus_user_id = result_df_final[result_df_final['predict'] > 0][result_df_final[result_df_final['predict'] > 0]['subscribers_count'] > result_df_final[result_df_final['predict'] > 0]['6_month_future_predict']]['youtube_user_id']\n",
    "\n",
    "# 12개월\n",
    "result_12_month_plus_user_id = result_df_final[result_df_final['predict'] > 0][result_df_final[result_df_final['predict'] > 0]['subscribers_count'] < result_df_final[result_df_final['predict'] > 0]['12_month_future_predict']]['youtube_user_id']\n",
    "result_12_month_minus_user_id = result_df_final[result_df_final['predict'] > 0][result_df_final[result_df_final['predict'] > 0]['subscribers_count'] > result_df_final[result_df_final['predict'] > 0]['12_month_future_predict']]['youtube_user_id']"
   ]
  },
  {
   "cell_type": "code",
   "execution_count": null,
   "metadata": {},
   "outputs": [
    {
     "name": "stdout",
     "output_type": "stream",
     "text": [
      "7\n",
      "['유익한 균튜버' '0' '모하지연 MOHAJIYEON' '-mentalholder 멘탈홀더 tv' '지미 geemi.'\n",
      " '프롬수지 fromsuzy' 'fromsuzy 프롬수지']\n"
     ]
    }
   ],
   "source": [
    "print(len(result_df[result_df['youtube_user_id'].isin(result_12_month_minus_user_id)]['channel_title'].unique()))\n",
    "print(result_df[result_df['youtube_user_id'].isin(result_12_month_minus_user_id)]['channel_title'].unique())"
   ]
  },
  {
   "cell_type": "code",
   "execution_count": null,
   "metadata": {},
   "outputs": [
    {
     "data": {
      "text/plain": [
       "array(['낭만아저씨코디TV', '0', '오디디 코미디', '모하지연 MOHAJIYEON', '콜드쉽 Coldsheep',\n",
       "       '팀브라더스', '맛집남자 foodman', '-mentalholder 멘탈홀더 tv', '황헬린 탈출기',\n",
       "       '프롬수지 fromsuzy', 'fromsuzy 프롬수지'], dtype=object)"
      ]
     },
     "metadata": {},
     "output_type": "display_data"
    }
   ],
   "source": [
    "# 계속 증가\n",
    "increase_user_id = result_df_final[result_df_final['predict'] > 0][(result_df_final[result_df_final['predict'] > 0]['1_month_future_predict'] < result_df_final[result_df_final['predict'] > 0]['3_month_future_predict']) & \n",
    "                                                                   (result_df_final[result_df_final['predict'] > 0]['3_month_future_predict'] < result_df_final[result_df_final['predict'] > 0]['6_month_future_predict']) & \n",
    "                                                                   (result_df_final[result_df_final['predict'] > 0]['6_month_future_predict'] < result_df_final[result_df_final['predict'] > 0]['12_month_future_predict'])]['youtube_user_id']\n",
    "result_df[result_df['youtube_user_id'].isin(increase_user_id)]['channel_title'].unique()"
   ]
  },
  {
   "cell_type": "code",
   "execution_count": null,
   "metadata": {},
   "outputs": [
    {
     "data": {
      "text/plain": [
       "array([], dtype=object)"
      ]
     },
     "metadata": {},
     "output_type": "display_data"
    }
   ],
   "source": [
    "# 계속 감소\n",
    "decrease_user_id = result_df_final[result_df_final['predict'] > 0][(result_df_final[result_df_final['predict'] > 0]['1_month_future_predict'] > result_df_final[result_df_final['predict'] > 0]['3_month_future_predict']) & \n",
    "                                                                   (result_df_final[result_df_final['predict'] > 0]['3_month_future_predict'] > result_df_final[result_df_final['predict'] > 0]['6_month_future_predict']) & \n",
    "                                                                   (result_df_final[result_df_final['predict'] > 0]['6_month_future_predict'] > result_df_final[result_df_final['predict'] > 0]['12_month_future_predict'])]['youtube_user_id']\n",
    "result_df[result_df['youtube_user_id'].isin(decrease_user_id)]['channel_title'].unique()"
   ]
  }
 ],
 "metadata": {
  "kernelspec": {
   "display_name": "awake_venv",
   "language": "python",
   "name": "python3"
  },
  "language_info": {
   "codemirror_mode": {
    "name": "ipython",
    "version": 3
   },
   "file_extension": ".py",
   "mimetype": "text/x-python",
   "name": "python",
   "nbconvert_exporter": "python",
   "pygments_lexer": "ipython3",
   "version": "3.10.14"
  }
 },
 "nbformat": 4,
 "nbformat_minor": 2
}
